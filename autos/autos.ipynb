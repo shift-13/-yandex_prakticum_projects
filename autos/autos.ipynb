{
  "cells": [
    {
      "cell_type": "markdown",
      "metadata": {
        "id": "D5ZSsll_2fp0"
      },
      "source": [
        "##  Описание проекта"
      ]
    },
    {
      "cell_type": "markdown",
      "metadata": {
        "id": "I1aplqEd2mdH"
      },
      "source": [
        "Сервис по продаже автомобилей с пробегом «Не бит, не крашен» разрабатывает приложение, чтобы привлечь новых клиентов. В нём можно будет узнать рыночную стоимость своего автомобиля.   \n",
        "\n",
        "Построим модель, которая умеет её определять. В нашем распоряжении данные о технических характеристиках, комплектации и ценах других автомобилей.  \n",
        "\n",
        "Критерии, которые важны заказчику:\n",
        "* качество предсказания;\n",
        "* время обучения модели;\n",
        "* время предсказания модели."
      ]
    },
    {
      "cell_type": "markdown",
      "metadata": {
        "id": "Hh5NNEml26F4"
      },
      "source": [
        "**Описание данных:**\n",
        "\n",
        "**Признаки**\n",
        "* `DateCrawled` — дата скачивания анкеты из базы\n",
        "* `VehicleType` — тип автомобильного кузова\n",
        "* `RegistrationYear` — год регистрации автомобиля\n",
        "* `Gearbox` — тип коробки передач\n",
        "* `Power` — мощность (л. с.)\n",
        "* `Model` — модель автомобиля\n",
        "* `Kilometer` — пробег (км)\n",
        "* `RegistrationMonth` — месяц регистрации автомобиля\n",
        "* `FuelType` — тип топлива\n",
        "* `Brand` — марка автомобиля\n",
        "* `Repaired` — была машина в ремонте или нет\n",
        "* `DateCreated` — дата создания анкеты\n",
        "* `NumberOfPictures` — количество фотографий автомобиля\n",
        "* `PostalCode` — почтовый индекс владельца анкеты (пользователя)\n",
        "* `LastSeen` — дата последней активности пользователя\n",
        "\n",
        "**Целевой признак**\n",
        "* `Price` — цена (евро)"
      ]
    },
    {
      "cell_type": "markdown",
      "metadata": {
        "id": "3QcF-zzV3hLD"
      },
      "source": [
        "## Изучение данных"
      ]
    },
    {
      "cell_type": "code",
      "execution_count": null,
      "metadata": {
        "id": "NhGBNVfQk1ZH",
        "trusted": false
      },
      "outputs": [],
      "source": [
        "#!pip install sweetviz --quiet"
      ]
    },
    {
      "cell_type": "code",
      "execution_count": null,
      "metadata": {
        "id": "n7ib1pt0vxyh",
        "trusted": false
      },
      "outputs": [],
      "source": [
        "#!pip install catboost --quiet"
      ]
    },
    {
      "cell_type": "code",
      "execution_count": null,
      "metadata": {
        "id": "INuszpA92ZPW",
        "trusted": false
      },
      "outputs": [],
      "source": [
        "import numpy as np\n",
        "import pandas as pd\n",
        "import random\n",
        "\n",
        "from sklearn.metrics import *\n",
        "from sklearn.model_selection import * #train_test_split, GridSearchCV, cross_val_score\n",
        "\n",
        "from sklearn.preprocessing import OrdinalEncoder, StandardScaler\n",
        "\n",
        "from catboost import CatBoostRegressor\n",
        "import lightgbm as lgbm\n",
        "from lightgbm import LGBMRegressor\n",
        "from sklearn.ensemble import RandomForestRegressor\n",
        "from sklearn.tree import DecisionTreeRegressor\n",
        "from sklearn import linear_model#LinearRegression\n",
        "\n",
        "import time\n",
        "\n",
        "import matplotlib.pyplot as plt\n",
        "import seaborn as sns\n",
        "\n",
        "import sweetviz as sv"
      ]
    },
    {
      "cell_type": "code",
      "execution_count": null,
      "metadata": {
        "colab": {
          "base_uri": "https://localhost:8080/"
        },
        "id": "PCZZNDvg4JHu",
        "outputId": "ed866b88-6b3f-4265-b7ad-3b07e678f919",
        "trusted": false
      },
      "outputs": [
        {
          "output_type": "stream",
          "name": "stdout",
          "text": [
            "/usr/local/lib/python3.8/dist-packages/gdown/cli.py:127: FutureWarning: Option `--id` was deprecated in version 4.3.1 and will be removed in 5.0. You don't need to pass it anymore to use a file ID.\n",
            "  warnings.warn(\n"
          ]
        }
      ],
      "source": [
        "try:\n",
        "  !gdown --id 1bOjvTYUn4WfeX1OewWdOtiP9FTNQGn9O --quiet\n",
        "  df = pd.read_csv('autos.csv')\n",
        "except:\n",
        "  df = pd.read_csv('/datasets/autos.csv')"
      ]
    },
    {
      "cell_type": "code",
      "execution_count": null,
      "metadata": {
        "colab": {
          "base_uri": "https://localhost:8080/",
          "height": 443
        },
        "id": "vW0AHUy44qs0",
        "outputId": "f82ca026-90e3-421f-af19-20c497cc6be2",
        "trusted": false
      },
      "outputs": [
        {
          "output_type": "execute_result",
          "data": {
            "text/plain": [
              "           DateCrawled  Price VehicleType  RegistrationYear Gearbox  Power  \\\n",
              "0  2016-03-24 11:52:17    480         NaN              1993  manual      0   \n",
              "1  2016-03-24 10:58:45  18300       coupe              2011  manual    190   \n",
              "2  2016-03-14 12:52:21   9800         suv              2004    auto    163   \n",
              "3  2016-03-17 16:54:04   1500       small              2001  manual     75   \n",
              "4  2016-03-31 17:25:20   3600       small              2008  manual     69   \n",
              "\n",
              "   Model  Kilometer  RegistrationMonth  FuelType       Brand Repaired  \\\n",
              "0   golf     150000                  0    petrol  volkswagen      NaN   \n",
              "1    NaN     125000                  5  gasoline        audi      yes   \n",
              "2  grand     125000                  8  gasoline        jeep      NaN   \n",
              "3   golf     150000                  6    petrol  volkswagen       no   \n",
              "4  fabia      90000                  7  gasoline       skoda       no   \n",
              "\n",
              "           DateCreated  NumberOfPictures  PostalCode             LastSeen  \n",
              "0  2016-03-24 00:00:00                 0       70435  2016-04-07 03:16:57  \n",
              "1  2016-03-24 00:00:00                 0       66954  2016-04-07 01:46:50  \n",
              "2  2016-03-14 00:00:00                 0       90480  2016-04-05 12:47:46  \n",
              "3  2016-03-17 00:00:00                 0       91074  2016-03-17 17:40:17  \n",
              "4  2016-03-31 00:00:00                 0       60437  2016-04-06 10:17:21  "
            ],
            "text/html": [
              "\n",
              "  <div id=\"df-fc8b8046-6d37-433f-9eda-e67006c39626\">\n",
              "    <div class=\"colab-df-container\">\n",
              "      <div>\n",
              "<style scoped>\n",
              "    .dataframe tbody tr th:only-of-type {\n",
              "        vertical-align: middle;\n",
              "    }\n",
              "\n",
              "    .dataframe tbody tr th {\n",
              "        vertical-align: top;\n",
              "    }\n",
              "\n",
              "    .dataframe thead th {\n",
              "        text-align: right;\n",
              "    }\n",
              "</style>\n",
              "<table border=\"1\" class=\"dataframe\">\n",
              "  <thead>\n",
              "    <tr style=\"text-align: right;\">\n",
              "      <th></th>\n",
              "      <th>DateCrawled</th>\n",
              "      <th>Price</th>\n",
              "      <th>VehicleType</th>\n",
              "      <th>RegistrationYear</th>\n",
              "      <th>Gearbox</th>\n",
              "      <th>Power</th>\n",
              "      <th>Model</th>\n",
              "      <th>Kilometer</th>\n",
              "      <th>RegistrationMonth</th>\n",
              "      <th>FuelType</th>\n",
              "      <th>Brand</th>\n",
              "      <th>Repaired</th>\n",
              "      <th>DateCreated</th>\n",
              "      <th>NumberOfPictures</th>\n",
              "      <th>PostalCode</th>\n",
              "      <th>LastSeen</th>\n",
              "    </tr>\n",
              "  </thead>\n",
              "  <tbody>\n",
              "    <tr>\n",
              "      <th>0</th>\n",
              "      <td>2016-03-24 11:52:17</td>\n",
              "      <td>480</td>\n",
              "      <td>NaN</td>\n",
              "      <td>1993</td>\n",
              "      <td>manual</td>\n",
              "      <td>0</td>\n",
              "      <td>golf</td>\n",
              "      <td>150000</td>\n",
              "      <td>0</td>\n",
              "      <td>petrol</td>\n",
              "      <td>volkswagen</td>\n",
              "      <td>NaN</td>\n",
              "      <td>2016-03-24 00:00:00</td>\n",
              "      <td>0</td>\n",
              "      <td>70435</td>\n",
              "      <td>2016-04-07 03:16:57</td>\n",
              "    </tr>\n",
              "    <tr>\n",
              "      <th>1</th>\n",
              "      <td>2016-03-24 10:58:45</td>\n",
              "      <td>18300</td>\n",
              "      <td>coupe</td>\n",
              "      <td>2011</td>\n",
              "      <td>manual</td>\n",
              "      <td>190</td>\n",
              "      <td>NaN</td>\n",
              "      <td>125000</td>\n",
              "      <td>5</td>\n",
              "      <td>gasoline</td>\n",
              "      <td>audi</td>\n",
              "      <td>yes</td>\n",
              "      <td>2016-03-24 00:00:00</td>\n",
              "      <td>0</td>\n",
              "      <td>66954</td>\n",
              "      <td>2016-04-07 01:46:50</td>\n",
              "    </tr>\n",
              "    <tr>\n",
              "      <th>2</th>\n",
              "      <td>2016-03-14 12:52:21</td>\n",
              "      <td>9800</td>\n",
              "      <td>suv</td>\n",
              "      <td>2004</td>\n",
              "      <td>auto</td>\n",
              "      <td>163</td>\n",
              "      <td>grand</td>\n",
              "      <td>125000</td>\n",
              "      <td>8</td>\n",
              "      <td>gasoline</td>\n",
              "      <td>jeep</td>\n",
              "      <td>NaN</td>\n",
              "      <td>2016-03-14 00:00:00</td>\n",
              "      <td>0</td>\n",
              "      <td>90480</td>\n",
              "      <td>2016-04-05 12:47:46</td>\n",
              "    </tr>\n",
              "    <tr>\n",
              "      <th>3</th>\n",
              "      <td>2016-03-17 16:54:04</td>\n",
              "      <td>1500</td>\n",
              "      <td>small</td>\n",
              "      <td>2001</td>\n",
              "      <td>manual</td>\n",
              "      <td>75</td>\n",
              "      <td>golf</td>\n",
              "      <td>150000</td>\n",
              "      <td>6</td>\n",
              "      <td>petrol</td>\n",
              "      <td>volkswagen</td>\n",
              "      <td>no</td>\n",
              "      <td>2016-03-17 00:00:00</td>\n",
              "      <td>0</td>\n",
              "      <td>91074</td>\n",
              "      <td>2016-03-17 17:40:17</td>\n",
              "    </tr>\n",
              "    <tr>\n",
              "      <th>4</th>\n",
              "      <td>2016-03-31 17:25:20</td>\n",
              "      <td>3600</td>\n",
              "      <td>small</td>\n",
              "      <td>2008</td>\n",
              "      <td>manual</td>\n",
              "      <td>69</td>\n",
              "      <td>fabia</td>\n",
              "      <td>90000</td>\n",
              "      <td>7</td>\n",
              "      <td>gasoline</td>\n",
              "      <td>skoda</td>\n",
              "      <td>no</td>\n",
              "      <td>2016-03-31 00:00:00</td>\n",
              "      <td>0</td>\n",
              "      <td>60437</td>\n",
              "      <td>2016-04-06 10:17:21</td>\n",
              "    </tr>\n",
              "  </tbody>\n",
              "</table>\n",
              "</div>\n",
              "      <button class=\"colab-df-convert\" onclick=\"convertToInteractive('df-fc8b8046-6d37-433f-9eda-e67006c39626')\"\n",
              "              title=\"Convert this dataframe to an interactive table.\"\n",
              "              style=\"display:none;\">\n",
              "        \n",
              "  <svg xmlns=\"http://www.w3.org/2000/svg\" height=\"24px\"viewBox=\"0 0 24 24\"\n",
              "       width=\"24px\">\n",
              "    <path d=\"M0 0h24v24H0V0z\" fill=\"none\"/>\n",
              "    <path d=\"M18.56 5.44l.94 2.06.94-2.06 2.06-.94-2.06-.94-.94-2.06-.94 2.06-2.06.94zm-11 1L8.5 8.5l.94-2.06 2.06-.94-2.06-.94L8.5 2.5l-.94 2.06-2.06.94zm10 10l.94 2.06.94-2.06 2.06-.94-2.06-.94-.94-2.06-.94 2.06-2.06.94z\"/><path d=\"M17.41 7.96l-1.37-1.37c-.4-.4-.92-.59-1.43-.59-.52 0-1.04.2-1.43.59L10.3 9.45l-7.72 7.72c-.78.78-.78 2.05 0 2.83L4 21.41c.39.39.9.59 1.41.59.51 0 1.02-.2 1.41-.59l7.78-7.78 2.81-2.81c.8-.78.8-2.07 0-2.86zM5.41 20L4 18.59l7.72-7.72 1.47 1.35L5.41 20z\"/>\n",
              "  </svg>\n",
              "      </button>\n",
              "      \n",
              "  <style>\n",
              "    .colab-df-container {\n",
              "      display:flex;\n",
              "      flex-wrap:wrap;\n",
              "      gap: 12px;\n",
              "    }\n",
              "\n",
              "    .colab-df-convert {\n",
              "      background-color: #E8F0FE;\n",
              "      border: none;\n",
              "      border-radius: 50%;\n",
              "      cursor: pointer;\n",
              "      display: none;\n",
              "      fill: #1967D2;\n",
              "      height: 32px;\n",
              "      padding: 0 0 0 0;\n",
              "      width: 32px;\n",
              "    }\n",
              "\n",
              "    .colab-df-convert:hover {\n",
              "      background-color: #E2EBFA;\n",
              "      box-shadow: 0px 1px 2px rgba(60, 64, 67, 0.3), 0px 1px 3px 1px rgba(60, 64, 67, 0.15);\n",
              "      fill: #174EA6;\n",
              "    }\n",
              "\n",
              "    [theme=dark] .colab-df-convert {\n",
              "      background-color: #3B4455;\n",
              "      fill: #D2E3FC;\n",
              "    }\n",
              "\n",
              "    [theme=dark] .colab-df-convert:hover {\n",
              "      background-color: #434B5C;\n",
              "      box-shadow: 0px 1px 3px 1px rgba(0, 0, 0, 0.15);\n",
              "      filter: drop-shadow(0px 1px 2px rgba(0, 0, 0, 0.3));\n",
              "      fill: #FFFFFF;\n",
              "    }\n",
              "  </style>\n",
              "\n",
              "      <script>\n",
              "        const buttonEl =\n",
              "          document.querySelector('#df-fc8b8046-6d37-433f-9eda-e67006c39626 button.colab-df-convert');\n",
              "        buttonEl.style.display =\n",
              "          google.colab.kernel.accessAllowed ? 'block' : 'none';\n",
              "\n",
              "        async function convertToInteractive(key) {\n",
              "          const element = document.querySelector('#df-fc8b8046-6d37-433f-9eda-e67006c39626');\n",
              "          const dataTable =\n",
              "            await google.colab.kernel.invokeFunction('convertToInteractive',\n",
              "                                                     [key], {});\n",
              "          if (!dataTable) return;\n",
              "\n",
              "          const docLinkHtml = 'Like what you see? Visit the ' +\n",
              "            '<a target=\"_blank\" href=https://colab.research.google.com/notebooks/data_table.ipynb>data table notebook</a>'\n",
              "            + ' to learn more about interactive tables.';\n",
              "          element.innerHTML = '';\n",
              "          dataTable['output_type'] = 'display_data';\n",
              "          await google.colab.output.renderOutput(dataTable, element);\n",
              "          const docLink = document.createElement('div');\n",
              "          docLink.innerHTML = docLinkHtml;\n",
              "          element.appendChild(docLink);\n",
              "        }\n",
              "      </script>\n",
              "    </div>\n",
              "  </div>\n",
              "  "
            ]
          },
          "metadata": {},
          "execution_count": 5
        }
      ],
      "source": [
        "df.head()"
      ]
    },
    {
      "cell_type": "markdown",
      "metadata": {
        "id": "eFeo717XkPz9"
      },
      "source": [
        "Приведем названия колонок к стилю snake_case."
      ]
    },
    {
      "cell_type": "code",
      "execution_count": null,
      "metadata": {
        "id": "mGGUhlRfhwjt",
        "trusted": false
      },
      "outputs": [],
      "source": [
        "df.columns = df.columns.str.replace(r\"([A-Z])\", r\" \\1\", regex=True).str.lower().str.replace(' ', '_').str[1:]"
      ]
    },
    {
      "cell_type": "code",
      "execution_count": null,
      "metadata": {
        "colab": {
          "base_uri": "https://localhost:8080/"
        },
        "id": "gZ1eASiB42iN",
        "outputId": "d60153e9-5d7a-44d5-c4ac-c146faa15399",
        "trusted": false
      },
      "outputs": [
        {
          "output_type": "stream",
          "name": "stdout",
          "text": [
            "<class 'pandas.core.frame.DataFrame'>\n",
            "RangeIndex: 354369 entries, 0 to 354368\n",
            "Data columns (total 16 columns):\n",
            " #   Column              Non-Null Count   Dtype \n",
            "---  ------              --------------   ----- \n",
            " 0   date_crawled        354369 non-null  object\n",
            " 1   price               354369 non-null  int64 \n",
            " 2   vehicle_type        316879 non-null  object\n",
            " 3   registration_year   354369 non-null  int64 \n",
            " 4   gearbox             334536 non-null  object\n",
            " 5   power               354369 non-null  int64 \n",
            " 6   model               334664 non-null  object\n",
            " 7   kilometer           354369 non-null  int64 \n",
            " 8   registration_month  354369 non-null  int64 \n",
            " 9   fuel_type           321474 non-null  object\n",
            " 10  brand               354369 non-null  object\n",
            " 11  repaired            283215 non-null  object\n",
            " 12  date_created        354369 non-null  object\n",
            " 13  number_of_pictures  354369 non-null  int64 \n",
            " 14  postal_code         354369 non-null  int64 \n",
            " 15  last_seen           354369 non-null  object\n",
            "dtypes: int64(7), object(9)\n",
            "memory usage: 43.3+ MB\n"
          ]
        }
      ],
      "source": [
        "df.info()"
      ]
    },
    {
      "cell_type": "markdown",
      "metadata": {
        "id": "4ALgZYAxxQLA"
      },
      "source": [
        "Посмотрим на состав наших данных."
      ]
    },
    {
      "cell_type": "markdown",
      "source": [
        "[Отчет](https://drive.google.com/file/d/1G9TtUvM89LWeQunmUjpiUzNPs7lq4JaV/view?usp=sharing)"
      ],
      "metadata": {
        "id": "00tjqPlcOPUw"
      }
    },
    {
      "cell_type": "code",
      "execution_count": null,
      "metadata": {
        "id": "42JcS0JgfsPp",
        "trusted": false
      },
      "outputs": [],
      "source": [
        "#report_0 = sv.analyze([df, 'Авто'])\n",
        "#report_0.show_html()"
      ]
    },
    {
      "cell_type": "markdown",
      "metadata": {
        "id": "ug0ZXCTXp707"
      },
      "source": [
        "Удалим 4 **дубликата**."
      ]
    },
    {
      "cell_type": "code",
      "execution_count": null,
      "metadata": {
        "id": "KiQbq8VmqCR3",
        "trusted": false
      },
      "outputs": [],
      "source": [
        "df.drop_duplicates(inplace=True)"
      ]
    },
    {
      "cell_type": "code",
      "execution_count": null,
      "metadata": {
        "colab": {
          "base_uri": "https://localhost:8080/"
        },
        "id": "UuJCHoNbqKwl",
        "outputId": "90e56771-d788-43e3-ddf1-d19b9366ecbc",
        "trusted": false
      },
      "outputs": [
        {
          "output_type": "execute_result",
          "data": {
            "text/plain": [
              "(354365, 16)"
            ]
          },
          "metadata": {},
          "execution_count": 10
        }
      ],
      "source": [
        "df.shape"
      ]
    },
    {
      "cell_type": "markdown",
      "metadata": {
        "id": "xrqBjPSIzaiG"
      },
      "source": [
        "В колонке с годом регистрации(**`registration_year`**) есть аномальные значения(минимуму 1000, максимум 9999), мы удалим года меньше 1930 и больше 2022, так как год регистрации может влиять на цену.  \n",
        "\n",
        "В колонке с месяцем регистрации(**`registration_month`**) есть значение 0, что не соответствует реальности, но эту колонку мы тоже удалим. \n",
        "\n",
        "Мощность(**`power`**) в наших данных тоже есть аномальная. Мы будем считать, что максимальная возможная мощность 1 600 л.с. Тогда все, что выше будем считать ошибкой в данных, поэтому изменим на диапазон значений между первым и третьим квартилем. Так же там 11% от всех данных нули, видимо значения не заполняли и проставились нули. Тоже заменим.  \n",
        "\n",
        "В цене(**`price`**) 10 772 нулевых значений. Так как нам необходимо предсказать стоимость, то эти значения удалим, так как нулевой ценник скорее всего ставят для обмена или если машина не на ходу."
      ]
    },
    {
      "cell_type": "markdown",
      "metadata": {
        "id": "2eGjityGf64Y"
      },
      "source": [
        "### Неинформативные колонки"
      ]
    },
    {
      "cell_type": "markdown",
      "metadata": {
        "id": "cq6lzK1wn_PV"
      },
      "source": [
        "Информация о датах создания анкеты(`data_crawled`), месяц регистрации(`registration_month`), дата создания анкеты(`date_created`), количество фотографий(`number_of_pictures`), дата последней активности(`last_seen`), почтовый индекс(`postal_code`) для построения модели нам не нужны, удалим их."
      ]
    },
    {
      "cell_type": "code",
      "execution_count": null,
      "metadata": {
        "id": "UBsz-_CEobcr",
        "trusted": false
      },
      "outputs": [],
      "source": [
        "data = df.drop(['date_crawled', 'registration_month', 'date_created', 'number_of_pictures',\\\n",
        "                'postal_code', 'last_seen'], axis=1)"
      ]
    },
    {
      "cell_type": "markdown",
      "metadata": {
        "id": "70lveLzMgUjV"
      },
      "source": [
        "### Аномалии"
      ]
    },
    {
      "cell_type": "markdown",
      "metadata": {
        "id": "MYK2tf8mCLp8"
      },
      "source": [
        "**Год регистрации.**"
      ]
    },
    {
      "cell_type": "markdown",
      "metadata": {
        "id": "5xdg2MPHCjKX"
      },
      "source": [
        "Оставим года с 1930 по 2016(так как максимальный год - год скачивания анкеты)."
      ]
    },
    {
      "cell_type": "code",
      "execution_count": null,
      "metadata": {
        "id": "BgsmNgLsCdKd",
        "trusted": false
      },
      "outputs": [],
      "source": [
        "data = data.loc[(data['registration_year'] > 1930) & (data['registration_year'] < 2016)]"
      ]
    },
    {
      "cell_type": "code",
      "execution_count": null,
      "metadata": {
        "colab": {
          "base_uri": "https://localhost:8080/",
          "height": 524
        },
        "id": "csd1sFDuEWBN",
        "outputId": "f82c3e65-cdf7-4120-ae97-853af4e30bf5",
        "trusted": false
      },
      "outputs": [
        {
          "output_type": "execute_result",
          "data": {
            "text/plain": [
              "<seaborn.axisgrid.FacetGrid at 0x7fb0db6f1850>"
            ]
          },
          "metadata": {},
          "execution_count": 13
        },
        {
          "output_type": "display_data",
          "data": {
            "text/plain": [
              "<Figure size 500x500 with 1 Axes>"
            ],
            "image/png": "[encoded data removed]"
          },
          "metadata": {}
        }
      ],
      "source": [
        "sns.displot(data, x=\"registration_year\", kind=\"kde\")"
      ]
    },
    {
      "cell_type": "markdown",
      "metadata": {
        "id": "NQeppfdC6VhH"
      },
      "source": [
        "**Мощность.**"
      ]
    },
    {
      "cell_type": "code",
      "execution_count": null,
      "metadata": {
        "colab": {
          "base_uri": "https://localhost:8080/"
        },
        "id": "0eswLj8nvVur",
        "outputId": "5c1c7e14-bf8d-40de-fbb8-50a4c1cc53b3",
        "trusted": false
      },
      "outputs": [
        {
          "output_type": "execute_result",
          "data": {
            "text/plain": [
              "count    330050.000000\n",
              "mean        111.931786\n",
              "std         182.424458\n",
              "min           0.000000\n",
              "25%          70.000000\n",
              "50%         105.000000\n",
              "75%         143.000000\n",
              "max       20000.000000\n",
              "Name: power, dtype: float64"
            ]
          },
          "metadata": {},
          "execution_count": 14
        }
      ],
      "source": [
        "data['power'].describe()"
      ]
    },
    {
      "cell_type": "markdown",
      "metadata": {
        "id": "jr2tyklo5Tyy"
      },
      "source": [
        "Значения мощности, которые больше 1600 и которые меньше 16 л.с., заменим случайными числами от 69 до 143, где находится основной диапазон значений."
      ]
    },
    {
      "cell_type": "code",
      "execution_count": null,
      "metadata": {
        "id": "DRfCIpEtu0RC",
        "trusted": false
      },
      "outputs": [],
      "source": [
        "def power(row):\n",
        "  if row > 1600 or row < 16:\n",
        "    row = random.randint(69, 143)\n",
        "  return row"
      ]
    },
    {
      "cell_type": "code",
      "execution_count": null,
      "metadata": {
        "id": "oY8RrNXp72nI",
        "trusted": false
      },
      "outputs": [],
      "source": [
        "data['power'] = data['power'].apply(power)"
      ]
    },
    {
      "cell_type": "code",
      "execution_count": null,
      "metadata": {
        "colab": {
          "base_uri": "https://localhost:8080/",
          "height": 454
        },
        "id": "u7723DKU6EPk",
        "outputId": "578a6806-332b-4561-d599-afa3cd5f4e76",
        "trusted": false
      },
      "outputs": [
        {
          "output_type": "display_data",
          "data": {
            "text/plain": [
              "<Figure size 600x500 with 1 Axes>"
            ],
            "image/png": "[encoded data removed]"
          },
          "metadata": {}
        }
      ],
      "source": [
        "data.boxplot('power', figsize=(6,5), grid=False)\n",
        "plt.title('Мощность автомобиля')\n",
        "plt.ylabel('Мощность')\n",
        "plt.show()"
      ]
    },
    {
      "cell_type": "code",
      "execution_count": null,
      "metadata": {
        "colab": {
          "base_uri": "https://localhost:8080/",
          "height": 206
        },
        "id": "Fc556XNN8Jyg",
        "outputId": "b02f7dd2-b125-48fe-da26-8df9618f45f5",
        "trusted": false
      },
      "outputs": [
        {
          "output_type": "execute_result",
          "data": {
            "text/plain": [
              "   price vehicle_type  registration_year gearbox  power  model  kilometer  \\\n",
              "0    480          NaN               1993  manual     94   golf     150000   \n",
              "1  18300        coupe               2011  manual    190    NaN     125000   \n",
              "2   9800          suv               2004    auto    163  grand     125000   \n",
              "3   1500        small               2001  manual     75   golf     150000   \n",
              "4   3600        small               2008  manual     69  fabia      90000   \n",
              "\n",
              "  fuel_type       brand repaired  \n",
              "0    petrol  volkswagen      NaN  \n",
              "1  gasoline        audi      yes  \n",
              "2  gasoline        jeep      NaN  \n",
              "3    petrol  volkswagen       no  \n",
              "4  gasoline       skoda       no  "
            ],
            "text/html": [
              "\n",
              "  <div id=\"df-8f87fb85-e463-4ba5-9a35-c640ded868e5\">\n",
              "    <div class=\"colab-df-container\">\n",
              "      <div>\n",
              "<style scoped>\n",
              "    .dataframe tbody tr th:only-of-type {\n",
              "        vertical-align: middle;\n",
              "    }\n",
              "\n",
              "    .dataframe tbody tr th {\n",
              "        vertical-align: top;\n",
              "    }\n",
              "\n",
              "    .dataframe thead th {\n",
              "        text-align: right;\n",
              "    }\n",
              "</style>\n",
              "<table border=\"1\" class=\"dataframe\">\n",
              "  <thead>\n",
              "    <tr style=\"text-align: right;\">\n",
              "      <th></th>\n",
              "      <th>price</th>\n",
              "      <th>vehicle_type</th>\n",
              "      <th>registration_year</th>\n",
              "      <th>gearbox</th>\n",
              "      <th>power</th>\n",
              "      <th>model</th>\n",
              "      <th>kilometer</th>\n",
              "      <th>fuel_type</th>\n",
              "      <th>brand</th>\n",
              "      <th>repaired</th>\n",
              "    </tr>\n",
              "  </thead>\n",
              "  <tbody>\n",
              "    <tr>\n",
              "      <th>0</th>\n",
              "      <td>480</td>\n",
              "      <td>NaN</td>\n",
              "      <td>1993</td>\n",
              "      <td>manual</td>\n",
              "      <td>94</td>\n",
              "      <td>golf</td>\n",
              "      <td>150000</td>\n",
              "      <td>petrol</td>\n",
              "      <td>volkswagen</td>\n",
              "      <td>NaN</td>\n",
              "    </tr>\n",
              "    <tr>\n",
              "      <th>1</th>\n",
              "      <td>18300</td>\n",
              "      <td>coupe</td>\n",
              "      <td>2011</td>\n",
              "      <td>manual</td>\n",
              "      <td>190</td>\n",
              "      <td>NaN</td>\n",
              "      <td>125000</td>\n",
              "      <td>gasoline</td>\n",
              "      <td>audi</td>\n",
              "      <td>yes</td>\n",
              "    </tr>\n",
              "    <tr>\n",
              "      <th>2</th>\n",
              "      <td>9800</td>\n",
              "      <td>suv</td>\n",
              "      <td>2004</td>\n",
              "      <td>auto</td>\n",
              "      <td>163</td>\n",
              "      <td>grand</td>\n",
              "      <td>125000</td>\n",
              "      <td>gasoline</td>\n",
              "      <td>jeep</td>\n",
              "      <td>NaN</td>\n",
              "    </tr>\n",
              "    <tr>\n",
              "      <th>3</th>\n",
              "      <td>1500</td>\n",
              "      <td>small</td>\n",
              "      <td>2001</td>\n",
              "      <td>manual</td>\n",
              "      <td>75</td>\n",
              "      <td>golf</td>\n",
              "      <td>150000</td>\n",
              "      <td>petrol</td>\n",
              "      <td>volkswagen</td>\n",
              "      <td>no</td>\n",
              "    </tr>\n",
              "    <tr>\n",
              "      <th>4</th>\n",
              "      <td>3600</td>\n",
              "      <td>small</td>\n",
              "      <td>2008</td>\n",
              "      <td>manual</td>\n",
              "      <td>69</td>\n",
              "      <td>fabia</td>\n",
              "      <td>90000</td>\n",
              "      <td>gasoline</td>\n",
              "      <td>skoda</td>\n",
              "      <td>no</td>\n",
              "    </tr>\n",
              "  </tbody>\n",
              "</table>\n",
              "</div>\n",
              "      <button class=\"colab-df-convert\" onclick=\"convertToInteractive('df-8f87fb85-e463-4ba5-9a35-c640ded868e5')\"\n",
              "              title=\"Convert this dataframe to an interactive table.\"\n",
              "              style=\"display:none;\">\n",
              "        \n",
              "  <svg xmlns=\"http://www.w3.org/2000/svg\" height=\"24px\"viewBox=\"0 0 24 24\"\n",
              "       width=\"24px\">\n",
              "    <path d=\"M0 0h24v24H0V0z\" fill=\"none\"/>\n",
              "    <path d=\"M18.56 5.44l.94 2.06.94-2.06 2.06-.94-2.06-.94-.94-2.06-.94 2.06-2.06.94zm-11 1L8.5 8.5l.94-2.06 2.06-.94-2.06-.94L8.5 2.5l-.94 2.06-2.06.94zm10 10l.94 2.06.94-2.06 2.06-.94-2.06-.94-.94-2.06-.94 2.06-2.06.94z\"/><path d=\"M17.41 7.96l-1.37-1.37c-.4-.4-.92-.59-1.43-.59-.52 0-1.04.2-1.43.59L10.3 9.45l-7.72 7.72c-.78.78-.78 2.05 0 2.83L4 21.41c.39.39.9.59 1.41.59.51 0 1.02-.2 1.41-.59l7.78-7.78 2.81-2.81c.8-.78.8-2.07 0-2.86zM5.41 20L4 18.59l7.72-7.72 1.47 1.35L5.41 20z\"/>\n",
              "  </svg>\n",
              "      </button>\n",
              "      \n",
              "  <style>\n",
              "    .colab-df-container {\n",
              "      display:flex;\n",
              "      flex-wrap:wrap;\n",
              "      gap: 12px;\n",
              "    }\n",
              "\n",
              "    .colab-df-convert {\n",
              "      background-color: #E8F0FE;\n",
              "      border: none;\n",
              "      border-radius: 50%;\n",
              "      cursor: pointer;\n",
              "      display: none;\n",
              "      fill: #1967D2;\n",
              "      height: 32px;\n",
              "      padding: 0 0 0 0;\n",
              "      width: 32px;\n",
              "    }\n",
              "\n",
              "    .colab-df-convert:hover {\n",
              "      background-color: #E2EBFA;\n",
              "      box-shadow: 0px 1px 2px rgba(60, 64, 67, 0.3), 0px 1px 3px 1px rgba(60, 64, 67, 0.15);\n",
              "      fill: #174EA6;\n",
              "    }\n",
              "\n",
              "    [theme=dark] .colab-df-convert {\n",
              "      background-color: #3B4455;\n",
              "      fill: #D2E3FC;\n",
              "    }\n",
              "\n",
              "    [theme=dark] .colab-df-convert:hover {\n",
              "      background-color: #434B5C;\n",
              "      box-shadow: 0px 1px 3px 1px rgba(0, 0, 0, 0.15);\n",
              "      filter: drop-shadow(0px 1px 2px rgba(0, 0, 0, 0.3));\n",
              "      fill: #FFFFFF;\n",
              "    }\n",
              "  </style>\n",
              "\n",
              "      <script>\n",
              "        const buttonEl =\n",
              "          document.querySelector('#df-8f87fb85-e463-4ba5-9a35-c640ded868e5 button.colab-df-convert');\n",
              "        buttonEl.style.display =\n",
              "          google.colab.kernel.accessAllowed ? 'block' : 'none';\n",
              "\n",
              "        async function convertToInteractive(key) {\n",
              "          const element = document.querySelector('#df-8f87fb85-e463-4ba5-9a35-c640ded868e5');\n",
              "          const dataTable =\n",
              "            await google.colab.kernel.invokeFunction('convertToInteractive',\n",
              "                                                     [key], {});\n",
              "          if (!dataTable) return;\n",
              "\n",
              "          const docLinkHtml = 'Like what you see? Visit the ' +\n",
              "            '<a target=\"_blank\" href=https://colab.research.google.com/notebooks/data_table.ipynb>data table notebook</a>'\n",
              "            + ' to learn more about interactive tables.';\n",
              "          element.innerHTML = '';\n",
              "          dataTable['output_type'] = 'display_data';\n",
              "          await google.colab.output.renderOutput(dataTable, element);\n",
              "          const docLink = document.createElement('div');\n",
              "          docLink.innerHTML = docLinkHtml;\n",
              "          element.appendChild(docLink);\n",
              "        }\n",
              "      </script>\n",
              "    </div>\n",
              "  </div>\n",
              "  "
            ]
          },
          "metadata": {},
          "execution_count": 18
        }
      ],
      "source": [
        "data.head()"
      ]
    },
    {
      "cell_type": "markdown",
      "metadata": {
        "id": "Wh7JGfOFgeUB"
      },
      "source": [
        "**Цена**"
      ]
    },
    {
      "cell_type": "markdown",
      "metadata": {
        "id": "WZuCUaRNFXIY"
      },
      "source": [
        "**`price`**  \n",
        "В колонке цены есть аномально низкие цены. Скорее всего такие объявления выставлены на обмен, либо машина не на ходу или битая. Так как нам нужно предсказать рыночную стоимость, то такие объявления мы рассматривать не будем.  "
      ]
    },
    {
      "cell_type": "code",
      "execution_count": null,
      "metadata": {
        "colab": {
          "base_uri": "https://localhost:8080/",
          "height": 455
        },
        "id": "usXD_NP2FZIm",
        "outputId": "6e0a6285-ace1-4bff-f6af-2faf75d48c76",
        "trusted": false
      },
      "outputs": [
        {
          "output_type": "display_data",
          "data": {
            "text/plain": [
              "<Figure size 600x500 with 1 Axes>"
            ],
            "image/png": "[encoded data removed]"
          },
          "metadata": {}
        }
      ],
      "source": [
        "data.boxplot('price', figsize=(6,5), grid=False)\n",
        "plt.title('Цена автомобиля')\n",
        "plt.ylabel('Стоимость')\n",
        "plt.show()"
      ]
    },
    {
      "cell_type": "code",
      "execution_count": null,
      "metadata": {
        "colab": {
          "base_uri": "https://localhost:8080/"
        },
        "id": "lP3_1KirGzG8",
        "outputId": "f6fd73da-def3-4df2-874d-0e63da0c435f",
        "trusted": false
      },
      "outputs": [
        {
          "output_type": "execute_result",
          "data": {
            "text/plain": [
              "count    330050.000000\n",
              "mean       4541.211626\n",
              "std        4564.258474\n",
              "min           0.000000\n",
              "25%        1150.000000\n",
              "50%        2850.000000\n",
              "75%        6500.000000\n",
              "max       20000.000000\n",
              "Name: price, dtype: float64"
            ]
          },
          "metadata": {},
          "execution_count": 20
        }
      ],
      "source": [
        "data['price'].describe()"
      ]
    },
    {
      "cell_type": "markdown",
      "metadata": {
        "id": "BjHaNve_g-jb"
      },
      "source": [
        "Отберем только те объявления, которые больше 100 евро."
      ]
    },
    {
      "cell_type": "code",
      "execution_count": null,
      "metadata": {
        "id": "2Qbz2WKTJTFb",
        "trusted": false
      },
      "outputs": [],
      "source": [
        "data = data.loc[data['price'] > 100]"
      ]
    },
    {
      "cell_type": "markdown",
      "metadata": {
        "id": "aL6S2rq5-z00"
      },
      "source": [
        "### Пропуски"
      ]
    },
    {
      "cell_type": "code",
      "execution_count": null,
      "metadata": {
        "colab": {
          "base_uri": "https://localhost:8080/"
        },
        "id": "OIYWTNXn9mxN",
        "outputId": "8b9e4b29-2aed-474f-e89a-6cd2d431580d",
        "trusted": false
      },
      "outputs": [
        {
          "output_type": "execute_result",
          "data": {
            "text/plain": [
              "price                    0\n",
              "vehicle_type          9929\n",
              "registration_year        0\n",
              "gearbox              13169\n",
              "power                    0\n",
              "model                13832\n",
              "kilometer                0\n",
              "fuel_type            19417\n",
              "brand                    0\n",
              "repaired             53895\n",
              "dtype: int64"
            ]
          },
          "metadata": {},
          "execution_count": 22
        }
      ],
      "source": [
        "data.isna().sum()"
      ]
    },
    {
      "cell_type": "markdown",
      "metadata": {
        "id": "5iNpFhPB-48c"
      },
      "source": [
        "**`repaired`**  \n",
        "Если не указано была ли машина в ремонте или нет, то будем считать, что нет. Потому что если бы была, это указали бы, а так могли забыть.  "
      ]
    },
    {
      "cell_type": "code",
      "execution_count": null,
      "metadata": {
        "id": "kcB2f3GT91Ab",
        "trusted": false
      },
      "outputs": [],
      "source": [
        "data.loc[data['repaired'].isna(), 'repaired'] = 'no'"
      ]
    },
    {
      "cell_type": "code",
      "execution_count": null,
      "metadata": {
        "colab": {
          "base_uri": "https://localhost:8080/"
        },
        "id": "VxyX7olp_kzN",
        "outputId": "5aee8292-9871-4081-ff09-4b0685a6b114",
        "trusted": false
      },
      "outputs": [
        {
          "output_type": "execute_result",
          "data": {
            "text/plain": [
              "0"
            ]
          },
          "metadata": {},
          "execution_count": 24
        }
      ],
      "source": [
        "data['repaired'].isna().sum()"
      ]
    },
    {
      "cell_type": "code",
      "execution_count": null,
      "metadata": {
        "colab": {
          "base_uri": "https://localhost:8080/"
        },
        "id": "ciJsT3aAhmCB",
        "outputId": "e4201e1b-be94-4605-881b-f3a396580882",
        "trusted": false
      },
      "outputs": [
        {
          "output_type": "execute_result",
          "data": {
            "text/plain": [
              "array(['no', 'yes'], dtype=object)"
            ]
          },
          "metadata": {},
          "execution_count": 25
        }
      ],
      "source": [
        "data['repaired'].unique()"
      ]
    },
    {
      "cell_type": "markdown",
      "metadata": {
        "id": "pdfAvPICAjQM"
      },
      "source": [
        "**`vehicle_type`**  \n",
        "Неизвестные типы кузовов заменим на значение `other`."
      ]
    },
    {
      "cell_type": "code",
      "execution_count": null,
      "metadata": {
        "colab": {
          "base_uri": "https://localhost:8080/"
        },
        "id": "HnqGj_KC_pNO",
        "outputId": "b6114c45-bf19-4f37-97ed-1541ebb8be70",
        "trusted": false
      },
      "outputs": [
        {
          "output_type": "execute_result",
          "data": {
            "text/plain": [
              "array([nan, 'coupe', 'suv', 'small', 'sedan', 'convertible', 'bus',\n",
              "       'wagon', 'other'], dtype=object)"
            ]
          },
          "metadata": {},
          "execution_count": 26
        }
      ],
      "source": [
        "data['vehicle_type'].unique()"
      ]
    },
    {
      "cell_type": "code",
      "execution_count": null,
      "metadata": {
        "id": "tmsk-McLAn-3",
        "trusted": false
      },
      "outputs": [],
      "source": [
        "data.loc[data['vehicle_type'].isna(), 'vehicle_type'] = 'other'"
      ]
    },
    {
      "cell_type": "code",
      "execution_count": null,
      "metadata": {
        "colab": {
          "base_uri": "https://localhost:8080/"
        },
        "id": "jG8P9BjHBDWO",
        "outputId": "63428fcf-6f54-4c41-b0a6-9e79355adf17",
        "trusted": false
      },
      "outputs": [
        {
          "output_type": "execute_result",
          "data": {
            "text/plain": [
              "0"
            ]
          },
          "metadata": {},
          "execution_count": 28
        }
      ],
      "source": [
        "data['vehicle_type'].isna().sum()"
      ]
    },
    {
      "cell_type": "markdown",
      "metadata": {
        "id": "-mo0PIBxBMMP"
      },
      "source": [
        "**`fuel_type`**  \n",
        "Пропуски здесь тоже заполним значением `other`."
      ]
    },
    {
      "cell_type": "code",
      "execution_count": null,
      "metadata": {
        "colab": {
          "base_uri": "https://localhost:8080/"
        },
        "id": "v8U_OLcWBIcb",
        "outputId": "737f2607-fed2-420e-a4f7-506fa75effcd",
        "trusted": false
      },
      "outputs": [
        {
          "output_type": "execute_result",
          "data": {
            "text/plain": [
              "array(['petrol', 'gasoline', nan, 'lpg', 'other', 'hybrid', 'cng',\n",
              "       'electric'], dtype=object)"
            ]
          },
          "metadata": {},
          "execution_count": 29
        }
      ],
      "source": [
        "data['fuel_type'].unique()"
      ]
    },
    {
      "cell_type": "code",
      "execution_count": null,
      "metadata": {
        "id": "9gFH-pSYBQ_U",
        "trusted": false
      },
      "outputs": [],
      "source": [
        "data.loc[data['fuel_type'].isna(), 'fuel_type'] = 'other'"
      ]
    },
    {
      "cell_type": "code",
      "execution_count": null,
      "metadata": {
        "colab": {
          "base_uri": "https://localhost:8080/"
        },
        "id": "W9rnwVk7BWWy",
        "outputId": "29ea66b2-0e89-40a5-87f2-696938a9cf51",
        "trusted": false
      },
      "outputs": [
        {
          "output_type": "execute_result",
          "data": {
            "text/plain": [
              "0"
            ]
          },
          "metadata": {},
          "execution_count": 31
        }
      ],
      "source": [
        "data['fuel_type'].isna().sum()"
      ]
    },
    {
      "cell_type": "markdown",
      "metadata": {
        "id": "8-aSe0DJCGRH"
      },
      "source": [
        "**`model`**  \n",
        "Модель машины напрямую влияет на цену, поэтому заменять на какие-либо значения будет неправильно, поэтому удалим пропуски."
      ]
    },
    {
      "cell_type": "code",
      "execution_count": null,
      "metadata": {
        "colab": {
          "base_uri": "https://localhost:8080/"
        },
        "id": "oJnUkgilD029",
        "outputId": "324c577a-c634-4c8b-9c3b-a3e8fbbfb0eb",
        "trusted": false
      },
      "outputs": [
        {
          "output_type": "execute_result",
          "data": {
            "text/plain": [
              "0"
            ]
          },
          "metadata": {},
          "execution_count": 32
        }
      ],
      "source": [
        "data.dropna(subset=['model'], inplace=True)\n",
        "data['model'].isna().sum()"
      ]
    },
    {
      "cell_type": "markdown",
      "metadata": {
        "id": "bRl9Rwq2DEmX"
      },
      "source": [
        "**`gearbox`**  \n",
        "Тип коробки передач может сильно влиять на ценник, поэтому лучше удалить пустые значения, во избежания \"шума\" в данных."
      ]
    },
    {
      "cell_type": "code",
      "execution_count": null,
      "metadata": {
        "id": "QorcZiIZCKd8",
        "trusted": false
      },
      "outputs": [],
      "source": [
        "data.dropna(subset=['gearbox'], inplace=True)"
      ]
    },
    {
      "cell_type": "code",
      "execution_count": null,
      "metadata": {
        "colab": {
          "base_uri": "https://localhost:8080/"
        },
        "id": "tdq-UA95DWIz",
        "outputId": "405519f4-f54a-465a-c1a2-4045814122cf",
        "trusted": false
      },
      "outputs": [
        {
          "output_type": "execute_result",
          "data": {
            "text/plain": [
              "0"
            ]
          },
          "metadata": {},
          "execution_count": 34
        }
      ],
      "source": [
        "data['gearbox'].isna().sum()"
      ]
    },
    {
      "cell_type": "code",
      "execution_count": null,
      "metadata": {
        "colab": {
          "base_uri": "https://localhost:8080/"
        },
        "id": "G2JIfdRUkbjU",
        "outputId": "330a278e-36e6-4e63-8bcb-27a391f03f54",
        "trusted": false
      },
      "outputs": [
        {
          "output_type": "execute_result",
          "data": {
            "text/plain": [
              "array(['manual', 'auto'], dtype=object)"
            ]
          },
          "metadata": {},
          "execution_count": 35
        }
      ],
      "source": [
        "data['gearbox'].unique()"
      ]
    },
    {
      "cell_type": "code",
      "execution_count": null,
      "metadata": {
        "colab": {
          "base_uri": "https://localhost:8080/"
        },
        "id": "5xMDhBE9DZpo",
        "outputId": "c0fa700c-8c20-4876-e148-65285559b6f1",
        "trusted": false
      },
      "outputs": [
        {
          "output_type": "stream",
          "name": "stdout",
          "text": [
            "<class 'pandas.core.frame.DataFrame'>\n",
            "Int64Index: 292616 entries, 0 to 354368\n",
            "Data columns (total 10 columns):\n",
            " #   Column             Non-Null Count   Dtype \n",
            "---  ------             --------------   ----- \n",
            " 0   price              292616 non-null  int64 \n",
            " 1   vehicle_type       292616 non-null  object\n",
            " 2   registration_year  292616 non-null  int64 \n",
            " 3   gearbox            292616 non-null  object\n",
            " 4   power              292616 non-null  int64 \n",
            " 5   model              292616 non-null  object\n",
            " 6   kilometer          292616 non-null  int64 \n",
            " 7   fuel_type          292616 non-null  object\n",
            " 8   brand              292616 non-null  object\n",
            " 9   repaired           292616 non-null  object\n",
            "dtypes: int64(4), object(6)\n",
            "memory usage: 24.6+ MB\n"
          ]
        }
      ],
      "source": [
        "data.info()"
      ]
    },
    {
      "cell_type": "code",
      "execution_count": null,
      "metadata": {
        "colab": {
          "base_uri": "https://localhost:8080/"
        },
        "id": "kKfp7dblEF-w",
        "outputId": "e07f585f-93e4-4546-94fe-6827eea45060",
        "trusted": false
      },
      "outputs": [
        {
          "output_type": "stream",
          "name": "stdout",
          "text": [
            "Удалили 20.0% данных\n"
          ]
        }
      ],
      "source": [
        "print(f'Удалили {round(1 - data.shape[0] / df.shape[0], 1) * 100}% данных')"
      ]
    },
    {
      "cell_type": "markdown",
      "metadata": {
        "id": "QRrWLFQqCoY3"
      },
      "source": [
        "Посмотрим корреляцию числовых признаков."
      ]
    },
    {
      "cell_type": "code",
      "execution_count": null,
      "metadata": {
        "colab": {
          "base_uri": "https://localhost:8080/",
          "height": 304
        },
        "id": "yJqe4F_TCMH3",
        "outputId": "ab8f9203-56f1-4d50-a60e-1833718a8da8",
        "trusted": false
      },
      "outputs": [
        {
          "output_type": "execute_result",
          "data": {
            "text/plain": [
              "<AxesSubplot:>"
            ]
          },
          "metadata": {},
          "execution_count": 38
        },
        {
          "output_type": "display_data",
          "data": {
            "text/plain": [
              "<Figure size 400x300 with 2 Axes>"
            ],
            "image/png": "[encoded data removed]"
          },
          "metadata": {}
        }
      ],
      "source": [
        "plt.figure(figsize=(4, 3))\n",
        "sns.heatmap(data.corr(), annot=True)"
      ]
    },
    {
      "cell_type": "markdown",
      "metadata": {
        "id": "digNeM1aiMgj"
      },
      "source": [
        "### Вывод"
      ]
    },
    {
      "cell_type": "markdown",
      "metadata": {
        "id": "ehgQifdrDD8j"
      },
      "source": [
        "**Итак,** мы оставили 9 признаков, определяющие цену автомобиля, по которым будем строить модели машинного обучения. Числовых значений у нас всего 3, при этом большой разброс значений. Остальные признаки - категориальные, мы будем использовать порядковое кодирование.  \n",
        "Наблюдается сильная положительная зависимость между мощностью автомоболя и его стоимостью. Также стоимость сильно зависит от года регистрации. Отрицательная корреляция между пробегом и ценой, что логично."
      ]
    },
    {
      "cell_type": "markdown",
      "metadata": {
        "id": "5JcRzRhlLYJw"
      },
      "source": [
        "## Подготовим выборки для обучения моделей"
      ]
    },
    {
      "cell_type": "markdown",
      "metadata": {
        "id": "NGGQnissFoaS"
      },
      "source": [
        "Разделим на признаки и целевой показатель.\n"
      ]
    },
    {
      "cell_type": "code",
      "execution_count": null,
      "metadata": {
        "id": "al22cIQZE1p-",
        "trusted": false
      },
      "outputs": [],
      "source": [
        "features = data.drop(['price'], axis=1)\n",
        "target = data['price']"
      ]
    },
    {
      "cell_type": "code",
      "execution_count": null,
      "metadata": {
        "colab": {
          "base_uri": "https://localhost:8080/"
        },
        "id": "LPSCkzYiMP-Q",
        "outputId": "89ce6da5-a645-4484-9c46-6e59d478ce9e",
        "trusted": false
      },
      "outputs": [
        {
          "output_type": "execute_result",
          "data": {
            "text/plain": [
              "((219462, 9), (73154, 9), (219462,), (73154,))"
            ]
          },
          "metadata": {},
          "execution_count": 40
        }
      ],
      "source": [
        "features_train, features_test, target_train, target_test \\\n",
        "= train_test_split(features, target, test_size=0.25, random_state=12345)\n",
        "\n",
        "features_train.shape, features_test.shape, target_train.shape, target_test.shape"
      ]
    },
    {
      "cell_type": "markdown",
      "metadata": {
        "id": "ttyVbMgSF6RY"
      },
      "source": [
        "Произведем порядковое кодирование."
      ]
    },
    {
      "cell_type": "code",
      "execution_count": null,
      "metadata": {
        "id": "1KnmpvH3G2_l",
        "trusted": false
      },
      "outputs": [],
      "source": [
        "cat_columns = ['vehicle_type', 'model', 'gearbox', 'repaired', 'fuel_type', 'brand']"
      ]
    },
    {
      "cell_type": "code",
      "source": [
        "encoder = OrdinalEncoder()\n",
        "encoder.fit(features_train[cat_columns])\n",
        "\n",
        "features_train_ord = features_train.copy()\n",
        "features_test_ord = features_test.copy()\n",
        "\n",
        "features_train_ord[cat_columns] = encoder.transform(features_train_ord[cat_columns])\n",
        "features_test_ord[cat_columns] = encoder.transform(features_test_ord[cat_columns])"
      ],
      "metadata": {
        "id": "eci7oJJ6uJsw"
      },
      "execution_count": null,
      "outputs": []
    },
    {
      "cell_type": "markdown",
      "metadata": {
        "id": "Pzb6VLKF113h"
      },
      "source": [
        "Масштабируем данные."
      ]
    },
    {
      "cell_type": "code",
      "execution_count": null,
      "metadata": {
        "id": "OdPYT-xf4cck",
        "trusted": false
      },
      "outputs": [],
      "source": [
        "num = ['kilometer', 'model', 'registration_year','power', 'brand']"
      ]
    },
    {
      "cell_type": "code",
      "execution_count": null,
      "metadata": {
        "id": "QEG257AQ14-E",
        "trusted": false
      },
      "outputs": [],
      "source": [
        "scaler = StandardScaler()\n",
        "scaler.fit(features_train_ord[num])\n",
        "\n",
        "features_train_ord[num] = scaler.transform(features_train_ord[num])\n",
        "features_test_ord[num] = scaler.transform(features_test_ord[num])"
      ]
    },
    {
      "cell_type": "code",
      "execution_count": null,
      "metadata": {
        "colab": {
          "base_uri": "https://localhost:8080/",
          "height": 206
        },
        "id": "Po5DvMg-2S8s",
        "outputId": "2b8d340e-cc51-48a8-b8bd-c444b5b91d3e",
        "trusted": false
      },
      "outputs": [
        {
          "output_type": "execute_result",
          "data": {
            "text/plain": [
              "        vehicle_type  registration_year  gearbox     power     model  \\\n",
              "278166           5.0           1.369457      1.0  0.014686 -1.163773   \n",
              "59690            6.0          -0.571372      1.0 -0.719608  0.231246   \n",
              "137289           5.0          -1.218315      1.0 -0.090213  0.104426   \n",
              "20007            2.0           1.692929      1.0  0.609115  0.808981   \n",
              "129600           5.0          -0.409636      0.0 -0.579742 -0.036485   \n",
              "\n",
              "        kilometer  fuel_type     brand  repaired  \n",
              "278166  -1.326230        6.0 -1.485741       0.0  \n",
              "59690    0.588587        6.0  1.048229       0.0  \n",
              "137289   0.588587        6.0  1.278590       0.0  \n",
              "20007   -2.693957        6.0  0.357146       0.0  \n",
              "129600  -0.095276        6.0  0.894655       0.0  "
            ],
            "text/html": [
              "\n",
              "  <div id=\"df-70702b71-6e09-4930-8436-4c91e5cda0b2\">\n",
              "    <div class=\"colab-df-container\">\n",
              "      <div>\n",
              "<style scoped>\n",
              "    .dataframe tbody tr th:only-of-type {\n",
              "        vertical-align: middle;\n",
              "    }\n",
              "\n",
              "    .dataframe tbody tr th {\n",
              "        vertical-align: top;\n",
              "    }\n",
              "\n",
              "    .dataframe thead th {\n",
              "        text-align: right;\n",
              "    }\n",
              "</style>\n",
              "<table border=\"1\" class=\"dataframe\">\n",
              "  <thead>\n",
              "    <tr style=\"text-align: right;\">\n",
              "      <th></th>\n",
              "      <th>vehicle_type</th>\n",
              "      <th>registration_year</th>\n",
              "      <th>gearbox</th>\n",
              "      <th>power</th>\n",
              "      <th>model</th>\n",
              "      <th>kilometer</th>\n",
              "      <th>fuel_type</th>\n",
              "      <th>brand</th>\n",
              "      <th>repaired</th>\n",
              "    </tr>\n",
              "  </thead>\n",
              "  <tbody>\n",
              "    <tr>\n",
              "      <th>278166</th>\n",
              "      <td>5.0</td>\n",
              "      <td>1.369457</td>\n",
              "      <td>1.0</td>\n",
              "      <td>0.014686</td>\n",
              "      <td>-1.163773</td>\n",
              "      <td>-1.326230</td>\n",
              "      <td>6.0</td>\n",
              "      <td>-1.485741</td>\n",
              "      <td>0.0</td>\n",
              "    </tr>\n",
              "    <tr>\n",
              "      <th>59690</th>\n",
              "      <td>6.0</td>\n",
              "      <td>-0.571372</td>\n",
              "      <td>1.0</td>\n",
              "      <td>-0.719608</td>\n",
              "      <td>0.231246</td>\n",
              "      <td>0.588587</td>\n",
              "      <td>6.0</td>\n",
              "      <td>1.048229</td>\n",
              "      <td>0.0</td>\n",
              "    </tr>\n",
              "    <tr>\n",
              "      <th>137289</th>\n",
              "      <td>5.0</td>\n",
              "      <td>-1.218315</td>\n",
              "      <td>1.0</td>\n",
              "      <td>-0.090213</td>\n",
              "      <td>0.104426</td>\n",
              "      <td>0.588587</td>\n",
              "      <td>6.0</td>\n",
              "      <td>1.278590</td>\n",
              "      <td>0.0</td>\n",
              "    </tr>\n",
              "    <tr>\n",
              "      <th>20007</th>\n",
              "      <td>2.0</td>\n",
              "      <td>1.692929</td>\n",
              "      <td>1.0</td>\n",
              "      <td>0.609115</td>\n",
              "      <td>0.808981</td>\n",
              "      <td>-2.693957</td>\n",
              "      <td>6.0</td>\n",
              "      <td>0.357146</td>\n",
              "      <td>0.0</td>\n",
              "    </tr>\n",
              "    <tr>\n",
              "      <th>129600</th>\n",
              "      <td>5.0</td>\n",
              "      <td>-0.409636</td>\n",
              "      <td>0.0</td>\n",
              "      <td>-0.579742</td>\n",
              "      <td>-0.036485</td>\n",
              "      <td>-0.095276</td>\n",
              "      <td>6.0</td>\n",
              "      <td>0.894655</td>\n",
              "      <td>0.0</td>\n",
              "    </tr>\n",
              "  </tbody>\n",
              "</table>\n",
              "</div>\n",
              "      <button class=\"colab-df-convert\" onclick=\"convertToInteractive('df-70702b71-6e09-4930-8436-4c91e5cda0b2')\"\n",
              "              title=\"Convert this dataframe to an interactive table.\"\n",
              "              style=\"display:none;\">\n",
              "        \n",
              "  <svg xmlns=\"http://www.w3.org/2000/svg\" height=\"24px\"viewBox=\"0 0 24 24\"\n",
              "       width=\"24px\">\n",
              "    <path d=\"M0 0h24v24H0V0z\" fill=\"none\"/>\n",
              "    <path d=\"M18.56 5.44l.94 2.06.94-2.06 2.06-.94-2.06-.94-.94-2.06-.94 2.06-2.06.94zm-11 1L8.5 8.5l.94-2.06 2.06-.94-2.06-.94L8.5 2.5l-.94 2.06-2.06.94zm10 10l.94 2.06.94-2.06 2.06-.94-2.06-.94-.94-2.06-.94 2.06-2.06.94z\"/><path d=\"M17.41 7.96l-1.37-1.37c-.4-.4-.92-.59-1.43-.59-.52 0-1.04.2-1.43.59L10.3 9.45l-7.72 7.72c-.78.78-.78 2.05 0 2.83L4 21.41c.39.39.9.59 1.41.59.51 0 1.02-.2 1.41-.59l7.78-7.78 2.81-2.81c.8-.78.8-2.07 0-2.86zM5.41 20L4 18.59l7.72-7.72 1.47 1.35L5.41 20z\"/>\n",
              "  </svg>\n",
              "      </button>\n",
              "      \n",
              "  <style>\n",
              "    .colab-df-container {\n",
              "      display:flex;\n",
              "      flex-wrap:wrap;\n",
              "      gap: 12px;\n",
              "    }\n",
              "\n",
              "    .colab-df-convert {\n",
              "      background-color: #E8F0FE;\n",
              "      border: none;\n",
              "      border-radius: 50%;\n",
              "      cursor: pointer;\n",
              "      display: none;\n",
              "      fill: #1967D2;\n",
              "      height: 32px;\n",
              "      padding: 0 0 0 0;\n",
              "      width: 32px;\n",
              "    }\n",
              "\n",
              "    .colab-df-convert:hover {\n",
              "      background-color: #E2EBFA;\n",
              "      box-shadow: 0px 1px 2px rgba(60, 64, 67, 0.3), 0px 1px 3px 1px rgba(60, 64, 67, 0.15);\n",
              "      fill: #174EA6;\n",
              "    }\n",
              "\n",
              "    [theme=dark] .colab-df-convert {\n",
              "      background-color: #3B4455;\n",
              "      fill: #D2E3FC;\n",
              "    }\n",
              "\n",
              "    [theme=dark] .colab-df-convert:hover {\n",
              "      background-color: #434B5C;\n",
              "      box-shadow: 0px 1px 3px 1px rgba(0, 0, 0, 0.15);\n",
              "      filter: drop-shadow(0px 1px 2px rgba(0, 0, 0, 0.3));\n",
              "      fill: #FFFFFF;\n",
              "    }\n",
              "  </style>\n",
              "\n",
              "      <script>\n",
              "        const buttonEl =\n",
              "          document.querySelector('#df-70702b71-6e09-4930-8436-4c91e5cda0b2 button.colab-df-convert');\n",
              "        buttonEl.style.display =\n",
              "          google.colab.kernel.accessAllowed ? 'block' : 'none';\n",
              "\n",
              "        async function convertToInteractive(key) {\n",
              "          const element = document.querySelector('#df-70702b71-6e09-4930-8436-4c91e5cda0b2');\n",
              "          const dataTable =\n",
              "            await google.colab.kernel.invokeFunction('convertToInteractive',\n",
              "                                                     [key], {});\n",
              "          if (!dataTable) return;\n",
              "\n",
              "          const docLinkHtml = 'Like what you see? Visit the ' +\n",
              "            '<a target=\"_blank\" href=https://colab.research.google.com/notebooks/data_table.ipynb>data table notebook</a>'\n",
              "            + ' to learn more about interactive tables.';\n",
              "          element.innerHTML = '';\n",
              "          dataTable['output_type'] = 'display_data';\n",
              "          await google.colab.output.renderOutput(dataTable, element);\n",
              "          const docLink = document.createElement('div');\n",
              "          docLink.innerHTML = docLinkHtml;\n",
              "          element.appendChild(docLink);\n",
              "        }\n",
              "      </script>\n",
              "    </div>\n",
              "  </div>\n",
              "  "
            ]
          },
          "metadata": {},
          "execution_count": 45
        }
      ],
      "source": [
        "features_train_ord.head()"
      ]
    },
    {
      "cell_type": "markdown",
      "metadata": {
        "id": "MPC5bTjV8KlU"
      },
      "source": [
        "## Обучение моделей"
      ]
    },
    {
      "cell_type": "markdown",
      "metadata": {
        "id": "g2RmBlC8l7JB"
      },
      "source": [
        "Для оценки качества модели будем использовать метрику RMSE."
      ]
    },
    {
      "cell_type": "code",
      "execution_count": null,
      "metadata": {
        "id": "VjoZenK0BA6o",
        "trusted": false
      },
      "outputs": [],
      "source": [
        "def rmse_metric(target, predictions):\n",
        "  return (mean_squared_error(target, predictions) ** 0.5).round(2)"
      ]
    },
    {
      "cell_type": "code",
      "source": [
        "rmse_scorer = make_scorer(rmse_metric, greater_is_better = False)"
      ],
      "metadata": {
        "id": "zsWHOKoN23x9"
      },
      "execution_count": null,
      "outputs": []
    },
    {
      "cell_type": "markdown",
      "metadata": {
        "id": "CRNKMZiX8NV-"
      },
      "source": [
        "### Дерево решений"
      ]
    },
    {
      "cell_type": "markdown",
      "metadata": {
        "id": "bmpSJR8VNK87"
      },
      "source": [
        "Подбор параметров."
      ]
    },
    {
      "cell_type": "code",
      "source": [
        "dtr = DecisionTreeRegressor(random_state=12345)\n",
        "parametrs = {'max_depth': range (1, 13, 2), \n",
        "             'min_samples_leaf': range (1, 8),\n",
        "             'min_samples_split': range (2, 11, 2)}\n",
        "\n",
        "model_dtr = GridSearchCV(dtr, parametrs, scoring=rmse_scorer, cv=5)\n",
        "model_dtr.fit(features_train_ord, target_train)\n",
        "\n",
        "model_dtr.best_params_"
      ],
      "metadata": {
        "colab": {
          "base_uri": "https://localhost:8080/"
        },
        "id": "5BgnFuDPxyox",
        "outputId": "14eb6121-491b-42a2-e977-c6a54a4fdca6"
      },
      "execution_count": null,
      "outputs": [
        {
          "output_type": "execute_result",
          "data": {
            "text/plain": [
              "{'max_depth': 11, 'min_samples_leaf': 6, 'min_samples_split': 2}"
            ]
          },
          "metadata": {},
          "execution_count": 48
        }
      ]
    },
    {
      "cell_type": "code",
      "source": [
        "rmse_d = abs(model_dtr.best_score_)\n",
        "rmse_d"
      ],
      "metadata": {
        "colab": {
          "base_uri": "https://localhost:8080/"
        },
        "id": "Kx0v03Gw4sPs",
        "outputId": "c53c4f9b-de42-4f66-f245-1bb5c1de1aa8"
      },
      "execution_count": null,
      "outputs": [
        {
          "output_type": "execute_result",
          "data": {
            "text/plain": [
              "1905.39"
            ]
          },
          "metadata": {},
          "execution_count": 49
        }
      ]
    },
    {
      "cell_type": "code",
      "source": [
        "res_dtr = pd.DataFrame(model_dtr.cv_results_)\n",
        "res_dtr.tail()"
      ],
      "metadata": {
        "colab": {
          "base_uri": "https://localhost:8080/",
          "height": 443
        },
        "id": "qiJPjBh18MXi",
        "outputId": "592b5fcf-0476-4be9-e052-a3f812847ec2"
      },
      "execution_count": null,
      "outputs": [
        {
          "output_type": "execute_result",
          "data": {
            "text/plain": [
              "     mean_fit_time  std_fit_time  mean_score_time  std_score_time  \\\n",
              "205       0.403800      0.002376         0.008448        0.000503   \n",
              "206       0.414368      0.015533         0.008606        0.000360   \n",
              "207       0.400235      0.005739         0.008376        0.000227   \n",
              "208       0.411295      0.014535         0.008709        0.000271   \n",
              "209       0.492243      0.082157         0.009955        0.001469   \n",
              "\n",
              "    param_max_depth param_min_samples_leaf param_min_samples_split  \\\n",
              "205              11                      7                       2   \n",
              "206              11                      7                       4   \n",
              "207              11                      7                       6   \n",
              "208              11                      7                       8   \n",
              "209              11                      7                      10   \n",
              "\n",
              "                                                params  split0_test_score  \\\n",
              "205  {'max_depth': 11, 'min_samples_leaf': 7, 'min_...            -1897.5   \n",
              "206  {'max_depth': 11, 'min_samples_leaf': 7, 'min_...            -1897.5   \n",
              "207  {'max_depth': 11, 'min_samples_leaf': 7, 'min_...            -1897.5   \n",
              "208  {'max_depth': 11, 'min_samples_leaf': 7, 'min_...            -1897.5   \n",
              "209  {'max_depth': 11, 'min_samples_leaf': 7, 'min_...            -1897.5   \n",
              "\n",
              "     split1_test_score  split2_test_score  split3_test_score  \\\n",
              "205           -1909.78           -1897.72           -1922.98   \n",
              "206           -1909.78           -1897.72           -1922.98   \n",
              "207           -1909.78           -1897.72           -1922.98   \n",
              "208           -1909.78           -1897.72           -1922.98   \n",
              "209           -1909.78           -1897.72           -1922.98   \n",
              "\n",
              "     split4_test_score  mean_test_score  std_test_score  rank_test_score  \n",
              "205           -1900.09        -1905.614        9.773437                6  \n",
              "206           -1900.09        -1905.614        9.773437                6  \n",
              "207           -1900.09        -1905.614        9.773437                6  \n",
              "208           -1900.09        -1905.614        9.773437                6  \n",
              "209           -1900.09        -1905.614        9.773437                6  "
            ],
            "text/html": [
              "\n",
              "  <div id=\"df-1559d6da-3db5-4a02-ae50-0d491bf89128\">\n",
              "    <div class=\"colab-df-container\">\n",
              "      <div>\n",
              "<style scoped>\n",
              "    .dataframe tbody tr th:only-of-type {\n",
              "        vertical-align: middle;\n",
              "    }\n",
              "\n",
              "    .dataframe tbody tr th {\n",
              "        vertical-align: top;\n",
              "    }\n",
              "\n",
              "    .dataframe thead th {\n",
              "        text-align: right;\n",
              "    }\n",
              "</style>\n",
              "<table border=\"1\" class=\"dataframe\">\n",
              "  <thead>\n",
              "    <tr style=\"text-align: right;\">\n",
              "      <th></th>\n",
              "      <th>mean_fit_time</th>\n",
              "      <th>std_fit_time</th>\n",
              "      <th>mean_score_time</th>\n",
              "      <th>std_score_time</th>\n",
              "      <th>param_max_depth</th>\n",
              "      <th>param_min_samples_leaf</th>\n",
              "      <th>param_min_samples_split</th>\n",
              "      <th>params</th>\n",
              "      <th>split0_test_score</th>\n",
              "      <th>split1_test_score</th>\n",
              "      <th>split2_test_score</th>\n",
              "      <th>split3_test_score</th>\n",
              "      <th>split4_test_score</th>\n",
              "      <th>mean_test_score</th>\n",
              "      <th>std_test_score</th>\n",
              "      <th>rank_test_score</th>\n",
              "    </tr>\n",
              "  </thead>\n",
              "  <tbody>\n",
              "    <tr>\n",
              "      <th>205</th>\n",
              "      <td>0.403800</td>\n",
              "      <td>0.002376</td>\n",
              "      <td>0.008448</td>\n",
              "      <td>0.000503</td>\n",
              "      <td>11</td>\n",
              "      <td>7</td>\n",
              "      <td>2</td>\n",
              "      <td>{'max_depth': 11, 'min_samples_leaf': 7, 'min_...</td>\n",
              "      <td>-1897.5</td>\n",
              "      <td>-1909.78</td>\n",
              "      <td>-1897.72</td>\n",
              "      <td>-1922.98</td>\n",
              "      <td>-1900.09</td>\n",
              "      <td>-1905.614</td>\n",
              "      <td>9.773437</td>\n",
              "      <td>6</td>\n",
              "    </tr>\n",
              "    <tr>\n",
              "      <th>206</th>\n",
              "      <td>0.414368</td>\n",
              "      <td>0.015533</td>\n",
              "      <td>0.008606</td>\n",
              "      <td>0.000360</td>\n",
              "      <td>11</td>\n",
              "      <td>7</td>\n",
              "      <td>4</td>\n",
              "      <td>{'max_depth': 11, 'min_samples_leaf': 7, 'min_...</td>\n",
              "      <td>-1897.5</td>\n",
              "      <td>-1909.78</td>\n",
              "      <td>-1897.72</td>\n",
              "      <td>-1922.98</td>\n",
              "      <td>-1900.09</td>\n",
              "      <td>-1905.614</td>\n",
              "      <td>9.773437</td>\n",
              "      <td>6</td>\n",
              "    </tr>\n",
              "    <tr>\n",
              "      <th>207</th>\n",
              "      <td>0.400235</td>\n",
              "      <td>0.005739</td>\n",
              "      <td>0.008376</td>\n",
              "      <td>0.000227</td>\n",
              "      <td>11</td>\n",
              "      <td>7</td>\n",
              "      <td>6</td>\n",
              "      <td>{'max_depth': 11, 'min_samples_leaf': 7, 'min_...</td>\n",
              "      <td>-1897.5</td>\n",
              "      <td>-1909.78</td>\n",
              "      <td>-1897.72</td>\n",
              "      <td>-1922.98</td>\n",
              "      <td>-1900.09</td>\n",
              "      <td>-1905.614</td>\n",
              "      <td>9.773437</td>\n",
              "      <td>6</td>\n",
              "    </tr>\n",
              "    <tr>\n",
              "      <th>208</th>\n",
              "      <td>0.411295</td>\n",
              "      <td>0.014535</td>\n",
              "      <td>0.008709</td>\n",
              "      <td>0.000271</td>\n",
              "      <td>11</td>\n",
              "      <td>7</td>\n",
              "      <td>8</td>\n",
              "      <td>{'max_depth': 11, 'min_samples_leaf': 7, 'min_...</td>\n",
              "      <td>-1897.5</td>\n",
              "      <td>-1909.78</td>\n",
              "      <td>-1897.72</td>\n",
              "      <td>-1922.98</td>\n",
              "      <td>-1900.09</td>\n",
              "      <td>-1905.614</td>\n",
              "      <td>9.773437</td>\n",
              "      <td>6</td>\n",
              "    </tr>\n",
              "    <tr>\n",
              "      <th>209</th>\n",
              "      <td>0.492243</td>\n",
              "      <td>0.082157</td>\n",
              "      <td>0.009955</td>\n",
              "      <td>0.001469</td>\n",
              "      <td>11</td>\n",
              "      <td>7</td>\n",
              "      <td>10</td>\n",
              "      <td>{'max_depth': 11, 'min_samples_leaf': 7, 'min_...</td>\n",
              "      <td>-1897.5</td>\n",
              "      <td>-1909.78</td>\n",
              "      <td>-1897.72</td>\n",
              "      <td>-1922.98</td>\n",
              "      <td>-1900.09</td>\n",
              "      <td>-1905.614</td>\n",
              "      <td>9.773437</td>\n",
              "      <td>6</td>\n",
              "    </tr>\n",
              "  </tbody>\n",
              "</table>\n",
              "</div>\n",
              "      <button class=\"colab-df-convert\" onclick=\"convertToInteractive('df-1559d6da-3db5-4a02-ae50-0d491bf89128')\"\n",
              "              title=\"Convert this dataframe to an interactive table.\"\n",
              "              style=\"display:none;\">\n",
              "        \n",
              "  <svg xmlns=\"http://www.w3.org/2000/svg\" height=\"24px\"viewBox=\"0 0 24 24\"\n",
              "       width=\"24px\">\n",
              "    <path d=\"M0 0h24v24H0V0z\" fill=\"none\"/>\n",
              "    <path d=\"M18.56 5.44l.94 2.06.94-2.06 2.06-.94-2.06-.94-.94-2.06-.94 2.06-2.06.94zm-11 1L8.5 8.5l.94-2.06 2.06-.94-2.06-.94L8.5 2.5l-.94 2.06-2.06.94zm10 10l.94 2.06.94-2.06 2.06-.94-2.06-.94-.94-2.06-.94 2.06-2.06.94z\"/><path d=\"M17.41 7.96l-1.37-1.37c-.4-.4-.92-.59-1.43-.59-.52 0-1.04.2-1.43.59L10.3 9.45l-7.72 7.72c-.78.78-.78 2.05 0 2.83L4 21.41c.39.39.9.59 1.41.59.51 0 1.02-.2 1.41-.59l7.78-7.78 2.81-2.81c.8-.78.8-2.07 0-2.86zM5.41 20L4 18.59l7.72-7.72 1.47 1.35L5.41 20z\"/>\n",
              "  </svg>\n",
              "      </button>\n",
              "      \n",
              "  <style>\n",
              "    .colab-df-container {\n",
              "      display:flex;\n",
              "      flex-wrap:wrap;\n",
              "      gap: 12px;\n",
              "    }\n",
              "\n",
              "    .colab-df-convert {\n",
              "      background-color: #E8F0FE;\n",
              "      border: none;\n",
              "      border-radius: 50%;\n",
              "      cursor: pointer;\n",
              "      display: none;\n",
              "      fill: #1967D2;\n",
              "      height: 32px;\n",
              "      padding: 0 0 0 0;\n",
              "      width: 32px;\n",
              "    }\n",
              "\n",
              "    .colab-df-convert:hover {\n",
              "      background-color: #E2EBFA;\n",
              "      box-shadow: 0px 1px 2px rgba(60, 64, 67, 0.3), 0px 1px 3px 1px rgba(60, 64, 67, 0.15);\n",
              "      fill: #174EA6;\n",
              "    }\n",
              "\n",
              "    [theme=dark] .colab-df-convert {\n",
              "      background-color: #3B4455;\n",
              "      fill: #D2E3FC;\n",
              "    }\n",
              "\n",
              "    [theme=dark] .colab-df-convert:hover {\n",
              "      background-color: #434B5C;\n",
              "      box-shadow: 0px 1px 3px 1px rgba(0, 0, 0, 0.15);\n",
              "      filter: drop-shadow(0px 1px 2px rgba(0, 0, 0, 0.3));\n",
              "      fill: #FFFFFF;\n",
              "    }\n",
              "  </style>\n",
              "\n",
              "      <script>\n",
              "        const buttonEl =\n",
              "          document.querySelector('#df-1559d6da-3db5-4a02-ae50-0d491bf89128 button.colab-df-convert');\n",
              "        buttonEl.style.display =\n",
              "          google.colab.kernel.accessAllowed ? 'block' : 'none';\n",
              "\n",
              "        async function convertToInteractive(key) {\n",
              "          const element = document.querySelector('#df-1559d6da-3db5-4a02-ae50-0d491bf89128');\n",
              "          const dataTable =\n",
              "            await google.colab.kernel.invokeFunction('convertToInteractive',\n",
              "                                                     [key], {});\n",
              "          if (!dataTable) return;\n",
              "\n",
              "          const docLinkHtml = 'Like what you see? Visit the ' +\n",
              "            '<a target=\"_blank\" href=https://colab.research.google.com/notebooks/data_table.ipynb>data table notebook</a>'\n",
              "            + ' to learn more about interactive tables.';\n",
              "          element.innerHTML = '';\n",
              "          dataTable['output_type'] = 'display_data';\n",
              "          await google.colab.output.renderOutput(dataTable, element);\n",
              "          const docLink = document.createElement('div');\n",
              "          docLink.innerHTML = docLinkHtml;\n",
              "          element.appendChild(docLink);\n",
              "        }\n",
              "      </script>\n",
              "    </div>\n",
              "  </div>\n",
              "  "
            ]
          },
          "metadata": {},
          "execution_count": 50
        }
      ]
    },
    {
      "cell_type": "code",
      "source": [
        "start = time.time()\n",
        "\n",
        "model_dtr.best_estimator_.predict(features_train_ord)\n",
        "\n",
        "end = time.time()"
      ],
      "metadata": {
        "id": "vhSi2_AP-aIF"
      },
      "execution_count": null,
      "outputs": []
    },
    {
      "cell_type": "markdown",
      "metadata": {
        "id": "tZCE1V52PUMR"
      },
      "source": [
        "Сохраним лучшее время обучения и предсказания модели дерева решений."
      ]
    },
    {
      "cell_type": "code",
      "execution_count": null,
      "metadata": {
        "colab": {
          "base_uri": "https://localhost:8080/"
        },
        "id": "up-VDYeHPfXP",
        "outputId": "eafe5e75-7d0f-4580-e59f-4816d6bb9d67",
        "trusted": false
      },
      "outputs": [
        {
          "output_type": "execute_result",
          "data": {
            "text/plain": [
              "{'fit_dtr': 55.5, 'pred_dtr': 0.04}"
            ]
          },
          "metadata": {},
          "execution_count": 52
        }
      ],
      "source": [
        "t_model = {}\n",
        "t_model['fit_dtr'] = round(sum(res_dtr['mean_fit_time']), 2)\n",
        "t_model['pred_dtr'] = round(end - start, 2)\n",
        "t_model"
      ]
    },
    {
      "cell_type": "markdown",
      "metadata": {
        "id": "G4O1_TXl6qhC"
      },
      "source": [
        "### Линейная регрессия"
      ]
    },
    {
      "cell_type": "code",
      "source": [
        "start = time.time()\n",
        "\n",
        "lr = linear_model.RidgeCV(scoring=rmse_scorer)\n",
        "lr.fit(features_train_ord, target_train)\n",
        "\n",
        "end = time.time()\n",
        "t_model['fit_lr'] = round(end - start, 2)"
      ],
      "metadata": {
        "id": "T7mK47ddCBZU"
      },
      "execution_count": null,
      "outputs": []
    },
    {
      "cell_type": "code",
      "source": [
        "start = time.time()\n",
        "\n",
        "prediction_lr = lr.predict(features_train_ord)\n",
        "\n",
        "end = time.time()\n",
        "t_model['pred_lr'] = round(end - start, 2)"
      ],
      "metadata": {
        "id": "rQ8XkdcCGPte"
      },
      "execution_count": null,
      "outputs": []
    },
    {
      "cell_type": "code",
      "source": [
        "rmse_lr = abs(lr.best_score_)\n",
        "rmse_lr"
      ],
      "metadata": {
        "colab": {
          "base_uri": "https://localhost:8080/"
        },
        "id": "PdiX-wPgFDDv",
        "outputId": "25b38f5d-8f45-40da-9f50-ede7051952e3"
      },
      "execution_count": null,
      "outputs": [
        {
          "output_type": "execute_result",
          "data": {
            "text/plain": [
              "3009.78"
            ]
          },
          "metadata": {},
          "execution_count": 55
        }
      ]
    },
    {
      "cell_type": "code",
      "execution_count": null,
      "metadata": {
        "colab": {
          "base_uri": "https://localhost:8080/",
          "height": 529
        },
        "id": "XukTcBXPQFm6",
        "outputId": "c648255e-b2f0-4441-99df-ff955aefd71f",
        "trusted": false
      },
      "outputs": [
        {
          "output_type": "execute_result",
          "data": {
            "text/plain": [
              "Text(0.5, 0.98, 'Линейная регрессия')"
            ]
          },
          "metadata": {},
          "execution_count": 56
        },
        {
          "output_type": "display_data",
          "data": {
            "text/plain": [
              "<Figure size 500x500 with 3 Axes>"
            ],
            "image/png": "[encoded data removed]"
          },
          "metadata": {}
        }
      ],
      "source": [
        "sns.jointplot(x=target_train, y=prediction_lr,\n",
        "                  kind=\"reg\", truncate=False,\n",
        "                  color=\"crimson\",joint_kws = {'scatter_kws':dict(alpha=0.7, color='palevioletred')}, height=5)\n",
        "plt.suptitle('Линейная регрессия')"
      ]
    },
    {
      "cell_type": "code",
      "execution_count": null,
      "metadata": {
        "colab": {
          "base_uri": "https://localhost:8080/"
        },
        "id": "9azzsUGkyh6x",
        "outputId": "2f18f5f4-3ef6-4fd3-e5e2-25bb958f5780",
        "trusted": false
      },
      "outputs": [
        {
          "output_type": "execute_result",
          "data": {
            "text/plain": [
              "{'fit_dtr': 55.5, 'pred_dtr': 0.04, 'fit_lr': 0.37, 'pred_lr': 0.01}"
            ]
          },
          "metadata": {},
          "execution_count": 57
        }
      ],
      "source": [
        "t_model"
      ]
    },
    {
      "cell_type": "markdown",
      "metadata": {
        "id": "VHI96ZBqwIwt"
      },
      "source": [
        "### Catboost"
      ]
    },
    {
      "cell_type": "code",
      "execution_count": null,
      "metadata": {
        "colab": {
          "base_uri": "https://localhost:8080/"
        },
        "id": "T3h3g8Vrw-pi",
        "outputId": "feb3b431-cc37-42f2-f934-19c1ebc04244",
        "trusted": false
      },
      "outputs": [
        {
          "output_type": "stream",
          "name": "stdout",
          "text": [
            "0:\tlearn: 3434.8452820\ttotal: 362ms\tremaining: 6m 1s\n",
            "200:\tlearn: 1526.0283623\ttotal: 42.4s\tremaining: 2m 48s\n",
            "400:\tlearn: 1465.3981344\ttotal: 1m 33s\tremaining: 2m 19s\n",
            "600:\tlearn: 1430.8791229\ttotal: 2m 8s\tremaining: 1m 25s\n",
            "800:\tlearn: 1405.1376168\ttotal: 2m 47s\tremaining: 41.5s\n",
            "999:\tlearn: 1385.3752007\ttotal: 3m 24s\tremaining: 0us\n"
          ]
        }
      ],
      "source": [
        "start = time.time()\n",
        "\n",
        "model_cb = CatBoostRegressor(loss_function='RMSE',learning_rate=0.4, iterations=1000)\n",
        "model_cb.fit(features_train, target_train, cat_features=cat_columns, verbose=200)\n",
        "\n",
        "end = time.time()\n",
        "t_model['fit_cb'] = round(end - start, 2)"
      ]
    },
    {
      "cell_type": "code",
      "source": [
        "rmse_cb = round(model_cb.best_score_.get('learn').get('RMSE'),2)\n",
        "rmse_cb"
      ],
      "metadata": {
        "colab": {
          "base_uri": "https://localhost:8080/"
        },
        "id": "_242HfAUaW5s",
        "outputId": "6a40542b-60ad-4480-8736-a9772ceecc55"
      },
      "execution_count": null,
      "outputs": [
        {
          "output_type": "execute_result",
          "data": {
            "text/plain": [
              "1385.38"
            ]
          },
          "metadata": {},
          "execution_count": 86
        }
      ]
    },
    {
      "cell_type": "code",
      "execution_count": null,
      "metadata": {
        "id": "AMF_2T61yOxP",
        "trusted": false
      },
      "outputs": [],
      "source": [
        "start = time.time()\n",
        "\n",
        "prediction_cb = model_cb.predict(features_train)\n",
        "\n",
        "end = time.time()\n",
        "t_model['pred_cb'] = round(end - start, 2)"
      ]
    },
    {
      "cell_type": "markdown",
      "metadata": {
        "id": "T034tIyz8TEb"
      },
      "source": [
        "### LightGBM "
      ]
    },
    {
      "cell_type": "code",
      "execution_count": null,
      "metadata": {
        "id": "zJXNg7o7oe--",
        "trusted": false
      },
      "outputs": [],
      "source": [
        "start = time.time()\n",
        "\n",
        "model_lgbm = lgbm.sklearn.LGBMRegressor(n_estimators=1000,  random_state=12345, learning_rate=0.4, objective='rmse')\n",
        "model_lgbm.fit(features_train_ord, target_train)\n",
        "\n",
        "end = time.time()\n",
        "t_model['fit_lgbm'] = round(end - start, 2)"
      ]
    },
    {
      "cell_type": "code",
      "execution_count": null,
      "metadata": {
        "id": "Ic8zRLQw35_v",
        "trusted": false
      },
      "outputs": [],
      "source": [
        "start = time.time()\n",
        "\n",
        "prediction_lgbm = model_lgbm.predict(features_train_ord)\n",
        "\n",
        "end = time.time()\n",
        "t_model['pred_lgbm'] = round(end - start, 2)\n"
      ]
    },
    {
      "cell_type": "code",
      "source": [
        "cv = RepeatedKFold(n_splits=10, n_repeats=3, random_state=12345)\n",
        "n_scores = cross_val_score(model_lgbm, features_train_ord, target_train, scoring=rmse_scorer, cv=cv)\n",
        "\n",
        "rmse_lgbm = round(abs(np.mean(n_scores)), 2)\n",
        "rmse_lgbm"
      ],
      "metadata": {
        "colab": {
          "base_uri": "https://localhost:8080/"
        },
        "id": "EFY_swO-fO8u",
        "outputId": "8c269d64-b444-43a3-86ba-fcd3f4c074e4"
      },
      "execution_count": null,
      "outputs": [
        {
          "output_type": "execute_result",
          "data": {
            "text/plain": [
              "1527.2"
            ]
          },
          "metadata": {},
          "execution_count": 109
        }
      ]
    },
    {
      "cell_type": "markdown",
      "metadata": {
        "id": "17al9ETzmc1c"
      },
      "source": [
        "### Проанализируем время обучения, время предсказания и качество моделей"
      ]
    },
    {
      "cell_type": "code",
      "execution_count": null,
      "metadata": {
        "colab": {
          "base_uri": "https://localhost:8080/"
        },
        "id": "34aVBkBnDUlB",
        "outputId": "19b5daf4-1d66-472f-f8cd-a9588402d118",
        "trusted": false
      },
      "outputs": [
        {
          "output_type": "execute_result",
          "data": {
            "text/plain": [
              "{'fit_dtr': 55.5,\n",
              " 'pred_dtr': 0.04,\n",
              " 'fit_lr': 0.37,\n",
              " 'pred_lr': 0.01,\n",
              " 'fit_cb': 206.47,\n",
              " 'pred_cb': 3.09,\n",
              " 'fit_lgbm': 10.28,\n",
              " 'pred_lgbm': 9.69}"
            ]
          },
          "metadata": {},
          "execution_count": 110
        }
      ],
      "source": [
        "t_model"
      ]
    },
    {
      "cell_type": "code",
      "execution_count": null,
      "metadata": {
        "colab": {
          "base_uri": "https://localhost:8080/",
          "height": 175
        },
        "id": "Kgbm5yROnQWm",
        "outputId": "fc6aabda-3717-4325-8eb9-f2fcca131480",
        "trusted": false
      },
      "outputs": [
        {
          "output_type": "execute_result",
          "data": {
            "text/plain": [
              "                       time_fit  time_pred     RMSE\n",
              "DecisionTreeRegressor     55.50       0.04  1905.39\n",
              "LinearRegression           0.37       0.01  3009.78\n",
              "CatBoostRegressor        206.47       3.09  1385.38\n",
              "LGBMRegressor             10.28       9.69  1527.20"
            ],
            "text/html": [
              "\n",
              "  <div id=\"df-421f7db4-beac-4371-a817-37613d6664ca\">\n",
              "    <div class=\"colab-df-container\">\n",
              "      <div>\n",
              "<style scoped>\n",
              "    .dataframe tbody tr th:only-of-type {\n",
              "        vertical-align: middle;\n",
              "    }\n",
              "\n",
              "    .dataframe tbody tr th {\n",
              "        vertical-align: top;\n",
              "    }\n",
              "\n",
              "    .dataframe thead th {\n",
              "        text-align: right;\n",
              "    }\n",
              "</style>\n",
              "<table border=\"1\" class=\"dataframe\">\n",
              "  <thead>\n",
              "    <tr style=\"text-align: right;\">\n",
              "      <th></th>\n",
              "      <th>time_fit</th>\n",
              "      <th>time_pred</th>\n",
              "      <th>RMSE</th>\n",
              "    </tr>\n",
              "  </thead>\n",
              "  <tbody>\n",
              "    <tr>\n",
              "      <th>DecisionTreeRegressor</th>\n",
              "      <td>55.50</td>\n",
              "      <td>0.04</td>\n",
              "      <td>1905.39</td>\n",
              "    </tr>\n",
              "    <tr>\n",
              "      <th>LinearRegression</th>\n",
              "      <td>0.37</td>\n",
              "      <td>0.01</td>\n",
              "      <td>3009.78</td>\n",
              "    </tr>\n",
              "    <tr>\n",
              "      <th>CatBoostRegressor</th>\n",
              "      <td>206.47</td>\n",
              "      <td>3.09</td>\n",
              "      <td>1385.38</td>\n",
              "    </tr>\n",
              "    <tr>\n",
              "      <th>LGBMRegressor</th>\n",
              "      <td>10.28</td>\n",
              "      <td>9.69</td>\n",
              "      <td>1527.20</td>\n",
              "    </tr>\n",
              "  </tbody>\n",
              "</table>\n",
              "</div>\n",
              "      <button class=\"colab-df-convert\" onclick=\"convertToInteractive('df-421f7db4-beac-4371-a817-37613d6664ca')\"\n",
              "              title=\"Convert this dataframe to an interactive table.\"\n",
              "              style=\"display:none;\">\n",
              "        \n",
              "  <svg xmlns=\"http://www.w3.org/2000/svg\" height=\"24px\"viewBox=\"0 0 24 24\"\n",
              "       width=\"24px\">\n",
              "    <path d=\"M0 0h24v24H0V0z\" fill=\"none\"/>\n",
              "    <path d=\"M18.56 5.44l.94 2.06.94-2.06 2.06-.94-2.06-.94-.94-2.06-.94 2.06-2.06.94zm-11 1L8.5 8.5l.94-2.06 2.06-.94-2.06-.94L8.5 2.5l-.94 2.06-2.06.94zm10 10l.94 2.06.94-2.06 2.06-.94-2.06-.94-.94-2.06-.94 2.06-2.06.94z\"/><path d=\"M17.41 7.96l-1.37-1.37c-.4-.4-.92-.59-1.43-.59-.52 0-1.04.2-1.43.59L10.3 9.45l-7.72 7.72c-.78.78-.78 2.05 0 2.83L4 21.41c.39.39.9.59 1.41.59.51 0 1.02-.2 1.41-.59l7.78-7.78 2.81-2.81c.8-.78.8-2.07 0-2.86zM5.41 20L4 18.59l7.72-7.72 1.47 1.35L5.41 20z\"/>\n",
              "  </svg>\n",
              "      </button>\n",
              "      \n",
              "  <style>\n",
              "    .colab-df-container {\n",
              "      display:flex;\n",
              "      flex-wrap:wrap;\n",
              "      gap: 12px;\n",
              "    }\n",
              "\n",
              "    .colab-df-convert {\n",
              "      background-color: #E8F0FE;\n",
              "      border: none;\n",
              "      border-radius: 50%;\n",
              "      cursor: pointer;\n",
              "      display: none;\n",
              "      fill: #1967D2;\n",
              "      height: 32px;\n",
              "      padding: 0 0 0 0;\n",
              "      width: 32px;\n",
              "    }\n",
              "\n",
              "    .colab-df-convert:hover {\n",
              "      background-color: #E2EBFA;\n",
              "      box-shadow: 0px 1px 2px rgba(60, 64, 67, 0.3), 0px 1px 3px 1px rgba(60, 64, 67, 0.15);\n",
              "      fill: #174EA6;\n",
              "    }\n",
              "\n",
              "    [theme=dark] .colab-df-convert {\n",
              "      background-color: #3B4455;\n",
              "      fill: #D2E3FC;\n",
              "    }\n",
              "\n",
              "    [theme=dark] .colab-df-convert:hover {\n",
              "      background-color: #434B5C;\n",
              "      box-shadow: 0px 1px 3px 1px rgba(0, 0, 0, 0.15);\n",
              "      filter: drop-shadow(0px 1px 2px rgba(0, 0, 0, 0.3));\n",
              "      fill: #FFFFFF;\n",
              "    }\n",
              "  </style>\n",
              "\n",
              "      <script>\n",
              "        const buttonEl =\n",
              "          document.querySelector('#df-421f7db4-beac-4371-a817-37613d6664ca button.colab-df-convert');\n",
              "        buttonEl.style.display =\n",
              "          google.colab.kernel.accessAllowed ? 'block' : 'none';\n",
              "\n",
              "        async function convertToInteractive(key) {\n",
              "          const element = document.querySelector('#df-421f7db4-beac-4371-a817-37613d6664ca');\n",
              "          const dataTable =\n",
              "            await google.colab.kernel.invokeFunction('convertToInteractive',\n",
              "                                                     [key], {});\n",
              "          if (!dataTable) return;\n",
              "\n",
              "          const docLinkHtml = 'Like what you see? Visit the ' +\n",
              "            '<a target=\"_blank\" href=https://colab.research.google.com/notebooks/data_table.ipynb>data table notebook</a>'\n",
              "            + ' to learn more about interactive tables.';\n",
              "          element.innerHTML = '';\n",
              "          dataTable['output_type'] = 'display_data';\n",
              "          await google.colab.output.renderOutput(dataTable, element);\n",
              "          const docLink = document.createElement('div');\n",
              "          docLink.innerHTML = docLinkHtml;\n",
              "          element.appendChild(docLink);\n",
              "        }\n",
              "      </script>\n",
              "    </div>\n",
              "  </div>\n",
              "  "
            ]
          },
          "metadata": {},
          "execution_count": 111
        }
      ],
      "source": [
        "d = {'time_fit':[t_model.get('fit_dtr'), t_model.get('fit_lr'), t_model.get('fit_cb'), t_model.get('fit_lgbm')],\\\n",
        "     'time_pred':[t_model.get('pred_dtr'), t_model.get('pred_lr'), t_model.get('pred_cb'), t_model.get('pred_lgbm')],\\\n",
        "     'RMSE':[rmse_d, rmse_lr, rmse_cb, rmse_lgbm]}\n",
        "answer = pd.DataFrame(data =d, index=['DecisionTreeRegressor','LinearRegression', 'CatBoostRegressor',\\\n",
        "                                      'LGBMRegressor'])\n",
        "answer"
      ]
    },
    {
      "cell_type": "markdown",
      "source": [
        "**Итак,** обучили четыре модели, пришли к таким результатам:\n",
        "* самая быстрая модель - линейная регрессия, но качество ее - самое низкое;\n",
        "* лучшее качество показала модель `CatBoostRegressor` - 1385, но время обучения модели 3,5 минуты;\n",
        "* достаточно хорошее качество предсказания показала модель `LGBMRegressor` 1527, и время обучения и предсказания около 10 секунд;\n",
        "* дерево решений обучалось 55 секунд, а RMSE = 1905.  \n",
        "\n",
        "Нам важно и время обучения и качество предсказания, поэтому на тестовой выборке проверим модель `LGBMRegressor`."
      ],
      "metadata": {
        "id": "66tPS5wWjIr8"
      }
    },
    {
      "cell_type": "markdown",
      "metadata": {
        "id": "EHevelEctDTW"
      },
      "source": [
        "## Тестирование лучшей модели"
      ]
    },
    {
      "cell_type": "markdown",
      "source": [
        "Возьмем обученную модель `model_lgbm` и рассчитаем метрику RMSE."
      ],
      "metadata": {
        "id": "kEWdjdeVlqZi"
      }
    },
    {
      "cell_type": "code",
      "source": [
        "print(f'Значение метрики RMSE на test: {rmse_metric(target_test, model_lgbm.predict(features_test_ord))}')"
      ],
      "metadata": {
        "colab": {
          "base_uri": "https://localhost:8080/"
        },
        "id": "1peM6a2ClKin",
        "outputId": "8b71d6bd-34dc-4abe-e798-eb27759640b4"
      },
      "execution_count": null,
      "outputs": [
        {
          "output_type": "stream",
          "name": "stdout",
          "text": [
            "Значение метрики RMSE на test: 1512.56\n"
          ]
        }
      ]
    },
    {
      "cell_type": "markdown",
      "metadata": {
        "id": "3wKHRSoArpP9"
      },
      "source": [
        "## Вывод"
      ]
    },
    {
      "cell_type": "markdown",
      "metadata": {
        "id": "r9ZBpFZSrrKz"
      },
      "source": [
        "Задачей было построить модель, которая предсказывала бы рыночную стоимость автомобиля по данным характеристикам.  \n",
        "В данных были обработаны аномалии и пропуски. Выбраны информативные колонки для построения модели.  \n",
        "Для использования линейной регрессии, дерева решений и `LightGBM` произведено кодирование признаков с помощью `OrdinalEncoder`. Так же произведено масштабирование признаков.  \n",
        "\n",
        "**Вывод по моделям:**\n",
        "* `LinearRegression` - очень низкое качество - 3009, но самое быстрое обучение 0.37 секунд;\n",
        "* `DecisionTreeRegressor` - обучение меньше минуты, RMSE = 1905;\n",
        "* `CatBoostRegressor` имеет самое высокое качество(1385), но и обучение самое продолжительное (3.5 минуты);\n",
        "* `LGBMRegressor` учится и предсказывает примерно за 10 секунд, при этом качество 1527.  \n",
        "\n",
        "Для тестирования выбрана модель `LGBMRegressor`, так как у нее и качество соответствует требованиям и скорость обучения относительно недолгая.\n",
        "На тестовой выборке значение RMSE = 1512, что удовлетворяет условиям.\n",
        "\n",
        "**Рекомендации:** для предсказания стоимости автомобиля по ее характеристикам рекомендую выбирать модель `LGBMRegressor`. Эта модель показала высокое качество и обучается достаточно быстро. "
      ]
    },
    {
      "cell_type": "code",
      "source": [],
      "metadata": {
        "id": "981kCCeApybV"
      },
      "execution_count": null,
      "outputs": []
    }
  ],
  "metadata": {
    "colab": {
      "provenance": []
    },
    "kernelspec": {
      "display_name": "Python 3 (ipykernel)",
      "language": "python",
      "name": "python3"
    },
    "language_info": {
      "codemirror_mode": {
        "name": "ipython",
        "version": 3
      },
      "file_extension": ".py",
      "mimetype": "text/x-python",
      "name": "python",
      "nbconvert_exporter": "python",
      "pygments_lexer": "ipython3",
      "version": "3.9.5"
    },
    "toc": {
      "base_numbering": 1,
      "nav_menu": {},
      "number_sections": true,
      "sideBar": true,
      "skip_h1_title": true,
      "title_cell": "Table of Contents",
      "title_sidebar": "Contents",
      "toc_cell": false,
      "toc_position": {},
      "toc_section_display": true,
      "toc_window_display": false
    }
  },
  "nbformat": 4,
  "nbformat_minor": 0
}