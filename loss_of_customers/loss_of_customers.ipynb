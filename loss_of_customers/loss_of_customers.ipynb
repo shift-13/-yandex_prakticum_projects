{
  "cells": [
    {
      "cell_type": "markdown",
      "metadata": {
        "id": "Tke34DLYsSQ4"
      },
      "source": [
        "# Описание проекта"
      ]
    },
    {
      "cell_type": "markdown",
      "metadata": {
        "id": "6ggzR_y1sgB5"
      },
      "source": [
        "Из банка стали уходить клиенты, каждый месяц. Банковские маркетологи посчитали: сохранять текущих клиентов дешевле, чем привлекать новых.\n",
        "Нужно спрогнозировать, уйдёт клиент из банка в ближайшее время или нет. Предоставлены исторические данные о поведении клиентов и расторжении договоров с банком.  \n",
        "\n",
        "**Цель:** Постройть модель с предельно большим значением F1-меры. Проверить F1-меру на тестовой выборке.\n",
        "Измерить AUC-ROC, сравнить её значение с F1-мерой."
      ]
    },
    {
      "cell_type": "markdown",
      "metadata": {
        "id": "3T6-BR91tWnD"
      },
      "source": [
        "**Признаки**\n",
        "* `RowNumber` — индекс строки в данных\n",
        "* `CustomerId` — уникальный идентификатор клиента\n",
        "* `Surname` — фамилия\n",
        "* `CreditScore` — кредитный рейтинг\n",
        "* `Geography` — страна проживания\n",
        "* `Gender` — пол\n",
        "* `Age` — возраст\n",
        "* `Tenure` — сколько лет человек является клиентом банка\n",
        "* `Balance` — баланс на счёте\n",
        "* `NumOfProducts` — количество продуктов банка, используемых клиентом\n",
        "* `HasCrCard` — наличие кредитной карты\n",
        "* `IsActiveMember` — активность клиента\n",
        "* `EstimatedSalary` — предполагаемая зарплата\n",
        "\n",
        "**Целевой признак**\n",
        "* `Exited` — факт ухода клиента"
      ]
    },
    {
      "cell_type": "markdown",
      "metadata": {
        "id": "_f-iF8Mouzq0"
      },
      "source": [
        "# Изучение данных"
      ]
    },
    {
      "cell_type": "code",
      "execution_count": 1,
      "metadata": {
        "id": "z_SMDSevwUX2",
        "trusted": false
      },
      "outputs": [],
      "source": [
        "import pandas as pd\n",
        "import random\n",
        "import seaborn as sns\n",
        "\n",
        "import matplotlib.pyplot as plt\n",
        "\n",
        "import sklearn\n",
        "from sklearn.metrics import *\n",
        "\n",
        "from sklearn.model_selection import train_test_split, GridSearchCV\n",
        "from sklearn.utils import shuffle\n",
        "from sklearn.preprocessing import OrdinalEncoder, StandardScaler\n",
        "from pandas.plotting import scatter_matrix\n",
        "\n",
        "from sklearn.ensemble import RandomForestClassifier\n",
        "from sklearn.linear_model import LogisticRegression\n",
        "from sklearn.tree import DecisionTreeClassifier"
      ]
    },
    {
      "cell_type": "code",
      "execution_count": null,
      "metadata": {
        "colab": {
          "base_uri": "https://localhost:8080/"
        },
        "id": "v2JKWGXioJlj",
        "outputId": "1fbe1e52-580e-4def-f61d-704fe000e51a",
        "trusted": false
      },
      "outputs": [
        {
          "output_type": "stream",
          "name": "stdout",
          "text": [
            "/usr/local/lib/python3.8/dist-packages/gdown/cli.py:127: FutureWarning: Option `--id` was deprecated in version 4.3.1 and will be removed in 5.0. You don't need to pass it anymore to use a file ID.\n",
            "  warnings.warn(\n",
            "Downloading...\n",
            "From: https://drive.google.com/uc?id=1hPT3YB6mqzkn76P6GDfF2kTvGGGkeaZT\n",
            "To: /content/Churn.csv\n",
            "100% 710k/710k [00:00<00:00, 91.1MB/s]\n"
          ]
        }
      ],
      "source": [
        "try:\n",
        "  !gdown --id 1hPT3YB6mqzkn76P6GDfF2kTvGGGkeaZT --quiet\n",
        "  data = pd.read_csv('Churn.csv')\n",
        "except:\n",
        "  data = pd.read_csv('/datasets/Churn.csv')"
      ]
    },
    {
      "cell_type": "code",
      "execution_count": null,
      "metadata": {
        "colab": {
          "base_uri": "https://localhost:8080/",
          "height": 270
        },
        "id": "pZ7mUN5qwcxY",
        "outputId": "f84c5b0f-22cc-4b1f-f77f-d66481d6f089",
        "trusted": false
      },
      "outputs": [
        {
          "output_type": "execute_result",
          "data": {
            "text/plain": [
              "   RowNumber  CustomerId   Surname  CreditScore Geography  Gender  Age  \\\n",
              "0          1    15634602  Hargrave          619    France  Female   42   \n",
              "1          2    15647311      Hill          608     Spain  Female   41   \n",
              "2          3    15619304      Onio          502    France  Female   42   \n",
              "3          4    15701354      Boni          699    France  Female   39   \n",
              "4          5    15737888  Mitchell          850     Spain  Female   43   \n",
              "\n",
              "   Tenure    Balance  NumOfProducts  HasCrCard  IsActiveMember  \\\n",
              "0     2.0       0.00              1          1               1   \n",
              "1     1.0   83807.86              1          0               1   \n",
              "2     8.0  159660.80              3          1               0   \n",
              "3     1.0       0.00              2          0               0   \n",
              "4     2.0  125510.82              1          1               1   \n",
              "\n",
              "   EstimatedSalary  Exited  \n",
              "0        101348.88       1  \n",
              "1        112542.58       0  \n",
              "2        113931.57       1  \n",
              "3         93826.63       0  \n",
              "4         79084.10       0  "
            ],
            "text/html": [
              "\n",
              "  <div id=\"df-86d59102-adc8-4fe0-b960-afd92223b418\">\n",
              "    <div class=\"colab-df-container\">\n",
              "      <div>\n",
              "<style scoped>\n",
              "    .dataframe tbody tr th:only-of-type {\n",
              "        vertical-align: middle;\n",
              "    }\n",
              "\n",
              "    .dataframe tbody tr th {\n",
              "        vertical-align: top;\n",
              "    }\n",
              "\n",
              "    .dataframe thead th {\n",
              "        text-align: right;\n",
              "    }\n",
              "</style>\n",
              "<table border=\"1\" class=\"dataframe\">\n",
              "  <thead>\n",
              "    <tr style=\"text-align: right;\">\n",
              "      <th></th>\n",
              "      <th>RowNumber</th>\n",
              "      <th>CustomerId</th>\n",
              "      <th>Surname</th>\n",
              "      <th>CreditScore</th>\n",
              "      <th>Geography</th>\n",
              "      <th>Gender</th>\n",
              "      <th>Age</th>\n",
              "      <th>Tenure</th>\n",
              "      <th>Balance</th>\n",
              "      <th>NumOfProducts</th>\n",
              "      <th>HasCrCard</th>\n",
              "      <th>IsActiveMember</th>\n",
              "      <th>EstimatedSalary</th>\n",
              "      <th>Exited</th>\n",
              "    </tr>\n",
              "  </thead>\n",
              "  <tbody>\n",
              "    <tr>\n",
              "      <th>0</th>\n",
              "      <td>1</td>\n",
              "      <td>15634602</td>\n",
              "      <td>Hargrave</td>\n",
              "      <td>619</td>\n",
              "      <td>France</td>\n",
              "      <td>Female</td>\n",
              "      <td>42</td>\n",
              "      <td>2.0</td>\n",
              "      <td>0.00</td>\n",
              "      <td>1</td>\n",
              "      <td>1</td>\n",
              "      <td>1</td>\n",
              "      <td>101348.88</td>\n",
              "      <td>1</td>\n",
              "    </tr>\n",
              "    <tr>\n",
              "      <th>1</th>\n",
              "      <td>2</td>\n",
              "      <td>15647311</td>\n",
              "      <td>Hill</td>\n",
              "      <td>608</td>\n",
              "      <td>Spain</td>\n",
              "      <td>Female</td>\n",
              "      <td>41</td>\n",
              "      <td>1.0</td>\n",
              "      <td>83807.86</td>\n",
              "      <td>1</td>\n",
              "      <td>0</td>\n",
              "      <td>1</td>\n",
              "      <td>112542.58</td>\n",
              "      <td>0</td>\n",
              "    </tr>\n",
              "    <tr>\n",
              "      <th>2</th>\n",
              "      <td>3</td>\n",
              "      <td>15619304</td>\n",
              "      <td>Onio</td>\n",
              "      <td>502</td>\n",
              "      <td>France</td>\n",
              "      <td>Female</td>\n",
              "      <td>42</td>\n",
              "      <td>8.0</td>\n",
              "      <td>159660.80</td>\n",
              "      <td>3</td>\n",
              "      <td>1</td>\n",
              "      <td>0</td>\n",
              "      <td>113931.57</td>\n",
              "      <td>1</td>\n",
              "    </tr>\n",
              "    <tr>\n",
              "      <th>3</th>\n",
              "      <td>4</td>\n",
              "      <td>15701354</td>\n",
              "      <td>Boni</td>\n",
              "      <td>699</td>\n",
              "      <td>France</td>\n",
              "      <td>Female</td>\n",
              "      <td>39</td>\n",
              "      <td>1.0</td>\n",
              "      <td>0.00</td>\n",
              "      <td>2</td>\n",
              "      <td>0</td>\n",
              "      <td>0</td>\n",
              "      <td>93826.63</td>\n",
              "      <td>0</td>\n",
              "    </tr>\n",
              "    <tr>\n",
              "      <th>4</th>\n",
              "      <td>5</td>\n",
              "      <td>15737888</td>\n",
              "      <td>Mitchell</td>\n",
              "      <td>850</td>\n",
              "      <td>Spain</td>\n",
              "      <td>Female</td>\n",
              "      <td>43</td>\n",
              "      <td>2.0</td>\n",
              "      <td>125510.82</td>\n",
              "      <td>1</td>\n",
              "      <td>1</td>\n",
              "      <td>1</td>\n",
              "      <td>79084.10</td>\n",
              "      <td>0</td>\n",
              "    </tr>\n",
              "  </tbody>\n",
              "</table>\n",
              "</div>\n",
              "      <button class=\"colab-df-convert\" onclick=\"convertToInteractive('df-86d59102-adc8-4fe0-b960-afd92223b418')\"\n",
              "              title=\"Convert this dataframe to an interactive table.\"\n",
              "              style=\"display:none;\">\n",
              "        \n",
              "  <svg xmlns=\"http://www.w3.org/2000/svg\" height=\"24px\"viewBox=\"0 0 24 24\"\n",
              "       width=\"24px\">\n",
              "    <path d=\"M0 0h24v24H0V0z\" fill=\"none\"/>\n",
              "    <path d=\"M18.56 5.44l.94 2.06.94-2.06 2.06-.94-2.06-.94-.94-2.06-.94 2.06-2.06.94zm-11 1L8.5 8.5l.94-2.06 2.06-.94-2.06-.94L8.5 2.5l-.94 2.06-2.06.94zm10 10l.94 2.06.94-2.06 2.06-.94-2.06-.94-.94-2.06-.94 2.06-2.06.94z\"/><path d=\"M17.41 7.96l-1.37-1.37c-.4-.4-.92-.59-1.43-.59-.52 0-1.04.2-1.43.59L10.3 9.45l-7.72 7.72c-.78.78-.78 2.05 0 2.83L4 21.41c.39.39.9.59 1.41.59.51 0 1.02-.2 1.41-.59l7.78-7.78 2.81-2.81c.8-.78.8-2.07 0-2.86zM5.41 20L4 18.59l7.72-7.72 1.47 1.35L5.41 20z\"/>\n",
              "  </svg>\n",
              "      </button>\n",
              "      \n",
              "  <style>\n",
              "    .colab-df-container {\n",
              "      display:flex;\n",
              "      flex-wrap:wrap;\n",
              "      gap: 12px;\n",
              "    }\n",
              "\n",
              "    .colab-df-convert {\n",
              "      background-color: #E8F0FE;\n",
              "      border: none;\n",
              "      border-radius: 50%;\n",
              "      cursor: pointer;\n",
              "      display: none;\n",
              "      fill: #1967D2;\n",
              "      height: 32px;\n",
              "      padding: 0 0 0 0;\n",
              "      width: 32px;\n",
              "    }\n",
              "\n",
              "    .colab-df-convert:hover {\n",
              "      background-color: #E2EBFA;\n",
              "      box-shadow: 0px 1px 2px rgba(60, 64, 67, 0.3), 0px 1px 3px 1px rgba(60, 64, 67, 0.15);\n",
              "      fill: #174EA6;\n",
              "    }\n",
              "\n",
              "    [theme=dark] .colab-df-convert {\n",
              "      background-color: #3B4455;\n",
              "      fill: #D2E3FC;\n",
              "    }\n",
              "\n",
              "    [theme=dark] .colab-df-convert:hover {\n",
              "      background-color: #434B5C;\n",
              "      box-shadow: 0px 1px 3px 1px rgba(0, 0, 0, 0.15);\n",
              "      filter: drop-shadow(0px 1px 2px rgba(0, 0, 0, 0.3));\n",
              "      fill: #FFFFFF;\n",
              "    }\n",
              "  </style>\n",
              "\n",
              "      <script>\n",
              "        const buttonEl =\n",
              "          document.querySelector('#df-86d59102-adc8-4fe0-b960-afd92223b418 button.colab-df-convert');\n",
              "        buttonEl.style.display =\n",
              "          google.colab.kernel.accessAllowed ? 'block' : 'none';\n",
              "\n",
              "        async function convertToInteractive(key) {\n",
              "          const element = document.querySelector('#df-86d59102-adc8-4fe0-b960-afd92223b418');\n",
              "          const dataTable =\n",
              "            await google.colab.kernel.invokeFunction('convertToInteractive',\n",
              "                                                     [key], {});\n",
              "          if (!dataTable) return;\n",
              "\n",
              "          const docLinkHtml = 'Like what you see? Visit the ' +\n",
              "            '<a target=\"_blank\" href=https://colab.research.google.com/notebooks/data_table.ipynb>data table notebook</a>'\n",
              "            + ' to learn more about interactive tables.';\n",
              "          element.innerHTML = '';\n",
              "          dataTable['output_type'] = 'display_data';\n",
              "          await google.colab.output.renderOutput(dataTable, element);\n",
              "          const docLink = document.createElement('div');\n",
              "          docLink.innerHTML = docLinkHtml;\n",
              "          element.appendChild(docLink);\n",
              "        }\n",
              "      </script>\n",
              "    </div>\n",
              "  </div>\n",
              "  "
            ]
          },
          "metadata": {},
          "execution_count": 214
        }
      ],
      "source": [
        "data.head()"
      ]
    },
    {
      "cell_type": "code",
      "execution_count": null,
      "metadata": {
        "colab": {
          "base_uri": "https://localhost:8080/"
        },
        "id": "bhrZlO0DwfQd",
        "outputId": "b2957721-ca2e-4e91-a056-233717bcc2c4",
        "trusted": false
      },
      "outputs": [
        {
          "output_type": "stream",
          "name": "stdout",
          "text": [
            "<class 'pandas.core.frame.DataFrame'>\n",
            "RangeIndex: 10000 entries, 0 to 9999\n",
            "Data columns (total 14 columns):\n",
            " #   Column           Non-Null Count  Dtype  \n",
            "---  ------           --------------  -----  \n",
            " 0   RowNumber        10000 non-null  int64  \n",
            " 1   CustomerId       10000 non-null  int64  \n",
            " 2   Surname          10000 non-null  object \n",
            " 3   CreditScore      10000 non-null  int64  \n",
            " 4   Geography        10000 non-null  object \n",
            " 5   Gender           10000 non-null  object \n",
            " 6   Age              10000 non-null  int64  \n",
            " 7   Tenure           9091 non-null   float64\n",
            " 8   Balance          10000 non-null  float64\n",
            " 9   NumOfProducts    10000 non-null  int64  \n",
            " 10  HasCrCard        10000 non-null  int64  \n",
            " 11  IsActiveMember   10000 non-null  int64  \n",
            " 12  EstimatedSalary  10000 non-null  float64\n",
            " 13  Exited           10000 non-null  int64  \n",
            "dtypes: float64(3), int64(8), object(3)\n",
            "memory usage: 1.1+ MB\n"
          ]
        }
      ],
      "source": [
        "data.info()"
      ]
    },
    {
      "cell_type": "code",
      "execution_count": null,
      "metadata": {
        "colab": {
          "base_uri": "https://localhost:8080/"
        },
        "id": "APSu3qj1wy27",
        "outputId": "99d3ed66-86d6-49ba-de1c-e54401136d19",
        "trusted": false
      },
      "outputs": [
        {
          "output_type": "stream",
          "name": "stdout",
          "text": [
            "Количество явных дубликатов 0\n"
          ]
        }
      ],
      "source": [
        "print(f'Количество явных дубликатов {data.duplicated().sum()}')"
      ]
    },
    {
      "cell_type": "code",
      "execution_count": null,
      "metadata": {
        "colab": {
          "base_uri": "https://localhost:8080/"
        },
        "id": "WbRJu7JJ6JDO",
        "outputId": "140c6965-576a-4c77-f945-0077bf816b5e",
        "trusted": false
      },
      "outputs": [
        {
          "output_type": "execute_result",
          "data": {
            "text/plain": [
              "0    0.7963\n",
              "1    0.2037\n",
              "Name: Exited, dtype: float64"
            ]
          },
          "metadata": {},
          "execution_count": 217
        }
      ],
      "source": [
        "data['Exited'].value_counts(normalize=True)"
      ]
    },
    {
      "cell_type": "markdown",
      "metadata": {
        "id": "s0SFybBzxNsi"
      },
      "source": [
        "**Итак,** в таблице 10 000 строк, 14 столбцов. Пропуски есть только в колонке `Tenure`(909 шт.) - сколько лет человек является клиентом банка. Возможно эти пропуски возникли случайно при сборе данных или заполнении. Явных дубликатов нет. В основным признаки представлены числами(данные есть и количественные и категориальные), тип object у колонок с фамилией, страной проживания и полом. Наблюдается дисбаланс классов, нулей почти в 4 раза больше, чем класса единиц."
      ]
    },
    {
      "cell_type": "markdown",
      "metadata": {
        "id": "va9buW1nzezh"
      },
      "source": [
        "Для удобства переведем названия колонок в нижний регистор."
      ]
    },
    {
      "cell_type": "code",
      "execution_count": null,
      "metadata": {
        "id": "iq_1KfXIxEE-",
        "trusted": false,
        "colab": {
          "base_uri": "https://localhost:8080/"
        },
        "outputId": "9ddb7160-e3d9-4c1c-b0d9-70f65a85692d"
      },
      "outputs": [
        {
          "output_type": "stream",
          "name": "stderr",
          "text": [
            "<ipython-input-218-19857ba1cf44>:1: FutureWarning: The default value of regex will change from True to False in a future version.\n",
            "  data.columns = data.columns.str.replace(r\"([A-Z])\", r\" \\1\").str.lower().str.replace(' ', '_').str[1:]\n"
          ]
        }
      ],
      "source": [
        "data.columns = data.columns.str.replace(r\"([A-Z])\", r\" \\1\").str.lower().str.replace(' ', '_').str[1:]"
      ]
    },
    {
      "cell_type": "code",
      "execution_count": null,
      "metadata": {
        "colab": {
          "base_uri": "https://localhost:8080/"
        },
        "id": "oEBPSqDvzRkm",
        "outputId": "3a5d5f2b-5f2c-41b2-cd95-6c702b201c17",
        "trusted": false
      },
      "outputs": [
        {
          "output_type": "execute_result",
          "data": {
            "text/plain": [
              "Index(['row_number', 'customer_id', 'surname', 'credit_score', 'geography',\n",
              "       'gender', 'age', 'tenure', 'balance', 'num_of_products', 'has_cr_card',\n",
              "       'is_active_member', 'estimated_salary', 'exited'],\n",
              "      dtype='object')"
            ]
          },
          "metadata": {},
          "execution_count": 219
        }
      ],
      "source": [
        "data.columns"
      ]
    },
    {
      "cell_type": "markdown",
      "metadata": {
        "id": "3Hz6GAxR2rja"
      },
      "source": [
        "### Подготовка данных"
      ]
    },
    {
      "cell_type": "markdown",
      "metadata": {
        "id": "35H7JORzAtkg"
      },
      "source": [
        "Для нашей модели нужны не все колонки. Например, данные в колонках `RowNumber`, `CustomerId`, `Surname` не влияют на уход клиента, это просто информация о нем, то есть номер колонки, уникальный id и фамилия. Удалим эти колонки."
      ]
    },
    {
      "cell_type": "code",
      "execution_count": null,
      "metadata": {
        "colab": {
          "base_uri": "https://localhost:8080/",
          "height": 270
        },
        "id": "A_Ww7kbEBe3Q",
        "outputId": "a7765778-24c5-4b9a-e52d-c69e315507a7",
        "trusted": false
      },
      "outputs": [
        {
          "output_type": "execute_result",
          "data": {
            "text/plain": [
              "   credit_score geography  gender  age  tenure    balance  num_of_products  \\\n",
              "0           619    France  Female   42     2.0       0.00                1   \n",
              "1           608     Spain  Female   41     1.0   83807.86                1   \n",
              "2           502    France  Female   42     8.0  159660.80                3   \n",
              "3           699    France  Female   39     1.0       0.00                2   \n",
              "4           850     Spain  Female   43     2.0  125510.82                1   \n",
              "\n",
              "   has_cr_card  is_active_member  estimated_salary  exited  \n",
              "0            1                 1         101348.88       1  \n",
              "1            0                 1         112542.58       0  \n",
              "2            1                 0         113931.57       1  \n",
              "3            0                 0          93826.63       0  \n",
              "4            1                 1          79084.10       0  "
            ],
            "text/html": [
              "\n",
              "  <div id=\"df-d3929c23-7d7d-4729-ab9b-e823550ef459\">\n",
              "    <div class=\"colab-df-container\">\n",
              "      <div>\n",
              "<style scoped>\n",
              "    .dataframe tbody tr th:only-of-type {\n",
              "        vertical-align: middle;\n",
              "    }\n",
              "\n",
              "    .dataframe tbody tr th {\n",
              "        vertical-align: top;\n",
              "    }\n",
              "\n",
              "    .dataframe thead th {\n",
              "        text-align: right;\n",
              "    }\n",
              "</style>\n",
              "<table border=\"1\" class=\"dataframe\">\n",
              "  <thead>\n",
              "    <tr style=\"text-align: right;\">\n",
              "      <th></th>\n",
              "      <th>credit_score</th>\n",
              "      <th>geography</th>\n",
              "      <th>gender</th>\n",
              "      <th>age</th>\n",
              "      <th>tenure</th>\n",
              "      <th>balance</th>\n",
              "      <th>num_of_products</th>\n",
              "      <th>has_cr_card</th>\n",
              "      <th>is_active_member</th>\n",
              "      <th>estimated_salary</th>\n",
              "      <th>exited</th>\n",
              "    </tr>\n",
              "  </thead>\n",
              "  <tbody>\n",
              "    <tr>\n",
              "      <th>0</th>\n",
              "      <td>619</td>\n",
              "      <td>France</td>\n",
              "      <td>Female</td>\n",
              "      <td>42</td>\n",
              "      <td>2.0</td>\n",
              "      <td>0.00</td>\n",
              "      <td>1</td>\n",
              "      <td>1</td>\n",
              "      <td>1</td>\n",
              "      <td>101348.88</td>\n",
              "      <td>1</td>\n",
              "    </tr>\n",
              "    <tr>\n",
              "      <th>1</th>\n",
              "      <td>608</td>\n",
              "      <td>Spain</td>\n",
              "      <td>Female</td>\n",
              "      <td>41</td>\n",
              "      <td>1.0</td>\n",
              "      <td>83807.86</td>\n",
              "      <td>1</td>\n",
              "      <td>0</td>\n",
              "      <td>1</td>\n",
              "      <td>112542.58</td>\n",
              "      <td>0</td>\n",
              "    </tr>\n",
              "    <tr>\n",
              "      <th>2</th>\n",
              "      <td>502</td>\n",
              "      <td>France</td>\n",
              "      <td>Female</td>\n",
              "      <td>42</td>\n",
              "      <td>8.0</td>\n",
              "      <td>159660.80</td>\n",
              "      <td>3</td>\n",
              "      <td>1</td>\n",
              "      <td>0</td>\n",
              "      <td>113931.57</td>\n",
              "      <td>1</td>\n",
              "    </tr>\n",
              "    <tr>\n",
              "      <th>3</th>\n",
              "      <td>699</td>\n",
              "      <td>France</td>\n",
              "      <td>Female</td>\n",
              "      <td>39</td>\n",
              "      <td>1.0</td>\n",
              "      <td>0.00</td>\n",
              "      <td>2</td>\n",
              "      <td>0</td>\n",
              "      <td>0</td>\n",
              "      <td>93826.63</td>\n",
              "      <td>0</td>\n",
              "    </tr>\n",
              "    <tr>\n",
              "      <th>4</th>\n",
              "      <td>850</td>\n",
              "      <td>Spain</td>\n",
              "      <td>Female</td>\n",
              "      <td>43</td>\n",
              "      <td>2.0</td>\n",
              "      <td>125510.82</td>\n",
              "      <td>1</td>\n",
              "      <td>1</td>\n",
              "      <td>1</td>\n",
              "      <td>79084.10</td>\n",
              "      <td>0</td>\n",
              "    </tr>\n",
              "  </tbody>\n",
              "</table>\n",
              "</div>\n",
              "      <button class=\"colab-df-convert\" onclick=\"convertToInteractive('df-d3929c23-7d7d-4729-ab9b-e823550ef459')\"\n",
              "              title=\"Convert this dataframe to an interactive table.\"\n",
              "              style=\"display:none;\">\n",
              "        \n",
              "  <svg xmlns=\"http://www.w3.org/2000/svg\" height=\"24px\"viewBox=\"0 0 24 24\"\n",
              "       width=\"24px\">\n",
              "    <path d=\"M0 0h24v24H0V0z\" fill=\"none\"/>\n",
              "    <path d=\"M18.56 5.44l.94 2.06.94-2.06 2.06-.94-2.06-.94-.94-2.06-.94 2.06-2.06.94zm-11 1L8.5 8.5l.94-2.06 2.06-.94-2.06-.94L8.5 2.5l-.94 2.06-2.06.94zm10 10l.94 2.06.94-2.06 2.06-.94-2.06-.94-.94-2.06-.94 2.06-2.06.94z\"/><path d=\"M17.41 7.96l-1.37-1.37c-.4-.4-.92-.59-1.43-.59-.52 0-1.04.2-1.43.59L10.3 9.45l-7.72 7.72c-.78.78-.78 2.05 0 2.83L4 21.41c.39.39.9.59 1.41.59.51 0 1.02-.2 1.41-.59l7.78-7.78 2.81-2.81c.8-.78.8-2.07 0-2.86zM5.41 20L4 18.59l7.72-7.72 1.47 1.35L5.41 20z\"/>\n",
              "  </svg>\n",
              "      </button>\n",
              "      \n",
              "  <style>\n",
              "    .colab-df-container {\n",
              "      display:flex;\n",
              "      flex-wrap:wrap;\n",
              "      gap: 12px;\n",
              "    }\n",
              "\n",
              "    .colab-df-convert {\n",
              "      background-color: #E8F0FE;\n",
              "      border: none;\n",
              "      border-radius: 50%;\n",
              "      cursor: pointer;\n",
              "      display: none;\n",
              "      fill: #1967D2;\n",
              "      height: 32px;\n",
              "      padding: 0 0 0 0;\n",
              "      width: 32px;\n",
              "    }\n",
              "\n",
              "    .colab-df-convert:hover {\n",
              "      background-color: #E2EBFA;\n",
              "      box-shadow: 0px 1px 2px rgba(60, 64, 67, 0.3), 0px 1px 3px 1px rgba(60, 64, 67, 0.15);\n",
              "      fill: #174EA6;\n",
              "    }\n",
              "\n",
              "    [theme=dark] .colab-df-convert {\n",
              "      background-color: #3B4455;\n",
              "      fill: #D2E3FC;\n",
              "    }\n",
              "\n",
              "    [theme=dark] .colab-df-convert:hover {\n",
              "      background-color: #434B5C;\n",
              "      box-shadow: 0px 1px 3px 1px rgba(0, 0, 0, 0.15);\n",
              "      filter: drop-shadow(0px 1px 2px rgba(0, 0, 0, 0.3));\n",
              "      fill: #FFFFFF;\n",
              "    }\n",
              "  </style>\n",
              "\n",
              "      <script>\n",
              "        const buttonEl =\n",
              "          document.querySelector('#df-d3929c23-7d7d-4729-ab9b-e823550ef459 button.colab-df-convert');\n",
              "        buttonEl.style.display =\n",
              "          google.colab.kernel.accessAllowed ? 'block' : 'none';\n",
              "\n",
              "        async function convertToInteractive(key) {\n",
              "          const element = document.querySelector('#df-d3929c23-7d7d-4729-ab9b-e823550ef459');\n",
              "          const dataTable =\n",
              "            await google.colab.kernel.invokeFunction('convertToInteractive',\n",
              "                                                     [key], {});\n",
              "          if (!dataTable) return;\n",
              "\n",
              "          const docLinkHtml = 'Like what you see? Visit the ' +\n",
              "            '<a target=\"_blank\" href=https://colab.research.google.com/notebooks/data_table.ipynb>data table notebook</a>'\n",
              "            + ' to learn more about interactive tables.';\n",
              "          element.innerHTML = '';\n",
              "          dataTable['output_type'] = 'display_data';\n",
              "          await google.colab.output.renderOutput(dataTable, element);\n",
              "          const docLink = document.createElement('div');\n",
              "          docLink.innerHTML = docLinkHtml;\n",
              "          element.appendChild(docLink);\n",
              "        }\n",
              "      </script>\n",
              "    </div>\n",
              "  </div>\n",
              "  "
            ]
          },
          "metadata": {},
          "execution_count": 220
        }
      ],
      "source": [
        "df = data.drop(['row_number', 'customer_id', 'surname'], axis=1)\n",
        "df.head()"
      ]
    },
    {
      "cell_type": "markdown",
      "metadata": {
        "id": "L7y53VzN4Wn2"
      },
      "source": [
        "Посмотрим на коэффициент корреляции наших данных."
      ]
    },
    {
      "cell_type": "code",
      "execution_count": null,
      "metadata": {
        "colab": {
          "base_uri": "https://localhost:8080/",
          "height": 584
        },
        "id": "wqw9mPoR4ij1",
        "outputId": "57cc87ea-c36f-46e1-ef32-75f375111799",
        "trusted": false
      },
      "outputs": [
        {
          "output_type": "execute_result",
          "data": {
            "text/plain": [
              "<matplotlib.axes._subplots.AxesSubplot at 0x7faac79ddc70>"
            ]
          },
          "metadata": {},
          "execution_count": 221
        },
        {
          "output_type": "display_data",
          "data": {
            "text/plain": [
              "<Figure size 720x576 with 2 Axes>"
            ],
            "image/png": "[encoded data removed]"
          },
          "metadata": {
            "needs_background": "light"
          }
        }
      ],
      "source": [
        "plt.figure(figsize=(10,8))\n",
        "sns.heatmap(df.corr(), annot=True)\n"
      ]
    },
    {
      "cell_type": "markdown",
      "metadata": {
        "id": "Ua2gf1x3VmYX"
      },
      "source": [
        "Видим, что колонка `tenure` практически не коррелирует с другими колонками. Заметна прямая зависимость между возрастом и уходом из банка. Также есть обратная зависимость между количеством продуктов в банке и балансом. Остальные коэффициенты близки к нулю."
      ]
    },
    {
      "cell_type": "markdown",
      "metadata": {
        "id": "IcAlHf8wwron"
      },
      "source": [
        "Надо заменить пропуски в колонке `tenure`. "
      ]
    },
    {
      "cell_type": "code",
      "source": [
        "df['tenure'].isna().sum()"
      ],
      "metadata": {
        "colab": {
          "base_uri": "https://localhost:8080/"
        },
        "id": "VI8qhjjB_7a3",
        "outputId": "aebc529a-82a6-448f-f115-bdf38137ff3a"
      },
      "execution_count": null,
      "outputs": [
        {
          "output_type": "execute_result",
          "data": {
            "text/plain": [
              "909"
            ]
          },
          "metadata": {},
          "execution_count": 222
        }
      ]
    },
    {
      "cell_type": "markdown",
      "source": [
        "Заменим пропуски на значение -1."
      ],
      "metadata": {
        "id": "QgrfaErmBYlI"
      }
    },
    {
      "cell_type": "code",
      "source": [
        "df['tenure'].fillna(-1, inplace =True)"
      ],
      "metadata": {
        "id": "aLHU5YKv7x48"
      },
      "execution_count": null,
      "outputs": []
    },
    {
      "cell_type": "code",
      "execution_count": null,
      "metadata": {
        "colab": {
          "base_uri": "https://localhost:8080/"
        },
        "id": "MZvvndoyWTZl",
        "outputId": "4caab553-df8e-4e94-e224-3f76c40993d2",
        "trusted": false
      },
      "outputs": [
        {
          "output_type": "execute_result",
          "data": {
            "text/plain": [
              "array([ 2.,  1.,  8.,  7.,  4.,  6.,  3., 10.,  5.,  9.,  0., -1.])"
            ]
          },
          "metadata": {},
          "execution_count": 224
        }
      ],
      "source": [
        "df['tenure'].unique()"
      ]
    },
    {
      "cell_type": "markdown",
      "source": [
        "Напишем функцию для замены значений на случайное число и применим ее к столбцу."
      ],
      "metadata": {
        "id": "u5XQeHZiBdMm"
      }
    },
    {
      "cell_type": "code",
      "source": [
        "df['tenure'].value_counts()"
      ],
      "metadata": {
        "colab": {
          "base_uri": "https://localhost:8080/"
        },
        "id": "W8DWR3TjBmph",
        "outputId": "f282c9c5-7859-4b9a-aa88-e87bde0dfdfa"
      },
      "execution_count": null,
      "outputs": [
        {
          "output_type": "execute_result",
          "data": {
            "text/plain": [
              " 1.0     952\n",
              " 2.0     950\n",
              " 8.0     933\n",
              " 3.0     928\n",
              " 5.0     927\n",
              " 7.0     925\n",
              "-1.0     909\n",
              " 4.0     885\n",
              " 9.0     882\n",
              " 6.0     881\n",
              " 10.0    446\n",
              " 0.0     382\n",
              "Name: tenure, dtype: int64"
            ]
          },
          "metadata": {},
          "execution_count": 225
        }
      ]
    },
    {
      "cell_type": "code",
      "source": [
        "def nul(row):\n",
        "  if row == -1:\n",
        "    row = random.randint(0, 10)\n",
        "  return row"
      ],
      "metadata": {
        "id": "e44vXwoYAO2V"
      },
      "execution_count": null,
      "outputs": []
    },
    {
      "cell_type": "code",
      "source": [
        "df['tenure'] = df['tenure'].apply(nul)"
      ],
      "metadata": {
        "id": "k-ObHBBrAeI4"
      },
      "execution_count": null,
      "outputs": []
    },
    {
      "cell_type": "code",
      "source": [
        "df['tenure'].unique()\n"
      ],
      "metadata": {
        "colab": {
          "base_uri": "https://localhost:8080/"
        },
        "id": "Bo01C8xnAtus",
        "outputId": "d57eb34b-0215-493e-df27-afc51af87eeb"
      },
      "execution_count": null,
      "outputs": [
        {
          "output_type": "execute_result",
          "data": {
            "text/plain": [
              "array([ 2.,  1.,  8.,  7.,  4.,  6.,  3., 10.,  5.,  9.,  0.])"
            ]
          },
          "metadata": {},
          "execution_count": 228
        }
      ]
    },
    {
      "cell_type": "code",
      "source": [
        "df['tenure'].value_counts()"
      ],
      "metadata": {
        "colab": {
          "base_uri": "https://localhost:8080/"
        },
        "id": "S37iZl3fB2Gq",
        "outputId": "1f4db1c3-eef6-4138-dffa-6db3e28112ac"
      },
      "execution_count": null,
      "outputs": [
        {
          "output_type": "execute_result",
          "data": {
            "text/plain": [
              "1.0     1031\n",
              "3.0     1025\n",
              "2.0     1022\n",
              "8.0     1017\n",
              "5.0     1007\n",
              "7.0     1006\n",
              "6.0      969\n",
              "4.0      962\n",
              "9.0      948\n",
              "10.0     538\n",
              "0.0      475\n",
              "Name: tenure, dtype: int64"
            ]
          },
          "metadata": {},
          "execution_count": 229
        }
      ]
    },
    {
      "cell_type": "markdown",
      "metadata": {
        "id": "gO1iqHndG6_m"
      },
      "source": [
        "# Обучение без учета дисбаланса"
      ]
    },
    {
      "cell_type": "markdown",
      "metadata": {
        "id": "kdU-m4PRHA9t"
      },
      "source": [
        "## Логистическая регрессия"
      ]
    },
    {
      "cell_type": "markdown",
      "metadata": {
        "id": "8dWTIs6LkSjr"
      },
      "source": [
        "### Разделим данные"
      ]
    },
    {
      "cell_type": "markdown",
      "metadata": {
        "id": "SFtvZqyUvKbV"
      },
      "source": [
        "Разделим данные на признаки и целевой показатель."
      ]
    },
    {
      "cell_type": "code",
      "execution_count": null,
      "metadata": {
        "id": "YIoS7vGHvPcO",
        "trusted": false
      },
      "outputs": [],
      "source": [
        "features_ohe = df.drop(['exited'], axis=1)\n",
        "target_ohe = df['exited']"
      ]
    },
    {
      "cell_type": "markdown",
      "metadata": {
        "id": "FUSoJ0imlVEZ"
      },
      "source": [
        "Разделим в отношении 3:1:1."
      ]
    },
    {
      "cell_type": "code",
      "execution_count": null,
      "metadata": {
        "id": "jzh6oUQgjWIr",
        "trusted": false
      },
      "outputs": [],
      "source": [
        "features_train_ohe, features_test_ohe, target_train_ohe, target_test_ohe \\\n",
        "= train_test_split(features_ohe, target_ohe, test_size=0.4, random_state=12345, stratify=target_ohe)"
      ]
    },
    {
      "cell_type": "code",
      "execution_count": null,
      "metadata": {
        "id": "s7g_EufGEi7J",
        "trusted": false
      },
      "outputs": [],
      "source": [
        "features_valid_ohe, features_test_ohe, target_valid_ohe, target_test_ohe \\\n",
        "= train_test_split(features_test_ohe, target_test_ohe, test_size=0.5, random_state=12345, stratify=target_test_ohe)"
      ]
    },
    {
      "cell_type": "code",
      "execution_count": null,
      "metadata": {
        "colab": {
          "base_uri": "https://localhost:8080/"
        },
        "id": "OnP7X8GzljH3",
        "outputId": "a68e10c5-2001-4e28-86cf-c192337d85d9",
        "trusted": false
      },
      "outputs": [
        {
          "output_type": "stream",
          "name": "stdout",
          "text": [
            "Обучающая: (6000, 10), Валидационная: (2000, 10), Тестовая: (2000, 10)\n"
          ]
        }
      ],
      "source": [
        "print(f'Обучающая: {features_train_ohe.shape}, Валидационная: {features_valid_ohe.shape}, Тестовая: {features_test_ohe.shape}')"
      ]
    },
    {
      "cell_type": "markdown",
      "metadata": {
        "id": "lGUs6r4QpELo"
      },
      "source": [
        "Посмотрим на соотношение классов в наших выборках(для сохранения отношения классов использовали `stratify`)"
      ]
    },
    {
      "cell_type": "code",
      "execution_count": null,
      "metadata": {
        "colab": {
          "base_uri": "https://localhost:8080/"
        },
        "id": "jwDjiCI2or8q",
        "outputId": "c9ecd254-3202-45e3-a2ca-57c0d569820d",
        "trusted": false
      },
      "outputs": [
        {
          "output_type": "execute_result",
          "data": {
            "text/plain": [
              "0    0.796333\n",
              "1    0.203667\n",
              "Name: exited, dtype: float64"
            ]
          },
          "metadata": {},
          "execution_count": 234
        }
      ],
      "source": [
        "target_train_ohe.value_counts(normalize=True)"
      ]
    },
    {
      "cell_type": "code",
      "execution_count": null,
      "metadata": {
        "colab": {
          "base_uri": "https://localhost:8080/"
        },
        "id": "7eECjr8YpBRi",
        "outputId": "e2a8dce3-f727-46c4-afab-8e6ea79136d1",
        "trusted": false
      },
      "outputs": [
        {
          "output_type": "execute_result",
          "data": {
            "text/plain": [
              "0    0.7965\n",
              "1    0.2035\n",
              "Name: exited, dtype: float64"
            ]
          },
          "metadata": {},
          "execution_count": 235
        }
      ],
      "source": [
        "target_test_ohe.value_counts(normalize=True)"
      ]
    },
    {
      "cell_type": "markdown",
      "metadata": {
        "id": "OM7KE0PM5pTI"
      },
      "source": [
        "### Преобразуем категориальные признаки в численные"
      ]
    },
    {
      "cell_type": "markdown",
      "metadata": {
        "id": "rlCcuRxtD03K"
      },
      "source": [
        "Для логистической регрессии будем использовать метод OHE(Порядковое кодирование не подойдет для этой модели, потому как она может решить, что критерий с значением 3 важнее чем критерий с значением 1). Для избежания дамми-ловушки удалим один из преобразованных столбцов."
      ]
    },
    {
      "cell_type": "code",
      "execution_count": null,
      "metadata": {
        "colab": {
          "base_uri": "https://localhost:8080/"
        },
        "id": "OBYF5SFm2V7_",
        "outputId": "bdb774e6-a1a5-4855-ee60-76dec5bd55c2",
        "trusted": false
      },
      "outputs": [
        {
          "output_type": "execute_result",
          "data": {
            "text/plain": [
              "(array(['France', 'Spain', 'Germany'], dtype=object),\n",
              " array(['Female', 'Male'], dtype=object))"
            ]
          },
          "metadata": {},
          "execution_count": 236
        }
      ],
      "source": [
        "df['geography'].unique(), df['gender'].unique()"
      ]
    },
    {
      "cell_type": "code",
      "execution_count": null,
      "metadata": {
        "colab": {
          "base_uri": "https://localhost:8080/",
          "height": 270
        },
        "id": "5eEXBlgePChA",
        "outputId": "ff8386b7-4e9f-489e-e807-77b73a87490c",
        "trusted": false
      },
      "outputs": [
        {
          "output_type": "execute_result",
          "data": {
            "text/plain": [
              "      credit_score  age  tenure    balance  num_of_products  has_cr_card  \\\n",
              "2837           549   49     6.0  124829.16                1            0   \n",
              "9925           694   38     0.0  195926.39                1            1   \n",
              "8746           660   34     8.0  106486.66                2            0   \n",
              "660            632   41     6.0   81877.38                1            1   \n",
              "3610           580   56     1.0  131368.30                1            1   \n",
              "\n",
              "      is_active_member  estimated_salary  geography_Germany  geography_Spain  \\\n",
              "2837                 1          93551.36                  1                0   \n",
              "9925                 1          85522.84                  0                0   \n",
              "8746                 1         182262.66                  0                0   \n",
              "660                  1          33642.21                  1                0   \n",
              "3610                 0         106918.67                  0                0   \n",
              "\n",
              "      gender_Male  \n",
              "2837            0  \n",
              "9925            0  \n",
              "8746            1  \n",
              "660             0  \n",
              "3610            0  "
            ],
            "text/html": [
              "\n",
              "  <div id=\"df-935ffca9-887e-4230-b533-e344dc306a27\">\n",
              "    <div class=\"colab-df-container\">\n",
              "      <div>\n",
              "<style scoped>\n",
              "    .dataframe tbody tr th:only-of-type {\n",
              "        vertical-align: middle;\n",
              "    }\n",
              "\n",
              "    .dataframe tbody tr th {\n",
              "        vertical-align: top;\n",
              "    }\n",
              "\n",
              "    .dataframe thead th {\n",
              "        text-align: right;\n",
              "    }\n",
              "</style>\n",
              "<table border=\"1\" class=\"dataframe\">\n",
              "  <thead>\n",
              "    <tr style=\"text-align: right;\">\n",
              "      <th></th>\n",
              "      <th>credit_score</th>\n",
              "      <th>age</th>\n",
              "      <th>tenure</th>\n",
              "      <th>balance</th>\n",
              "      <th>num_of_products</th>\n",
              "      <th>has_cr_card</th>\n",
              "      <th>is_active_member</th>\n",
              "      <th>estimated_salary</th>\n",
              "      <th>geography_Germany</th>\n",
              "      <th>geography_Spain</th>\n",
              "      <th>gender_Male</th>\n",
              "    </tr>\n",
              "  </thead>\n",
              "  <tbody>\n",
              "    <tr>\n",
              "      <th>2837</th>\n",
              "      <td>549</td>\n",
              "      <td>49</td>\n",
              "      <td>6.0</td>\n",
              "      <td>124829.16</td>\n",
              "      <td>1</td>\n",
              "      <td>0</td>\n",
              "      <td>1</td>\n",
              "      <td>93551.36</td>\n",
              "      <td>1</td>\n",
              "      <td>0</td>\n",
              "      <td>0</td>\n",
              "    </tr>\n",
              "    <tr>\n",
              "      <th>9925</th>\n",
              "      <td>694</td>\n",
              "      <td>38</td>\n",
              "      <td>0.0</td>\n",
              "      <td>195926.39</td>\n",
              "      <td>1</td>\n",
              "      <td>1</td>\n",
              "      <td>1</td>\n",
              "      <td>85522.84</td>\n",
              "      <td>0</td>\n",
              "      <td>0</td>\n",
              "      <td>0</td>\n",
              "    </tr>\n",
              "    <tr>\n",
              "      <th>8746</th>\n",
              "      <td>660</td>\n",
              "      <td>34</td>\n",
              "      <td>8.0</td>\n",
              "      <td>106486.66</td>\n",
              "      <td>2</td>\n",
              "      <td>0</td>\n",
              "      <td>1</td>\n",
              "      <td>182262.66</td>\n",
              "      <td>0</td>\n",
              "      <td>0</td>\n",
              "      <td>1</td>\n",
              "    </tr>\n",
              "    <tr>\n",
              "      <th>660</th>\n",
              "      <td>632</td>\n",
              "      <td>41</td>\n",
              "      <td>6.0</td>\n",
              "      <td>81877.38</td>\n",
              "      <td>1</td>\n",
              "      <td>1</td>\n",
              "      <td>1</td>\n",
              "      <td>33642.21</td>\n",
              "      <td>1</td>\n",
              "      <td>0</td>\n",
              "      <td>0</td>\n",
              "    </tr>\n",
              "    <tr>\n",
              "      <th>3610</th>\n",
              "      <td>580</td>\n",
              "      <td>56</td>\n",
              "      <td>1.0</td>\n",
              "      <td>131368.30</td>\n",
              "      <td>1</td>\n",
              "      <td>1</td>\n",
              "      <td>0</td>\n",
              "      <td>106918.67</td>\n",
              "      <td>0</td>\n",
              "      <td>0</td>\n",
              "      <td>0</td>\n",
              "    </tr>\n",
              "  </tbody>\n",
              "</table>\n",
              "</div>\n",
              "      <button class=\"colab-df-convert\" onclick=\"convertToInteractive('df-935ffca9-887e-4230-b533-e344dc306a27')\"\n",
              "              title=\"Convert this dataframe to an interactive table.\"\n",
              "              style=\"display:none;\">\n",
              "        \n",
              "  <svg xmlns=\"http://www.w3.org/2000/svg\" height=\"24px\"viewBox=\"0 0 24 24\"\n",
              "       width=\"24px\">\n",
              "    <path d=\"M0 0h24v24H0V0z\" fill=\"none\"/>\n",
              "    <path d=\"M18.56 5.44l.94 2.06.94-2.06 2.06-.94-2.06-.94-.94-2.06-.94 2.06-2.06.94zm-11 1L8.5 8.5l.94-2.06 2.06-.94-2.06-.94L8.5 2.5l-.94 2.06-2.06.94zm10 10l.94 2.06.94-2.06 2.06-.94-2.06-.94-.94-2.06-.94 2.06-2.06.94z\"/><path d=\"M17.41 7.96l-1.37-1.37c-.4-.4-.92-.59-1.43-.59-.52 0-1.04.2-1.43.59L10.3 9.45l-7.72 7.72c-.78.78-.78 2.05 0 2.83L4 21.41c.39.39.9.59 1.41.59.51 0 1.02-.2 1.41-.59l7.78-7.78 2.81-2.81c.8-.78.8-2.07 0-2.86zM5.41 20L4 18.59l7.72-7.72 1.47 1.35L5.41 20z\"/>\n",
              "  </svg>\n",
              "      </button>\n",
              "      \n",
              "  <style>\n",
              "    .colab-df-container {\n",
              "      display:flex;\n",
              "      flex-wrap:wrap;\n",
              "      gap: 12px;\n",
              "    }\n",
              "\n",
              "    .colab-df-convert {\n",
              "      background-color: #E8F0FE;\n",
              "      border: none;\n",
              "      border-radius: 50%;\n",
              "      cursor: pointer;\n",
              "      display: none;\n",
              "      fill: #1967D2;\n",
              "      height: 32px;\n",
              "      padding: 0 0 0 0;\n",
              "      width: 32px;\n",
              "    }\n",
              "\n",
              "    .colab-df-convert:hover {\n",
              "      background-color: #E2EBFA;\n",
              "      box-shadow: 0px 1px 2px rgba(60, 64, 67, 0.3), 0px 1px 3px 1px rgba(60, 64, 67, 0.15);\n",
              "      fill: #174EA6;\n",
              "    }\n",
              "\n",
              "    [theme=dark] .colab-df-convert {\n",
              "      background-color: #3B4455;\n",
              "      fill: #D2E3FC;\n",
              "    }\n",
              "\n",
              "    [theme=dark] .colab-df-convert:hover {\n",
              "      background-color: #434B5C;\n",
              "      box-shadow: 0px 1px 3px 1px rgba(0, 0, 0, 0.15);\n",
              "      filter: drop-shadow(0px 1px 2px rgba(0, 0, 0, 0.3));\n",
              "      fill: #FFFFFF;\n",
              "    }\n",
              "  </style>\n",
              "\n",
              "      <script>\n",
              "        const buttonEl =\n",
              "          document.querySelector('#df-935ffca9-887e-4230-b533-e344dc306a27 button.colab-df-convert');\n",
              "        buttonEl.style.display =\n",
              "          google.colab.kernel.accessAllowed ? 'block' : 'none';\n",
              "\n",
              "        async function convertToInteractive(key) {\n",
              "          const element = document.querySelector('#df-935ffca9-887e-4230-b533-e344dc306a27');\n",
              "          const dataTable =\n",
              "            await google.colab.kernel.invokeFunction('convertToInteractive',\n",
              "                                                     [key], {});\n",
              "          if (!dataTable) return;\n",
              "\n",
              "          const docLinkHtml = 'Like what you see? Visit the ' +\n",
              "            '<a target=\"_blank\" href=https://colab.research.google.com/notebooks/data_table.ipynb>data table notebook</a>'\n",
              "            + ' to learn more about interactive tables.';\n",
              "          element.innerHTML = '';\n",
              "          dataTable['output_type'] = 'display_data';\n",
              "          await google.colab.output.renderOutput(dataTable, element);\n",
              "          const docLink = document.createElement('div');\n",
              "          docLink.innerHTML = docLinkHtml;\n",
              "          element.appendChild(docLink);\n",
              "        }\n",
              "      </script>\n",
              "    </div>\n",
              "  </div>\n",
              "  "
            ]
          },
          "metadata": {},
          "execution_count": 237
        }
      ],
      "source": [
        "features_train_ohe = pd.get_dummies(features_train_ohe, columns=['geography', 'gender'], drop_first=True)\n",
        "features_train_ohe.head()"
      ]
    },
    {
      "cell_type": "code",
      "source": [
        "features_valid_ohe = pd.get_dummies(features_valid_ohe, columns=['geography', 'gender'], drop_first=True)\n",
        "features_valid_ohe.head()"
      ],
      "metadata": {
        "colab": {
          "base_uri": "https://localhost:8080/",
          "height": 270
        },
        "id": "j4vrA1INDjxi",
        "outputId": "1bc6d464-4066-431b-d820-e30a5818292c"
      },
      "execution_count": null,
      "outputs": [
        {
          "output_type": "execute_result",
          "data": {
            "text/plain": [
              "      credit_score  age  tenure    balance  num_of_products  has_cr_card  \\\n",
              "6612           502   64     3.0  139663.37                1            0   \n",
              "519            707   58     6.0   89685.92                1            0   \n",
              "1609           619   35     8.0  132292.63                1            1   \n",
              "3475           769   31     4.0   61297.05                2            1   \n",
              "2707           637   38     3.0  104339.56                1            0   \n",
              "\n",
              "      is_active_member  estimated_salary  geography_Germany  geography_Spain  \\\n",
              "6612                 1         100995.11                  0                0   \n",
              "519                  1         126471.13                  0                0   \n",
              "1609                 0          65682.93                  0                0   \n",
              "3475                 1           7118.02                  0                0   \n",
              "2707                 0         119882.86                  0                0   \n",
              "\n",
              "      gender_Male  \n",
              "6612            0  \n",
              "519             1  \n",
              "1609            0  \n",
              "3475            1  \n",
              "2707            0  "
            ],
            "text/html": [
              "\n",
              "  <div id=\"df-78237df1-b221-4405-b4c2-7e70f8790209\">\n",
              "    <div class=\"colab-df-container\">\n",
              "      <div>\n",
              "<style scoped>\n",
              "    .dataframe tbody tr th:only-of-type {\n",
              "        vertical-align: middle;\n",
              "    }\n",
              "\n",
              "    .dataframe tbody tr th {\n",
              "        vertical-align: top;\n",
              "    }\n",
              "\n",
              "    .dataframe thead th {\n",
              "        text-align: right;\n",
              "    }\n",
              "</style>\n",
              "<table border=\"1\" class=\"dataframe\">\n",
              "  <thead>\n",
              "    <tr style=\"text-align: right;\">\n",
              "      <th></th>\n",
              "      <th>credit_score</th>\n",
              "      <th>age</th>\n",
              "      <th>tenure</th>\n",
              "      <th>balance</th>\n",
              "      <th>num_of_products</th>\n",
              "      <th>has_cr_card</th>\n",
              "      <th>is_active_member</th>\n",
              "      <th>estimated_salary</th>\n",
              "      <th>geography_Germany</th>\n",
              "      <th>geography_Spain</th>\n",
              "      <th>gender_Male</th>\n",
              "    </tr>\n",
              "  </thead>\n",
              "  <tbody>\n",
              "    <tr>\n",
              "      <th>6612</th>\n",
              "      <td>502</td>\n",
              "      <td>64</td>\n",
              "      <td>3.0</td>\n",
              "      <td>139663.37</td>\n",
              "      <td>1</td>\n",
              "      <td>0</td>\n",
              "      <td>1</td>\n",
              "      <td>100995.11</td>\n",
              "      <td>0</td>\n",
              "      <td>0</td>\n",
              "      <td>0</td>\n",
              "    </tr>\n",
              "    <tr>\n",
              "      <th>519</th>\n",
              "      <td>707</td>\n",
              "      <td>58</td>\n",
              "      <td>6.0</td>\n",
              "      <td>89685.92</td>\n",
              "      <td>1</td>\n",
              "      <td>0</td>\n",
              "      <td>1</td>\n",
              "      <td>126471.13</td>\n",
              "      <td>0</td>\n",
              "      <td>0</td>\n",
              "      <td>1</td>\n",
              "    </tr>\n",
              "    <tr>\n",
              "      <th>1609</th>\n",
              "      <td>619</td>\n",
              "      <td>35</td>\n",
              "      <td>8.0</td>\n",
              "      <td>132292.63</td>\n",
              "      <td>1</td>\n",
              "      <td>1</td>\n",
              "      <td>0</td>\n",
              "      <td>65682.93</td>\n",
              "      <td>0</td>\n",
              "      <td>0</td>\n",
              "      <td>0</td>\n",
              "    </tr>\n",
              "    <tr>\n",
              "      <th>3475</th>\n",
              "      <td>769</td>\n",
              "      <td>31</td>\n",
              "      <td>4.0</td>\n",
              "      <td>61297.05</td>\n",
              "      <td>2</td>\n",
              "      <td>1</td>\n",
              "      <td>1</td>\n",
              "      <td>7118.02</td>\n",
              "      <td>0</td>\n",
              "      <td>0</td>\n",
              "      <td>1</td>\n",
              "    </tr>\n",
              "    <tr>\n",
              "      <th>2707</th>\n",
              "      <td>637</td>\n",
              "      <td>38</td>\n",
              "      <td>3.0</td>\n",
              "      <td>104339.56</td>\n",
              "      <td>1</td>\n",
              "      <td>0</td>\n",
              "      <td>0</td>\n",
              "      <td>119882.86</td>\n",
              "      <td>0</td>\n",
              "      <td>0</td>\n",
              "      <td>0</td>\n",
              "    </tr>\n",
              "  </tbody>\n",
              "</table>\n",
              "</div>\n",
              "      <button class=\"colab-df-convert\" onclick=\"convertToInteractive('df-78237df1-b221-4405-b4c2-7e70f8790209')\"\n",
              "              title=\"Convert this dataframe to an interactive table.\"\n",
              "              style=\"display:none;\">\n",
              "        \n",
              "  <svg xmlns=\"http://www.w3.org/2000/svg\" height=\"24px\"viewBox=\"0 0 24 24\"\n",
              "       width=\"24px\">\n",
              "    <path d=\"M0 0h24v24H0V0z\" fill=\"none\"/>\n",
              "    <path d=\"M18.56 5.44l.94 2.06.94-2.06 2.06-.94-2.06-.94-.94-2.06-.94 2.06-2.06.94zm-11 1L8.5 8.5l.94-2.06 2.06-.94-2.06-.94L8.5 2.5l-.94 2.06-2.06.94zm10 10l.94 2.06.94-2.06 2.06-.94-2.06-.94-.94-2.06-.94 2.06-2.06.94z\"/><path d=\"M17.41 7.96l-1.37-1.37c-.4-.4-.92-.59-1.43-.59-.52 0-1.04.2-1.43.59L10.3 9.45l-7.72 7.72c-.78.78-.78 2.05 0 2.83L4 21.41c.39.39.9.59 1.41.59.51 0 1.02-.2 1.41-.59l7.78-7.78 2.81-2.81c.8-.78.8-2.07 0-2.86zM5.41 20L4 18.59l7.72-7.72 1.47 1.35L5.41 20z\"/>\n",
              "  </svg>\n",
              "      </button>\n",
              "      \n",
              "  <style>\n",
              "    .colab-df-container {\n",
              "      display:flex;\n",
              "      flex-wrap:wrap;\n",
              "      gap: 12px;\n",
              "    }\n",
              "\n",
              "    .colab-df-convert {\n",
              "      background-color: #E8F0FE;\n",
              "      border: none;\n",
              "      border-radius: 50%;\n",
              "      cursor: pointer;\n",
              "      display: none;\n",
              "      fill: #1967D2;\n",
              "      height: 32px;\n",
              "      padding: 0 0 0 0;\n",
              "      width: 32px;\n",
              "    }\n",
              "\n",
              "    .colab-df-convert:hover {\n",
              "      background-color: #E2EBFA;\n",
              "      box-shadow: 0px 1px 2px rgba(60, 64, 67, 0.3), 0px 1px 3px 1px rgba(60, 64, 67, 0.15);\n",
              "      fill: #174EA6;\n",
              "    }\n",
              "\n",
              "    [theme=dark] .colab-df-convert {\n",
              "      background-color: #3B4455;\n",
              "      fill: #D2E3FC;\n",
              "    }\n",
              "\n",
              "    [theme=dark] .colab-df-convert:hover {\n",
              "      background-color: #434B5C;\n",
              "      box-shadow: 0px 1px 3px 1px rgba(0, 0, 0, 0.15);\n",
              "      filter: drop-shadow(0px 1px 2px rgba(0, 0, 0, 0.3));\n",
              "      fill: #FFFFFF;\n",
              "    }\n",
              "  </style>\n",
              "\n",
              "      <script>\n",
              "        const buttonEl =\n",
              "          document.querySelector('#df-78237df1-b221-4405-b4c2-7e70f8790209 button.colab-df-convert');\n",
              "        buttonEl.style.display =\n",
              "          google.colab.kernel.accessAllowed ? 'block' : 'none';\n",
              "\n",
              "        async function convertToInteractive(key) {\n",
              "          const element = document.querySelector('#df-78237df1-b221-4405-b4c2-7e70f8790209');\n",
              "          const dataTable =\n",
              "            await google.colab.kernel.invokeFunction('convertToInteractive',\n",
              "                                                     [key], {});\n",
              "          if (!dataTable) return;\n",
              "\n",
              "          const docLinkHtml = 'Like what you see? Visit the ' +\n",
              "            '<a target=\"_blank\" href=https://colab.research.google.com/notebooks/data_table.ipynb>data table notebook</a>'\n",
              "            + ' to learn more about interactive tables.';\n",
              "          element.innerHTML = '';\n",
              "          dataTable['output_type'] = 'display_data';\n",
              "          await google.colab.output.renderOutput(dataTable, element);\n",
              "          const docLink = document.createElement('div');\n",
              "          docLink.innerHTML = docLinkHtml;\n",
              "          element.appendChild(docLink);\n",
              "        }\n",
              "      </script>\n",
              "    </div>\n",
              "  </div>\n",
              "  "
            ]
          },
          "metadata": {},
          "execution_count": 238
        }
      ]
    },
    {
      "cell_type": "code",
      "source": [
        "features_test_ohe = pd.get_dummies(features_test_ohe, columns=['geography', 'gender'], drop_first=True)\n",
        "features_test_ohe.head()"
      ],
      "metadata": {
        "colab": {
          "base_uri": "https://localhost:8080/",
          "height": 270
        },
        "id": "OkpyZXD8DtPe",
        "outputId": "734b44ac-2912-4801-e95a-f42eb66bd6bf"
      },
      "execution_count": null,
      "outputs": [
        {
          "output_type": "execute_result",
          "data": {
            "text/plain": [
              "      credit_score  age  tenure    balance  num_of_products  has_cr_card  \\\n",
              "657            601   54     1.0  131039.97                2            1   \n",
              "2083           534   24     1.0       0.00                1            1   \n",
              "3234           527   47     1.0       0.00                1            1   \n",
              "1551           730   52     7.0       0.00                2            0   \n",
              "2344           714   49     4.0   93059.34                1            1   \n",
              "\n",
              "      is_active_member  estimated_salary  geography_Germany  geography_Spain  \\\n",
              "657                  1         199661.50                  1                0   \n",
              "2083                 1         169653.32                  0                0   \n",
              "3234                 0          21312.16                  0                0   \n",
              "1551                 1         122398.84                  0                1   \n",
              "2344                 0           7571.51                  1                0   \n",
              "\n",
              "      gender_Male  \n",
              "657             0  \n",
              "2083            1  \n",
              "3234            1  \n",
              "1551            0  \n",
              "2344            0  "
            ],
            "text/html": [
              "\n",
              "  <div id=\"df-9cc55d2d-c72d-4957-91ca-b010e07f419f\">\n",
              "    <div class=\"colab-df-container\">\n",
              "      <div>\n",
              "<style scoped>\n",
              "    .dataframe tbody tr th:only-of-type {\n",
              "        vertical-align: middle;\n",
              "    }\n",
              "\n",
              "    .dataframe tbody tr th {\n",
              "        vertical-align: top;\n",
              "    }\n",
              "\n",
              "    .dataframe thead th {\n",
              "        text-align: right;\n",
              "    }\n",
              "</style>\n",
              "<table border=\"1\" class=\"dataframe\">\n",
              "  <thead>\n",
              "    <tr style=\"text-align: right;\">\n",
              "      <th></th>\n",
              "      <th>credit_score</th>\n",
              "      <th>age</th>\n",
              "      <th>tenure</th>\n",
              "      <th>balance</th>\n",
              "      <th>num_of_products</th>\n",
              "      <th>has_cr_card</th>\n",
              "      <th>is_active_member</th>\n",
              "      <th>estimated_salary</th>\n",
              "      <th>geography_Germany</th>\n",
              "      <th>geography_Spain</th>\n",
              "      <th>gender_Male</th>\n",
              "    </tr>\n",
              "  </thead>\n",
              "  <tbody>\n",
              "    <tr>\n",
              "      <th>657</th>\n",
              "      <td>601</td>\n",
              "      <td>54</td>\n",
              "      <td>1.0</td>\n",
              "      <td>131039.97</td>\n",
              "      <td>2</td>\n",
              "      <td>1</td>\n",
              "      <td>1</td>\n",
              "      <td>199661.50</td>\n",
              "      <td>1</td>\n",
              "      <td>0</td>\n",
              "      <td>0</td>\n",
              "    </tr>\n",
              "    <tr>\n",
              "      <th>2083</th>\n",
              "      <td>534</td>\n",
              "      <td>24</td>\n",
              "      <td>1.0</td>\n",
              "      <td>0.00</td>\n",
              "      <td>1</td>\n",
              "      <td>1</td>\n",
              "      <td>1</td>\n",
              "      <td>169653.32</td>\n",
              "      <td>0</td>\n",
              "      <td>0</td>\n",
              "      <td>1</td>\n",
              "    </tr>\n",
              "    <tr>\n",
              "      <th>3234</th>\n",
              "      <td>527</td>\n",
              "      <td>47</td>\n",
              "      <td>1.0</td>\n",
              "      <td>0.00</td>\n",
              "      <td>1</td>\n",
              "      <td>1</td>\n",
              "      <td>0</td>\n",
              "      <td>21312.16</td>\n",
              "      <td>0</td>\n",
              "      <td>0</td>\n",
              "      <td>1</td>\n",
              "    </tr>\n",
              "    <tr>\n",
              "      <th>1551</th>\n",
              "      <td>730</td>\n",
              "      <td>52</td>\n",
              "      <td>7.0</td>\n",
              "      <td>0.00</td>\n",
              "      <td>2</td>\n",
              "      <td>0</td>\n",
              "      <td>1</td>\n",
              "      <td>122398.84</td>\n",
              "      <td>0</td>\n",
              "      <td>1</td>\n",
              "      <td>0</td>\n",
              "    </tr>\n",
              "    <tr>\n",
              "      <th>2344</th>\n",
              "      <td>714</td>\n",
              "      <td>49</td>\n",
              "      <td>4.0</td>\n",
              "      <td>93059.34</td>\n",
              "      <td>1</td>\n",
              "      <td>1</td>\n",
              "      <td>0</td>\n",
              "      <td>7571.51</td>\n",
              "      <td>1</td>\n",
              "      <td>0</td>\n",
              "      <td>0</td>\n",
              "    </tr>\n",
              "  </tbody>\n",
              "</table>\n",
              "</div>\n",
              "      <button class=\"colab-df-convert\" onclick=\"convertToInteractive('df-9cc55d2d-c72d-4957-91ca-b010e07f419f')\"\n",
              "              title=\"Convert this dataframe to an interactive table.\"\n",
              "              style=\"display:none;\">\n",
              "        \n",
              "  <svg xmlns=\"http://www.w3.org/2000/svg\" height=\"24px\"viewBox=\"0 0 24 24\"\n",
              "       width=\"24px\">\n",
              "    <path d=\"M0 0h24v24H0V0z\" fill=\"none\"/>\n",
              "    <path d=\"M18.56 5.44l.94 2.06.94-2.06 2.06-.94-2.06-.94-.94-2.06-.94 2.06-2.06.94zm-11 1L8.5 8.5l.94-2.06 2.06-.94-2.06-.94L8.5 2.5l-.94 2.06-2.06.94zm10 10l.94 2.06.94-2.06 2.06-.94-2.06-.94-.94-2.06-.94 2.06-2.06.94z\"/><path d=\"M17.41 7.96l-1.37-1.37c-.4-.4-.92-.59-1.43-.59-.52 0-1.04.2-1.43.59L10.3 9.45l-7.72 7.72c-.78.78-.78 2.05 0 2.83L4 21.41c.39.39.9.59 1.41.59.51 0 1.02-.2 1.41-.59l7.78-7.78 2.81-2.81c.8-.78.8-2.07 0-2.86zM5.41 20L4 18.59l7.72-7.72 1.47 1.35L5.41 20z\"/>\n",
              "  </svg>\n",
              "      </button>\n",
              "      \n",
              "  <style>\n",
              "    .colab-df-container {\n",
              "      display:flex;\n",
              "      flex-wrap:wrap;\n",
              "      gap: 12px;\n",
              "    }\n",
              "\n",
              "    .colab-df-convert {\n",
              "      background-color: #E8F0FE;\n",
              "      border: none;\n",
              "      border-radius: 50%;\n",
              "      cursor: pointer;\n",
              "      display: none;\n",
              "      fill: #1967D2;\n",
              "      height: 32px;\n",
              "      padding: 0 0 0 0;\n",
              "      width: 32px;\n",
              "    }\n",
              "\n",
              "    .colab-df-convert:hover {\n",
              "      background-color: #E2EBFA;\n",
              "      box-shadow: 0px 1px 2px rgba(60, 64, 67, 0.3), 0px 1px 3px 1px rgba(60, 64, 67, 0.15);\n",
              "      fill: #174EA6;\n",
              "    }\n",
              "\n",
              "    [theme=dark] .colab-df-convert {\n",
              "      background-color: #3B4455;\n",
              "      fill: #D2E3FC;\n",
              "    }\n",
              "\n",
              "    [theme=dark] .colab-df-convert:hover {\n",
              "      background-color: #434B5C;\n",
              "      box-shadow: 0px 1px 3px 1px rgba(0, 0, 0, 0.15);\n",
              "      filter: drop-shadow(0px 1px 2px rgba(0, 0, 0, 0.3));\n",
              "      fill: #FFFFFF;\n",
              "    }\n",
              "  </style>\n",
              "\n",
              "      <script>\n",
              "        const buttonEl =\n",
              "          document.querySelector('#df-9cc55d2d-c72d-4957-91ca-b010e07f419f button.colab-df-convert');\n",
              "        buttonEl.style.display =\n",
              "          google.colab.kernel.accessAllowed ? 'block' : 'none';\n",
              "\n",
              "        async function convertToInteractive(key) {\n",
              "          const element = document.querySelector('#df-9cc55d2d-c72d-4957-91ca-b010e07f419f');\n",
              "          const dataTable =\n",
              "            await google.colab.kernel.invokeFunction('convertToInteractive',\n",
              "                                                     [key], {});\n",
              "          if (!dataTable) return;\n",
              "\n",
              "          const docLinkHtml = 'Like what you see? Visit the ' +\n",
              "            '<a target=\"_blank\" href=https://colab.research.google.com/notebooks/data_table.ipynb>data table notebook</a>'\n",
              "            + ' to learn more about interactive tables.';\n",
              "          element.innerHTML = '';\n",
              "          dataTable['output_type'] = 'display_data';\n",
              "          await google.colab.output.renderOutput(dataTable, element);\n",
              "          const docLink = document.createElement('div');\n",
              "          docLink.innerHTML = docLinkHtml;\n",
              "          element.appendChild(docLink);\n",
              "        }\n",
              "      </script>\n",
              "    </div>\n",
              "  </div>\n",
              "  "
            ]
          },
          "metadata": {},
          "execution_count": 239
        }
      ]
    },
    {
      "cell_type": "markdown",
      "metadata": {
        "id": "Z3_BC8NAgFQZ"
      },
      "source": [
        "### Масштабируем данные"
      ]
    },
    {
      "cell_type": "markdown",
      "metadata": {
        "id": "z2ciV9fSiBuf"
      },
      "source": [
        "Посмотрим в каких числовых диапазонах находятся наши данные."
      ]
    },
    {
      "cell_type": "code",
      "execution_count": null,
      "metadata": {
        "colab": {
          "base_uri": "https://localhost:8080/",
          "height": 364
        },
        "id": "90dwdOE0gLQo",
        "outputId": "8186348a-66ce-4262-8873-497d508364e7",
        "trusted": false
      },
      "outputs": [
        {
          "output_type": "execute_result",
          "data": {
            "text/plain": [
              "       credit_score           age        tenure        balance  \\\n",
              "count  10000.000000  10000.000000  10000.000000   10000.000000   \n",
              "mean     650.528800     38.921800      4.993700   76485.889288   \n",
              "std       96.653299     10.487806      2.922382   62397.405202   \n",
              "min      350.000000     18.000000      0.000000       0.000000   \n",
              "25%      584.000000     32.000000      2.000000       0.000000   \n",
              "50%      652.000000     37.000000      5.000000   97198.540000   \n",
              "75%      718.000000     44.000000      8.000000  127644.240000   \n",
              "max      850.000000     92.000000     10.000000  250898.090000   \n",
              "\n",
              "       num_of_products  has_cr_card  is_active_member  estimated_salary  \\\n",
              "count     10000.000000  10000.00000      10000.000000      10000.000000   \n",
              "mean          1.530200      0.70550          0.515100     100090.239881   \n",
              "std           0.581654      0.45584          0.499797      57510.492818   \n",
              "min           1.000000      0.00000          0.000000         11.580000   \n",
              "25%           1.000000      0.00000          0.000000      51002.110000   \n",
              "50%           1.000000      1.00000          1.000000     100193.915000   \n",
              "75%           2.000000      1.00000          1.000000     149388.247500   \n",
              "max           4.000000      1.00000          1.000000     199992.480000   \n",
              "\n",
              "             exited  \n",
              "count  10000.000000  \n",
              "mean       0.203700  \n",
              "std        0.402769  \n",
              "min        0.000000  \n",
              "25%        0.000000  \n",
              "50%        0.000000  \n",
              "75%        0.000000  \n",
              "max        1.000000  "
            ],
            "text/html": [
              "\n",
              "  <div id=\"df-6093837c-164b-4162-b29f-b81c94580790\">\n",
              "    <div class=\"colab-df-container\">\n",
              "      <div>\n",
              "<style scoped>\n",
              "    .dataframe tbody tr th:only-of-type {\n",
              "        vertical-align: middle;\n",
              "    }\n",
              "\n",
              "    .dataframe tbody tr th {\n",
              "        vertical-align: top;\n",
              "    }\n",
              "\n",
              "    .dataframe thead th {\n",
              "        text-align: right;\n",
              "    }\n",
              "</style>\n",
              "<table border=\"1\" class=\"dataframe\">\n",
              "  <thead>\n",
              "    <tr style=\"text-align: right;\">\n",
              "      <th></th>\n",
              "      <th>credit_score</th>\n",
              "      <th>age</th>\n",
              "      <th>tenure</th>\n",
              "      <th>balance</th>\n",
              "      <th>num_of_products</th>\n",
              "      <th>has_cr_card</th>\n",
              "      <th>is_active_member</th>\n",
              "      <th>estimated_salary</th>\n",
              "      <th>exited</th>\n",
              "    </tr>\n",
              "  </thead>\n",
              "  <tbody>\n",
              "    <tr>\n",
              "      <th>count</th>\n",
              "      <td>10000.000000</td>\n",
              "      <td>10000.000000</td>\n",
              "      <td>10000.000000</td>\n",
              "      <td>10000.000000</td>\n",
              "      <td>10000.000000</td>\n",
              "      <td>10000.00000</td>\n",
              "      <td>10000.000000</td>\n",
              "      <td>10000.000000</td>\n",
              "      <td>10000.000000</td>\n",
              "    </tr>\n",
              "    <tr>\n",
              "      <th>mean</th>\n",
              "      <td>650.528800</td>\n",
              "      <td>38.921800</td>\n",
              "      <td>4.993700</td>\n",
              "      <td>76485.889288</td>\n",
              "      <td>1.530200</td>\n",
              "      <td>0.70550</td>\n",
              "      <td>0.515100</td>\n",
              "      <td>100090.239881</td>\n",
              "      <td>0.203700</td>\n",
              "    </tr>\n",
              "    <tr>\n",
              "      <th>std</th>\n",
              "      <td>96.653299</td>\n",
              "      <td>10.487806</td>\n",
              "      <td>2.922382</td>\n",
              "      <td>62397.405202</td>\n",
              "      <td>0.581654</td>\n",
              "      <td>0.45584</td>\n",
              "      <td>0.499797</td>\n",
              "      <td>57510.492818</td>\n",
              "      <td>0.402769</td>\n",
              "    </tr>\n",
              "    <tr>\n",
              "      <th>min</th>\n",
              "      <td>350.000000</td>\n",
              "      <td>18.000000</td>\n",
              "      <td>0.000000</td>\n",
              "      <td>0.000000</td>\n",
              "      <td>1.000000</td>\n",
              "      <td>0.00000</td>\n",
              "      <td>0.000000</td>\n",
              "      <td>11.580000</td>\n",
              "      <td>0.000000</td>\n",
              "    </tr>\n",
              "    <tr>\n",
              "      <th>25%</th>\n",
              "      <td>584.000000</td>\n",
              "      <td>32.000000</td>\n",
              "      <td>2.000000</td>\n",
              "      <td>0.000000</td>\n",
              "      <td>1.000000</td>\n",
              "      <td>0.00000</td>\n",
              "      <td>0.000000</td>\n",
              "      <td>51002.110000</td>\n",
              "      <td>0.000000</td>\n",
              "    </tr>\n",
              "    <tr>\n",
              "      <th>50%</th>\n",
              "      <td>652.000000</td>\n",
              "      <td>37.000000</td>\n",
              "      <td>5.000000</td>\n",
              "      <td>97198.540000</td>\n",
              "      <td>1.000000</td>\n",
              "      <td>1.00000</td>\n",
              "      <td>1.000000</td>\n",
              "      <td>100193.915000</td>\n",
              "      <td>0.000000</td>\n",
              "    </tr>\n",
              "    <tr>\n",
              "      <th>75%</th>\n",
              "      <td>718.000000</td>\n",
              "      <td>44.000000</td>\n",
              "      <td>8.000000</td>\n",
              "      <td>127644.240000</td>\n",
              "      <td>2.000000</td>\n",
              "      <td>1.00000</td>\n",
              "      <td>1.000000</td>\n",
              "      <td>149388.247500</td>\n",
              "      <td>0.000000</td>\n",
              "    </tr>\n",
              "    <tr>\n",
              "      <th>max</th>\n",
              "      <td>850.000000</td>\n",
              "      <td>92.000000</td>\n",
              "      <td>10.000000</td>\n",
              "      <td>250898.090000</td>\n",
              "      <td>4.000000</td>\n",
              "      <td>1.00000</td>\n",
              "      <td>1.000000</td>\n",
              "      <td>199992.480000</td>\n",
              "      <td>1.000000</td>\n",
              "    </tr>\n",
              "  </tbody>\n",
              "</table>\n",
              "</div>\n",
              "      <button class=\"colab-df-convert\" onclick=\"convertToInteractive('df-6093837c-164b-4162-b29f-b81c94580790')\"\n",
              "              title=\"Convert this dataframe to an interactive table.\"\n",
              "              style=\"display:none;\">\n",
              "        \n",
              "  <svg xmlns=\"http://www.w3.org/2000/svg\" height=\"24px\"viewBox=\"0 0 24 24\"\n",
              "       width=\"24px\">\n",
              "    <path d=\"M0 0h24v24H0V0z\" fill=\"none\"/>\n",
              "    <path d=\"M18.56 5.44l.94 2.06.94-2.06 2.06-.94-2.06-.94-.94-2.06-.94 2.06-2.06.94zm-11 1L8.5 8.5l.94-2.06 2.06-.94-2.06-.94L8.5 2.5l-.94 2.06-2.06.94zm10 10l.94 2.06.94-2.06 2.06-.94-2.06-.94-.94-2.06-.94 2.06-2.06.94z\"/><path d=\"M17.41 7.96l-1.37-1.37c-.4-.4-.92-.59-1.43-.59-.52 0-1.04.2-1.43.59L10.3 9.45l-7.72 7.72c-.78.78-.78 2.05 0 2.83L4 21.41c.39.39.9.59 1.41.59.51 0 1.02-.2 1.41-.59l7.78-7.78 2.81-2.81c.8-.78.8-2.07 0-2.86zM5.41 20L4 18.59l7.72-7.72 1.47 1.35L5.41 20z\"/>\n",
              "  </svg>\n",
              "      </button>\n",
              "      \n",
              "  <style>\n",
              "    .colab-df-container {\n",
              "      display:flex;\n",
              "      flex-wrap:wrap;\n",
              "      gap: 12px;\n",
              "    }\n",
              "\n",
              "    .colab-df-convert {\n",
              "      background-color: #E8F0FE;\n",
              "      border: none;\n",
              "      border-radius: 50%;\n",
              "      cursor: pointer;\n",
              "      display: none;\n",
              "      fill: #1967D2;\n",
              "      height: 32px;\n",
              "      padding: 0 0 0 0;\n",
              "      width: 32px;\n",
              "    }\n",
              "\n",
              "    .colab-df-convert:hover {\n",
              "      background-color: #E2EBFA;\n",
              "      box-shadow: 0px 1px 2px rgba(60, 64, 67, 0.3), 0px 1px 3px 1px rgba(60, 64, 67, 0.15);\n",
              "      fill: #174EA6;\n",
              "    }\n",
              "\n",
              "    [theme=dark] .colab-df-convert {\n",
              "      background-color: #3B4455;\n",
              "      fill: #D2E3FC;\n",
              "    }\n",
              "\n",
              "    [theme=dark] .colab-df-convert:hover {\n",
              "      background-color: #434B5C;\n",
              "      box-shadow: 0px 1px 3px 1px rgba(0, 0, 0, 0.15);\n",
              "      filter: drop-shadow(0px 1px 2px rgba(0, 0, 0, 0.3));\n",
              "      fill: #FFFFFF;\n",
              "    }\n",
              "  </style>\n",
              "\n",
              "      <script>\n",
              "        const buttonEl =\n",
              "          document.querySelector('#df-6093837c-164b-4162-b29f-b81c94580790 button.colab-df-convert');\n",
              "        buttonEl.style.display =\n",
              "          google.colab.kernel.accessAllowed ? 'block' : 'none';\n",
              "\n",
              "        async function convertToInteractive(key) {\n",
              "          const element = document.querySelector('#df-6093837c-164b-4162-b29f-b81c94580790');\n",
              "          const dataTable =\n",
              "            await google.colab.kernel.invokeFunction('convertToInteractive',\n",
              "                                                     [key], {});\n",
              "          if (!dataTable) return;\n",
              "\n",
              "          const docLinkHtml = 'Like what you see? Visit the ' +\n",
              "            '<a target=\"_blank\" href=https://colab.research.google.com/notebooks/data_table.ipynb>data table notebook</a>'\n",
              "            + ' to learn more about interactive tables.';\n",
              "          element.innerHTML = '';\n",
              "          dataTable['output_type'] = 'display_data';\n",
              "          await google.colab.output.renderOutput(dataTable, element);\n",
              "          const docLink = document.createElement('div');\n",
              "          docLink.innerHTML = docLinkHtml;\n",
              "          element.appendChild(docLink);\n",
              "        }\n",
              "      </script>\n",
              "    </div>\n",
              "  </div>\n",
              "  "
            ]
          },
          "metadata": {},
          "execution_count": 240
        }
      ],
      "source": [
        "df.describe()"
      ]
    },
    {
      "cell_type": "markdown",
      "metadata": {
        "id": "35fY-5ZgiSjl"
      },
      "source": [
        "Выберем колонки для масштабирования."
      ]
    },
    {
      "cell_type": "code",
      "execution_count": null,
      "metadata": {
        "id": "EuzL5QpNgLNI",
        "trusted": false
      },
      "outputs": [],
      "source": [
        "numeric = ['credit_score', 'age', 'tenure', 'balance', 'num_of_products', 'estimated_salary'] "
      ]
    },
    {
      "cell_type": "markdown",
      "metadata": {
        "id": "uN0iAESzirZ4"
      },
      "source": [
        "Настроим преобразователь на обучающей выборке. Затем преобразуем наши выборки."
      ]
    },
    {
      "cell_type": "code",
      "execution_count": null,
      "metadata": {
        "id": "gRjx9cE7hEqP",
        "trusted": false
      },
      "outputs": [],
      "source": [
        "scaler = StandardScaler()\n",
        "scaler.fit(features_train_ohe[numeric])\n",
        "features_train_ohe[numeric] = scaler.transform(features_train_ohe[numeric])\n",
        "features_valid_ohe[numeric] = scaler.transform(features_valid_ohe[numeric])\n",
        "features_test_ohe[numeric] = scaler.transform(features_test_ohe[numeric])"
      ]
    },
    {
      "cell_type": "code",
      "execution_count": null,
      "metadata": {
        "colab": {
          "base_uri": "https://localhost:8080/",
          "height": 270
        },
        "id": "kgRp0DnUjfRo",
        "outputId": "2e217266-46ae-416d-bf02-721047923ff8",
        "trusted": false
      },
      "outputs": [
        {
          "output_type": "execute_result",
          "data": {
            "text/plain": [
              "      credit_score       age    tenure   balance  num_of_products  \\\n",
              "2837     -1.040434  0.953312  0.340643  0.774657        -0.914708   \n",
              "9925      0.454006 -0.095244 -1.712798  1.910540        -0.914708   \n",
              "8746      0.103585 -0.476537  1.025123  0.481608         0.820981   \n",
              "660      -0.184996  0.190726  0.340643  0.088439        -0.914708   \n",
              "3610     -0.720933  1.620574 -1.370558  0.879129        -0.914708   \n",
              "\n",
              "      has_cr_card  is_active_member  estimated_salary  geography_Germany  \\\n",
              "2837            0                 1         -0.119110                  1   \n",
              "9925            1                 1         -0.258658                  0   \n",
              "8746            0                 1          1.422836                  0   \n",
              "660             1                 1         -1.160427                  1   \n",
              "3610            1                 0          0.113236                  0   \n",
              "\n",
              "      geography_Spain  gender_Male  \n",
              "2837                0            0  \n",
              "9925                0            0  \n",
              "8746                0            1  \n",
              "660                 0            0  \n",
              "3610                0            0  "
            ],
            "text/html": [
              "\n",
              "  <div id=\"df-2d695ffb-a69a-4afa-8588-d2533a20ba90\">\n",
              "    <div class=\"colab-df-container\">\n",
              "      <div>\n",
              "<style scoped>\n",
              "    .dataframe tbody tr th:only-of-type {\n",
              "        vertical-align: middle;\n",
              "    }\n",
              "\n",
              "    .dataframe tbody tr th {\n",
              "        vertical-align: top;\n",
              "    }\n",
              "\n",
              "    .dataframe thead th {\n",
              "        text-align: right;\n",
              "    }\n",
              "</style>\n",
              "<table border=\"1\" class=\"dataframe\">\n",
              "  <thead>\n",
              "    <tr style=\"text-align: right;\">\n",
              "      <th></th>\n",
              "      <th>credit_score</th>\n",
              "      <th>age</th>\n",
              "      <th>tenure</th>\n",
              "      <th>balance</th>\n",
              "      <th>num_of_products</th>\n",
              "      <th>has_cr_card</th>\n",
              "      <th>is_active_member</th>\n",
              "      <th>estimated_salary</th>\n",
              "      <th>geography_Germany</th>\n",
              "      <th>geography_Spain</th>\n",
              "      <th>gender_Male</th>\n",
              "    </tr>\n",
              "  </thead>\n",
              "  <tbody>\n",
              "    <tr>\n",
              "      <th>2837</th>\n",
              "      <td>-1.040434</td>\n",
              "      <td>0.953312</td>\n",
              "      <td>0.340643</td>\n",
              "      <td>0.774657</td>\n",
              "      <td>-0.914708</td>\n",
              "      <td>0</td>\n",
              "      <td>1</td>\n",
              "      <td>-0.119110</td>\n",
              "      <td>1</td>\n",
              "      <td>0</td>\n",
              "      <td>0</td>\n",
              "    </tr>\n",
              "    <tr>\n",
              "      <th>9925</th>\n",
              "      <td>0.454006</td>\n",
              "      <td>-0.095244</td>\n",
              "      <td>-1.712798</td>\n",
              "      <td>1.910540</td>\n",
              "      <td>-0.914708</td>\n",
              "      <td>1</td>\n",
              "      <td>1</td>\n",
              "      <td>-0.258658</td>\n",
              "      <td>0</td>\n",
              "      <td>0</td>\n",
              "      <td>0</td>\n",
              "    </tr>\n",
              "    <tr>\n",
              "      <th>8746</th>\n",
              "      <td>0.103585</td>\n",
              "      <td>-0.476537</td>\n",
              "      <td>1.025123</td>\n",
              "      <td>0.481608</td>\n",
              "      <td>0.820981</td>\n",
              "      <td>0</td>\n",
              "      <td>1</td>\n",
              "      <td>1.422836</td>\n",
              "      <td>0</td>\n",
              "      <td>0</td>\n",
              "      <td>1</td>\n",
              "    </tr>\n",
              "    <tr>\n",
              "      <th>660</th>\n",
              "      <td>-0.184996</td>\n",
              "      <td>0.190726</td>\n",
              "      <td>0.340643</td>\n",
              "      <td>0.088439</td>\n",
              "      <td>-0.914708</td>\n",
              "      <td>1</td>\n",
              "      <td>1</td>\n",
              "      <td>-1.160427</td>\n",
              "      <td>1</td>\n",
              "      <td>0</td>\n",
              "      <td>0</td>\n",
              "    </tr>\n",
              "    <tr>\n",
              "      <th>3610</th>\n",
              "      <td>-0.720933</td>\n",
              "      <td>1.620574</td>\n",
              "      <td>-1.370558</td>\n",
              "      <td>0.879129</td>\n",
              "      <td>-0.914708</td>\n",
              "      <td>1</td>\n",
              "      <td>0</td>\n",
              "      <td>0.113236</td>\n",
              "      <td>0</td>\n",
              "      <td>0</td>\n",
              "      <td>0</td>\n",
              "    </tr>\n",
              "  </tbody>\n",
              "</table>\n",
              "</div>\n",
              "      <button class=\"colab-df-convert\" onclick=\"convertToInteractive('df-2d695ffb-a69a-4afa-8588-d2533a20ba90')\"\n",
              "              title=\"Convert this dataframe to an interactive table.\"\n",
              "              style=\"display:none;\">\n",
              "        \n",
              "  <svg xmlns=\"http://www.w3.org/2000/svg\" height=\"24px\"viewBox=\"0 0 24 24\"\n",
              "       width=\"24px\">\n",
              "    <path d=\"M0 0h24v24H0V0z\" fill=\"none\"/>\n",
              "    <path d=\"M18.56 5.44l.94 2.06.94-2.06 2.06-.94-2.06-.94-.94-2.06-.94 2.06-2.06.94zm-11 1L8.5 8.5l.94-2.06 2.06-.94-2.06-.94L8.5 2.5l-.94 2.06-2.06.94zm10 10l.94 2.06.94-2.06 2.06-.94-2.06-.94-.94-2.06-.94 2.06-2.06.94z\"/><path d=\"M17.41 7.96l-1.37-1.37c-.4-.4-.92-.59-1.43-.59-.52 0-1.04.2-1.43.59L10.3 9.45l-7.72 7.72c-.78.78-.78 2.05 0 2.83L4 21.41c.39.39.9.59 1.41.59.51 0 1.02-.2 1.41-.59l7.78-7.78 2.81-2.81c.8-.78.8-2.07 0-2.86zM5.41 20L4 18.59l7.72-7.72 1.47 1.35L5.41 20z\"/>\n",
              "  </svg>\n",
              "      </button>\n",
              "      \n",
              "  <style>\n",
              "    .colab-df-container {\n",
              "      display:flex;\n",
              "      flex-wrap:wrap;\n",
              "      gap: 12px;\n",
              "    }\n",
              "\n",
              "    .colab-df-convert {\n",
              "      background-color: #E8F0FE;\n",
              "      border: none;\n",
              "      border-radius: 50%;\n",
              "      cursor: pointer;\n",
              "      display: none;\n",
              "      fill: #1967D2;\n",
              "      height: 32px;\n",
              "      padding: 0 0 0 0;\n",
              "      width: 32px;\n",
              "    }\n",
              "\n",
              "    .colab-df-convert:hover {\n",
              "      background-color: #E2EBFA;\n",
              "      box-shadow: 0px 1px 2px rgba(60, 64, 67, 0.3), 0px 1px 3px 1px rgba(60, 64, 67, 0.15);\n",
              "      fill: #174EA6;\n",
              "    }\n",
              "\n",
              "    [theme=dark] .colab-df-convert {\n",
              "      background-color: #3B4455;\n",
              "      fill: #D2E3FC;\n",
              "    }\n",
              "\n",
              "    [theme=dark] .colab-df-convert:hover {\n",
              "      background-color: #434B5C;\n",
              "      box-shadow: 0px 1px 3px 1px rgba(0, 0, 0, 0.15);\n",
              "      filter: drop-shadow(0px 1px 2px rgba(0, 0, 0, 0.3));\n",
              "      fill: #FFFFFF;\n",
              "    }\n",
              "  </style>\n",
              "\n",
              "      <script>\n",
              "        const buttonEl =\n",
              "          document.querySelector('#df-2d695ffb-a69a-4afa-8588-d2533a20ba90 button.colab-df-convert');\n",
              "        buttonEl.style.display =\n",
              "          google.colab.kernel.accessAllowed ? 'block' : 'none';\n",
              "\n",
              "        async function convertToInteractive(key) {\n",
              "          const element = document.querySelector('#df-2d695ffb-a69a-4afa-8588-d2533a20ba90');\n",
              "          const dataTable =\n",
              "            await google.colab.kernel.invokeFunction('convertToInteractive',\n",
              "                                                     [key], {});\n",
              "          if (!dataTable) return;\n",
              "\n",
              "          const docLinkHtml = 'Like what you see? Visit the ' +\n",
              "            '<a target=\"_blank\" href=https://colab.research.google.com/notebooks/data_table.ipynb>data table notebook</a>'\n",
              "            + ' to learn more about interactive tables.';\n",
              "          element.innerHTML = '';\n",
              "          dataTable['output_type'] = 'display_data';\n",
              "          await google.colab.output.renderOutput(dataTable, element);\n",
              "          const docLink = document.createElement('div');\n",
              "          docLink.innerHTML = docLinkHtml;\n",
              "          element.appendChild(docLink);\n",
              "        }\n",
              "      </script>\n",
              "    </div>\n",
              "  </div>\n",
              "  "
            ]
          },
          "metadata": {},
          "execution_count": 243
        }
      ],
      "source": [
        "features_train_ohe.head()"
      ]
    },
    {
      "cell_type": "markdown",
      "metadata": {
        "id": "W2KeOTloCS1O"
      },
      "source": [
        "### Построим модель"
      ]
    },
    {
      "cell_type": "code",
      "execution_count": null,
      "metadata": {
        "colab": {
          "base_uri": "https://localhost:8080/"
        },
        "id": "lIs-26elPhGN",
        "outputId": "8811d2fb-6228-4313-cfd1-2e038885db2d",
        "trusted": false
      },
      "outputs": [
        {
          "output_type": "execute_result",
          "data": {
            "text/plain": [
              "array([[1537,   55],\n",
              "       [ 321,   87]])"
            ]
          },
          "metadata": {},
          "execution_count": 244
        }
      ],
      "source": [
        "clf = LogisticRegression(random_state=12345, solver='liblinear')\n",
        "clf.fit(features_train_ohe, target_train_ohe) # обучим модель\n",
        "clf_predict = clf.predict(features_valid_ohe) # сохраним предсказания\n",
        "confusion_matrix(target_valid_ohe, clf_predict) # построим матрицу ошибок"
      ]
    },
    {
      "cell_type": "markdown",
      "metadata": {
        "id": "7FahbynoMMcy"
      },
      "source": [
        "Видим, что наша модель определила верно 1538 истинно положительных и 84 истинно отрицательных значений. Ложноно положительных 54, ложно отрицательных 324."
      ]
    },
    {
      "cell_type": "markdown",
      "metadata": {
        "id": "QOWSxg7QOc04"
      },
      "source": [
        "Посчитаем коэффициент детерминации. Он вычисляет долю средней квадратической ошибки модели от mse среднего, затем вычитает эту величину из единицы(то есть это показатель того, на сколько лучше чем среднее предсказывает наша модель)."
      ]
    },
    {
      "cell_type": "code",
      "execution_count": null,
      "metadata": {
        "colab": {
          "base_uri": "https://localhost:8080/"
        },
        "id": "IisjCLq8c-Ir",
        "outputId": "6fee2a41-b26d-4b19-c673-016590a180d3",
        "trusted": false
      },
      "outputs": [
        {
          "output_type": "execute_result",
          "data": {
            "text/plain": [
              "-0.15774953197359332"
            ]
          },
          "metadata": {},
          "execution_count": 245
        }
      ],
      "source": [
        "r2_score(target_valid_ohe, clf_predict)"
      ]
    },
    {
      "cell_type": "markdown",
      "metadata": {
        "id": "cmOhJTGQOw-b"
      },
      "source": [
        "Значение r2 отрицательное, качество модели низкое."
      ]
    },
    {
      "cell_type": "markdown",
      "metadata": {
        "id": "UweaYM6Tzdyp"
      },
      "source": [
        "Построим кривую Precision-Recall."
      ]
    },
    {
      "cell_type": "code",
      "execution_count": null,
      "metadata": {
        "colab": {
          "base_uri": "https://localhost:8080/",
          "height": 295
        },
        "id": "K71akWyVsdxv",
        "outputId": "e2dcd27d-1225-476f-fd19-49cbe3ddd434",
        "trusted": false
      },
      "outputs": [
        {
          "output_type": "display_data",
          "data": {
            "text/plain": [
              "<Figure size 432x288 with 1 Axes>"
            ],
            "image/png": "[encoded data removed]"
          },
          "metadata": {
            "needs_background": "light"
          }
        }
      ],
      "source": [
        "# посчитаем precision и recall\n",
        "precision, recall, thresholds = precision_recall_curve(target_valid_ohe, clf.predict(features_valid_ohe))\n",
        "\n",
        "#создадим кривую precision recall\n",
        "plt.step(recall, precision, where='post', color='blue')\n",
        "\n",
        "#добавим подписи\n",
        "plt.title('Precision-Recall Curve')\n",
        "plt.ylabel('Precision')\n",
        "plt.xlabel('Recall')\n",
        "\n",
        "plt.show() "
      ]
    },
    {
      "cell_type": "markdown",
      "metadata": {
        "id": "CkLWA9xxznFn"
      },
      "source": [
        "Напишем функцию для нахождения F1 и построим ROC кривую."
      ]
    },
    {
      "cell_type": "code",
      "execution_count": null,
      "metadata": {
        "id": "nroe3KPDBtZu",
        "trusted": false
      },
      "outputs": [],
      "source": [
        "def metrics(target, features, model):\n",
        "  fpr, tpr, treshold = roc_curve(target, model.predict_proba(features)[:,1])\n",
        "  roc_auc = auc(fpr, tpr)\n",
        "  # строим график\n",
        "  plt.plot(fpr, tpr, color='darkorange',\n",
        "         label='ROC кривая (area = %0.2f)' % roc_auc)\n",
        "  plt.plot([0, 1], [0, 1], color='navy', linestyle='--')\n",
        "  plt.xlim([0.0, 1.0])\n",
        "  plt.ylim([0.0, 1.05])\n",
        "  plt.xlabel('False Positive Rate')\n",
        "  plt.ylabel('True Positive Rate')\n",
        "  plt.title('ROC-кривая')\n",
        "  plt.legend(loc=\"lower right\")\n",
        "  plt.show()\n",
        "  print('Показатели на тестовой выборке')\n",
        "  print(f'F1 = {f1_score(target, model.predict(features))}')\n",
        "  print(f'roc_auc = {roc_auc_score(target, model.predict_proba(features)[:,1])}')"
      ]
    },
    {
      "cell_type": "code",
      "execution_count": null,
      "metadata": {
        "colab": {
          "base_uri": "https://localhost:8080/",
          "height": 347
        },
        "id": "rXjzz9FmCUK2",
        "outputId": "962c6e58-bad3-4d6d-c850-e4df3d562fe7",
        "trusted": false
      },
      "outputs": [
        {
          "output_type": "display_data",
          "data": {
            "text/plain": [
              "<Figure size 432x288 with 1 Axes>"
            ],
            "image/png": "[encoded data removed]"
          },
          "metadata": {
            "needs_background": "light"
          }
        },
        {
          "output_type": "stream",
          "name": "stdout",
          "text": [
            "Показатели на тестовой выборке\n",
            "F1 = 0.31636363636363635\n",
            "roc_auc = 0.7872127180017735\n"
          ]
        }
      ],
      "source": [
        "metrics(target_valid_ohe, features_valid_ohe, clf)"
      ]
    },
    {
      "cell_type": "markdown",
      "metadata": {
        "id": "siREaZUiPwRo"
      },
      "source": [
        "**Итак,** получили низкое качество модели. Значение F1 = 0.31, значение roc_auc = 0.78. Считаем, что если значение roc- кривой больше 0.5, то модель хорошая, но вот значение метрики F1 низкое."
      ]
    },
    {
      "cell_type": "markdown",
      "metadata": {
        "id": "E57Nj3SLHGUy"
      },
      "source": [
        "## Дерево решений"
      ]
    },
    {
      "cell_type": "markdown",
      "metadata": {
        "id": "O7b5KSUZ5NQ1"
      },
      "source": [
        "### Разделим данные"
      ]
    },
    {
      "cell_type": "code",
      "execution_count": null,
      "metadata": {
        "id": "G69hs6mI5H7J",
        "trusted": false
      },
      "outputs": [],
      "source": [
        "features = df.drop(['exited'], axis=1)\n",
        "target = df['exited']"
      ]
    },
    {
      "cell_type": "code",
      "execution_count": null,
      "metadata": {
        "id": "vIQm6XbG5c57",
        "trusted": false
      },
      "outputs": [],
      "source": [
        "features_train_ord, features_test_ord, target_train_ord, target_test_ord \\\n",
        "= train_test_split(features, target, test_size=0.4, random_state=12345, stratify=target)\n",
        "features_valid_ord, features_test_ord, target_valid_ord, target_test_ord \\\n",
        "= train_test_split(features_test_ord, target_test_ord, test_size=0.5, random_state=12345, stratify=target_test_ord)"
      ]
    },
    {
      "cell_type": "code",
      "execution_count": null,
      "metadata": {
        "colab": {
          "base_uri": "https://localhost:8080/"
        },
        "id": "C_ZNyouF5pbT",
        "outputId": "415f379f-05b7-4758-95a0-77b29fb5c112",
        "trusted": false
      },
      "outputs": [
        {
          "output_type": "stream",
          "name": "stdout",
          "text": [
            "Обучающая: (6000, 10), Валидационная: (2000, 10), Тестовая: (2000, 10)\n"
          ]
        }
      ],
      "source": [
        "print(f'Обучающая: {features_train_ord.shape}, Валидационная: {features_valid_ord.shape}, Тестовая: {features_test_ord.shape}')\n"
      ]
    },
    {
      "cell_type": "markdown",
      "metadata": {
        "id": "x_pvAeTbmgmG"
      },
      "source": [
        "### Преобразуем категориальные признаки в численные"
      ]
    },
    {
      "cell_type": "markdown",
      "metadata": {
        "id": "wZ02qsBsWmsZ"
      },
      "source": [
        "Для моделей с деревьями использовать метод OHE нежелательно. Дерево, с таким методом растет в одну сторону, так же оно вряд ли возьмет фиктивную переменную для прикорневого разделения(то есть уменьшит важность признака, хотя это может быть не так). Поэтому для случайного леса и дерева решений возьмем метод порядкового кодирования Ordinal Encoding."
      ]
    },
    {
      "cell_type": "code",
      "execution_count": null,
      "metadata": {
        "id": "y4GHn6DlE5YZ",
        "trusted": false
      },
      "outputs": [],
      "source": [
        "encoder = OrdinalEncoder(handle_unknown='use_encoded_value', unknown_value=-1)"
      ]
    },
    {
      "cell_type": "code",
      "execution_count": null,
      "metadata": {
        "colab": {
          "base_uri": "https://localhost:8080/",
          "height": 270
        },
        "id": "mQ2QfuYO5VbV",
        "outputId": "0c311751-6dae-495d-c4c8-b6192d2ac7c7",
        "trusted": false
      },
      "outputs": [
        {
          "output_type": "execute_result",
          "data": {
            "text/plain": [
              "      credit_score geography  gender  age  tenure    balance  num_of_products  \\\n",
              "2837           549   Germany  Female   49     6.0  124829.16                1   \n",
              "9925           694    France  Female   38     0.0  195926.39                1   \n",
              "8746           660    France    Male   34     8.0  106486.66                2   \n",
              "660            632   Germany  Female   41     6.0   81877.38                1   \n",
              "3610           580    France  Female   56     1.0  131368.30                1   \n",
              "\n",
              "      has_cr_card  is_active_member  estimated_salary  \n",
              "2837            0                 1          93551.36  \n",
              "9925            1                 1          85522.84  \n",
              "8746            0                 1         182262.66  \n",
              "660             1                 1          33642.21  \n",
              "3610            1                 0         106918.67  "
            ],
            "text/html": [
              "\n",
              "  <div id=\"df-2c66be16-e213-470f-b6ee-f56da83a6ff7\">\n",
              "    <div class=\"colab-df-container\">\n",
              "      <div>\n",
              "<style scoped>\n",
              "    .dataframe tbody tr th:only-of-type {\n",
              "        vertical-align: middle;\n",
              "    }\n",
              "\n",
              "    .dataframe tbody tr th {\n",
              "        vertical-align: top;\n",
              "    }\n",
              "\n",
              "    .dataframe thead th {\n",
              "        text-align: right;\n",
              "    }\n",
              "</style>\n",
              "<table border=\"1\" class=\"dataframe\">\n",
              "  <thead>\n",
              "    <tr style=\"text-align: right;\">\n",
              "      <th></th>\n",
              "      <th>credit_score</th>\n",
              "      <th>geography</th>\n",
              "      <th>gender</th>\n",
              "      <th>age</th>\n",
              "      <th>tenure</th>\n",
              "      <th>balance</th>\n",
              "      <th>num_of_products</th>\n",
              "      <th>has_cr_card</th>\n",
              "      <th>is_active_member</th>\n",
              "      <th>estimated_salary</th>\n",
              "    </tr>\n",
              "  </thead>\n",
              "  <tbody>\n",
              "    <tr>\n",
              "      <th>2837</th>\n",
              "      <td>549</td>\n",
              "      <td>Germany</td>\n",
              "      <td>Female</td>\n",
              "      <td>49</td>\n",
              "      <td>6.0</td>\n",
              "      <td>124829.16</td>\n",
              "      <td>1</td>\n",
              "      <td>0</td>\n",
              "      <td>1</td>\n",
              "      <td>93551.36</td>\n",
              "    </tr>\n",
              "    <tr>\n",
              "      <th>9925</th>\n",
              "      <td>694</td>\n",
              "      <td>France</td>\n",
              "      <td>Female</td>\n",
              "      <td>38</td>\n",
              "      <td>0.0</td>\n",
              "      <td>195926.39</td>\n",
              "      <td>1</td>\n",
              "      <td>1</td>\n",
              "      <td>1</td>\n",
              "      <td>85522.84</td>\n",
              "    </tr>\n",
              "    <tr>\n",
              "      <th>8746</th>\n",
              "      <td>660</td>\n",
              "      <td>France</td>\n",
              "      <td>Male</td>\n",
              "      <td>34</td>\n",
              "      <td>8.0</td>\n",
              "      <td>106486.66</td>\n",
              "      <td>2</td>\n",
              "      <td>0</td>\n",
              "      <td>1</td>\n",
              "      <td>182262.66</td>\n",
              "    </tr>\n",
              "    <tr>\n",
              "      <th>660</th>\n",
              "      <td>632</td>\n",
              "      <td>Germany</td>\n",
              "      <td>Female</td>\n",
              "      <td>41</td>\n",
              "      <td>6.0</td>\n",
              "      <td>81877.38</td>\n",
              "      <td>1</td>\n",
              "      <td>1</td>\n",
              "      <td>1</td>\n",
              "      <td>33642.21</td>\n",
              "    </tr>\n",
              "    <tr>\n",
              "      <th>3610</th>\n",
              "      <td>580</td>\n",
              "      <td>France</td>\n",
              "      <td>Female</td>\n",
              "      <td>56</td>\n",
              "      <td>1.0</td>\n",
              "      <td>131368.30</td>\n",
              "      <td>1</td>\n",
              "      <td>1</td>\n",
              "      <td>0</td>\n",
              "      <td>106918.67</td>\n",
              "    </tr>\n",
              "  </tbody>\n",
              "</table>\n",
              "</div>\n",
              "      <button class=\"colab-df-convert\" onclick=\"convertToInteractive('df-2c66be16-e213-470f-b6ee-f56da83a6ff7')\"\n",
              "              title=\"Convert this dataframe to an interactive table.\"\n",
              "              style=\"display:none;\">\n",
              "        \n",
              "  <svg xmlns=\"http://www.w3.org/2000/svg\" height=\"24px\"viewBox=\"0 0 24 24\"\n",
              "       width=\"24px\">\n",
              "    <path d=\"M0 0h24v24H0V0z\" fill=\"none\"/>\n",
              "    <path d=\"M18.56 5.44l.94 2.06.94-2.06 2.06-.94-2.06-.94-.94-2.06-.94 2.06-2.06.94zm-11 1L8.5 8.5l.94-2.06 2.06-.94-2.06-.94L8.5 2.5l-.94 2.06-2.06.94zm10 10l.94 2.06.94-2.06 2.06-.94-2.06-.94-.94-2.06-.94 2.06-2.06.94z\"/><path d=\"M17.41 7.96l-1.37-1.37c-.4-.4-.92-.59-1.43-.59-.52 0-1.04.2-1.43.59L10.3 9.45l-7.72 7.72c-.78.78-.78 2.05 0 2.83L4 21.41c.39.39.9.59 1.41.59.51 0 1.02-.2 1.41-.59l7.78-7.78 2.81-2.81c.8-.78.8-2.07 0-2.86zM5.41 20L4 18.59l7.72-7.72 1.47 1.35L5.41 20z\"/>\n",
              "  </svg>\n",
              "      </button>\n",
              "      \n",
              "  <style>\n",
              "    .colab-df-container {\n",
              "      display:flex;\n",
              "      flex-wrap:wrap;\n",
              "      gap: 12px;\n",
              "    }\n",
              "\n",
              "    .colab-df-convert {\n",
              "      background-color: #E8F0FE;\n",
              "      border: none;\n",
              "      border-radius: 50%;\n",
              "      cursor: pointer;\n",
              "      display: none;\n",
              "      fill: #1967D2;\n",
              "      height: 32px;\n",
              "      padding: 0 0 0 0;\n",
              "      width: 32px;\n",
              "    }\n",
              "\n",
              "    .colab-df-convert:hover {\n",
              "      background-color: #E2EBFA;\n",
              "      box-shadow: 0px 1px 2px rgba(60, 64, 67, 0.3), 0px 1px 3px 1px rgba(60, 64, 67, 0.15);\n",
              "      fill: #174EA6;\n",
              "    }\n",
              "\n",
              "    [theme=dark] .colab-df-convert {\n",
              "      background-color: #3B4455;\n",
              "      fill: #D2E3FC;\n",
              "    }\n",
              "\n",
              "    [theme=dark] .colab-df-convert:hover {\n",
              "      background-color: #434B5C;\n",
              "      box-shadow: 0px 1px 3px 1px rgba(0, 0, 0, 0.15);\n",
              "      filter: drop-shadow(0px 1px 2px rgba(0, 0, 0, 0.3));\n",
              "      fill: #FFFFFF;\n",
              "    }\n",
              "  </style>\n",
              "\n",
              "      <script>\n",
              "        const buttonEl =\n",
              "          document.querySelector('#df-2c66be16-e213-470f-b6ee-f56da83a6ff7 button.colab-df-convert');\n",
              "        buttonEl.style.display =\n",
              "          google.colab.kernel.accessAllowed ? 'block' : 'none';\n",
              "\n",
              "        async function convertToInteractive(key) {\n",
              "          const element = document.querySelector('#df-2c66be16-e213-470f-b6ee-f56da83a6ff7');\n",
              "          const dataTable =\n",
              "            await google.colab.kernel.invokeFunction('convertToInteractive',\n",
              "                                                     [key], {});\n",
              "          if (!dataTable) return;\n",
              "\n",
              "          const docLinkHtml = 'Like what you see? Visit the ' +\n",
              "            '<a target=\"_blank\" href=https://colab.research.google.com/notebooks/data_table.ipynb>data table notebook</a>'\n",
              "            + ' to learn more about interactive tables.';\n",
              "          element.innerHTML = '';\n",
              "          dataTable['output_type'] = 'display_data';\n",
              "          await google.colab.output.renderOutput(dataTable, element);\n",
              "          const docLink = document.createElement('div');\n",
              "          docLink.innerHTML = docLinkHtml;\n",
              "          element.appendChild(docLink);\n",
              "        }\n",
              "      </script>\n",
              "    </div>\n",
              "  </div>\n",
              "  "
            ]
          },
          "metadata": {},
          "execution_count": 253
        }
      ],
      "source": [
        "features_train_ord.head()"
      ]
    },
    {
      "cell_type": "code",
      "execution_count": null,
      "metadata": {
        "colab": {
          "base_uri": "https://localhost:8080/",
          "height": 270
        },
        "id": "wcMPqEuHGHZT",
        "outputId": "a045297e-6949-451f-b41f-3460e7b455a4",
        "trusted": false
      },
      "outputs": [
        {
          "output_type": "execute_result",
          "data": {
            "text/plain": [
              "      credit_score  geography  gender  age  tenure    balance  \\\n",
              "2837           549        1.0     0.0   49     6.0  124829.16   \n",
              "9925           694        0.0     0.0   38     0.0  195926.39   \n",
              "8746           660        0.0     1.0   34     8.0  106486.66   \n",
              "660            632        1.0     0.0   41     6.0   81877.38   \n",
              "3610           580        0.0     0.0   56     1.0  131368.30   \n",
              "\n",
              "      num_of_products  has_cr_card  is_active_member  estimated_salary  \n",
              "2837                1            0                 1          93551.36  \n",
              "9925                1            1                 1          85522.84  \n",
              "8746                2            0                 1         182262.66  \n",
              "660                 1            1                 1          33642.21  \n",
              "3610                1            1                 0         106918.67  "
            ],
            "text/html": [
              "\n",
              "  <div id=\"df-7f1d847c-39b3-4cbf-9bdc-eb37be848d9a\">\n",
              "    <div class=\"colab-df-container\">\n",
              "      <div>\n",
              "<style scoped>\n",
              "    .dataframe tbody tr th:only-of-type {\n",
              "        vertical-align: middle;\n",
              "    }\n",
              "\n",
              "    .dataframe tbody tr th {\n",
              "        vertical-align: top;\n",
              "    }\n",
              "\n",
              "    .dataframe thead th {\n",
              "        text-align: right;\n",
              "    }\n",
              "</style>\n",
              "<table border=\"1\" class=\"dataframe\">\n",
              "  <thead>\n",
              "    <tr style=\"text-align: right;\">\n",
              "      <th></th>\n",
              "      <th>credit_score</th>\n",
              "      <th>geography</th>\n",
              "      <th>gender</th>\n",
              "      <th>age</th>\n",
              "      <th>tenure</th>\n",
              "      <th>balance</th>\n",
              "      <th>num_of_products</th>\n",
              "      <th>has_cr_card</th>\n",
              "      <th>is_active_member</th>\n",
              "      <th>estimated_salary</th>\n",
              "    </tr>\n",
              "  </thead>\n",
              "  <tbody>\n",
              "    <tr>\n",
              "      <th>2837</th>\n",
              "      <td>549</td>\n",
              "      <td>1.0</td>\n",
              "      <td>0.0</td>\n",
              "      <td>49</td>\n",
              "      <td>6.0</td>\n",
              "      <td>124829.16</td>\n",
              "      <td>1</td>\n",
              "      <td>0</td>\n",
              "      <td>1</td>\n",
              "      <td>93551.36</td>\n",
              "    </tr>\n",
              "    <tr>\n",
              "      <th>9925</th>\n",
              "      <td>694</td>\n",
              "      <td>0.0</td>\n",
              "      <td>0.0</td>\n",
              "      <td>38</td>\n",
              "      <td>0.0</td>\n",
              "      <td>195926.39</td>\n",
              "      <td>1</td>\n",
              "      <td>1</td>\n",
              "      <td>1</td>\n",
              "      <td>85522.84</td>\n",
              "    </tr>\n",
              "    <tr>\n",
              "      <th>8746</th>\n",
              "      <td>660</td>\n",
              "      <td>0.0</td>\n",
              "      <td>1.0</td>\n",
              "      <td>34</td>\n",
              "      <td>8.0</td>\n",
              "      <td>106486.66</td>\n",
              "      <td>2</td>\n",
              "      <td>0</td>\n",
              "      <td>1</td>\n",
              "      <td>182262.66</td>\n",
              "    </tr>\n",
              "    <tr>\n",
              "      <th>660</th>\n",
              "      <td>632</td>\n",
              "      <td>1.0</td>\n",
              "      <td>0.0</td>\n",
              "      <td>41</td>\n",
              "      <td>6.0</td>\n",
              "      <td>81877.38</td>\n",
              "      <td>1</td>\n",
              "      <td>1</td>\n",
              "      <td>1</td>\n",
              "      <td>33642.21</td>\n",
              "    </tr>\n",
              "    <tr>\n",
              "      <th>3610</th>\n",
              "      <td>580</td>\n",
              "      <td>0.0</td>\n",
              "      <td>0.0</td>\n",
              "      <td>56</td>\n",
              "      <td>1.0</td>\n",
              "      <td>131368.30</td>\n",
              "      <td>1</td>\n",
              "      <td>1</td>\n",
              "      <td>0</td>\n",
              "      <td>106918.67</td>\n",
              "    </tr>\n",
              "  </tbody>\n",
              "</table>\n",
              "</div>\n",
              "      <button class=\"colab-df-convert\" onclick=\"convertToInteractive('df-7f1d847c-39b3-4cbf-9bdc-eb37be848d9a')\"\n",
              "              title=\"Convert this dataframe to an interactive table.\"\n",
              "              style=\"display:none;\">\n",
              "        \n",
              "  <svg xmlns=\"http://www.w3.org/2000/svg\" height=\"24px\"viewBox=\"0 0 24 24\"\n",
              "       width=\"24px\">\n",
              "    <path d=\"M0 0h24v24H0V0z\" fill=\"none\"/>\n",
              "    <path d=\"M18.56 5.44l.94 2.06.94-2.06 2.06-.94-2.06-.94-.94-2.06-.94 2.06-2.06.94zm-11 1L8.5 8.5l.94-2.06 2.06-.94-2.06-.94L8.5 2.5l-.94 2.06-2.06.94zm10 10l.94 2.06.94-2.06 2.06-.94-2.06-.94-.94-2.06-.94 2.06-2.06.94z\"/><path d=\"M17.41 7.96l-1.37-1.37c-.4-.4-.92-.59-1.43-.59-.52 0-1.04.2-1.43.59L10.3 9.45l-7.72 7.72c-.78.78-.78 2.05 0 2.83L4 21.41c.39.39.9.59 1.41.59.51 0 1.02-.2 1.41-.59l7.78-7.78 2.81-2.81c.8-.78.8-2.07 0-2.86zM5.41 20L4 18.59l7.72-7.72 1.47 1.35L5.41 20z\"/>\n",
              "  </svg>\n",
              "      </button>\n",
              "      \n",
              "  <style>\n",
              "    .colab-df-container {\n",
              "      display:flex;\n",
              "      flex-wrap:wrap;\n",
              "      gap: 12px;\n",
              "    }\n",
              "\n",
              "    .colab-df-convert {\n",
              "      background-color: #E8F0FE;\n",
              "      border: none;\n",
              "      border-radius: 50%;\n",
              "      cursor: pointer;\n",
              "      display: none;\n",
              "      fill: #1967D2;\n",
              "      height: 32px;\n",
              "      padding: 0 0 0 0;\n",
              "      width: 32px;\n",
              "    }\n",
              "\n",
              "    .colab-df-convert:hover {\n",
              "      background-color: #E2EBFA;\n",
              "      box-shadow: 0px 1px 2px rgba(60, 64, 67, 0.3), 0px 1px 3px 1px rgba(60, 64, 67, 0.15);\n",
              "      fill: #174EA6;\n",
              "    }\n",
              "\n",
              "    [theme=dark] .colab-df-convert {\n",
              "      background-color: #3B4455;\n",
              "      fill: #D2E3FC;\n",
              "    }\n",
              "\n",
              "    [theme=dark] .colab-df-convert:hover {\n",
              "      background-color: #434B5C;\n",
              "      box-shadow: 0px 1px 3px 1px rgba(0, 0, 0, 0.15);\n",
              "      filter: drop-shadow(0px 1px 2px rgba(0, 0, 0, 0.3));\n",
              "      fill: #FFFFFF;\n",
              "    }\n",
              "  </style>\n",
              "\n",
              "      <script>\n",
              "        const buttonEl =\n",
              "          document.querySelector('#df-7f1d847c-39b3-4cbf-9bdc-eb37be848d9a button.colab-df-convert');\n",
              "        buttonEl.style.display =\n",
              "          google.colab.kernel.accessAllowed ? 'block' : 'none';\n",
              "\n",
              "        async function convertToInteractive(key) {\n",
              "          const element = document.querySelector('#df-7f1d847c-39b3-4cbf-9bdc-eb37be848d9a');\n",
              "          const dataTable =\n",
              "            await google.colab.kernel.invokeFunction('convertToInteractive',\n",
              "                                                     [key], {});\n",
              "          if (!dataTable) return;\n",
              "\n",
              "          const docLinkHtml = 'Like what you see? Visit the ' +\n",
              "            '<a target=\"_blank\" href=https://colab.research.google.com/notebooks/data_table.ipynb>data table notebook</a>'\n",
              "            + ' to learn more about interactive tables.';\n",
              "          element.innerHTML = '';\n",
              "          dataTable['output_type'] = 'display_data';\n",
              "          await google.colab.output.renderOutput(dataTable, element);\n",
              "          const docLink = document.createElement('div');\n",
              "          docLink.innerHTML = docLinkHtml;\n",
              "          element.appendChild(docLink);\n",
              "        }\n",
              "      </script>\n",
              "    </div>\n",
              "  </div>\n",
              "  "
            ]
          },
          "metadata": {},
          "execution_count": 254
        }
      ],
      "source": [
        "encoder.fit(features_train_ord[['geography', 'gender']])\n",
        "features_train_ord[['geography', 'gender']] = encoder.transform(features_train_ord[['geography', 'gender']])\n",
        "\n",
        "features_train_ord.head()"
      ]
    },
    {
      "cell_type": "code",
      "execution_count": null,
      "metadata": {
        "colab": {
          "base_uri": "https://localhost:8080/",
          "height": 270
        },
        "id": "mkPXQJNzGKkq",
        "outputId": "83927af0-09b6-4c1a-84c5-7c38ff1c2d00",
        "trusted": false
      },
      "outputs": [
        {
          "output_type": "execute_result",
          "data": {
            "text/plain": [
              "      credit_score geography  gender  age  tenure    balance  num_of_products  \\\n",
              "3063           609    France    Male   32     7.0   71872.19                1   \n",
              "5951           721    France    Male   41     7.0       0.00                2   \n",
              "9702           644     Spain  Female   31     5.0   86006.30                1   \n",
              "7518           500   Germany    Male   30     2.0  125495.64                2   \n",
              "828            630   Germany  Female   31     3.0  112373.49                2   \n",
              "\n",
              "      has_cr_card  is_active_member  estimated_salary  \n",
              "3063            1                 1         151924.90  \n",
              "5951            0                 1          61018.85  \n",
              "9702            1                 1          73922.95  \n",
              "7518            1                 1          68807.47  \n",
              "828             1                 1         131167.98  "
            ],
            "text/html": [
              "\n",
              "  <div id=\"df-a544e432-fe83-4233-af58-319f133db2de\">\n",
              "    <div class=\"colab-df-container\">\n",
              "      <div>\n",
              "<style scoped>\n",
              "    .dataframe tbody tr th:only-of-type {\n",
              "        vertical-align: middle;\n",
              "    }\n",
              "\n",
              "    .dataframe tbody tr th {\n",
              "        vertical-align: top;\n",
              "    }\n",
              "\n",
              "    .dataframe thead th {\n",
              "        text-align: right;\n",
              "    }\n",
              "</style>\n",
              "<table border=\"1\" class=\"dataframe\">\n",
              "  <thead>\n",
              "    <tr style=\"text-align: right;\">\n",
              "      <th></th>\n",
              "      <th>credit_score</th>\n",
              "      <th>geography</th>\n",
              "      <th>gender</th>\n",
              "      <th>age</th>\n",
              "      <th>tenure</th>\n",
              "      <th>balance</th>\n",
              "      <th>num_of_products</th>\n",
              "      <th>has_cr_card</th>\n",
              "      <th>is_active_member</th>\n",
              "      <th>estimated_salary</th>\n",
              "    </tr>\n",
              "  </thead>\n",
              "  <tbody>\n",
              "    <tr>\n",
              "      <th>3063</th>\n",
              "      <td>609</td>\n",
              "      <td>France</td>\n",
              "      <td>Male</td>\n",
              "      <td>32</td>\n",
              "      <td>7.0</td>\n",
              "      <td>71872.19</td>\n",
              "      <td>1</td>\n",
              "      <td>1</td>\n",
              "      <td>1</td>\n",
              "      <td>151924.90</td>\n",
              "    </tr>\n",
              "    <tr>\n",
              "      <th>5951</th>\n",
              "      <td>721</td>\n",
              "      <td>France</td>\n",
              "      <td>Male</td>\n",
              "      <td>41</td>\n",
              "      <td>7.0</td>\n",
              "      <td>0.00</td>\n",
              "      <td>2</td>\n",
              "      <td>0</td>\n",
              "      <td>1</td>\n",
              "      <td>61018.85</td>\n",
              "    </tr>\n",
              "    <tr>\n",
              "      <th>9702</th>\n",
              "      <td>644</td>\n",
              "      <td>Spain</td>\n",
              "      <td>Female</td>\n",
              "      <td>31</td>\n",
              "      <td>5.0</td>\n",
              "      <td>86006.30</td>\n",
              "      <td>1</td>\n",
              "      <td>1</td>\n",
              "      <td>1</td>\n",
              "      <td>73922.95</td>\n",
              "    </tr>\n",
              "    <tr>\n",
              "      <th>7518</th>\n",
              "      <td>500</td>\n",
              "      <td>Germany</td>\n",
              "      <td>Male</td>\n",
              "      <td>30</td>\n",
              "      <td>2.0</td>\n",
              "      <td>125495.64</td>\n",
              "      <td>2</td>\n",
              "      <td>1</td>\n",
              "      <td>1</td>\n",
              "      <td>68807.47</td>\n",
              "    </tr>\n",
              "    <tr>\n",
              "      <th>828</th>\n",
              "      <td>630</td>\n",
              "      <td>Germany</td>\n",
              "      <td>Female</td>\n",
              "      <td>31</td>\n",
              "      <td>3.0</td>\n",
              "      <td>112373.49</td>\n",
              "      <td>2</td>\n",
              "      <td>1</td>\n",
              "      <td>1</td>\n",
              "      <td>131167.98</td>\n",
              "    </tr>\n",
              "  </tbody>\n",
              "</table>\n",
              "</div>\n",
              "      <button class=\"colab-df-convert\" onclick=\"convertToInteractive('df-a544e432-fe83-4233-af58-319f133db2de')\"\n",
              "              title=\"Convert this dataframe to an interactive table.\"\n",
              "              style=\"display:none;\">\n",
              "        \n",
              "  <svg xmlns=\"http://www.w3.org/2000/svg\" height=\"24px\"viewBox=\"0 0 24 24\"\n",
              "       width=\"24px\">\n",
              "    <path d=\"M0 0h24v24H0V0z\" fill=\"none\"/>\n",
              "    <path d=\"M18.56 5.44l.94 2.06.94-2.06 2.06-.94-2.06-.94-.94-2.06-.94 2.06-2.06.94zm-11 1L8.5 8.5l.94-2.06 2.06-.94-2.06-.94L8.5 2.5l-.94 2.06-2.06.94zm10 10l.94 2.06.94-2.06 2.06-.94-2.06-.94-.94-2.06-.94 2.06-2.06.94z\"/><path d=\"M17.41 7.96l-1.37-1.37c-.4-.4-.92-.59-1.43-.59-.52 0-1.04.2-1.43.59L10.3 9.45l-7.72 7.72c-.78.78-.78 2.05 0 2.83L4 21.41c.39.39.9.59 1.41.59.51 0 1.02-.2 1.41-.59l7.78-7.78 2.81-2.81c.8-.78.8-2.07 0-2.86zM5.41 20L4 18.59l7.72-7.72 1.47 1.35L5.41 20z\"/>\n",
              "  </svg>\n",
              "      </button>\n",
              "      \n",
              "  <style>\n",
              "    .colab-df-container {\n",
              "      display:flex;\n",
              "      flex-wrap:wrap;\n",
              "      gap: 12px;\n",
              "    }\n",
              "\n",
              "    .colab-df-convert {\n",
              "      background-color: #E8F0FE;\n",
              "      border: none;\n",
              "      border-radius: 50%;\n",
              "      cursor: pointer;\n",
              "      display: none;\n",
              "      fill: #1967D2;\n",
              "      height: 32px;\n",
              "      padding: 0 0 0 0;\n",
              "      width: 32px;\n",
              "    }\n",
              "\n",
              "    .colab-df-convert:hover {\n",
              "      background-color: #E2EBFA;\n",
              "      box-shadow: 0px 1px 2px rgba(60, 64, 67, 0.3), 0px 1px 3px 1px rgba(60, 64, 67, 0.15);\n",
              "      fill: #174EA6;\n",
              "    }\n",
              "\n",
              "    [theme=dark] .colab-df-convert {\n",
              "      background-color: #3B4455;\n",
              "      fill: #D2E3FC;\n",
              "    }\n",
              "\n",
              "    [theme=dark] .colab-df-convert:hover {\n",
              "      background-color: #434B5C;\n",
              "      box-shadow: 0px 1px 3px 1px rgba(0, 0, 0, 0.15);\n",
              "      filter: drop-shadow(0px 1px 2px rgba(0, 0, 0, 0.3));\n",
              "      fill: #FFFFFF;\n",
              "    }\n",
              "  </style>\n",
              "\n",
              "      <script>\n",
              "        const buttonEl =\n",
              "          document.querySelector('#df-a544e432-fe83-4233-af58-319f133db2de button.colab-df-convert');\n",
              "        buttonEl.style.display =\n",
              "          google.colab.kernel.accessAllowed ? 'block' : 'none';\n",
              "\n",
              "        async function convertToInteractive(key) {\n",
              "          const element = document.querySelector('#df-a544e432-fe83-4233-af58-319f133db2de');\n",
              "          const dataTable =\n",
              "            await google.colab.kernel.invokeFunction('convertToInteractive',\n",
              "                                                     [key], {});\n",
              "          if (!dataTable) return;\n",
              "\n",
              "          const docLinkHtml = 'Like what you see? Visit the ' +\n",
              "            '<a target=\"_blank\" href=https://colab.research.google.com/notebooks/data_table.ipynb>data table notebook</a>'\n",
              "            + ' to learn more about interactive tables.';\n",
              "          element.innerHTML = '';\n",
              "          dataTable['output_type'] = 'display_data';\n",
              "          await google.colab.output.renderOutput(dataTable, element);\n",
              "          const docLink = document.createElement('div');\n",
              "          docLink.innerHTML = docLinkHtml;\n",
              "          element.appendChild(docLink);\n",
              "        }\n",
              "      </script>\n",
              "    </div>\n",
              "  </div>\n",
              "  "
            ]
          },
          "metadata": {},
          "execution_count": 255
        }
      ],
      "source": [
        "features_valid_ord.tail()"
      ]
    },
    {
      "cell_type": "code",
      "execution_count": null,
      "metadata": {
        "colab": {
          "base_uri": "https://localhost:8080/",
          "height": 270
        },
        "id": "MywpSYpmGN7z",
        "outputId": "a786e3a4-8f61-4b05-daf6-0d9a24f63daa",
        "trusted": false
      },
      "outputs": [
        {
          "output_type": "execute_result",
          "data": {
            "text/plain": [
              "      credit_score  geography  gender  age  tenure    balance  \\\n",
              "3063           609        0.0     1.0   32     7.0   71872.19   \n",
              "5951           721        0.0     1.0   41     7.0       0.00   \n",
              "9702           644        2.0     0.0   31     5.0   86006.30   \n",
              "7518           500        1.0     1.0   30     2.0  125495.64   \n",
              "828            630        1.0     0.0   31     3.0  112373.49   \n",
              "\n",
              "      num_of_products  has_cr_card  is_active_member  estimated_salary  \n",
              "3063                1            1                 1         151924.90  \n",
              "5951                2            0                 1          61018.85  \n",
              "9702                1            1                 1          73922.95  \n",
              "7518                2            1                 1          68807.47  \n",
              "828                 2            1                 1         131167.98  "
            ],
            "text/html": [
              "\n",
              "  <div id=\"df-7f8cdae1-cf1c-40c6-9233-68ac5dc13561\">\n",
              "    <div class=\"colab-df-container\">\n",
              "      <div>\n",
              "<style scoped>\n",
              "    .dataframe tbody tr th:only-of-type {\n",
              "        vertical-align: middle;\n",
              "    }\n",
              "\n",
              "    .dataframe tbody tr th {\n",
              "        vertical-align: top;\n",
              "    }\n",
              "\n",
              "    .dataframe thead th {\n",
              "        text-align: right;\n",
              "    }\n",
              "</style>\n",
              "<table border=\"1\" class=\"dataframe\">\n",
              "  <thead>\n",
              "    <tr style=\"text-align: right;\">\n",
              "      <th></th>\n",
              "      <th>credit_score</th>\n",
              "      <th>geography</th>\n",
              "      <th>gender</th>\n",
              "      <th>age</th>\n",
              "      <th>tenure</th>\n",
              "      <th>balance</th>\n",
              "      <th>num_of_products</th>\n",
              "      <th>has_cr_card</th>\n",
              "      <th>is_active_member</th>\n",
              "      <th>estimated_salary</th>\n",
              "    </tr>\n",
              "  </thead>\n",
              "  <tbody>\n",
              "    <tr>\n",
              "      <th>3063</th>\n",
              "      <td>609</td>\n",
              "      <td>0.0</td>\n",
              "      <td>1.0</td>\n",
              "      <td>32</td>\n",
              "      <td>7.0</td>\n",
              "      <td>71872.19</td>\n",
              "      <td>1</td>\n",
              "      <td>1</td>\n",
              "      <td>1</td>\n",
              "      <td>151924.90</td>\n",
              "    </tr>\n",
              "    <tr>\n",
              "      <th>5951</th>\n",
              "      <td>721</td>\n",
              "      <td>0.0</td>\n",
              "      <td>1.0</td>\n",
              "      <td>41</td>\n",
              "      <td>7.0</td>\n",
              "      <td>0.00</td>\n",
              "      <td>2</td>\n",
              "      <td>0</td>\n",
              "      <td>1</td>\n",
              "      <td>61018.85</td>\n",
              "    </tr>\n",
              "    <tr>\n",
              "      <th>9702</th>\n",
              "      <td>644</td>\n",
              "      <td>2.0</td>\n",
              "      <td>0.0</td>\n",
              "      <td>31</td>\n",
              "      <td>5.0</td>\n",
              "      <td>86006.30</td>\n",
              "      <td>1</td>\n",
              "      <td>1</td>\n",
              "      <td>1</td>\n",
              "      <td>73922.95</td>\n",
              "    </tr>\n",
              "    <tr>\n",
              "      <th>7518</th>\n",
              "      <td>500</td>\n",
              "      <td>1.0</td>\n",
              "      <td>1.0</td>\n",
              "      <td>30</td>\n",
              "      <td>2.0</td>\n",
              "      <td>125495.64</td>\n",
              "      <td>2</td>\n",
              "      <td>1</td>\n",
              "      <td>1</td>\n",
              "      <td>68807.47</td>\n",
              "    </tr>\n",
              "    <tr>\n",
              "      <th>828</th>\n",
              "      <td>630</td>\n",
              "      <td>1.0</td>\n",
              "      <td>0.0</td>\n",
              "      <td>31</td>\n",
              "      <td>3.0</td>\n",
              "      <td>112373.49</td>\n",
              "      <td>2</td>\n",
              "      <td>1</td>\n",
              "      <td>1</td>\n",
              "      <td>131167.98</td>\n",
              "    </tr>\n",
              "  </tbody>\n",
              "</table>\n",
              "</div>\n",
              "      <button class=\"colab-df-convert\" onclick=\"convertToInteractive('df-7f8cdae1-cf1c-40c6-9233-68ac5dc13561')\"\n",
              "              title=\"Convert this dataframe to an interactive table.\"\n",
              "              style=\"display:none;\">\n",
              "        \n",
              "  <svg xmlns=\"http://www.w3.org/2000/svg\" height=\"24px\"viewBox=\"0 0 24 24\"\n",
              "       width=\"24px\">\n",
              "    <path d=\"M0 0h24v24H0V0z\" fill=\"none\"/>\n",
              "    <path d=\"M18.56 5.44l.94 2.06.94-2.06 2.06-.94-2.06-.94-.94-2.06-.94 2.06-2.06.94zm-11 1L8.5 8.5l.94-2.06 2.06-.94-2.06-.94L8.5 2.5l-.94 2.06-2.06.94zm10 10l.94 2.06.94-2.06 2.06-.94-2.06-.94-.94-2.06-.94 2.06-2.06.94z\"/><path d=\"M17.41 7.96l-1.37-1.37c-.4-.4-.92-.59-1.43-.59-.52 0-1.04.2-1.43.59L10.3 9.45l-7.72 7.72c-.78.78-.78 2.05 0 2.83L4 21.41c.39.39.9.59 1.41.59.51 0 1.02-.2 1.41-.59l7.78-7.78 2.81-2.81c.8-.78.8-2.07 0-2.86zM5.41 20L4 18.59l7.72-7.72 1.47 1.35L5.41 20z\"/>\n",
              "  </svg>\n",
              "      </button>\n",
              "      \n",
              "  <style>\n",
              "    .colab-df-container {\n",
              "      display:flex;\n",
              "      flex-wrap:wrap;\n",
              "      gap: 12px;\n",
              "    }\n",
              "\n",
              "    .colab-df-convert {\n",
              "      background-color: #E8F0FE;\n",
              "      border: none;\n",
              "      border-radius: 50%;\n",
              "      cursor: pointer;\n",
              "      display: none;\n",
              "      fill: #1967D2;\n",
              "      height: 32px;\n",
              "      padding: 0 0 0 0;\n",
              "      width: 32px;\n",
              "    }\n",
              "\n",
              "    .colab-df-convert:hover {\n",
              "      background-color: #E2EBFA;\n",
              "      box-shadow: 0px 1px 2px rgba(60, 64, 67, 0.3), 0px 1px 3px 1px rgba(60, 64, 67, 0.15);\n",
              "      fill: #174EA6;\n",
              "    }\n",
              "\n",
              "    [theme=dark] .colab-df-convert {\n",
              "      background-color: #3B4455;\n",
              "      fill: #D2E3FC;\n",
              "    }\n",
              "\n",
              "    [theme=dark] .colab-df-convert:hover {\n",
              "      background-color: #434B5C;\n",
              "      box-shadow: 0px 1px 3px 1px rgba(0, 0, 0, 0.15);\n",
              "      filter: drop-shadow(0px 1px 2px rgba(0, 0, 0, 0.3));\n",
              "      fill: #FFFFFF;\n",
              "    }\n",
              "  </style>\n",
              "\n",
              "      <script>\n",
              "        const buttonEl =\n",
              "          document.querySelector('#df-7f8cdae1-cf1c-40c6-9233-68ac5dc13561 button.colab-df-convert');\n",
              "        buttonEl.style.display =\n",
              "          google.colab.kernel.accessAllowed ? 'block' : 'none';\n",
              "\n",
              "        async function convertToInteractive(key) {\n",
              "          const element = document.querySelector('#df-7f8cdae1-cf1c-40c6-9233-68ac5dc13561');\n",
              "          const dataTable =\n",
              "            await google.colab.kernel.invokeFunction('convertToInteractive',\n",
              "                                                     [key], {});\n",
              "          if (!dataTable) return;\n",
              "\n",
              "          const docLinkHtml = 'Like what you see? Visit the ' +\n",
              "            '<a target=\"_blank\" href=https://colab.research.google.com/notebooks/data_table.ipynb>data table notebook</a>'\n",
              "            + ' to learn more about interactive tables.';\n",
              "          element.innerHTML = '';\n",
              "          dataTable['output_type'] = 'display_data';\n",
              "          await google.colab.output.renderOutput(dataTable, element);\n",
              "          const docLink = document.createElement('div');\n",
              "          docLink.innerHTML = docLinkHtml;\n",
              "          element.appendChild(docLink);\n",
              "        }\n",
              "      </script>\n",
              "    </div>\n",
              "  </div>\n",
              "  "
            ]
          },
          "metadata": {},
          "execution_count": 256
        }
      ],
      "source": [
        "features_valid_ord[['geography', 'gender']] = encoder.transform(features_valid_ord[['geography', 'gender']])\n",
        "\n",
        "features_valid_ord.tail()"
      ]
    },
    {
      "cell_type": "code",
      "execution_count": null,
      "metadata": {
        "colab": {
          "base_uri": "https://localhost:8080/",
          "height": 270
        },
        "id": "c_g2C8gUD5er",
        "outputId": "42a0173d-d08c-4cef-98c1-edafbf212ccc",
        "trusted": false
      },
      "outputs": [
        {
          "output_type": "execute_result",
          "data": {
            "text/plain": [
              "      credit_score geography  gender  age  tenure    balance  num_of_products  \\\n",
              "5331           637   Germany  Female   46     2.0  143500.82                1   \n",
              "4353           805    France  Female   31     4.0       0.00                2   \n",
              "5876           704    France    Male   39     2.0  111525.02                1   \n",
              "34             722     Spain  Female   29     9.0       0.00                2   \n",
              "8832           753    France    Male   35     4.0       0.00                2   \n",
              "\n",
              "      has_cr_card  is_active_member  estimated_salary  \n",
              "5331            1                 0         166996.46  \n",
              "4353            1                 0           4798.12  \n",
              "5876            1                 0         199484.96  \n",
              "34              1                 1         142033.07  \n",
              "8832            1                 1         106303.40  "
            ],
            "text/html": [
              "\n",
              "  <div id=\"df-6604b073-94a9-4e85-a926-c1467bbb7f15\">\n",
              "    <div class=\"colab-df-container\">\n",
              "      <div>\n",
              "<style scoped>\n",
              "    .dataframe tbody tr th:only-of-type {\n",
              "        vertical-align: middle;\n",
              "    }\n",
              "\n",
              "    .dataframe tbody tr th {\n",
              "        vertical-align: top;\n",
              "    }\n",
              "\n",
              "    .dataframe thead th {\n",
              "        text-align: right;\n",
              "    }\n",
              "</style>\n",
              "<table border=\"1\" class=\"dataframe\">\n",
              "  <thead>\n",
              "    <tr style=\"text-align: right;\">\n",
              "      <th></th>\n",
              "      <th>credit_score</th>\n",
              "      <th>geography</th>\n",
              "      <th>gender</th>\n",
              "      <th>age</th>\n",
              "      <th>tenure</th>\n",
              "      <th>balance</th>\n",
              "      <th>num_of_products</th>\n",
              "      <th>has_cr_card</th>\n",
              "      <th>is_active_member</th>\n",
              "      <th>estimated_salary</th>\n",
              "    </tr>\n",
              "  </thead>\n",
              "  <tbody>\n",
              "    <tr>\n",
              "      <th>5331</th>\n",
              "      <td>637</td>\n",
              "      <td>Germany</td>\n",
              "      <td>Female</td>\n",
              "      <td>46</td>\n",
              "      <td>2.0</td>\n",
              "      <td>143500.82</td>\n",
              "      <td>1</td>\n",
              "      <td>1</td>\n",
              "      <td>0</td>\n",
              "      <td>166996.46</td>\n",
              "    </tr>\n",
              "    <tr>\n",
              "      <th>4353</th>\n",
              "      <td>805</td>\n",
              "      <td>France</td>\n",
              "      <td>Female</td>\n",
              "      <td>31</td>\n",
              "      <td>4.0</td>\n",
              "      <td>0.00</td>\n",
              "      <td>2</td>\n",
              "      <td>1</td>\n",
              "      <td>0</td>\n",
              "      <td>4798.12</td>\n",
              "    </tr>\n",
              "    <tr>\n",
              "      <th>5876</th>\n",
              "      <td>704</td>\n",
              "      <td>France</td>\n",
              "      <td>Male</td>\n",
              "      <td>39</td>\n",
              "      <td>2.0</td>\n",
              "      <td>111525.02</td>\n",
              "      <td>1</td>\n",
              "      <td>1</td>\n",
              "      <td>0</td>\n",
              "      <td>199484.96</td>\n",
              "    </tr>\n",
              "    <tr>\n",
              "      <th>34</th>\n",
              "      <td>722</td>\n",
              "      <td>Spain</td>\n",
              "      <td>Female</td>\n",
              "      <td>29</td>\n",
              "      <td>9.0</td>\n",
              "      <td>0.00</td>\n",
              "      <td>2</td>\n",
              "      <td>1</td>\n",
              "      <td>1</td>\n",
              "      <td>142033.07</td>\n",
              "    </tr>\n",
              "    <tr>\n",
              "      <th>8832</th>\n",
              "      <td>753</td>\n",
              "      <td>France</td>\n",
              "      <td>Male</td>\n",
              "      <td>35</td>\n",
              "      <td>4.0</td>\n",
              "      <td>0.00</td>\n",
              "      <td>2</td>\n",
              "      <td>1</td>\n",
              "      <td>1</td>\n",
              "      <td>106303.40</td>\n",
              "    </tr>\n",
              "  </tbody>\n",
              "</table>\n",
              "</div>\n",
              "      <button class=\"colab-df-convert\" onclick=\"convertToInteractive('df-6604b073-94a9-4e85-a926-c1467bbb7f15')\"\n",
              "              title=\"Convert this dataframe to an interactive table.\"\n",
              "              style=\"display:none;\">\n",
              "        \n",
              "  <svg xmlns=\"http://www.w3.org/2000/svg\" height=\"24px\"viewBox=\"0 0 24 24\"\n",
              "       width=\"24px\">\n",
              "    <path d=\"M0 0h24v24H0V0z\" fill=\"none\"/>\n",
              "    <path d=\"M18.56 5.44l.94 2.06.94-2.06 2.06-.94-2.06-.94-.94-2.06-.94 2.06-2.06.94zm-11 1L8.5 8.5l.94-2.06 2.06-.94-2.06-.94L8.5 2.5l-.94 2.06-2.06.94zm10 10l.94 2.06.94-2.06 2.06-.94-2.06-.94-.94-2.06-.94 2.06-2.06.94z\"/><path d=\"M17.41 7.96l-1.37-1.37c-.4-.4-.92-.59-1.43-.59-.52 0-1.04.2-1.43.59L10.3 9.45l-7.72 7.72c-.78.78-.78 2.05 0 2.83L4 21.41c.39.39.9.59 1.41.59.51 0 1.02-.2 1.41-.59l7.78-7.78 2.81-2.81c.8-.78.8-2.07 0-2.86zM5.41 20L4 18.59l7.72-7.72 1.47 1.35L5.41 20z\"/>\n",
              "  </svg>\n",
              "      </button>\n",
              "      \n",
              "  <style>\n",
              "    .colab-df-container {\n",
              "      display:flex;\n",
              "      flex-wrap:wrap;\n",
              "      gap: 12px;\n",
              "    }\n",
              "\n",
              "    .colab-df-convert {\n",
              "      background-color: #E8F0FE;\n",
              "      border: none;\n",
              "      border-radius: 50%;\n",
              "      cursor: pointer;\n",
              "      display: none;\n",
              "      fill: #1967D2;\n",
              "      height: 32px;\n",
              "      padding: 0 0 0 0;\n",
              "      width: 32px;\n",
              "    }\n",
              "\n",
              "    .colab-df-convert:hover {\n",
              "      background-color: #E2EBFA;\n",
              "      box-shadow: 0px 1px 2px rgba(60, 64, 67, 0.3), 0px 1px 3px 1px rgba(60, 64, 67, 0.15);\n",
              "      fill: #174EA6;\n",
              "    }\n",
              "\n",
              "    [theme=dark] .colab-df-convert {\n",
              "      background-color: #3B4455;\n",
              "      fill: #D2E3FC;\n",
              "    }\n",
              "\n",
              "    [theme=dark] .colab-df-convert:hover {\n",
              "      background-color: #434B5C;\n",
              "      box-shadow: 0px 1px 3px 1px rgba(0, 0, 0, 0.15);\n",
              "      filter: drop-shadow(0px 1px 2px rgba(0, 0, 0, 0.3));\n",
              "      fill: #FFFFFF;\n",
              "    }\n",
              "  </style>\n",
              "\n",
              "      <script>\n",
              "        const buttonEl =\n",
              "          document.querySelector('#df-6604b073-94a9-4e85-a926-c1467bbb7f15 button.colab-df-convert');\n",
              "        buttonEl.style.display =\n",
              "          google.colab.kernel.accessAllowed ? 'block' : 'none';\n",
              "\n",
              "        async function convertToInteractive(key) {\n",
              "          const element = document.querySelector('#df-6604b073-94a9-4e85-a926-c1467bbb7f15');\n",
              "          const dataTable =\n",
              "            await google.colab.kernel.invokeFunction('convertToInteractive',\n",
              "                                                     [key], {});\n",
              "          if (!dataTable) return;\n",
              "\n",
              "          const docLinkHtml = 'Like what you see? Visit the ' +\n",
              "            '<a target=\"_blank\" href=https://colab.research.google.com/notebooks/data_table.ipynb>data table notebook</a>'\n",
              "            + ' to learn more about interactive tables.';\n",
              "          element.innerHTML = '';\n",
              "          dataTable['output_type'] = 'display_data';\n",
              "          await google.colab.output.renderOutput(dataTable, element);\n",
              "          const docLink = document.createElement('div');\n",
              "          docLink.innerHTML = docLinkHtml;\n",
              "          element.appendChild(docLink);\n",
              "        }\n",
              "      </script>\n",
              "    </div>\n",
              "  </div>\n",
              "  "
            ]
          },
          "metadata": {},
          "execution_count": 257
        }
      ],
      "source": [
        "features_test_ord.tail()"
      ]
    },
    {
      "cell_type": "code",
      "execution_count": null,
      "metadata": {
        "colab": {
          "base_uri": "https://localhost:8080/",
          "height": 270
        },
        "id": "qoWSJivk6o_E",
        "outputId": "d54da210-aab3-4393-ce64-d4c97ad9cf5a",
        "trusted": false
      },
      "outputs": [
        {
          "output_type": "execute_result",
          "data": {
            "text/plain": [
              "      credit_score  geography  gender  age  tenure    balance  \\\n",
              "5331           637        1.0     0.0   46     2.0  143500.82   \n",
              "4353           805        0.0     0.0   31     4.0       0.00   \n",
              "5876           704        0.0     1.0   39     2.0  111525.02   \n",
              "34             722        2.0     0.0   29     9.0       0.00   \n",
              "8832           753        0.0     1.0   35     4.0       0.00   \n",
              "\n",
              "      num_of_products  has_cr_card  is_active_member  estimated_salary  \n",
              "5331                1            1                 0         166996.46  \n",
              "4353                2            1                 0           4798.12  \n",
              "5876                1            1                 0         199484.96  \n",
              "34                  2            1                 1         142033.07  \n",
              "8832                2            1                 1         106303.40  "
            ],
            "text/html": [
              "\n",
              "  <div id=\"df-1a5108a4-14b9-4fc8-aefa-77d2e1c0f341\">\n",
              "    <div class=\"colab-df-container\">\n",
              "      <div>\n",
              "<style scoped>\n",
              "    .dataframe tbody tr th:only-of-type {\n",
              "        vertical-align: middle;\n",
              "    }\n",
              "\n",
              "    .dataframe tbody tr th {\n",
              "        vertical-align: top;\n",
              "    }\n",
              "\n",
              "    .dataframe thead th {\n",
              "        text-align: right;\n",
              "    }\n",
              "</style>\n",
              "<table border=\"1\" class=\"dataframe\">\n",
              "  <thead>\n",
              "    <tr style=\"text-align: right;\">\n",
              "      <th></th>\n",
              "      <th>credit_score</th>\n",
              "      <th>geography</th>\n",
              "      <th>gender</th>\n",
              "      <th>age</th>\n",
              "      <th>tenure</th>\n",
              "      <th>balance</th>\n",
              "      <th>num_of_products</th>\n",
              "      <th>has_cr_card</th>\n",
              "      <th>is_active_member</th>\n",
              "      <th>estimated_salary</th>\n",
              "    </tr>\n",
              "  </thead>\n",
              "  <tbody>\n",
              "    <tr>\n",
              "      <th>5331</th>\n",
              "      <td>637</td>\n",
              "      <td>1.0</td>\n",
              "      <td>0.0</td>\n",
              "      <td>46</td>\n",
              "      <td>2.0</td>\n",
              "      <td>143500.82</td>\n",
              "      <td>1</td>\n",
              "      <td>1</td>\n",
              "      <td>0</td>\n",
              "      <td>166996.46</td>\n",
              "    </tr>\n",
              "    <tr>\n",
              "      <th>4353</th>\n",
              "      <td>805</td>\n",
              "      <td>0.0</td>\n",
              "      <td>0.0</td>\n",
              "      <td>31</td>\n",
              "      <td>4.0</td>\n",
              "      <td>0.00</td>\n",
              "      <td>2</td>\n",
              "      <td>1</td>\n",
              "      <td>0</td>\n",
              "      <td>4798.12</td>\n",
              "    </tr>\n",
              "    <tr>\n",
              "      <th>5876</th>\n",
              "      <td>704</td>\n",
              "      <td>0.0</td>\n",
              "      <td>1.0</td>\n",
              "      <td>39</td>\n",
              "      <td>2.0</td>\n",
              "      <td>111525.02</td>\n",
              "      <td>1</td>\n",
              "      <td>1</td>\n",
              "      <td>0</td>\n",
              "      <td>199484.96</td>\n",
              "    </tr>\n",
              "    <tr>\n",
              "      <th>34</th>\n",
              "      <td>722</td>\n",
              "      <td>2.0</td>\n",
              "      <td>0.0</td>\n",
              "      <td>29</td>\n",
              "      <td>9.0</td>\n",
              "      <td>0.00</td>\n",
              "      <td>2</td>\n",
              "      <td>1</td>\n",
              "      <td>1</td>\n",
              "      <td>142033.07</td>\n",
              "    </tr>\n",
              "    <tr>\n",
              "      <th>8832</th>\n",
              "      <td>753</td>\n",
              "      <td>0.0</td>\n",
              "      <td>1.0</td>\n",
              "      <td>35</td>\n",
              "      <td>4.0</td>\n",
              "      <td>0.00</td>\n",
              "      <td>2</td>\n",
              "      <td>1</td>\n",
              "      <td>1</td>\n",
              "      <td>106303.40</td>\n",
              "    </tr>\n",
              "  </tbody>\n",
              "</table>\n",
              "</div>\n",
              "      <button class=\"colab-df-convert\" onclick=\"convertToInteractive('df-1a5108a4-14b9-4fc8-aefa-77d2e1c0f341')\"\n",
              "              title=\"Convert this dataframe to an interactive table.\"\n",
              "              style=\"display:none;\">\n",
              "        \n",
              "  <svg xmlns=\"http://www.w3.org/2000/svg\" height=\"24px\"viewBox=\"0 0 24 24\"\n",
              "       width=\"24px\">\n",
              "    <path d=\"M0 0h24v24H0V0z\" fill=\"none\"/>\n",
              "    <path d=\"M18.56 5.44l.94 2.06.94-2.06 2.06-.94-2.06-.94-.94-2.06-.94 2.06-2.06.94zm-11 1L8.5 8.5l.94-2.06 2.06-.94-2.06-.94L8.5 2.5l-.94 2.06-2.06.94zm10 10l.94 2.06.94-2.06 2.06-.94-2.06-.94-.94-2.06-.94 2.06-2.06.94z\"/><path d=\"M17.41 7.96l-1.37-1.37c-.4-.4-.92-.59-1.43-.59-.52 0-1.04.2-1.43.59L10.3 9.45l-7.72 7.72c-.78.78-.78 2.05 0 2.83L4 21.41c.39.39.9.59 1.41.59.51 0 1.02-.2 1.41-.59l7.78-7.78 2.81-2.81c.8-.78.8-2.07 0-2.86zM5.41 20L4 18.59l7.72-7.72 1.47 1.35L5.41 20z\"/>\n",
              "  </svg>\n",
              "      </button>\n",
              "      \n",
              "  <style>\n",
              "    .colab-df-container {\n",
              "      display:flex;\n",
              "      flex-wrap:wrap;\n",
              "      gap: 12px;\n",
              "    }\n",
              "\n",
              "    .colab-df-convert {\n",
              "      background-color: #E8F0FE;\n",
              "      border: none;\n",
              "      border-radius: 50%;\n",
              "      cursor: pointer;\n",
              "      display: none;\n",
              "      fill: #1967D2;\n",
              "      height: 32px;\n",
              "      padding: 0 0 0 0;\n",
              "      width: 32px;\n",
              "    }\n",
              "\n",
              "    .colab-df-convert:hover {\n",
              "      background-color: #E2EBFA;\n",
              "      box-shadow: 0px 1px 2px rgba(60, 64, 67, 0.3), 0px 1px 3px 1px rgba(60, 64, 67, 0.15);\n",
              "      fill: #174EA6;\n",
              "    }\n",
              "\n",
              "    [theme=dark] .colab-df-convert {\n",
              "      background-color: #3B4455;\n",
              "      fill: #D2E3FC;\n",
              "    }\n",
              "\n",
              "    [theme=dark] .colab-df-convert:hover {\n",
              "      background-color: #434B5C;\n",
              "      box-shadow: 0px 1px 3px 1px rgba(0, 0, 0, 0.15);\n",
              "      filter: drop-shadow(0px 1px 2px rgba(0, 0, 0, 0.3));\n",
              "      fill: #FFFFFF;\n",
              "    }\n",
              "  </style>\n",
              "\n",
              "      <script>\n",
              "        const buttonEl =\n",
              "          document.querySelector('#df-1a5108a4-14b9-4fc8-aefa-77d2e1c0f341 button.colab-df-convert');\n",
              "        buttonEl.style.display =\n",
              "          google.colab.kernel.accessAllowed ? 'block' : 'none';\n",
              "\n",
              "        async function convertToInteractive(key) {\n",
              "          const element = document.querySelector('#df-1a5108a4-14b9-4fc8-aefa-77d2e1c0f341');\n",
              "          const dataTable =\n",
              "            await google.colab.kernel.invokeFunction('convertToInteractive',\n",
              "                                                     [key], {});\n",
              "          if (!dataTable) return;\n",
              "\n",
              "          const docLinkHtml = 'Like what you see? Visit the ' +\n",
              "            '<a target=\"_blank\" href=https://colab.research.google.com/notebooks/data_table.ipynb>data table notebook</a>'\n",
              "            + ' to learn more about interactive tables.';\n",
              "          element.innerHTML = '';\n",
              "          dataTable['output_type'] = 'display_data';\n",
              "          await google.colab.output.renderOutput(dataTable, element);\n",
              "          const docLink = document.createElement('div');\n",
              "          docLink.innerHTML = docLinkHtml;\n",
              "          element.appendChild(docLink);\n",
              "        }\n",
              "      </script>\n",
              "    </div>\n",
              "  </div>\n",
              "  "
            ]
          },
          "metadata": {},
          "execution_count": 258
        }
      ],
      "source": [
        "features_test_ord[['geography', 'gender']] = encoder.transform(features_test_ord[['geography', 'gender']])\n",
        "\n",
        "features_test_ord.tail()"
      ]
    },
    {
      "cell_type": "markdown",
      "metadata": {
        "id": "IEFkr20w6BLb"
      },
      "source": [
        "### Масштабируем данные"
      ]
    },
    {
      "cell_type": "code",
      "execution_count": null,
      "metadata": {
        "id": "ygVjp8g36FQn",
        "trusted": false
      },
      "outputs": [],
      "source": [
        "scaler = StandardScaler()\n",
        "scaler.fit(features_train_ord[numeric])\n",
        "features_train_ord[numeric] = scaler.transform(features_train_ord[numeric])\n",
        "features_valid_ord[numeric] = scaler.transform(features_valid_ord[numeric])\n",
        "features_test_ord[numeric] = scaler.transform(features_test_ord[numeric])"
      ]
    },
    {
      "cell_type": "code",
      "execution_count": null,
      "metadata": {
        "colab": {
          "base_uri": "https://localhost:8080/",
          "height": 488
        },
        "id": "own0A7LOHESZ",
        "outputId": "19955e3f-e7d7-4a61-d0b9-a0a80f1fcc41",
        "trusted": false
      },
      "outputs": [
        {
          "output_type": "execute_result",
          "data": {
            "text/plain": [
              "      credit_score  geography  gender       age    tenure   balance  \\\n",
              "6612     -1.524838        0.0     0.0  2.383160 -0.686077  1.011655   \n",
              "519       0.587990        0.0     1.0  1.811221  0.340643  0.213192   \n",
              "1609     -0.318980        0.0     0.0 -0.381213  1.025123  0.893896   \n",
              "3475      1.226991        0.0     1.0 -0.762506 -0.343837 -0.240363   \n",
              "2707     -0.133464        0.0     0.0 -0.095244 -0.686077  0.447305   \n",
              "...            ...        ...     ...       ...       ...       ...   \n",
              "3063     -0.422045        0.0     1.0 -0.667183  0.682883 -0.071409   \n",
              "5951      0.732280        0.0     1.0  0.190726  0.682883 -1.219673   \n",
              "9702     -0.061318        2.0     0.0 -0.762506 -0.001597  0.154404   \n",
              "7518     -1.545451        1.0     1.0 -0.857830 -1.028318  0.785305   \n",
              "828      -0.205609        1.0     0.0 -0.762506 -0.686077  0.575659   \n",
              "\n",
              "      num_of_products  has_cr_card  is_active_member  estimated_salary  \n",
              "6612        -0.914708            0                 1          0.010275  \n",
              "519         -0.914708            0                 1          0.453089  \n",
              "1609        -0.914708            1                 0         -0.603508  \n",
              "3475         0.820981            1                 1         -1.621460  \n",
              "2707        -0.914708            0                 0          0.338574  \n",
              "...               ...          ...               ...               ...  \n",
              "3063        -0.914708            1                 1          0.895516  \n",
              "5951         0.820981            0                 1         -0.684577  \n",
              "9702        -0.914708            1                 1         -0.460283  \n",
              "7518         0.820981            1                 1         -0.549198  \n",
              "828          0.820981            1                 1          0.534728  \n",
              "\n",
              "[2000 rows x 10 columns]"
            ],
            "text/html": [
              "\n",
              "  <div id=\"df-f5e82778-e303-4e29-96e8-b27d20793567\">\n",
              "    <div class=\"colab-df-container\">\n",
              "      <div>\n",
              "<style scoped>\n",
              "    .dataframe tbody tr th:only-of-type {\n",
              "        vertical-align: middle;\n",
              "    }\n",
              "\n",
              "    .dataframe tbody tr th {\n",
              "        vertical-align: top;\n",
              "    }\n",
              "\n",
              "    .dataframe thead th {\n",
              "        text-align: right;\n",
              "    }\n",
              "</style>\n",
              "<table border=\"1\" class=\"dataframe\">\n",
              "  <thead>\n",
              "    <tr style=\"text-align: right;\">\n",
              "      <th></th>\n",
              "      <th>credit_score</th>\n",
              "      <th>geography</th>\n",
              "      <th>gender</th>\n",
              "      <th>age</th>\n",
              "      <th>tenure</th>\n",
              "      <th>balance</th>\n",
              "      <th>num_of_products</th>\n",
              "      <th>has_cr_card</th>\n",
              "      <th>is_active_member</th>\n",
              "      <th>estimated_salary</th>\n",
              "    </tr>\n",
              "  </thead>\n",
              "  <tbody>\n",
              "    <tr>\n",
              "      <th>6612</th>\n",
              "      <td>-1.524838</td>\n",
              "      <td>0.0</td>\n",
              "      <td>0.0</td>\n",
              "      <td>2.383160</td>\n",
              "      <td>-0.686077</td>\n",
              "      <td>1.011655</td>\n",
              "      <td>-0.914708</td>\n",
              "      <td>0</td>\n",
              "      <td>1</td>\n",
              "      <td>0.010275</td>\n",
              "    </tr>\n",
              "    <tr>\n",
              "      <th>519</th>\n",
              "      <td>0.587990</td>\n",
              "      <td>0.0</td>\n",
              "      <td>1.0</td>\n",
              "      <td>1.811221</td>\n",
              "      <td>0.340643</td>\n",
              "      <td>0.213192</td>\n",
              "      <td>-0.914708</td>\n",
              "      <td>0</td>\n",
              "      <td>1</td>\n",
              "      <td>0.453089</td>\n",
              "    </tr>\n",
              "    <tr>\n",
              "      <th>1609</th>\n",
              "      <td>-0.318980</td>\n",
              "      <td>0.0</td>\n",
              "      <td>0.0</td>\n",
              "      <td>-0.381213</td>\n",
              "      <td>1.025123</td>\n",
              "      <td>0.893896</td>\n",
              "      <td>-0.914708</td>\n",
              "      <td>1</td>\n",
              "      <td>0</td>\n",
              "      <td>-0.603508</td>\n",
              "    </tr>\n",
              "    <tr>\n",
              "      <th>3475</th>\n",
              "      <td>1.226991</td>\n",
              "      <td>0.0</td>\n",
              "      <td>1.0</td>\n",
              "      <td>-0.762506</td>\n",
              "      <td>-0.343837</td>\n",
              "      <td>-0.240363</td>\n",
              "      <td>0.820981</td>\n",
              "      <td>1</td>\n",
              "      <td>1</td>\n",
              "      <td>-1.621460</td>\n",
              "    </tr>\n",
              "    <tr>\n",
              "      <th>2707</th>\n",
              "      <td>-0.133464</td>\n",
              "      <td>0.0</td>\n",
              "      <td>0.0</td>\n",
              "      <td>-0.095244</td>\n",
              "      <td>-0.686077</td>\n",
              "      <td>0.447305</td>\n",
              "      <td>-0.914708</td>\n",
              "      <td>0</td>\n",
              "      <td>0</td>\n",
              "      <td>0.338574</td>\n",
              "    </tr>\n",
              "    <tr>\n",
              "      <th>...</th>\n",
              "      <td>...</td>\n",
              "      <td>...</td>\n",
              "      <td>...</td>\n",
              "      <td>...</td>\n",
              "      <td>...</td>\n",
              "      <td>...</td>\n",
              "      <td>...</td>\n",
              "      <td>...</td>\n",
              "      <td>...</td>\n",
              "      <td>...</td>\n",
              "    </tr>\n",
              "    <tr>\n",
              "      <th>3063</th>\n",
              "      <td>-0.422045</td>\n",
              "      <td>0.0</td>\n",
              "      <td>1.0</td>\n",
              "      <td>-0.667183</td>\n",
              "      <td>0.682883</td>\n",
              "      <td>-0.071409</td>\n",
              "      <td>-0.914708</td>\n",
              "      <td>1</td>\n",
              "      <td>1</td>\n",
              "      <td>0.895516</td>\n",
              "    </tr>\n",
              "    <tr>\n",
              "      <th>5951</th>\n",
              "      <td>0.732280</td>\n",
              "      <td>0.0</td>\n",
              "      <td>1.0</td>\n",
              "      <td>0.190726</td>\n",
              "      <td>0.682883</td>\n",
              "      <td>-1.219673</td>\n",
              "      <td>0.820981</td>\n",
              "      <td>0</td>\n",
              "      <td>1</td>\n",
              "      <td>-0.684577</td>\n",
              "    </tr>\n",
              "    <tr>\n",
              "      <th>9702</th>\n",
              "      <td>-0.061318</td>\n",
              "      <td>2.0</td>\n",
              "      <td>0.0</td>\n",
              "      <td>-0.762506</td>\n",
              "      <td>-0.001597</td>\n",
              "      <td>0.154404</td>\n",
              "      <td>-0.914708</td>\n",
              "      <td>1</td>\n",
              "      <td>1</td>\n",
              "      <td>-0.460283</td>\n",
              "    </tr>\n",
              "    <tr>\n",
              "      <th>7518</th>\n",
              "      <td>-1.545451</td>\n",
              "      <td>1.0</td>\n",
              "      <td>1.0</td>\n",
              "      <td>-0.857830</td>\n",
              "      <td>-1.028318</td>\n",
              "      <td>0.785305</td>\n",
              "      <td>0.820981</td>\n",
              "      <td>1</td>\n",
              "      <td>1</td>\n",
              "      <td>-0.549198</td>\n",
              "    </tr>\n",
              "    <tr>\n",
              "      <th>828</th>\n",
              "      <td>-0.205609</td>\n",
              "      <td>1.0</td>\n",
              "      <td>0.0</td>\n",
              "      <td>-0.762506</td>\n",
              "      <td>-0.686077</td>\n",
              "      <td>0.575659</td>\n",
              "      <td>0.820981</td>\n",
              "      <td>1</td>\n",
              "      <td>1</td>\n",
              "      <td>0.534728</td>\n",
              "    </tr>\n",
              "  </tbody>\n",
              "</table>\n",
              "<p>2000 rows × 10 columns</p>\n",
              "</div>\n",
              "      <button class=\"colab-df-convert\" onclick=\"convertToInteractive('df-f5e82778-e303-4e29-96e8-b27d20793567')\"\n",
              "              title=\"Convert this dataframe to an interactive table.\"\n",
              "              style=\"display:none;\">\n",
              "        \n",
              "  <svg xmlns=\"http://www.w3.org/2000/svg\" height=\"24px\"viewBox=\"0 0 24 24\"\n",
              "       width=\"24px\">\n",
              "    <path d=\"M0 0h24v24H0V0z\" fill=\"none\"/>\n",
              "    <path d=\"M18.56 5.44l.94 2.06.94-2.06 2.06-.94-2.06-.94-.94-2.06-.94 2.06-2.06.94zm-11 1L8.5 8.5l.94-2.06 2.06-.94-2.06-.94L8.5 2.5l-.94 2.06-2.06.94zm10 10l.94 2.06.94-2.06 2.06-.94-2.06-.94-.94-2.06-.94 2.06-2.06.94z\"/><path d=\"M17.41 7.96l-1.37-1.37c-.4-.4-.92-.59-1.43-.59-.52 0-1.04.2-1.43.59L10.3 9.45l-7.72 7.72c-.78.78-.78 2.05 0 2.83L4 21.41c.39.39.9.59 1.41.59.51 0 1.02-.2 1.41-.59l7.78-7.78 2.81-2.81c.8-.78.8-2.07 0-2.86zM5.41 20L4 18.59l7.72-7.72 1.47 1.35L5.41 20z\"/>\n",
              "  </svg>\n",
              "      </button>\n",
              "      \n",
              "  <style>\n",
              "    .colab-df-container {\n",
              "      display:flex;\n",
              "      flex-wrap:wrap;\n",
              "      gap: 12px;\n",
              "    }\n",
              "\n",
              "    .colab-df-convert {\n",
              "      background-color: #E8F0FE;\n",
              "      border: none;\n",
              "      border-radius: 50%;\n",
              "      cursor: pointer;\n",
              "      display: none;\n",
              "      fill: #1967D2;\n",
              "      height: 32px;\n",
              "      padding: 0 0 0 0;\n",
              "      width: 32px;\n",
              "    }\n",
              "\n",
              "    .colab-df-convert:hover {\n",
              "      background-color: #E2EBFA;\n",
              "      box-shadow: 0px 1px 2px rgba(60, 64, 67, 0.3), 0px 1px 3px 1px rgba(60, 64, 67, 0.15);\n",
              "      fill: #174EA6;\n",
              "    }\n",
              "\n",
              "    [theme=dark] .colab-df-convert {\n",
              "      background-color: #3B4455;\n",
              "      fill: #D2E3FC;\n",
              "    }\n",
              "\n",
              "    [theme=dark] .colab-df-convert:hover {\n",
              "      background-color: #434B5C;\n",
              "      box-shadow: 0px 1px 3px 1px rgba(0, 0, 0, 0.15);\n",
              "      filter: drop-shadow(0px 1px 2px rgba(0, 0, 0, 0.3));\n",
              "      fill: #FFFFFF;\n",
              "    }\n",
              "  </style>\n",
              "\n",
              "      <script>\n",
              "        const buttonEl =\n",
              "          document.querySelector('#df-f5e82778-e303-4e29-96e8-b27d20793567 button.colab-df-convert');\n",
              "        buttonEl.style.display =\n",
              "          google.colab.kernel.accessAllowed ? 'block' : 'none';\n",
              "\n",
              "        async function convertToInteractive(key) {\n",
              "          const element = document.querySelector('#df-f5e82778-e303-4e29-96e8-b27d20793567');\n",
              "          const dataTable =\n",
              "            await google.colab.kernel.invokeFunction('convertToInteractive',\n",
              "                                                     [key], {});\n",
              "          if (!dataTable) return;\n",
              "\n",
              "          const docLinkHtml = 'Like what you see? Visit the ' +\n",
              "            '<a target=\"_blank\" href=https://colab.research.google.com/notebooks/data_table.ipynb>data table notebook</a>'\n",
              "            + ' to learn more about interactive tables.';\n",
              "          element.innerHTML = '';\n",
              "          dataTable['output_type'] = 'display_data';\n",
              "          await google.colab.output.renderOutput(dataTable, element);\n",
              "          const docLink = document.createElement('div');\n",
              "          docLink.innerHTML = docLinkHtml;\n",
              "          element.appendChild(docLink);\n",
              "        }\n",
              "      </script>\n",
              "    </div>\n",
              "  </div>\n",
              "  "
            ]
          },
          "metadata": {},
          "execution_count": 260
        }
      ],
      "source": [
        "features_valid_ord"
      ]
    },
    {
      "cell_type": "markdown",
      "metadata": {
        "id": "4TFoxvPgybQO"
      },
      "source": [
        "### Построим модель"
      ]
    },
    {
      "cell_type": "code",
      "execution_count": null,
      "metadata": {
        "colab": {
          "base_uri": "https://localhost:8080/"
        },
        "id": "Z2mQdA7OHGBC",
        "outputId": "4821944b-bca7-4400-fbf1-bd96ca4d213c",
        "trusted": false
      },
      "outputs": [
        {
          "output_type": "stream",
          "name": "stdout",
          "text": [
            "f1 лучшей модели: 0.5951359084406294\n",
            "Глубина дерева для лучшей модели: 8\n"
          ]
        }
      ],
      "source": [
        "model__tree = None # будет здесь лучшая модель дерева\n",
        "best_result = 0\n",
        "\n",
        "for depth in range(1, 10):\n",
        "  model = DecisionTreeClassifier(random_state=12345, max_depth=depth) # модель с заданной глубиной\n",
        "  model.fit(features_train_ord, target_train_ord) # обучили модель\n",
        "  predictions = model.predict(features_valid_ord) # предсказания модели\n",
        "  result = f1_score(target_valid_ord, predictions) # f1\n",
        "\n",
        "  if result > best_result:\n",
        "    model_tree = model\n",
        "    best_result = result\n",
        "    depth_best = depth    \n",
        "print('f1 лучшей модели:', best_result)\n",
        "print('Глубина дерева для лучшей модели:', depth_best)"
      ]
    },
    {
      "cell_type": "markdown",
      "metadata": {
        "id": "_Zlk4VOQIsjX"
      },
      "source": [
        "Построим графики."
      ]
    },
    {
      "cell_type": "code",
      "execution_count": null,
      "metadata": {
        "colab": {
          "base_uri": "https://localhost:8080/",
          "height": 295
        },
        "id": "VeOkdlBbHIZZ",
        "outputId": "cd122bc3-e919-4977-b67a-913882b5c393",
        "trusted": false
      },
      "outputs": [
        {
          "output_type": "display_data",
          "data": {
            "text/plain": [
              "<Figure size 432x288 with 1 Axes>"
            ],
            "image/png": "[encoded data removed]"
          },
          "metadata": {
            "needs_background": "light"
          }
        }
      ],
      "source": [
        "# посчитаем precision и recall\n",
        "precision, recall, thresholds = precision_recall_curve(target_valid_ord, model_tree.predict(features_valid_ord))\n",
        "\n",
        "#создадим кривую precision recall\n",
        "plt.step(recall, precision, where='post', color='purple')\n",
        "\n",
        "#добавим подписи\n",
        "plt.title('Precision-Recall Curve')\n",
        "plt.ylabel('Precision')\n",
        "plt.xlabel('Recall')\n",
        "\n",
        "plt.show() "
      ]
    },
    {
      "cell_type": "code",
      "execution_count": null,
      "metadata": {
        "colab": {
          "base_uri": "https://localhost:8080/",
          "height": 347
        },
        "id": "LPuy4nifI1ep",
        "outputId": "a22c4ef1-9abe-47d8-a88a-2904610a51fe",
        "trusted": false
      },
      "outputs": [
        {
          "output_type": "display_data",
          "data": {
            "text/plain": [
              "<Figure size 432x288 with 1 Axes>"
            ],
            "image/png": "[encoded data removed]"
          },
          "metadata": {
            "needs_background": "light"
          }
        },
        {
          "output_type": "stream",
          "name": "stdout",
          "text": [
            "Показатели на тестовой выборке\n",
            "F1 = 0.5951359084406294\n",
            "roc_auc = 0.813436822593359\n"
          ]
        }
      ],
      "source": [
        "metrics(target_valid_ord, features_valid_ord, model_tree)"
      ]
    },
    {
      "cell_type": "markdown",
      "metadata": {
        "id": "Mu7hDnMPIxMW"
      },
      "source": [
        "**Итак,** значение метрики F1 = 0.59, roc_auc = 0.81, оба эти показателя выше, чем у логистической регрессии."
      ]
    },
    {
      "cell_type": "markdown",
      "metadata": {
        "id": "GBdCFBBgHJaz"
      },
      "source": [
        "## Случайный лес"
      ]
    },
    {
      "cell_type": "markdown",
      "metadata": {
        "id": "a7avx3skPWKQ"
      },
      "source": [
        "Построим модель."
      ]
    },
    {
      "cell_type": "code",
      "execution_count": null,
      "metadata": {
        "colab": {
          "base_uri": "https://localhost:8080/"
        },
        "id": "PtlkW_S2HMhG",
        "outputId": "0bb9928b-7411-4a71-8ab6-d26f2e1a423c",
        "trusted": false
      },
      "outputs": [
        {
          "output_type": "stream",
          "name": "stdout",
          "text": [
            "CPU times: user 13min 25s, sys: 2.56 s, total: 13min 27s\n",
            "Wall time: 13min 26s\n"
          ]
        },
        {
          "output_type": "execute_result",
          "data": {
            "text/plain": [
              "{'max_depth': 13,\n",
              " 'min_samples_leaf': 1,\n",
              " 'min_samples_split': 8,\n",
              " 'n_estimators': 70}"
            ]
          },
          "metadata": {},
          "execution_count": 264
        }
      ],
      "source": [
        "%%time\n",
        "\n",
        "clf_forest = RandomForestClassifier(random_state=12345) # объявили классификатор\n",
        "\n",
        "# параметры, которые будут меняться\n",
        "parametrs = { 'n_estimators': range (40, 71, 10), # число деревьев в лесу\n",
        "              'max_depth': range (5,15, 2), # глубина дерева\n",
        "              'min_samples_leaf': range (1,6), # минимальное число образцов в листах\n",
        "              'min_samples_split': range (4,12,2) } # минимальное число образцов для сплита\n",
        "\n",
        "# объединим обучающую выборку и валидационную для GridSearchCV\n",
        "features_gs = pd.concat([features_train_ord, features_valid_ord], ignore_index=True)\n",
        "target_gs = pd.concat([target_train_ord, target_valid_ord], ignore_index=True)\n",
        "\n",
        "model_forest = GridSearchCV(clf_forest, parametrs,  cv=5) # cv - генератор перекрестной проверки или итерируемый, по умолчанию\n",
        "model_forest.fit(features_gs, target_gs)\n",
        "\n",
        "# выводим лучшие параметры\n",
        "model_forest.best_params_"
      ]
    },
    {
      "cell_type": "markdown",
      "metadata": {
        "id": "YlnpIrAJPYUy"
      },
      "source": [
        "Построим графики."
      ]
    },
    {
      "cell_type": "code",
      "execution_count": null,
      "metadata": {
        "colab": {
          "base_uri": "https://localhost:8080/",
          "height": 295
        },
        "id": "jQOQSVCLJw3f",
        "outputId": "d0de2d63-badf-42f1-e9c7-83fc521ebcb3",
        "trusted": false
      },
      "outputs": [
        {
          "output_type": "display_data",
          "data": {
            "text/plain": [
              "<Figure size 432x288 with 1 Axes>"
            ],
            "image/png": "[encoded data removed]"
          },
          "metadata": {
            "needs_background": "light"
          }
        }
      ],
      "source": [
        "# посчитаем precision и recall\n",
        "precision, recall, thresholds = precision_recall_curve(target_valid_ord, model_forest.best_estimator_.predict(features_valid_ord))\n",
        "\n",
        "#создадим кривую precision recall\n",
        "plt.step(recall, precision, where='post', color='purple')\n",
        "\n",
        "#добавим подписи\n",
        "plt.title('Precision-Recall Curve')\n",
        "plt.ylabel('Precision')\n",
        "plt.xlabel('Recall')\n",
        "\n",
        "plt.show() "
      ]
    },
    {
      "cell_type": "code",
      "execution_count": null,
      "metadata": {
        "colab": {
          "base_uri": "https://localhost:8080/",
          "height": 347
        },
        "id": "lIu35EhwKfaU",
        "outputId": "01ccc07b-9086-41ec-b4f4-8f6ba1eca153",
        "trusted": false
      },
      "outputs": [
        {
          "output_type": "display_data",
          "data": {
            "text/plain": [
              "<Figure size 432x288 with 1 Axes>"
            ],
            "image/png": "[encoded data removed]"
          },
          "metadata": {
            "needs_background": "light"
          }
        },
        {
          "output_type": "stream",
          "name": "stdout",
          "text": [
            "Показатели на тестовой выборке\n",
            "F1 = 0.7880512091038407\n",
            "roc_auc = 0.9840994186619372\n"
          ]
        }
      ],
      "source": [
        "metrics(target_valid_ord, features_valid_ord, model_forest.best_estimator_)"
      ]
    },
    {
      "cell_type": "markdown",
      "metadata": {
        "id": "SMq-xS2nO6Om"
      },
      "source": [
        "**Итак,** в модели случайного леса получили значение F1 = 0.78, roc_auc = 0.98."
      ]
    },
    {
      "cell_type": "markdown",
      "metadata": {
        "id": "VE_r6EypPQrZ"
      },
      "source": [
        "## Вывод"
      ]
    },
    {
      "cell_type": "markdown",
      "metadata": {
        "id": "Yzh7iWcgwRjM"
      },
      "source": [
        "Мы подготовили данные для построения моделей. Удалили столбцы, которые не потребуются в построении моделей. Перевели категориальные данные в числовые. Для логистической регрессии использовали метод прямого кодирования. Для случайного леса и дерева решений использовали порядковое кодирование. Также мы масштабировали данные. У нас есть дисбаланс классов. Одного класса почти в 4 раза больше другого. Мы построили три модели без учета дисбаланса и смотрели метрику F1 и ROC кривую. Метрика F1 - это среднее гармоническое между точностью и полнотой(precision и recall), чем она ближе к еденице тем лучше модель. ROC кривая описывает взаимосвязь между чувствительностью модели (TPR - доля истинно положительных примеров) и её специфичностью (описываемой в отношении долей ложноположительных результатов: 1-FPR), сравнивает как чувствительность модели меняется по отношению к ложно положительным долям на разных порогах отсечения. Получили самое низкое качество модели у логистической регрессии(f1 = 0.30, roc_auc = 0.79). Показатель F1 у дерева 0.59, roc_auc = 0.81. Лучшая модель - случайный лес. Его значения F1 = 0.78, roc_auc = 0.98."
      ]
    },
    {
      "cell_type": "markdown",
      "metadata": {
        "id": "zAUNQ04LHNch"
      },
      "source": [
        "# Обучение с учетом дисбаланса"
      ]
    },
    {
      "cell_type": "markdown",
      "metadata": {
        "id": "QZU-s6FoTVuQ"
      },
      "source": [
        "Для того, чтобы сбалансировать наши выборки напишем функции. Функция `downsample` будет уменьшать класс нулей. А функция `upsample` увеличивать класс единиц. "
      ]
    },
    {
      "cell_type": "code",
      "execution_count": null,
      "metadata": {
        "id": "DgQFOIO9AbS_",
        "trusted": false
      },
      "outputs": [],
      "source": [
        "def downsample(features, target, fraction):\n",
        "  features_zeros = features[target == 0]\n",
        "  features_ones = features[target == 1]\n",
        "  target_zeros = target[target == 0]\n",
        "  target_ones = target[target == 1]\n",
        "\n",
        "  features_downsampled = pd.concat([features_zeros.sample(frac=fraction, random_state=12345)] + [features_ones])\n",
        "  target_downsampled = pd.concat([target_zeros.sample(frac=fraction, random_state=12345)] + [target_ones])\n",
        "\n",
        "  features_downsampled, target_downsampled = shuffle(features_downsampled, target_downsampled, random_state=12345)\n",
        "\n",
        "  return features_downsampled, target_downsampled"
      ]
    },
    {
      "cell_type": "code",
      "execution_count": null,
      "metadata": {
        "id": "4gMPX18_L3t7",
        "trusted": false
      },
      "outputs": [],
      "source": [
        "def upsample(features, target, repeat):\n",
        "    features_zeros = features[target == 0]\n",
        "    features_ones = features[target == 1]\n",
        "    target_zeros = target[target == 0]\n",
        "    target_ones = target[target == 1]\n",
        "    \n",
        "    features_upsampled = pd.concat([features_zeros] + [features_ones] * repeat)\n",
        "    target_upsampled = pd.concat([target_zeros] + [target_ones] * repeat)\n",
        "    \n",
        "    features_upsampled, target_upsampled = shuffle(features_upsampled, target_upsampled, random_state=12345)\n",
        "    \n",
        "    return features_upsampled, target_upsampled"
      ]
    },
    {
      "cell_type": "markdown",
      "metadata": {
        "id": "MpZLhxlYUj_d"
      },
      "source": [
        "Применим функции к нашим признакам."
      ]
    },
    {
      "cell_type": "code",
      "execution_count": null,
      "metadata": {
        "id": "EoFPUzwsDBtA",
        "trusted": false
      },
      "outputs": [],
      "source": [
        "features_downsample, target_downsample = downsample(features_train_ord, target_train_ord, 0.4)"
      ]
    },
    {
      "cell_type": "code",
      "execution_count": null,
      "metadata": {
        "colab": {
          "base_uri": "https://localhost:8080/"
        },
        "id": "JNjSJc7yLKk1",
        "outputId": "700fde3b-0d57-43c1-f08b-77eafce1a8c8",
        "trusted": false
      },
      "outputs": [
        {
          "output_type": "execute_result",
          "data": {
            "text/plain": [
              "0    0.609959\n",
              "1    0.390041\n",
              "Name: exited, dtype: float64"
            ]
          },
          "metadata": {},
          "execution_count": 270
        }
      ],
      "source": [
        "target_downsample.value_counts(normalize=True)"
      ]
    },
    {
      "cell_type": "code",
      "execution_count": null,
      "metadata": {
        "id": "mXV_kQqiMz3V",
        "trusted": false
      },
      "outputs": [],
      "source": [
        "features_upsample, target_upsample = upsample(features_train_ord, target_train_ord, 4)"
      ]
    },
    {
      "cell_type": "code",
      "execution_count": null,
      "metadata": {
        "colab": {
          "base_uri": "https://localhost:8080/"
        },
        "id": "i3Yqd0SgUcgv",
        "outputId": "605d6fc2-3193-44cb-e78f-54daf0968259",
        "trusted": false
      },
      "outputs": [
        {
          "output_type": "execute_result",
          "data": {
            "text/plain": [
              "1    0.50569\n",
              "0    0.49431\n",
              "Name: exited, dtype: float64"
            ]
          },
          "metadata": {},
          "execution_count": 272
        }
      ],
      "source": [
        "target_upsample.value_counts(normalize=True)"
      ]
    },
    {
      "cell_type": "code",
      "execution_count": null,
      "metadata": {
        "colab": {
          "base_uri": "https://localhost:8080/"
        },
        "id": "7MP3UlTweC60",
        "outputId": "a66af95e-a997-4c0a-8102-07ee25a04007",
        "trusted": false
      },
      "outputs": [
        {
          "output_type": "execute_result",
          "data": {
            "text/plain": [
              "0    4778\n",
              "1    1222\n",
              "Name: exited, dtype: int64"
            ]
          },
          "metadata": {},
          "execution_count": 273
        }
      ],
      "source": [
        "target_train_ord.value_counts()"
      ]
    },
    {
      "cell_type": "code",
      "execution_count": null,
      "metadata": {
        "colab": {
          "base_uri": "https://localhost:8080/"
        },
        "id": "GPyH32fGeRAV",
        "outputId": "f40e51ec-2a50-4b5c-90ca-30a0f79384f3",
        "trusted": false
      },
      "outputs": [
        {
          "output_type": "execute_result",
          "data": {
            "text/plain": [
              "1    4888\n",
              "0    4778\n",
              "Name: exited, dtype: int64"
            ]
          },
          "metadata": {},
          "execution_count": 274
        }
      ],
      "source": [
        "target_upsample.value_counts()"
      ]
    },
    {
      "cell_type": "code",
      "execution_count": null,
      "metadata": {
        "colab": {
          "base_uri": "https://localhost:8080/"
        },
        "id": "IEe-pbcad8Rw",
        "outputId": "1a079fc9-4a67-4640-f63f-5183acaa57fe",
        "trusted": false
      },
      "outputs": [
        {
          "output_type": "execute_result",
          "data": {
            "text/plain": [
              "0    1911\n",
              "1    1222\n",
              "Name: exited, dtype: int64"
            ]
          },
          "metadata": {},
          "execution_count": 275
        }
      ],
      "source": [
        "target_downsample.value_counts()"
      ]
    },
    {
      "cell_type": "markdown",
      "metadata": {
        "id": "D9ZVJXV0KYHv"
      },
      "source": [
        "### Логистическая регрессия"
      ]
    },
    {
      "cell_type": "markdown",
      "metadata": {
        "id": "1bSeddIkLO2S"
      },
      "source": [
        "Преобразуем признаки для логистической регрессии."
      ]
    },
    {
      "cell_type": "code",
      "execution_count": null,
      "metadata": {
        "id": "uah9mXKhLV2p",
        "trusted": false
      },
      "outputs": [],
      "source": [
        "features_downsample_ohe, target_downsample_ohe = downsample(features_train_ohe, target_train_ohe, 0.4)\n",
        "features_upsample_ohe, target_upsample_ohe = upsample(features_train_ohe, target_train_ohe, 40)"
      ]
    },
    {
      "cell_type": "code",
      "execution_count": null,
      "metadata": {
        "id": "wHVTY8fMHRnT",
        "trusted": false
      },
      "outputs": [],
      "source": [
        "clf = LogisticRegression(solver='liblinear', class_weight='balanced', random_state=12345)\n",
        "\n",
        "def log_model(features, target):\n",
        "  clf.fit(features, target) # обучим модель\n",
        "\n",
        "  print(f'F1 = {f1_score(target_valid_ohe, clf.predict(features_valid_ohe))}')\n",
        "  print(f'roc_auc = {roc_auc_score(target_valid_ohe, clf.predict_proba(features_valid_ohe)[:,1])}')"
      ]
    },
    {
      "cell_type": "code",
      "execution_count": null,
      "metadata": {
        "colab": {
          "base_uri": "https://localhost:8080/"
        },
        "id": "5395lRidSuGd",
        "outputId": "ce8df46b-6c2b-435a-e29c-0088d613aebf",
        "trusted": false
      },
      "outputs": [
        {
          "output_type": "stream",
          "name": "stdout",
          "text": [
            "Изначальные:\n",
            "F1 = 0.5298245614035088\n",
            "roc_auc = 0.7935310744900974\n",
            "\n",
            "Downsample:\n",
            "F1 = 0.5313588850174216\n",
            "roc_auc = 0.793620369001872\n",
            "\n",
            "Upsample:\n",
            "F1 = 0.5298245614035088\n",
            "roc_auc = 0.7934818085525668\n"
          ]
        }
      ],
      "source": [
        "print('Изначальные:')\n",
        "log_model(features_train_ohe, target_train_ohe)\n",
        "print()\n",
        "print('Downsample:')\n",
        "log_model(features_downsample_ohe, target_downsample_ohe)\n",
        "print()\n",
        "print('Upsample:')\n",
        "log_model(features_upsample_ohe, target_upsample_ohe)"
      ]
    },
    {
      "cell_type": "markdown",
      "metadata": {
        "id": "DZPq1HJoVRDO"
      },
      "source": [
        "После балансировки метрика F1 стала на много лучше(около 0.53), а вот значение roc_auc не изменилось."
      ]
    },
    {
      "cell_type": "markdown",
      "metadata": {
        "id": "ivQLamL9ASNr"
      },
      "source": [
        "### Дерево решений"
      ]
    },
    {
      "cell_type": "markdown",
      "metadata": {
        "id": "Af_SavEjFn43"
      },
      "source": [
        "Напишем функцию и подставим сблансированные классы. "
      ]
    },
    {
      "cell_type": "code",
      "execution_count": null,
      "metadata": {
        "id": "iBBWj2sMHTLz",
        "trusted": false
      },
      "outputs": [],
      "source": [
        "def dtc(features, target):\n",
        "  model_dtc = DecisionTreeClassifier(random_state=12345, max_depth=8)\n",
        "  model_dtc.fit(features, target)\n",
        "  print(f'F1 = {f1_score(target_valid_ord, model_dtc.predict(features_valid_ord))}')\n",
        "  print(f'roc_auc = {roc_auc_score(target_valid_ord, model_dtc.predict_proba(features_valid_ord)[:,1])}')"
      ]
    },
    {
      "cell_type": "code",
      "execution_count": null,
      "metadata": {
        "colab": {
          "base_uri": "https://localhost:8080/"
        },
        "id": "1JKFt8YjXbIy",
        "outputId": "39484a5e-63e2-4d8d-8fd2-2454791908f2",
        "trusted": false
      },
      "outputs": [
        {
          "output_type": "stream",
          "name": "stdout",
          "text": [
            "Изначальные:\n",
            "F1 = 0.5951359084406294\n",
            "roc_auc = 0.813436822593359\n",
            "\n",
            "Downsample:\n",
            "F1 = 0.5854166666666666\n",
            "roc_auc = 0.81821253941275\n",
            "\n",
            "Upsample:\n",
            "F1 = 0.5555555555555557\n",
            "roc_auc = 0.8008917134693073\n"
          ]
        }
      ],
      "source": [
        "print('Изначальные:')\n",
        "dtc(features_train_ord, target_train_ord)\n",
        "print()\n",
        "print('Downsample:')\n",
        "dtc(features_downsample, target_downsample)\n",
        "print()\n",
        "print('Upsample:')\n",
        "dtc(features_upsample, target_upsample)"
      ]
    },
    {
      "cell_type": "markdown",
      "metadata": {
        "id": "avMblk-7YLP1"
      },
      "source": [
        "Метрика не улучшилась, а стала даже хуже после балансировки."
      ]
    },
    {
      "cell_type": "markdown",
      "metadata": {
        "id": "NV_txtTwU-sM"
      },
      "source": [
        "### Случайный лес"
      ]
    },
    {
      "cell_type": "code",
      "execution_count": null,
      "metadata": {
        "id": "H4AJ2ZUrEtEg",
        "trusted": false
      },
      "outputs": [],
      "source": [
        "def rfc(features, target):\n",
        "  model_rfc = RandomForestClassifier(n_estimators=70, max_depth=11, min_samples_split=10, min_samples_leaf=1, random_state=12345) \n",
        "  model_rfc.fit(features, target)\n",
        "  print(f'F1 = {f1_score(target_valid_ord, model_rfc.predict(features_valid_ord))}')\n",
        "  print(f'roc_auc = {roc_auc_score(target_valid_ord, model_rfc.predict_proba(features_valid_ord)[:,1])}')"
      ]
    },
    {
      "cell_type": "code",
      "execution_count": null,
      "metadata": {
        "colab": {
          "base_uri": "https://localhost:8080/"
        },
        "id": "EtIQS8LUZjm3",
        "outputId": "bd8f5116-08b0-4bd2-810d-d0d25ce6c515",
        "trusted": false
      },
      "outputs": [
        {
          "output_type": "stream",
          "name": "stdout",
          "text": [
            "Изначальные:\n",
            "F1 = 0.5750000000000001\n",
            "roc_auc = 0.8739761922356881\n",
            "\n",
            "Downsample:\n",
            "F1 = 0.6439135381114903\n",
            "roc_auc = 0.8662214257562321\n",
            "\n",
            "Upsample:\n",
            "F1 = 0.6361607142857143\n",
            "roc_auc = 0.8678548994974875\n"
          ]
        }
      ],
      "source": [
        "print('Изначальные:')\n",
        "rfc(features_train_ord, target_train_ord)\n",
        "print()\n",
        "print('Downsample:')\n",
        "rfc(features_downsample, target_downsample)\n",
        "print()\n",
        "print('Upsample:')\n",
        "rfc(features_upsample, target_upsample)"
      ]
    },
    {
      "cell_type": "markdown",
      "metadata": {
        "id": "BWhKs4bRbAPq"
      },
      "source": [
        "Получили высокие показатели метрики F1(0.64) после балансировки. Уменьшение выборки сработало лучше. Значение roc_auc в одном диапазоне(0.86)."
      ]
    },
    {
      "cell_type": "markdown",
      "metadata": {
        "id": "12FKConMb_TN"
      },
      "source": [
        "### Вывод"
      ]
    },
    {
      "cell_type": "markdown",
      "metadata": {
        "id": "YokHV32mc6Nm"
      },
      "source": [
        "Для балансировки данных использовали два метода: увеличение класса (`upsamle`) и уменьшение класса (`downsample`). Показатели ROC кривой практически не изменились. А метрика F1 улучшилась для всех моделей. Самая низкая осталась так же у логистической регрессии(0.53). Лучший показатель у модели случайного леса(0.64). "
      ]
    },
    {
      "cell_type": "markdown",
      "metadata": {
        "id": "WVDYFLr_gzca"
      },
      "source": [
        "# Финальное тестирование"
      ]
    },
    {
      "cell_type": "markdown",
      "metadata": {
        "id": "IYc-XNykg3ev"
      },
      "source": [
        "Для финального тестирования возьмем модель случайного леса, так как именно эта модель показывала самые высокие показатели. Мы уменьшим классы, так как F1 была выше в методе `downsample`. У нас есть объединенные выборки `train` и `valid` в переменных `features_gs`, `target_gs`.Сбалансируем и обучим модель на новых данных, затем протестируем результаты."
      ]
    },
    {
      "cell_type": "code",
      "execution_count": null,
      "metadata": {
        "id": "GqCBA2FSh1OR",
        "trusted": false
      },
      "outputs": [],
      "source": [
        "features_downsample_gs, target_downsample_gs = downsample(features_gs, target_gs, 0.4)"
      ]
    },
    {
      "cell_type": "code",
      "execution_count": null,
      "metadata": {
        "colab": {
          "base_uri": "https://localhost:8080/"
        },
        "id": "qGzACQLlh7GH",
        "outputId": "a9f5208c-97e1-41a0-b69c-ef1a4364e026",
        "trusted": false
      },
      "outputs": [
        {
          "output_type": "execute_result",
          "data": {
            "text/plain": [
              "0    0.609861\n",
              "1    0.390139\n",
              "Name: exited, dtype: float64"
            ]
          },
          "metadata": {},
          "execution_count": 284
        }
      ],
      "source": [
        "target_downsample_gs.value_counts(normalize=True)"
      ]
    },
    {
      "cell_type": "code",
      "execution_count": null,
      "metadata": {
        "colab": {
          "base_uri": "https://localhost:8080/"
        },
        "id": "SVwjLKgmZnbW",
        "outputId": "6e04a7f7-06db-476d-80c6-30cca0c645fe",
        "trusted": false
      },
      "outputs": [
        {
          "output_type": "stream",
          "name": "stdout",
          "text": [
            "CPU times: user 12min 29s, sys: 2.92 s, total: 12min 32s\n",
            "Wall time: 12min 35s\n"
          ]
        },
        {
          "output_type": "execute_result",
          "data": {
            "text/plain": [
              "{'max_depth': 11,\n",
              " 'min_samples_leaf': 4,\n",
              " 'min_samples_split': 10,\n",
              " 'n_estimators': 40}"
            ]
          },
          "metadata": {},
          "execution_count": 285
        }
      ],
      "source": [
        "%%time\n",
        "\n",
        "clf_forest_test = RandomForestClassifier(random_state=12345) # объявили классификатор\n",
        "\n",
        "# параметры, которые будут меняться\n",
        "parametrs = { 'n_estimators': range (20, 71, 10), # число деревьев в лесу\n",
        "              'max_depth': range (1,15, 2), # глубина дерева\n",
        "              'min_samples_leaf': range (1,6), # минимальное число образцов в листах\n",
        "              'min_samples_split': range (4,12,2) } # минимальное число образцов для сплита\n",
        "\n",
        "model_forest_test = GridSearchCV(clf_forest, parametrs,  cv=5) # cv - генератор перекрестной проверки или итерируемый, по умолчанию\n",
        "model_forest_test.fit(features_downsample_gs, target_downsample_gs)\n",
        "\n",
        "# выводим лучшие параметры\n",
        "model_forest_test.best_params_"
      ]
    },
    {
      "cell_type": "code",
      "execution_count": null,
      "metadata": {
        "colab": {
          "base_uri": "https://localhost:8080/",
          "height": 347
        },
        "id": "BVYZ4UIeibLn",
        "outputId": "cf1ede4a-a618-4f64-a70d-d5e7daeeb24c",
        "trusted": false
      },
      "outputs": [
        {
          "output_type": "display_data",
          "data": {
            "text/plain": [
              "<Figure size 432x288 with 1 Axes>"
            ],
            "image/png": "[encoded data removed]"
          },
          "metadata": {
            "needs_background": "light"
          }
        },
        {
          "output_type": "stream",
          "name": "stdout",
          "text": [
            "Показатели на тестовой выборке\n",
            "F1 = 0.6105263157894738\n",
            "roc_auc = 0.8543782611579223\n"
          ]
        }
      ],
      "source": [
        "metrics(target_test_ord, features_test_ord, model_forest_test.best_estimator_)"
      ]
    },
    {
      "cell_type": "markdown",
      "metadata": {
        "id": "_9zLk2EEpUXb"
      },
      "source": [
        "# Вывод"
      ]
    },
    {
      "cell_type": "markdown",
      "metadata": {
        "id": "KHHL_7g2pa3j"
      },
      "source": [
        "Нашей задачей было построить модель, которая бы предсказывала уход клиента из банка. Для определения качества модели мы использовали **F1 меру** и **ROC-кривую**.  \n",
        "Мы отфильтровали датасет и закодировали категориальные признаки. Для модели логистической регрессии использовали прямое кодирование (`One Hot Encoding`), а для моделей леса и дерева использовали порядковое кодирование (`Ordinal Encoding`). Так как в данных некоторые числовые значения имели разный диапазон значений, мы масштабировали некоторые колонки. В данных наблюдался дисбаланс классов, поэтому использовали разные методы балансировки данных. При этом значения ROC кривой существенно не менялись.  \n",
        "\n",
        "**Получили результаты:**\n",
        "* **Логистическая регрессия:** на изначальных данных значение `F1 = 0.32`, `roc_auc = 0.78`. После балансировки максимальное значение `F1` стало 0.53.\n",
        "* **Дерево решений:** без учета баланса `F1 = 0.59`, `roc_auc = 0.81`. После использования методов балансировки значение меры `F1` уменьшилось до 0.55 - 0.57.\n",
        "* **Случайный лес:** результат изначальных данных - `F1 = 0.57`, `roc_auc = 0.87`. После метода `downsample` мера `F1 = 0.644`.  \n",
        "\n",
        "Модель случайного леса показала лучшие результаты, поэтому мы объединили выборки, сбалансировали и снова обучили модель. Проверили модель на тестовых данных, получили: **`F1 = 0.61`, `roc_auc = 0.85`.** Эти показатели говорят о том, что модель довольно хорошо предсказывает потенциальный уход клиента.\n",
        "\n",
        "\n",
        "\n"
      ]
    }
  ],
  "metadata": {
    "colab": {
      "provenance": []
    },
    "kernelspec": {
      "display_name": "Python 3 (ipykernel)",
      "language": "python",
      "name": "python3"
    },
    "language_info": {
      "codemirror_mode": {
        "name": "ipython",
        "version": 3
      },
      "file_extension": ".py",
      "mimetype": "text/x-python",
      "name": "python",
      "nbconvert_exporter": "python",
      "pygments_lexer": "ipython3",
      "version": "3.9.5"
    },
    "toc": {
      "base_numbering": 1,
      "nav_menu": {},
      "number_sections": true,
      "sideBar": true,
      "skip_h1_title": true,
      "title_cell": "Table of Contents",
      "title_sidebar": "Contents",
      "toc_cell": false,
      "toc_position": {},
      "toc_section_display": true,
      "toc_window_display": false
    }
  },
  "nbformat": 4,
  "nbformat_minor": 0
}