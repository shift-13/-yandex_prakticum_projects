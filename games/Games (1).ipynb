{
  "cells": [
    {
      "cell_type": "markdown",
      "metadata": {
        "id": "uaREGIODITlI"
      },
      "source": [
        "# Описание проекта"
      ]
    },
    {
      "cell_type": "markdown",
      "metadata": {
        "id": "wV6t_9RNITlK"
      },
      "source": [
        "Из открытых источников доступны исторические данные о продажах игр, оценки пользователей и экспертов, жанры и платформы (например, Xbox или PlayStation)."
      ]
    },
    {
      "cell_type": "markdown",
      "metadata": {
        "id": "adZLoi6hITlL"
      },
      "source": [
        "* `Name` — название игры\n",
        "* `Platform` — платформа\n",
        "* `Year_of_Release` — год выпуска\n",
        "* `Genre` — жанр игры\n",
        "* `NA_sales` — продажи в Северной Америке (миллионы проданных копий)\n",
        "* `EU_sales` — продажи в Европе (миллионы проданных копий)\n",
        "* `JP_sales` — продажи в Японии (миллионы проданных копий)\n",
        "* `Other_sales` — продажи в других странах (миллионы проданных копий)\n",
        "* `Critic_Score` — оценка критиков (максимум 100)\n",
        "* `User_Score` — оценка пользователей (максимум 10)\n",
        "* `Rating` — рейтинг от организации ESRB (англ. Entertainment Software Rating Board). Эта ассоциация определяет рейтинг компьютерных игр и присваивает им подходящую возрастную категорию."
      ]
    },
    {
      "cell_type": "markdown",
      "metadata": {
        "id": "stUKjE_rITlM"
      },
      "source": [
        "**Цель проекта:** Выявить определяющие успешность игры закономерности, для того, чтобы сделать ставку на потенциально популярный продукт и спланировать рекламные кампании."
      ]
    },
    {
      "cell_type": "markdown",
      "metadata": {
        "id": "YDMRwrXpITlO"
      },
      "source": [
        "## Откроем файл с данными"
      ]
    },
    {
      "cell_type": "markdown",
      "metadata": {
        "id": "06ckVv3GITlP"
      },
      "source": [
        "Импортируем библиотеки."
      ]
    },
    {
      "cell_type": "code",
      "execution_count": 2,
      "metadata": {
        "trusted": false,
        "id": "gCeOp5gdITlR"
      },
      "outputs": [],
      "source": [
        "import pandas as pd\n",
        "import numpy as np\n",
        "\n",
        "import matplotlib.pyplot as plt\n",
        "import seaborn as sns\n",
        "\n",
        "from scipy import stats as st"
      ]
    },
    {
      "cell_type": "markdown",
      "metadata": {
        "id": "6PA1gqCPITlV"
      },
      "source": [
        "Прочитаем файл, изучим общую информацию."
      ]
    },
    {
      "cell_type": "code",
      "execution_count": 3,
      "metadata": {
        "trusted": false,
        "id": "P7udOIgTITlW",
        "colab": {
          "base_uri": "https://localhost:8080/"
        },
        "outputId": "ebb2b11d-ebf7-442a-ff5f-32792f47fab4"
      },
      "outputs": [
        {
          "output_type": "stream",
          "name": "stdout",
          "text": [
            "/usr/local/lib/python3.9/dist-packages/gdown/cli.py:127: FutureWarning: Option `--id` was deprecated in version 4.3.1 and will be removed in 5.0. You don't need to pass it anymore to use a file ID.\n",
            "  warnings.warn(\n"
          ]
        }
      ],
      "source": [
        "try:\n",
        "  data = pd.read_csv('/datasets/games.csv')\n",
        "except:\n",
        "  !gdown --id 1jus5HdmDfGsrC8fkTMXuJIJbECnkvGhY --quiet\n",
        "  data = pd.read_csv('games.csv')"
      ]
    },
    {
      "cell_type": "code",
      "execution_count": 4,
      "metadata": {
        "trusted": false,
        "id": "k8YGU81xITlW",
        "outputId": "99157c5d-19d7-45a1-cf5f-96d5b55b9a40",
        "colab": {
          "base_uri": "https://localhost:8080/",
          "height": 339
        }
      },
      "outputs": [
        {
          "output_type": "execute_result",
          "data": {
            "text/plain": [
              "                       Name Platform  Year_of_Release         Genre  NA_sales  \\\n",
              "0                Wii Sports      Wii           2006.0        Sports     41.36   \n",
              "1         Super Mario Bros.      NES           1985.0      Platform     29.08   \n",
              "2            Mario Kart Wii      Wii           2008.0        Racing     15.68   \n",
              "3         Wii Sports Resort      Wii           2009.0        Sports     15.61   \n",
              "4  Pokemon Red/Pokemon Blue       GB           1996.0  Role-Playing     11.27   \n",
              "\n",
              "   EU_sales  JP_sales  Other_sales  Critic_Score User_Score Rating  \n",
              "0     28.96      3.77         8.45          76.0          8      E  \n",
              "1      3.58      6.81         0.77           NaN        NaN    NaN  \n",
              "2     12.76      3.79         3.29          82.0        8.3      E  \n",
              "3     10.93      3.28         2.95          80.0          8      E  \n",
              "4      8.89     10.22         1.00           NaN        NaN    NaN  "
            ],
            "text/html": [
              "\n",
              "  <div id=\"df-bb998996-bb8e-45ad-98fa-cd05ef9843fb\">\n",
              "    <div class=\"colab-df-container\">\n",
              "      <div>\n",
              "<style scoped>\n",
              "    .dataframe tbody tr th:only-of-type {\n",
              "        vertical-align: middle;\n",
              "    }\n",
              "\n",
              "    .dataframe tbody tr th {\n",
              "        vertical-align: top;\n",
              "    }\n",
              "\n",
              "    .dataframe thead th {\n",
              "        text-align: right;\n",
              "    }\n",
              "</style>\n",
              "<table border=\"1\" class=\"dataframe\">\n",
              "  <thead>\n",
              "    <tr style=\"text-align: right;\">\n",
              "      <th></th>\n",
              "      <th>Name</th>\n",
              "      <th>Platform</th>\n",
              "      <th>Year_of_Release</th>\n",
              "      <th>Genre</th>\n",
              "      <th>NA_sales</th>\n",
              "      <th>EU_sales</th>\n",
              "      <th>JP_sales</th>\n",
              "      <th>Other_sales</th>\n",
              "      <th>Critic_Score</th>\n",
              "      <th>User_Score</th>\n",
              "      <th>Rating</th>\n",
              "    </tr>\n",
              "  </thead>\n",
              "  <tbody>\n",
              "    <tr>\n",
              "      <th>0</th>\n",
              "      <td>Wii Sports</td>\n",
              "      <td>Wii</td>\n",
              "      <td>2006.0</td>\n",
              "      <td>Sports</td>\n",
              "      <td>41.36</td>\n",
              "      <td>28.96</td>\n",
              "      <td>3.77</td>\n",
              "      <td>8.45</td>\n",
              "      <td>76.0</td>\n",
              "      <td>8</td>\n",
              "      <td>E</td>\n",
              "    </tr>\n",
              "    <tr>\n",
              "      <th>1</th>\n",
              "      <td>Super Mario Bros.</td>\n",
              "      <td>NES</td>\n",
              "      <td>1985.0</td>\n",
              "      <td>Platform</td>\n",
              "      <td>29.08</td>\n",
              "      <td>3.58</td>\n",
              "      <td>6.81</td>\n",
              "      <td>0.77</td>\n",
              "      <td>NaN</td>\n",
              "      <td>NaN</td>\n",
              "      <td>NaN</td>\n",
              "    </tr>\n",
              "    <tr>\n",
              "      <th>2</th>\n",
              "      <td>Mario Kart Wii</td>\n",
              "      <td>Wii</td>\n",
              "      <td>2008.0</td>\n",
              "      <td>Racing</td>\n",
              "      <td>15.68</td>\n",
              "      <td>12.76</td>\n",
              "      <td>3.79</td>\n",
              "      <td>3.29</td>\n",
              "      <td>82.0</td>\n",
              "      <td>8.3</td>\n",
              "      <td>E</td>\n",
              "    </tr>\n",
              "    <tr>\n",
              "      <th>3</th>\n",
              "      <td>Wii Sports Resort</td>\n",
              "      <td>Wii</td>\n",
              "      <td>2009.0</td>\n",
              "      <td>Sports</td>\n",
              "      <td>15.61</td>\n",
              "      <td>10.93</td>\n",
              "      <td>3.28</td>\n",
              "      <td>2.95</td>\n",
              "      <td>80.0</td>\n",
              "      <td>8</td>\n",
              "      <td>E</td>\n",
              "    </tr>\n",
              "    <tr>\n",
              "      <th>4</th>\n",
              "      <td>Pokemon Red/Pokemon Blue</td>\n",
              "      <td>GB</td>\n",
              "      <td>1996.0</td>\n",
              "      <td>Role-Playing</td>\n",
              "      <td>11.27</td>\n",
              "      <td>8.89</td>\n",
              "      <td>10.22</td>\n",
              "      <td>1.00</td>\n",
              "      <td>NaN</td>\n",
              "      <td>NaN</td>\n",
              "      <td>NaN</td>\n",
              "    </tr>\n",
              "  </tbody>\n",
              "</table>\n",
              "</div>\n",
              "      <button class=\"colab-df-convert\" onclick=\"convertToInteractive('df-bb998996-bb8e-45ad-98fa-cd05ef9843fb')\"\n",
              "              title=\"Convert this dataframe to an interactive table.\"\n",
              "              style=\"display:none;\">\n",
              "        \n",
              "  <svg xmlns=\"http://www.w3.org/2000/svg\" height=\"24px\"viewBox=\"0 0 24 24\"\n",
              "       width=\"24px\">\n",
              "    <path d=\"M0 0h24v24H0V0z\" fill=\"none\"/>\n",
              "    <path d=\"M18.56 5.44l.94 2.06.94-2.06 2.06-.94-2.06-.94-.94-2.06-.94 2.06-2.06.94zm-11 1L8.5 8.5l.94-2.06 2.06-.94-2.06-.94L8.5 2.5l-.94 2.06-2.06.94zm10 10l.94 2.06.94-2.06 2.06-.94-2.06-.94-.94-2.06-.94 2.06-2.06.94z\"/><path d=\"M17.41 7.96l-1.37-1.37c-.4-.4-.92-.59-1.43-.59-.52 0-1.04.2-1.43.59L10.3 9.45l-7.72 7.72c-.78.78-.78 2.05 0 2.83L4 21.41c.39.39.9.59 1.41.59.51 0 1.02-.2 1.41-.59l7.78-7.78 2.81-2.81c.8-.78.8-2.07 0-2.86zM5.41 20L4 18.59l7.72-7.72 1.47 1.35L5.41 20z\"/>\n",
              "  </svg>\n",
              "      </button>\n",
              "      \n",
              "  <style>\n",
              "    .colab-df-container {\n",
              "      display:flex;\n",
              "      flex-wrap:wrap;\n",
              "      gap: 12px;\n",
              "    }\n",
              "\n",
              "    .colab-df-convert {\n",
              "      background-color: #E8F0FE;\n",
              "      border: none;\n",
              "      border-radius: 50%;\n",
              "      cursor: pointer;\n",
              "      display: none;\n",
              "      fill: #1967D2;\n",
              "      height: 32px;\n",
              "      padding: 0 0 0 0;\n",
              "      width: 32px;\n",
              "    }\n",
              "\n",
              "    .colab-df-convert:hover {\n",
              "      background-color: #E2EBFA;\n",
              "      box-shadow: 0px 1px 2px rgba(60, 64, 67, 0.3), 0px 1px 3px 1px rgba(60, 64, 67, 0.15);\n",
              "      fill: #174EA6;\n",
              "    }\n",
              "\n",
              "    [theme=dark] .colab-df-convert {\n",
              "      background-color: #3B4455;\n",
              "      fill: #D2E3FC;\n",
              "    }\n",
              "\n",
              "    [theme=dark] .colab-df-convert:hover {\n",
              "      background-color: #434B5C;\n",
              "      box-shadow: 0px 1px 3px 1px rgba(0, 0, 0, 0.15);\n",
              "      filter: drop-shadow(0px 1px 2px rgba(0, 0, 0, 0.3));\n",
              "      fill: #FFFFFF;\n",
              "    }\n",
              "  </style>\n",
              "\n",
              "      <script>\n",
              "        const buttonEl =\n",
              "          document.querySelector('#df-bb998996-bb8e-45ad-98fa-cd05ef9843fb button.colab-df-convert');\n",
              "        buttonEl.style.display =\n",
              "          google.colab.kernel.accessAllowed ? 'block' : 'none';\n",
              "\n",
              "        async function convertToInteractive(key) {\n",
              "          const element = document.querySelector('#df-bb998996-bb8e-45ad-98fa-cd05ef9843fb');\n",
              "          const dataTable =\n",
              "            await google.colab.kernel.invokeFunction('convertToInteractive',\n",
              "                                                     [key], {});\n",
              "          if (!dataTable) return;\n",
              "\n",
              "          const docLinkHtml = 'Like what you see? Visit the ' +\n",
              "            '<a target=\"_blank\" href=https://colab.research.google.com/notebooks/data_table.ipynb>data table notebook</a>'\n",
              "            + ' to learn more about interactive tables.';\n",
              "          element.innerHTML = '';\n",
              "          dataTable['output_type'] = 'display_data';\n",
              "          await google.colab.output.renderOutput(dataTable, element);\n",
              "          const docLink = document.createElement('div');\n",
              "          docLink.innerHTML = docLinkHtml;\n",
              "          element.appendChild(docLink);\n",
              "        }\n",
              "      </script>\n",
              "    </div>\n",
              "  </div>\n",
              "  "
            ]
          },
          "metadata": {},
          "execution_count": 4
        }
      ],
      "source": [
        "data.head()"
      ]
    },
    {
      "cell_type": "code",
      "execution_count": 5,
      "metadata": {
        "trusted": false,
        "id": "AhYtl94jITlY",
        "outputId": "ca067c7e-498e-4fcd-dc0f-df25d54f4abd",
        "colab": {
          "base_uri": "https://localhost:8080/"
        }
      },
      "outputs": [
        {
          "output_type": "stream",
          "name": "stdout",
          "text": [
            "<class 'pandas.core.frame.DataFrame'>\n",
            "RangeIndex: 16715 entries, 0 to 16714\n",
            "Data columns (total 11 columns):\n",
            " #   Column           Non-Null Count  Dtype  \n",
            "---  ------           --------------  -----  \n",
            " 0   Name             16713 non-null  object \n",
            " 1   Platform         16715 non-null  object \n",
            " 2   Year_of_Release  16446 non-null  float64\n",
            " 3   Genre            16713 non-null  object \n",
            " 4   NA_sales         16715 non-null  float64\n",
            " 5   EU_sales         16715 non-null  float64\n",
            " 6   JP_sales         16715 non-null  float64\n",
            " 7   Other_sales      16715 non-null  float64\n",
            " 8   Critic_Score     8137 non-null   float64\n",
            " 9   User_Score       10014 non-null  object \n",
            " 10  Rating           9949 non-null   object \n",
            "dtypes: float64(6), object(5)\n",
            "memory usage: 1.4+ MB\n"
          ]
        }
      ],
      "source": [
        "data.info()"
      ]
    },
    {
      "cell_type": "code",
      "execution_count": 6,
      "metadata": {
        "trusted": false,
        "id": "dOrDOCu7ITlY",
        "outputId": "3599873f-b669-462e-dd64-2af60d4a581c",
        "colab": {
          "base_uri": "https://localhost:8080/"
        }
      },
      "outputs": [
        {
          "output_type": "stream",
          "name": "stdout",
          "text": [
            "Количество явных дубликатов 0\n"
          ]
        }
      ],
      "source": [
        "print(f'Количество явных дубликатов {data.duplicated().sum()}')"
      ]
    },
    {
      "cell_type": "code",
      "execution_count": 7,
      "metadata": {
        "trusted": false,
        "id": "7AfyV2PrITlZ",
        "outputId": "f4297d5c-fc08-414f-d23f-61cddfb12f33",
        "colab": {
          "base_uri": "https://localhost:8080/"
        }
      },
      "outputs": [
        {
          "output_type": "stream",
          "name": "stdout",
          "text": [
            "Количество пропусков\n"
          ]
        },
        {
          "output_type": "execute_result",
          "data": {
            "text/plain": [
              "Name                  2\n",
              "Platform              0\n",
              "Year_of_Release     269\n",
              "Genre                 2\n",
              "NA_sales              0\n",
              "EU_sales              0\n",
              "JP_sales              0\n",
              "Other_sales           0\n",
              "Critic_Score       8578\n",
              "User_Score         6701\n",
              "Rating             6766\n",
              "dtype: int64"
            ]
          },
          "metadata": {},
          "execution_count": 7
        }
      ],
      "source": [
        "print('Количество пропусков')\n",
        "data.isna().sum()"
      ]
    },
    {
      "cell_type": "markdown",
      "metadata": {
        "id": "iYZyiLE6ITla"
      },
      "source": [
        "**Итак,** в датасете 16 715 строк и 11 столбцов. Явных дубликатов нет. Есть большое количество пропусков в оценках пользователей, критиков и рейтинг от организации ESRB. Также есть небольшое количество пропусков в колонке с годом, жанром, имени. Они могли возникнуть случайно или данных просто нет(например, утвержденного названия, оценки критиков или пользователей). Колонки с малым количеством пропусков корее всего удалим, пропуски в других колонках надо рассматривать подробнее."
      ]
    },
    {
      "cell_type": "markdown",
      "metadata": {
        "id": "8Lqhy2CXITlc"
      },
      "source": [
        "## Подготовка данных"
      ]
    },
    {
      "cell_type": "markdown",
      "metadata": {
        "id": "SxJzkfDvITld"
      },
      "source": [
        "### Заменим названия столбцов"
      ]
    },
    {
      "cell_type": "code",
      "execution_count": 8,
      "metadata": {
        "trusted": false,
        "id": "IMHNOIOxITld"
      },
      "outputs": [],
      "source": [
        "data.columns = data.columns.str.lower()"
      ]
    },
    {
      "cell_type": "code",
      "execution_count": 9,
      "metadata": {
        "trusted": false,
        "id": "AmIuAuAdITld",
        "outputId": "37754cdf-60ef-4995-d78e-5ba0f321ca30",
        "colab": {
          "base_uri": "https://localhost:8080/"
        }
      },
      "outputs": [
        {
          "output_type": "execute_result",
          "data": {
            "text/plain": [
              "Index(['name', 'platform', 'year_of_release', 'genre', 'na_sales', 'eu_sales',\n",
              "       'jp_sales', 'other_sales', 'critic_score', 'user_score', 'rating'],\n",
              "      dtype='object')"
            ]
          },
          "metadata": {},
          "execution_count": 9
        }
      ],
      "source": [
        "data.columns"
      ]
    },
    {
      "cell_type": "markdown",
      "metadata": {
        "id": "SMx2fTq6ITle"
      },
      "source": [
        "### Изменим типы данных"
      ]
    },
    {
      "cell_type": "markdown",
      "metadata": {
        "id": "GqNkyW7hITlf"
      },
      "source": [
        "Переведем год в целый тип для удобства."
      ]
    },
    {
      "cell_type": "code",
      "execution_count": 10,
      "metadata": {
        "trusted": false,
        "id": "qgCJxgdxITlf"
      },
      "outputs": [],
      "source": [
        "data['year_of_release'] = np.floor(pd.to_numeric(data['year_of_release'], errors='coerce')).astype('Int64')"
      ]
    },
    {
      "cell_type": "code",
      "execution_count": 11,
      "metadata": {
        "trusted": false,
        "id": "tWLCTD82ITlf",
        "outputId": "0067e813-4472-424f-cbbd-4cbb9dbd772b",
        "colab": {
          "base_uri": "https://localhost:8080/"
        }
      },
      "outputs": [
        {
          "output_type": "execute_result",
          "data": {
            "text/plain": [
              "<IntegerArray>\n",
              "[2006, 1985, 2008, 2009, 1996, 1989, 1984, 2005, 1999, 2007, 2010, 2013, 2004,\n",
              " 1990, 1988, 2002, 2001, 2011, 1998, 2015, 2012, 2014, 1992, 1997, 1993, 1994,\n",
              " 1982, 2016, 2003, 1986, 2000, <NA>, 1995, 1991, 1981, 1987, 1980, 1983]\n",
              "Length: 38, dtype: Int64"
            ]
          },
          "metadata": {},
          "execution_count": 11
        }
      ],
      "source": [
        "data['year_of_release'].unique()"
      ]
    },
    {
      "cell_type": "markdown",
      "source": [
        "Приведем оценку критиков в целый тип."
      ],
      "metadata": {
        "id": "q0Pt8NBzmqW5"
      }
    },
    {
      "cell_type": "code",
      "source": [
        "data['critic_score'] = np.floor(pd.to_numeric(data['critic_score'], errors='ignore')).astype('Int64')"
      ],
      "metadata": {
        "id": "0XNC2skNmujM"
      },
      "execution_count": 12,
      "outputs": []
    },
    {
      "cell_type": "code",
      "source": [
        "data['critic_score'].unique()"
      ],
      "metadata": {
        "colab": {
          "base_uri": "https://localhost:8080/"
        },
        "id": "uykBgenCndbZ",
        "outputId": "74ae6e3d-ef7b-4212-9abe-30cdd0f55dba"
      },
      "execution_count": 13,
      "outputs": [
        {
          "output_type": "execute_result",
          "data": {
            "text/plain": [
              "<IntegerArray>\n",
              "[  76, <NA>,   82,   80,   89,   58,   87,   91,   61,   97,   95,   77,   88,\n",
              "   83,   94,   93,   85,   86,   98,   96,   90,   84,   73,   74,   78,   92,\n",
              "   71,   72,   68,   62,   49,   67,   81,   66,   56,   79,   70,   59,   64,\n",
              "   75,   60,   63,   69,   50,   25,   42,   44,   55,   48,   57,   29,   47,\n",
              "   65,   54,   20,   53,   37,   38,   33,   52,   30,   32,   43,   45,   51,\n",
              "   40,   46,   39,   34,   35,   41,   36,   28,   31,   27,   26,   19,   23,\n",
              "   24,   21,   17,   22,   13]\n",
              "Length: 83, dtype: Int64"
            ]
          },
          "metadata": {},
          "execution_count": 13
        }
      ]
    },
    {
      "cell_type": "code",
      "execution_count": 14,
      "metadata": {
        "trusted": false,
        "id": "0jteP9K2ITlg",
        "outputId": "751adcf5-f50d-4d86-de60-b5ad50bfd2b5",
        "colab": {
          "base_uri": "https://localhost:8080/"
        }
      },
      "outputs": [
        {
          "output_type": "execute_result",
          "data": {
            "text/plain": [
              "array(['8', nan, '8.3', '8.5', '6.6', '8.4', '8.6', '7.7', '6.3', '7.4',\n",
              "       '8.2', '9', '7.9', '8.1', '8.7', '7.1', '3.4', '5.3', '4.8', '3.2',\n",
              "       '8.9', '6.4', '7.8', '7.5', '2.6', '7.2', '9.2', '7', '7.3', '4.3',\n",
              "       '7.6', '5.7', '5', '9.1', '6.5', 'tbd', '8.8', '6.9', '9.4', '6.8',\n",
              "       '6.1', '6.7', '5.4', '4', '4.9', '4.5', '9.3', '6.2', '4.2', '6',\n",
              "       '3.7', '4.1', '5.8', '5.6', '5.5', '4.4', '4.6', '5.9', '3.9',\n",
              "       '3.1', '2.9', '5.2', '3.3', '4.7', '5.1', '3.5', '2.5', '1.9', '3',\n",
              "       '2.7', '2.2', '2', '9.5', '2.1', '3.6', '2.8', '1.8', '3.8', '0',\n",
              "       '1.6', '9.6', '2.4', '1.7', '1.1', '0.3', '1.5', '0.7', '1.2',\n",
              "       '2.3', '0.5', '1.3', '0.2', '0.6', '1.4', '0.9', '1', '9.7'],\n",
              "      dtype=object)"
            ]
          },
          "metadata": {},
          "execution_count": 14
        }
      ],
      "source": [
        "data['user_score'].unique()"
      ]
    },
    {
      "cell_type": "markdown",
      "metadata": {
        "id": "F5YuIgVuITlh"
      },
      "source": [
        "Надо перевести колонку с оценкой пользователей в тип flaot, чтобы с ней можно было работать как с числами, но для этого необходимо обработать значение 'tbd'."
      ]
    },
    {
      "cell_type": "markdown",
      "metadata": {
        "id": "xwVr1IAaITlh"
      },
      "source": [
        "### Обработаем пропуски"
      ]
    },
    {
      "cell_type": "markdown",
      "metadata": {
        "id": "UHijXvA-ITlh"
      },
      "source": [
        "Есть по два пропуска в жанрах и имени игры(это одни и те же строки), которые мы заполнить не сможем и мы их удалим. Так же имеется 269 пропуска в колонке с годом, их также мы не сможем никак заполнить и тоже удалим. Так мы потеряем 1.6% наших данных, это немного."
      ]
    },
    {
      "cell_type": "code",
      "execution_count": 15,
      "metadata": {
        "trusted": false,
        "id": "l65oHCLaITlj",
        "outputId": "b2601d96-4c2e-49aa-f5e3-a8e194059430",
        "colab": {
          "base_uri": "https://localhost:8080/",
          "height": 176
        }
      },
      "outputs": [
        {
          "output_type": "execute_result",
          "data": {
            "text/plain": [
              "      name platform  year_of_release genre  na_sales  eu_sales  jp_sales  \\\n",
              "659    NaN      GEN             1993   NaN      1.78      0.53      0.00   \n",
              "14244  NaN      GEN             1993   NaN      0.00      0.00      0.03   \n",
              "\n",
              "       other_sales  critic_score user_score rating  \n",
              "659           0.08          <NA>        NaN    NaN  \n",
              "14244         0.00          <NA>        NaN    NaN  "
            ],
            "text/html": [
              "\n",
              "  <div id=\"df-a59ace38-0f2a-4b83-a167-456474ee6714\">\n",
              "    <div class=\"colab-df-container\">\n",
              "      <div>\n",
              "<style scoped>\n",
              "    .dataframe tbody tr th:only-of-type {\n",
              "        vertical-align: middle;\n",
              "    }\n",
              "\n",
              "    .dataframe tbody tr th {\n",
              "        vertical-align: top;\n",
              "    }\n",
              "\n",
              "    .dataframe thead th {\n",
              "        text-align: right;\n",
              "    }\n",
              "</style>\n",
              "<table border=\"1\" class=\"dataframe\">\n",
              "  <thead>\n",
              "    <tr style=\"text-align: right;\">\n",
              "      <th></th>\n",
              "      <th>name</th>\n",
              "      <th>platform</th>\n",
              "      <th>year_of_release</th>\n",
              "      <th>genre</th>\n",
              "      <th>na_sales</th>\n",
              "      <th>eu_sales</th>\n",
              "      <th>jp_sales</th>\n",
              "      <th>other_sales</th>\n",
              "      <th>critic_score</th>\n",
              "      <th>user_score</th>\n",
              "      <th>rating</th>\n",
              "    </tr>\n",
              "  </thead>\n",
              "  <tbody>\n",
              "    <tr>\n",
              "      <th>659</th>\n",
              "      <td>NaN</td>\n",
              "      <td>GEN</td>\n",
              "      <td>1993</td>\n",
              "      <td>NaN</td>\n",
              "      <td>1.78</td>\n",
              "      <td>0.53</td>\n",
              "      <td>0.00</td>\n",
              "      <td>0.08</td>\n",
              "      <td>&lt;NA&gt;</td>\n",
              "      <td>NaN</td>\n",
              "      <td>NaN</td>\n",
              "    </tr>\n",
              "    <tr>\n",
              "      <th>14244</th>\n",
              "      <td>NaN</td>\n",
              "      <td>GEN</td>\n",
              "      <td>1993</td>\n",
              "      <td>NaN</td>\n",
              "      <td>0.00</td>\n",
              "      <td>0.00</td>\n",
              "      <td>0.03</td>\n",
              "      <td>0.00</td>\n",
              "      <td>&lt;NA&gt;</td>\n",
              "      <td>NaN</td>\n",
              "      <td>NaN</td>\n",
              "    </tr>\n",
              "  </tbody>\n",
              "</table>\n",
              "</div>\n",
              "      <button class=\"colab-df-convert\" onclick=\"convertToInteractive('df-a59ace38-0f2a-4b83-a167-456474ee6714')\"\n",
              "              title=\"Convert this dataframe to an interactive table.\"\n",
              "              style=\"display:none;\">\n",
              "        \n",
              "  <svg xmlns=\"http://www.w3.org/2000/svg\" height=\"24px\"viewBox=\"0 0 24 24\"\n",
              "       width=\"24px\">\n",
              "    <path d=\"M0 0h24v24H0V0z\" fill=\"none\"/>\n",
              "    <path d=\"M18.56 5.44l.94 2.06.94-2.06 2.06-.94-2.06-.94-.94-2.06-.94 2.06-2.06.94zm-11 1L8.5 8.5l.94-2.06 2.06-.94-2.06-.94L8.5 2.5l-.94 2.06-2.06.94zm10 10l.94 2.06.94-2.06 2.06-.94-2.06-.94-.94-2.06-.94 2.06-2.06.94z\"/><path d=\"M17.41 7.96l-1.37-1.37c-.4-.4-.92-.59-1.43-.59-.52 0-1.04.2-1.43.59L10.3 9.45l-7.72 7.72c-.78.78-.78 2.05 0 2.83L4 21.41c.39.39.9.59 1.41.59.51 0 1.02-.2 1.41-.59l7.78-7.78 2.81-2.81c.8-.78.8-2.07 0-2.86zM5.41 20L4 18.59l7.72-7.72 1.47 1.35L5.41 20z\"/>\n",
              "  </svg>\n",
              "      </button>\n",
              "      \n",
              "  <style>\n",
              "    .colab-df-container {\n",
              "      display:flex;\n",
              "      flex-wrap:wrap;\n",
              "      gap: 12px;\n",
              "    }\n",
              "\n",
              "    .colab-df-convert {\n",
              "      background-color: #E8F0FE;\n",
              "      border: none;\n",
              "      border-radius: 50%;\n",
              "      cursor: pointer;\n",
              "      display: none;\n",
              "      fill: #1967D2;\n",
              "      height: 32px;\n",
              "      padding: 0 0 0 0;\n",
              "      width: 32px;\n",
              "    }\n",
              "\n",
              "    .colab-df-convert:hover {\n",
              "      background-color: #E2EBFA;\n",
              "      box-shadow: 0px 1px 2px rgba(60, 64, 67, 0.3), 0px 1px 3px 1px rgba(60, 64, 67, 0.15);\n",
              "      fill: #174EA6;\n",
              "    }\n",
              "\n",
              "    [theme=dark] .colab-df-convert {\n",
              "      background-color: #3B4455;\n",
              "      fill: #D2E3FC;\n",
              "    }\n",
              "\n",
              "    [theme=dark] .colab-df-convert:hover {\n",
              "      background-color: #434B5C;\n",
              "      box-shadow: 0px 1px 3px 1px rgba(0, 0, 0, 0.15);\n",
              "      filter: drop-shadow(0px 1px 2px rgba(0, 0, 0, 0.3));\n",
              "      fill: #FFFFFF;\n",
              "    }\n",
              "  </style>\n",
              "\n",
              "      <script>\n",
              "        const buttonEl =\n",
              "          document.querySelector('#df-a59ace38-0f2a-4b83-a167-456474ee6714 button.colab-df-convert');\n",
              "        buttonEl.style.display =\n",
              "          google.colab.kernel.accessAllowed ? 'block' : 'none';\n",
              "\n",
              "        async function convertToInteractive(key) {\n",
              "          const element = document.querySelector('#df-a59ace38-0f2a-4b83-a167-456474ee6714');\n",
              "          const dataTable =\n",
              "            await google.colab.kernel.invokeFunction('convertToInteractive',\n",
              "                                                     [key], {});\n",
              "          if (!dataTable) return;\n",
              "\n",
              "          const docLinkHtml = 'Like what you see? Visit the ' +\n",
              "            '<a target=\"_blank\" href=https://colab.research.google.com/notebooks/data_table.ipynb>data table notebook</a>'\n",
              "            + ' to learn more about interactive tables.';\n",
              "          element.innerHTML = '';\n",
              "          dataTable['output_type'] = 'display_data';\n",
              "          await google.colab.output.renderOutput(dataTable, element);\n",
              "          const docLink = document.createElement('div');\n",
              "          docLink.innerHTML = docLinkHtml;\n",
              "          element.appendChild(docLink);\n",
              "        }\n",
              "      </script>\n",
              "    </div>\n",
              "  </div>\n",
              "  "
            ]
          },
          "metadata": {},
          "execution_count": 15
        }
      ],
      "source": [
        "data.loc[data['name'].isna()]"
      ]
    },
    {
      "cell_type": "markdown",
      "source": [
        "Проверим строки с пустыми значениями в годах. Проверим продажи в этих строках, не являются ли они слишком большими?"
      ],
      "metadata": {
        "id": "JYrzTB33RA3f"
      }
    },
    {
      "cell_type": "code",
      "source": [
        "data.loc[data['year_of_release'].isna(), 'na_sales'].max()"
      ],
      "metadata": {
        "colab": {
          "base_uri": "https://localhost:8080/"
        },
        "id": "lqPm1L_RQodw",
        "outputId": "a1508ea5-1e91-40e6-e617-21faaf799771"
      },
      "execution_count": 16,
      "outputs": [
        {
          "output_type": "execute_result",
          "data": {
            "text/plain": [
              "4.26"
            ]
          },
          "metadata": {},
          "execution_count": 16
        }
      ]
    },
    {
      "cell_type": "code",
      "source": [
        "data.loc[data['year_of_release'].isna(), 'eu_sales'].max()\n"
      ],
      "metadata": {
        "colab": {
          "base_uri": "https://localhost:8080/"
        },
        "id": "uJ9haG0cQ50r",
        "outputId": "6e8441f7-9152-4e8f-c7f3-11cbdb7fb96d"
      },
      "execution_count": 17,
      "outputs": [
        {
          "output_type": "execute_result",
          "data": {
            "text/plain": [
              "2.36"
            ]
          },
          "metadata": {},
          "execution_count": 17
        }
      ]
    },
    {
      "cell_type": "code",
      "source": [
        "data.loc[data['year_of_release'].isna(), 'jp_sales'].max()\n"
      ],
      "metadata": {
        "colab": {
          "base_uri": "https://localhost:8080/"
        },
        "id": "LeUGCQaKQ7yC",
        "outputId": "bb4cc1fe-9af5-49e5-8054-099e4e41973b"
      },
      "execution_count": 18,
      "outputs": [
        {
          "output_type": "execute_result",
          "data": {
            "text/plain": [
              "0.77"
            ]
          },
          "metadata": {},
          "execution_count": 18
        }
      ]
    },
    {
      "cell_type": "markdown",
      "source": [
        "Слишком больших продаж нет, можно удалять."
      ],
      "metadata": {
        "id": "MLgIFn_TRZGg"
      }
    },
    {
      "cell_type": "code",
      "execution_count": 19,
      "metadata": {
        "trusted": false,
        "id": "FWn3cK7TITlj"
      },
      "outputs": [],
      "source": [
        "data.dropna(subset=['name', 'year_of_release'], inplace=True)"
      ]
    },
    {
      "cell_type": "markdown",
      "metadata": {
        "id": "rLG7pZUMITlk"
      },
      "source": [
        "Посмотрим колонку с рейтингом."
      ]
    },
    {
      "cell_type": "code",
      "execution_count": 20,
      "metadata": {
        "trusted": false,
        "id": "WgEtZCqtITlk",
        "outputId": "2224c733-033d-4848-def7-44395662949d",
        "colab": {
          "base_uri": "https://localhost:8080/"
        }
      },
      "outputs": [
        {
          "output_type": "execute_result",
          "data": {
            "text/plain": [
              "array(['E', nan, 'M', 'T', 'E10+', 'K-A', 'AO', 'EC', 'RP'], dtype=object)"
            ]
          },
          "metadata": {},
          "execution_count": 20
        }
      ],
      "source": [
        "data['rating'].unique()"
      ]
    },
    {
      "cell_type": "markdown",
      "metadata": {
        "id": "Nc52GfibITll"
      },
      "source": [
        "Видим значение \"К-А\". Это рейтинг для детей старше 10 лет, он был переименован в Е10. Заменим эти значения."
      ]
    },
    {
      "cell_type": "code",
      "execution_count": 21,
      "metadata": {
        "trusted": false,
        "id": "tSVZOIGAITll"
      },
      "outputs": [],
      "source": [
        "data.loc[data['rating'] == 'K-A', 'rating'] = 'E10+'"
      ]
    },
    {
      "cell_type": "markdown",
      "metadata": {
        "id": "FD9GldVkITln"
      },
      "source": [
        "Так же, здесь есть значение \"RP\", что означает \"рейтинг ожидается\". То есть он неизвестен, заменим его на NaN."
      ]
    },
    {
      "cell_type": "code",
      "execution_count": 22,
      "metadata": {
        "trusted": false,
        "id": "Mpk8ciS7ITln"
      },
      "outputs": [],
      "source": [
        "data.loc[data['rating'] == 'RP', 'rating'] = np.nan"
      ]
    },
    {
      "cell_type": "code",
      "execution_count": 23,
      "metadata": {
        "trusted": false,
        "id": "gCtkdqfaITlo",
        "outputId": "25dbd7fd-d14d-4755-f3a8-e7700d387a12",
        "colab": {
          "base_uri": "https://localhost:8080/"
        }
      },
      "outputs": [
        {
          "output_type": "execute_result",
          "data": {
            "text/plain": [
              "array(['E', nan, 'M', 'T', 'E10+', 'AO', 'EC'], dtype=object)"
            ]
          },
          "metadata": {},
          "execution_count": 23
        }
      ],
      "source": [
        "data['rating'].unique()"
      ]
    },
    {
      "cell_type": "markdown",
      "metadata": {
        "id": "vXW8E0V8ITlo"
      },
      "source": [
        "В данных с оценкой пользователей есть аббревиатура \"tbd\". TBD - аббревиатура от английского To Be Determined (будет определено) или To Be Decided (будет решено). Используется, если какая-то информация еще не определена или решение по вопросу не принято. Так как получается, что оценка еще не известна, то заменим ее на NaN."
      ]
    },
    {
      "cell_type": "code",
      "execution_count": 24,
      "metadata": {
        "trusted": false,
        "id": "zBAPAEDgITlo"
      },
      "outputs": [],
      "source": [
        "data.loc[data['user_score'] == 'tbd', 'user_score'] = np.nan"
      ]
    },
    {
      "cell_type": "code",
      "execution_count": 25,
      "metadata": {
        "trusted": false,
        "id": "8mGSSVJfITlp",
        "outputId": "4ec4792a-d9da-4873-c25d-abf2ba0aee72",
        "colab": {
          "base_uri": "https://localhost:8080/"
        }
      },
      "outputs": [
        {
          "output_type": "execute_result",
          "data": {
            "text/plain": [
              "array(['8', nan, '8.3', '8.5', '6.6', '8.4', '8.6', '7.7', '6.3', '7.4',\n",
              "       '8.2', '9', '7.9', '8.1', '8.7', '7.1', '3.4', '5.3', '4.8', '3.2',\n",
              "       '8.9', '6.4', '7.8', '7.5', '2.6', '7.2', '9.2', '7', '7.3', '4.3',\n",
              "       '7.6', '5.7', '5', '9.1', '6.5', '8.8', '6.9', '9.4', '6.8', '6.1',\n",
              "       '6.7', '5.4', '4', '4.9', '4.5', '9.3', '6.2', '4.2', '6', '3.7',\n",
              "       '4.1', '5.8', '5.6', '5.5', '4.4', '4.6', '5.9', '3.9', '3.1',\n",
              "       '2.9', '5.2', '3.3', '4.7', '5.1', '3.5', '2.5', '1.9', '3', '2.7',\n",
              "       '2.2', '2', '9.5', '2.1', '3.6', '2.8', '1.8', '3.8', '0', '1.6',\n",
              "       '9.6', '2.4', '1.7', '1.1', '0.3', '1.5', '0.7', '1.2', '2.3',\n",
              "       '0.5', '1.3', '0.2', '0.6', '1.4', '0.9', '1', '9.7'], dtype=object)"
            ]
          },
          "metadata": {},
          "execution_count": 25
        }
      ],
      "source": [
        "data['user_score'].unique()"
      ]
    },
    {
      "cell_type": "markdown",
      "metadata": {
        "id": "Tmht-0siITlq"
      },
      "source": [
        "Переведем теперь эти оценки в числовой тип."
      ]
    },
    {
      "cell_type": "code",
      "execution_count": 26,
      "metadata": {
        "scrolled": true,
        "trusted": false,
        "id": "cuUU1tqkITlq",
        "outputId": "bd2b1026-c9a6-4e95-96ce-7b8fabc1f86b",
        "colab": {
          "base_uri": "https://localhost:8080/"
        }
      },
      "outputs": [
        {
          "output_type": "execute_result",
          "data": {
            "text/plain": [
              "array([8. , nan, 8.3, 8.5, 6.6, 8.4, 8.6, 7.7, 6.3, 7.4, 8.2, 9. , 7.9,\n",
              "       8.1, 8.7, 7.1, 3.4, 5.3, 4.8, 3.2, 8.9, 6.4, 7.8, 7.5, 2.6, 7.2,\n",
              "       9.2, 7. , 7.3, 4.3, 7.6, 5.7, 5. , 9.1, 6.5, 8.8, 6.9, 9.4, 6.8,\n",
              "       6.1, 6.7, 5.4, 4. , 4.9, 4.5, 9.3, 6.2, 4.2, 6. , 3.7, 4.1, 5.8,\n",
              "       5.6, 5.5, 4.4, 4.6, 5.9, 3.9, 3.1, 2.9, 5.2, 3.3, 4.7, 5.1, 3.5,\n",
              "       2.5, 1.9, 3. , 2.7, 2.2, 2. , 9.5, 2.1, 3.6, 2.8, 1.8, 3.8, 0. ,\n",
              "       1.6, 9.6, 2.4, 1.7, 1.1, 0.3, 1.5, 0.7, 1.2, 2.3, 0.5, 1.3, 0.2,\n",
              "       0.6, 1.4, 0.9, 1. , 9.7])"
            ]
          },
          "metadata": {},
          "execution_count": 26
        }
      ],
      "source": [
        "data['user_score'] = (pd.to_numeric(data['user_score'], errors='coerce')).astype('float64')\n",
        "data['user_score'].unique()"
      ]
    },
    {
      "cell_type": "code",
      "source": [
        "data['user_score'].isna().sum()"
      ],
      "metadata": {
        "colab": {
          "base_uri": "https://localhost:8080/"
        },
        "id": "TeWPSd6yR7gK",
        "outputId": "df77f3d0-989e-41a4-8eb7-e1824873d251"
      },
      "execution_count": 27,
      "outputs": [
        {
          "output_type": "execute_result",
          "data": {
            "text/plain": [
              "8981"
            ]
          },
          "metadata": {},
          "execution_count": 27
        }
      ]
    },
    {
      "cell_type": "code",
      "source": [
        "data['critic_score'].isna().sum()"
      ],
      "metadata": {
        "colab": {
          "base_uri": "https://localhost:8080/"
        },
        "id": "Wc8nRI_GSCCn",
        "outputId": "0b1c5692-ab3b-45b8-890d-bc27dd244457"
      },
      "execution_count": 28,
      "outputs": [
        {
          "output_type": "execute_result",
          "data": {
            "text/plain": [
              "8461"
            ]
          },
          "metadata": {},
          "execution_count": 28
        }
      ]
    },
    {
      "cell_type": "markdown",
      "metadata": {
        "id": "0RJqLCHiITlr"
      },
      "source": [
        "Пропусков в оценках пользователей и критиков почти половина, заполнение этих строк исказит реальную картину. Оставим как есть."
      ]
    },
    {
      "cell_type": "markdown",
      "source": [
        "В колонке с рейтингом заполним пропуски значением 'unknown', так как рейтинг некоторых игр мы не знаем."
      ],
      "metadata": {
        "id": "BV5etGsjSm5M"
      }
    },
    {
      "cell_type": "code",
      "source": [
        "data.loc[data['rating'].isna(), 'rating'] = 'unknown'"
      ],
      "metadata": {
        "id": "Kiu5yOo6TCYQ"
      },
      "execution_count": 29,
      "outputs": []
    },
    {
      "cell_type": "code",
      "execution_count": 30,
      "metadata": {
        "trusted": false,
        "id": "KUr4r79mITlu",
        "outputId": "d98eecfa-b82a-452a-a880-6ed1473fdd4e",
        "colab": {
          "base_uri": "https://localhost:8080/"
        }
      },
      "outputs": [
        {
          "output_type": "stream",
          "name": "stdout",
          "text": [
            "<class 'pandas.core.frame.DataFrame'>\n",
            "Int64Index: 16444 entries, 0 to 16714\n",
            "Data columns (total 11 columns):\n",
            " #   Column           Non-Null Count  Dtype  \n",
            "---  ------           --------------  -----  \n",
            " 0   name             16444 non-null  object \n",
            " 1   platform         16444 non-null  object \n",
            " 2   year_of_release  16444 non-null  Int64  \n",
            " 3   genre            16444 non-null  object \n",
            " 4   na_sales         16444 non-null  float64\n",
            " 5   eu_sales         16444 non-null  float64\n",
            " 6   jp_sales         16444 non-null  float64\n",
            " 7   other_sales      16444 non-null  float64\n",
            " 8   critic_score     7983 non-null   Int64  \n",
            " 9   user_score       7463 non-null   float64\n",
            " 10  rating           16444 non-null  object \n",
            "dtypes: Int64(2), float64(5), object(4)\n",
            "memory usage: 1.5+ MB\n"
          ]
        }
      ],
      "source": [
        "data.info()"
      ]
    },
    {
      "cell_type": "markdown",
      "metadata": {
        "id": "0AadopD4ITlv"
      },
      "source": [
        "**Итак,** \n",
        "* две игры, с отсутствующими названиями и жанрами, выпущены были в 1993 году, эти пропуски могли возникнуть из-за потери данных об этих играх или у них не было утвержденного названия и жанра;\n",
        "* год могли забыть указать или точная дата выхода неизвестна;\n",
        "* игры могли быть еще не оценены или данные об оценках критиков или пользователей не были внесены;\n",
        "* рейтинг игры мог быть еще не определен или данные могли быть не внесены;\n",
        "* пропуски в имени, жанре, и годе выпуска решено удалить, из-за невозможности заполнения; \n",
        "* пропуски в рейтинге заполнили значением \"unknown\";\n",
        "* оценка пользователей и критиков решено оставить как есть."
      ]
    },
    {
      "cell_type": "markdown",
      "metadata": {
        "id": "bzWpq1MEITlw"
      },
      "source": [
        "### Посчитаем суммарные продажи во всех регионах"
      ]
    },
    {
      "cell_type": "code",
      "execution_count": 31,
      "metadata": {
        "trusted": false,
        "id": "9pH40nw2ITlw"
      },
      "outputs": [],
      "source": [
        "data['total_sales'] = data['na_sales'] + data['eu_sales'] + data['jp_sales'] + data['other_sales']"
      ]
    },
    {
      "cell_type": "code",
      "execution_count": 32,
      "metadata": {
        "trusted": false,
        "id": "GbW53oj_ITlx",
        "outputId": "1a53d881-ffdc-4e5e-f73d-bb2a53d08fab",
        "colab": {
          "base_uri": "https://localhost:8080/",
          "height": 423
        }
      },
      "outputs": [
        {
          "output_type": "execute_result",
          "data": {
            "text/plain": [
              "       na_sales  eu_sales  jp_sales  other_sales  total_sales\n",
              "0         41.36     28.96      3.77         8.45        82.54\n",
              "1         29.08      3.58      6.81         0.77        40.24\n",
              "2         15.68     12.76      3.79         3.29        35.52\n",
              "3         15.61     10.93      3.28         2.95        32.77\n",
              "4         11.27      8.89     10.22         1.00        31.38\n",
              "...         ...       ...       ...          ...          ...\n",
              "16710      0.00      0.00      0.01         0.00         0.01\n",
              "16711      0.00      0.01      0.00         0.00         0.01\n",
              "16712      0.00      0.00      0.01         0.00         0.01\n",
              "16713      0.01      0.00      0.00         0.00         0.01\n",
              "16714      0.00      0.00      0.01         0.00         0.01\n",
              "\n",
              "[16444 rows x 5 columns]"
            ],
            "text/html": [
              "\n",
              "  <div id=\"df-a32e9bef-9487-4918-b9d4-e0ca7176da2d\">\n",
              "    <div class=\"colab-df-container\">\n",
              "      <div>\n",
              "<style scoped>\n",
              "    .dataframe tbody tr th:only-of-type {\n",
              "        vertical-align: middle;\n",
              "    }\n",
              "\n",
              "    .dataframe tbody tr th {\n",
              "        vertical-align: top;\n",
              "    }\n",
              "\n",
              "    .dataframe thead th {\n",
              "        text-align: right;\n",
              "    }\n",
              "</style>\n",
              "<table border=\"1\" class=\"dataframe\">\n",
              "  <thead>\n",
              "    <tr style=\"text-align: right;\">\n",
              "      <th></th>\n",
              "      <th>na_sales</th>\n",
              "      <th>eu_sales</th>\n",
              "      <th>jp_sales</th>\n",
              "      <th>other_sales</th>\n",
              "      <th>total_sales</th>\n",
              "    </tr>\n",
              "  </thead>\n",
              "  <tbody>\n",
              "    <tr>\n",
              "      <th>0</th>\n",
              "      <td>41.36</td>\n",
              "      <td>28.96</td>\n",
              "      <td>3.77</td>\n",
              "      <td>8.45</td>\n",
              "      <td>82.54</td>\n",
              "    </tr>\n",
              "    <tr>\n",
              "      <th>1</th>\n",
              "      <td>29.08</td>\n",
              "      <td>3.58</td>\n",
              "      <td>6.81</td>\n",
              "      <td>0.77</td>\n",
              "      <td>40.24</td>\n",
              "    </tr>\n",
              "    <tr>\n",
              "      <th>2</th>\n",
              "      <td>15.68</td>\n",
              "      <td>12.76</td>\n",
              "      <td>3.79</td>\n",
              "      <td>3.29</td>\n",
              "      <td>35.52</td>\n",
              "    </tr>\n",
              "    <tr>\n",
              "      <th>3</th>\n",
              "      <td>15.61</td>\n",
              "      <td>10.93</td>\n",
              "      <td>3.28</td>\n",
              "      <td>2.95</td>\n",
              "      <td>32.77</td>\n",
              "    </tr>\n",
              "    <tr>\n",
              "      <th>4</th>\n",
              "      <td>11.27</td>\n",
              "      <td>8.89</td>\n",
              "      <td>10.22</td>\n",
              "      <td>1.00</td>\n",
              "      <td>31.38</td>\n",
              "    </tr>\n",
              "    <tr>\n",
              "      <th>...</th>\n",
              "      <td>...</td>\n",
              "      <td>...</td>\n",
              "      <td>...</td>\n",
              "      <td>...</td>\n",
              "      <td>...</td>\n",
              "    </tr>\n",
              "    <tr>\n",
              "      <th>16710</th>\n",
              "      <td>0.00</td>\n",
              "      <td>0.00</td>\n",
              "      <td>0.01</td>\n",
              "      <td>0.00</td>\n",
              "      <td>0.01</td>\n",
              "    </tr>\n",
              "    <tr>\n",
              "      <th>16711</th>\n",
              "      <td>0.00</td>\n",
              "      <td>0.01</td>\n",
              "      <td>0.00</td>\n",
              "      <td>0.00</td>\n",
              "      <td>0.01</td>\n",
              "    </tr>\n",
              "    <tr>\n",
              "      <th>16712</th>\n",
              "      <td>0.00</td>\n",
              "      <td>0.00</td>\n",
              "      <td>0.01</td>\n",
              "      <td>0.00</td>\n",
              "      <td>0.01</td>\n",
              "    </tr>\n",
              "    <tr>\n",
              "      <th>16713</th>\n",
              "      <td>0.01</td>\n",
              "      <td>0.00</td>\n",
              "      <td>0.00</td>\n",
              "      <td>0.00</td>\n",
              "      <td>0.01</td>\n",
              "    </tr>\n",
              "    <tr>\n",
              "      <th>16714</th>\n",
              "      <td>0.00</td>\n",
              "      <td>0.00</td>\n",
              "      <td>0.01</td>\n",
              "      <td>0.00</td>\n",
              "      <td>0.01</td>\n",
              "    </tr>\n",
              "  </tbody>\n",
              "</table>\n",
              "<p>16444 rows × 5 columns</p>\n",
              "</div>\n",
              "      <button class=\"colab-df-convert\" onclick=\"convertToInteractive('df-a32e9bef-9487-4918-b9d4-e0ca7176da2d')\"\n",
              "              title=\"Convert this dataframe to an interactive table.\"\n",
              "              style=\"display:none;\">\n",
              "        \n",
              "  <svg xmlns=\"http://www.w3.org/2000/svg\" height=\"24px\"viewBox=\"0 0 24 24\"\n",
              "       width=\"24px\">\n",
              "    <path d=\"M0 0h24v24H0V0z\" fill=\"none\"/>\n",
              "    <path d=\"M18.56 5.44l.94 2.06.94-2.06 2.06-.94-2.06-.94-.94-2.06-.94 2.06-2.06.94zm-11 1L8.5 8.5l.94-2.06 2.06-.94-2.06-.94L8.5 2.5l-.94 2.06-2.06.94zm10 10l.94 2.06.94-2.06 2.06-.94-2.06-.94-.94-2.06-.94 2.06-2.06.94z\"/><path d=\"M17.41 7.96l-1.37-1.37c-.4-.4-.92-.59-1.43-.59-.52 0-1.04.2-1.43.59L10.3 9.45l-7.72 7.72c-.78.78-.78 2.05 0 2.83L4 21.41c.39.39.9.59 1.41.59.51 0 1.02-.2 1.41-.59l7.78-7.78 2.81-2.81c.8-.78.8-2.07 0-2.86zM5.41 20L4 18.59l7.72-7.72 1.47 1.35L5.41 20z\"/>\n",
              "  </svg>\n",
              "      </button>\n",
              "      \n",
              "  <style>\n",
              "    .colab-df-container {\n",
              "      display:flex;\n",
              "      flex-wrap:wrap;\n",
              "      gap: 12px;\n",
              "    }\n",
              "\n",
              "    .colab-df-convert {\n",
              "      background-color: #E8F0FE;\n",
              "      border: none;\n",
              "      border-radius: 50%;\n",
              "      cursor: pointer;\n",
              "      display: none;\n",
              "      fill: #1967D2;\n",
              "      height: 32px;\n",
              "      padding: 0 0 0 0;\n",
              "      width: 32px;\n",
              "    }\n",
              "\n",
              "    .colab-df-convert:hover {\n",
              "      background-color: #E2EBFA;\n",
              "      box-shadow: 0px 1px 2px rgba(60, 64, 67, 0.3), 0px 1px 3px 1px rgba(60, 64, 67, 0.15);\n",
              "      fill: #174EA6;\n",
              "    }\n",
              "\n",
              "    [theme=dark] .colab-df-convert {\n",
              "      background-color: #3B4455;\n",
              "      fill: #D2E3FC;\n",
              "    }\n",
              "\n",
              "    [theme=dark] .colab-df-convert:hover {\n",
              "      background-color: #434B5C;\n",
              "      box-shadow: 0px 1px 3px 1px rgba(0, 0, 0, 0.15);\n",
              "      filter: drop-shadow(0px 1px 2px rgba(0, 0, 0, 0.3));\n",
              "      fill: #FFFFFF;\n",
              "    }\n",
              "  </style>\n",
              "\n",
              "      <script>\n",
              "        const buttonEl =\n",
              "          document.querySelector('#df-a32e9bef-9487-4918-b9d4-e0ca7176da2d button.colab-df-convert');\n",
              "        buttonEl.style.display =\n",
              "          google.colab.kernel.accessAllowed ? 'block' : 'none';\n",
              "\n",
              "        async function convertToInteractive(key) {\n",
              "          const element = document.querySelector('#df-a32e9bef-9487-4918-b9d4-e0ca7176da2d');\n",
              "          const dataTable =\n",
              "            await google.colab.kernel.invokeFunction('convertToInteractive',\n",
              "                                                     [key], {});\n",
              "          if (!dataTable) return;\n",
              "\n",
              "          const docLinkHtml = 'Like what you see? Visit the ' +\n",
              "            '<a target=\"_blank\" href=https://colab.research.google.com/notebooks/data_table.ipynb>data table notebook</a>'\n",
              "            + ' to learn more about interactive tables.';\n",
              "          element.innerHTML = '';\n",
              "          dataTable['output_type'] = 'display_data';\n",
              "          await google.colab.output.renderOutput(dataTable, element);\n",
              "          const docLink = document.createElement('div');\n",
              "          docLink.innerHTML = docLinkHtml;\n",
              "          element.appendChild(docLink);\n",
              "        }\n",
              "      </script>\n",
              "    </div>\n",
              "  </div>\n",
              "  "
            ]
          },
          "metadata": {},
          "execution_count": 32
        }
      ],
      "source": [
        "data[['na_sales','eu_sales','jp_sales','other_sales', 'total_sales']]"
      ]
    },
    {
      "cell_type": "markdown",
      "metadata": {
        "id": "vM_9bNPMITly"
      },
      "source": [
        "## Исследовательский анализ данных"
      ]
    },
    {
      "cell_type": "markdown",
      "metadata": {
        "id": "NPe4brGMITly"
      },
      "source": [
        "### Посмотрим, сколько игр выпускалось в разные годы"
      ]
    },
    {
      "cell_type": "code",
      "execution_count": 33,
      "metadata": {
        "trusted": false,
        "id": "uelAJdg_ITly",
        "outputId": "437a8322-9983-48c7-f50c-f1a7a5aa5dc5",
        "colab": {
          "base_uri": "https://localhost:8080/",
          "height": 298
        }
      },
      "outputs": [
        {
          "output_type": "execute_result",
          "data": {
            "text/plain": [
              "array([[<AxesSubplot:title={'center':'year_of_release'}>]], dtype=object)"
            ]
          },
          "metadata": {},
          "execution_count": 33
        },
        {
          "output_type": "display_data",
          "data": {
            "text/plain": [
              "<Figure size 432x288 with 1 Axes>"
            ],
            "image/png": "[encoded data removed]"
          },
          "metadata": {
            "needs_background": "light"
          }
        }
      ],
      "source": [
        "data.hist('year_of_release', bins=37)"
      ]
    },
    {
      "cell_type": "code",
      "execution_count": 34,
      "metadata": {
        "trusted": false,
        "id": "xNOXCMHOITlz",
        "outputId": "3c601769-ad32-4361-e898-a38ff39984ff",
        "colab": {
          "base_uri": "https://localhost:8080/",
          "height": 313
        }
      },
      "outputs": [
        {
          "output_type": "execute_result",
          "data": {
            "text/plain": [
              "Text(0.5, 1.0, 'Количество игр по годам')"
            ]
          },
          "metadata": {},
          "execution_count": 34
        },
        {
          "output_type": "display_data",
          "data": {
            "text/plain": [
              "<Figure size 432x288 with 1 Axes>"
            ],
            "image/png": "[encoded data removed]"
          },
          "metadata": {
            "needs_background": "light"
          }
        }
      ],
      "source": [
        "data.pivot_table(index='year_of_release', values='total_sales', aggfunc='count').plot(style='o-')\n",
        "plt.title('Количество игр по годам')"
      ]
    },
    {
      "cell_type": "markdown",
      "metadata": {
        "id": "TKEbejgbITl0"
      },
      "source": [
        "Видим рост количества игр с 2002 года, небольшой спад в 2003-2004, затем количество игр измеряется тысячами, но с 2012 их около 500-600 в наших данных."
      ]
    },
    {
      "cell_type": "markdown",
      "metadata": {
        "id": "xmIbzDzZITl1"
      },
      "source": [
        "### Посмотрим, как менялись продажи по платформам"
      ]
    },
    {
      "cell_type": "code",
      "execution_count": 35,
      "metadata": {
        "trusted": false,
        "id": "orCwuKHHITl1",
        "outputId": "b27463e9-c5bc-4ba1-ad3e-9bd2f8a6e199",
        "colab": {
          "base_uri": "https://localhost:8080/",
          "height": 552
        }
      },
      "outputs": [
        {
          "output_type": "execute_result",
          "data": {
            "text/plain": [
              "Text(0.5, 0, 'Платформа')"
            ]
          },
          "metadata": {},
          "execution_count": 35
        },
        {
          "output_type": "display_data",
          "data": {
            "text/plain": [
              "<Figure size 576x576 with 1 Axes>"
            ],
            "image/png": "[encoded data removed]"
          },
          "metadata": {
            "needs_background": "light"
          }
        }
      ],
      "source": [
        "(\n",
        "    data\n",
        " .pivot_table(index='platform', values='total_sales', aggfunc='count')\n",
        " .sort_values('total_sales', ascending=False)\n",
        " .plot(kind='bar', figsize=(8,8))\n",
        ")\n",
        "plt.title('Платформы с наибольшими суммарными продажами', size=15)\n",
        "plt.ylabel('Продажи', size=12)\n",
        "plt.xlabel('Платформа', size=12)"
      ]
    },
    {
      "cell_type": "markdown",
      "metadata": {
        "id": "2ciH2PPZITl2"
      },
      "source": [
        "Больше всего продавалось игр для платформ PS2, DS, PS3, Wii, X360, PSP, PS."
      ]
    },
    {
      "cell_type": "code",
      "execution_count": 36,
      "metadata": {
        "trusted": false,
        "id": "MdJNr_hnITl2",
        "outputId": "866db531-9474-4107-9e3a-aff6dba963bf",
        "colab": {
          "base_uri": "https://localhost:8080/",
          "height": 1000
        }
      },
      "outputs": [
        {
          "output_type": "display_data",
          "data": {
            "text/plain": [
              "<Figure size 432x288 with 1 Axes>"
            ],
            "image/png": "[encoded data removed]"
          },
          "metadata": {
            "needs_background": "light"
          }
        },
        {
          "output_type": "display_data",
          "data": {
            "text/plain": [
              "<Figure size 432x288 with 1 Axes>"
            ],
            "image/png": "[encoded data removed]"
          },
          "metadata": {
            "needs_background": "light"
          }
        },
        {
          "output_type": "display_data",
          "data": {
            "text/plain": [
              "<Figure size 432x288 with 1 Axes>"
            ],
            "image/png": "[encoded data removed]"
          },
          "metadata": {
            "needs_background": "light"
          }
        },
        {
          "output_type": "display_data",
          "data": {
            "text/plain": [
              "<Figure size 432x288 with 1 Axes>"
            ],
            "image/png": "[encoded data removed]"
          },
          "metadata": {
            "needs_background": "light"
          }
        },
        {
          "output_type": "display_data",
          "data": {
            "text/plain": [
              "<Figure size 432x288 with 1 Axes>"
            ],
            "image/png": "[encoded data removed]"
          },
          "metadata": {
            "needs_background": "light"
          }
        },
        {
          "output_type": "display_data",
          "data": {
            "text/plain": [
              "<Figure size 432x288 with 1 Axes>"
            ],
            "image/png": "[encoded data removed]"
          },
          "metadata": {
            "needs_background": "light"
          }
        },
        {
          "output_type": "display_data",
          "data": {
            "text/plain": [
              "<Figure size 432x288 with 1 Axes>"
            ],
            "image/png": "[encoded data removed]"
          },
          "metadata": {
            "needs_background": "light"
          }
        }
      ],
      "source": [
        "platform_types = ['PS2', 'X360', 'PS3', 'Wii', 'DS', 'PS', 'PS4']\n",
        "\n",
        "for platform_type in platform_types:\n",
        "    df = data.loc[data['platform'] == platform_type]\n",
        "    df.pivot_table(index='year_of_release', values='total_sales', aggfunc='sum').plot(kind='bar')\n",
        "    plt.title(f'Платформа {platform_type}')\n",
        "    plt.xlabel('Год')"
      ]
    },
    {
      "cell_type": "markdown",
      "source": [
        "Для платформы DS видим выброс 1985 года, возможно это опечатка, потому что платформа была выпущена в 2004 году. Удалим это значение."
      ],
      "metadata": {
        "id": "gVZcNA-Ga_kX"
      }
    },
    {
      "cell_type": "code",
      "source": [
        "data.loc[(data['platform'] == 'DS') & (data['year_of_release'] == 1985)]"
      ],
      "metadata": {
        "colab": {
          "base_uri": "https://localhost:8080/",
          "height": 197
        },
        "id": "iuEY2Q69a-4O",
        "outputId": "2f9f7268-0726-4e27-c731-ef6fc2c7b765"
      },
      "execution_count": 37,
      "outputs": [
        {
          "output_type": "execute_result",
          "data": {
            "text/plain": [
              "                                      name platform  year_of_release   genre  \\\n",
              "15957  Strongest Tokyo University Shogi DS       DS             1985  Action   \n",
              "\n",
              "       na_sales  eu_sales  jp_sales  other_sales  critic_score  user_score  \\\n",
              "15957       0.0       0.0      0.02          0.0          <NA>         NaN   \n",
              "\n",
              "        rating  total_sales  \n",
              "15957  unknown         0.02  "
            ],
            "text/html": [
              "\n",
              "  <div id=\"df-970591b0-e877-4294-84dd-e2c47ef257b8\">\n",
              "    <div class=\"colab-df-container\">\n",
              "      <div>\n",
              "<style scoped>\n",
              "    .dataframe tbody tr th:only-of-type {\n",
              "        vertical-align: middle;\n",
              "    }\n",
              "\n",
              "    .dataframe tbody tr th {\n",
              "        vertical-align: top;\n",
              "    }\n",
              "\n",
              "    .dataframe thead th {\n",
              "        text-align: right;\n",
              "    }\n",
              "</style>\n",
              "<table border=\"1\" class=\"dataframe\">\n",
              "  <thead>\n",
              "    <tr style=\"text-align: right;\">\n",
              "      <th></th>\n",
              "      <th>name</th>\n",
              "      <th>platform</th>\n",
              "      <th>year_of_release</th>\n",
              "      <th>genre</th>\n",
              "      <th>na_sales</th>\n",
              "      <th>eu_sales</th>\n",
              "      <th>jp_sales</th>\n",
              "      <th>other_sales</th>\n",
              "      <th>critic_score</th>\n",
              "      <th>user_score</th>\n",
              "      <th>rating</th>\n",
              "      <th>total_sales</th>\n",
              "    </tr>\n",
              "  </thead>\n",
              "  <tbody>\n",
              "    <tr>\n",
              "      <th>15957</th>\n",
              "      <td>Strongest Tokyo University Shogi DS</td>\n",
              "      <td>DS</td>\n",
              "      <td>1985</td>\n",
              "      <td>Action</td>\n",
              "      <td>0.0</td>\n",
              "      <td>0.0</td>\n",
              "      <td>0.02</td>\n",
              "      <td>0.0</td>\n",
              "      <td>&lt;NA&gt;</td>\n",
              "      <td>NaN</td>\n",
              "      <td>unknown</td>\n",
              "      <td>0.02</td>\n",
              "    </tr>\n",
              "  </tbody>\n",
              "</table>\n",
              "</div>\n",
              "      <button class=\"colab-df-convert\" onclick=\"convertToInteractive('df-970591b0-e877-4294-84dd-e2c47ef257b8')\"\n",
              "              title=\"Convert this dataframe to an interactive table.\"\n",
              "              style=\"display:none;\">\n",
              "        \n",
              "  <svg xmlns=\"http://www.w3.org/2000/svg\" height=\"24px\"viewBox=\"0 0 24 24\"\n",
              "       width=\"24px\">\n",
              "    <path d=\"M0 0h24v24H0V0z\" fill=\"none\"/>\n",
              "    <path d=\"M18.56 5.44l.94 2.06.94-2.06 2.06-.94-2.06-.94-.94-2.06-.94 2.06-2.06.94zm-11 1L8.5 8.5l.94-2.06 2.06-.94-2.06-.94L8.5 2.5l-.94 2.06-2.06.94zm10 10l.94 2.06.94-2.06 2.06-.94-2.06-.94-.94-2.06-.94 2.06-2.06.94z\"/><path d=\"M17.41 7.96l-1.37-1.37c-.4-.4-.92-.59-1.43-.59-.52 0-1.04.2-1.43.59L10.3 9.45l-7.72 7.72c-.78.78-.78 2.05 0 2.83L4 21.41c.39.39.9.59 1.41.59.51 0 1.02-.2 1.41-.59l7.78-7.78 2.81-2.81c.8-.78.8-2.07 0-2.86zM5.41 20L4 18.59l7.72-7.72 1.47 1.35L5.41 20z\"/>\n",
              "  </svg>\n",
              "      </button>\n",
              "      \n",
              "  <style>\n",
              "    .colab-df-container {\n",
              "      display:flex;\n",
              "      flex-wrap:wrap;\n",
              "      gap: 12px;\n",
              "    }\n",
              "\n",
              "    .colab-df-convert {\n",
              "      background-color: #E8F0FE;\n",
              "      border: none;\n",
              "      border-radius: 50%;\n",
              "      cursor: pointer;\n",
              "      display: none;\n",
              "      fill: #1967D2;\n",
              "      height: 32px;\n",
              "      padding: 0 0 0 0;\n",
              "      width: 32px;\n",
              "    }\n",
              "\n",
              "    .colab-df-convert:hover {\n",
              "      background-color: #E2EBFA;\n",
              "      box-shadow: 0px 1px 2px rgba(60, 64, 67, 0.3), 0px 1px 3px 1px rgba(60, 64, 67, 0.15);\n",
              "      fill: #174EA6;\n",
              "    }\n",
              "\n",
              "    [theme=dark] .colab-df-convert {\n",
              "      background-color: #3B4455;\n",
              "      fill: #D2E3FC;\n",
              "    }\n",
              "\n",
              "    [theme=dark] .colab-df-convert:hover {\n",
              "      background-color: #434B5C;\n",
              "      box-shadow: 0px 1px 3px 1px rgba(0, 0, 0, 0.15);\n",
              "      filter: drop-shadow(0px 1px 2px rgba(0, 0, 0, 0.3));\n",
              "      fill: #FFFFFF;\n",
              "    }\n",
              "  </style>\n",
              "\n",
              "      <script>\n",
              "        const buttonEl =\n",
              "          document.querySelector('#df-970591b0-e877-4294-84dd-e2c47ef257b8 button.colab-df-convert');\n",
              "        buttonEl.style.display =\n",
              "          google.colab.kernel.accessAllowed ? 'block' : 'none';\n",
              "\n",
              "        async function convertToInteractive(key) {\n",
              "          const element = document.querySelector('#df-970591b0-e877-4294-84dd-e2c47ef257b8');\n",
              "          const dataTable =\n",
              "            await google.colab.kernel.invokeFunction('convertToInteractive',\n",
              "                                                     [key], {});\n",
              "          if (!dataTable) return;\n",
              "\n",
              "          const docLinkHtml = 'Like what you see? Visit the ' +\n",
              "            '<a target=\"_blank\" href=https://colab.research.google.com/notebooks/data_table.ipynb>data table notebook</a>'\n",
              "            + ' to learn more about interactive tables.';\n",
              "          element.innerHTML = '';\n",
              "          dataTable['output_type'] = 'display_data';\n",
              "          await google.colab.output.renderOutput(dataTable, element);\n",
              "          const docLink = document.createElement('div');\n",
              "          docLink.innerHTML = docLinkHtml;\n",
              "          element.appendChild(docLink);\n",
              "        }\n",
              "      </script>\n",
              "    </div>\n",
              "  </div>\n",
              "  "
            ]
          },
          "metadata": {},
          "execution_count": 37
        }
      ]
    },
    {
      "cell_type": "code",
      "source": [
        "data.drop(axis=0, index=15957, inplace=True)"
      ],
      "metadata": {
        "id": "34-5FWYZbcrU"
      },
      "execution_count": 38,
      "outputs": []
    },
    {
      "cell_type": "markdown",
      "metadata": {
        "id": "FXM9eYbZITl2"
      },
      "source": [
        "По графикам можно сделать вывод, что:\n",
        "* платформа **PS2** была популярна в 2001-2005, затем количество игр пошло на убыль;\n",
        "* количество игр на платформе **X360** росло с 2006-2010, затем постепенно уменьшалось;\n",
        "* у платформы **PS3** пик популярности пришелся на 2007-2013 год;\n",
        "* платформа **Wii** набирала популярность с 2006-2010, затем был резки спад;\n",
        "* платформа **DS** использовалась активно в 2005-2010, в остальные года - намного реже;\n",
        "* игры на платформе **PS** набирали популярность с 1995-1998, затем постепенно теряли актуальность;\n",
        "* платформу **PS4** использовали 2013-2016, пик был в 2015."
      ]
    },
    {
      "cell_type": "markdown",
      "metadata": {
        "id": "O6IxV4XdITl3"
      },
      "source": [
        "### Выбор актуального периода"
      ]
    },
    {
      "cell_type": "markdown",
      "metadata": {
        "id": "QrTj1oqgITl3"
      },
      "source": [
        "Для построения прогноза на 2017 год лучше взять пару предыдущих лет(количество игр там варьируется от 500 до 600), поэтому возьмем период с 2014-2016. Создадим новый датасет с интересующими нас данными."
      ]
    },
    {
      "cell_type": "code",
      "execution_count": 39,
      "metadata": {
        "trusted": false,
        "id": "4S1Yp7FtITl4",
        "outputId": "bbb602dd-49c5-4ca2-c882-593103ff489d",
        "colab": {
          "base_uri": "https://localhost:8080/"
        }
      },
      "outputs": [
        {
          "output_type": "stream",
          "name": "stdout",
          "text": [
            "<class 'pandas.core.frame.DataFrame'>\n",
            "Int64Index: 1689 entries, 31 to 16714\n",
            "Data columns (total 12 columns):\n",
            " #   Column           Non-Null Count  Dtype  \n",
            "---  ------           --------------  -----  \n",
            " 0   name             1689 non-null   object \n",
            " 1   platform         1689 non-null   object \n",
            " 2   year_of_release  1689 non-null   Int64  \n",
            " 3   genre            1689 non-null   object \n",
            " 4   na_sales         1689 non-null   float64\n",
            " 5   eu_sales         1689 non-null   float64\n",
            " 6   jp_sales         1689 non-null   float64\n",
            " 7   other_sales      1689 non-null   float64\n",
            " 8   critic_score     718 non-null    Int64  \n",
            " 9   user_score       888 non-null    float64\n",
            " 10  rating           1689 non-null   object \n",
            " 11  total_sales      1689 non-null   float64\n",
            "dtypes: Int64(2), float64(6), object(4)\n",
            "memory usage: 174.8+ KB\n"
          ]
        }
      ],
      "source": [
        "games = data.loc[data['year_of_release'] >= 2014]\n",
        "games.info()"
      ]
    },
    {
      "cell_type": "markdown",
      "metadata": {
        "id": "ASH9kubKITl5"
      },
      "source": [
        "### Платформы, которые лидируют по продажам"
      ]
    },
    {
      "cell_type": "code",
      "execution_count": 40,
      "metadata": {
        "trusted": false,
        "id": "oLMpQxDKITl6",
        "outputId": "38b15ea4-3d3d-4b81-ec96-459dacf3faa7",
        "colab": {
          "base_uri": "https://localhost:8080/",
          "height": 315
        }
      },
      "outputs": [
        {
          "output_type": "execute_result",
          "data": {
            "text/plain": [
              "<AxesSubplot:xlabel='platform'>"
            ]
          },
          "metadata": {},
          "execution_count": 40
        },
        {
          "output_type": "display_data",
          "data": {
            "text/plain": [
              "<Figure size 432x288 with 1 Axes>"
            ],
            "image/png": "[encoded data removed]"
          },
          "metadata": {
            "needs_background": "light"
          }
        }
      ],
      "source": [
        "games.pivot_table(index='platform', values='total_sales', aggfunc='sum').sort_values('total_sales', ascending=False).plot(kind='bar')"
      ]
    },
    {
      "cell_type": "markdown",
      "metadata": {
        "id": "o_j57Fc6ITl6"
      },
      "source": [
        "Самые прибыльные платформы PS4, XOne, 3DS."
      ]
    },
    {
      "cell_type": "code",
      "execution_count": 41,
      "metadata": {
        "scrolled": true,
        "trusted": false,
        "id": "E7HpU23VITl6",
        "outputId": "19f3372f-8004-4a36-9f52-af238385ae81",
        "colab": {
          "base_uri": "https://localhost:8080/",
          "height": 899
        }
      },
      "outputs": [
        {
          "output_type": "display_data",
          "data": {
            "text/plain": [
              "<Figure size 432x288 with 1 Axes>"
            ],
            "image/png": "[encoded data removed]"
          },
          "metadata": {
            "needs_background": "light"
          }
        },
        {
          "output_type": "display_data",
          "data": {
            "text/plain": [
              "<Figure size 432x288 with 1 Axes>"
            ],
            "image/png": "[encoded data removed]"
          },
          "metadata": {
            "needs_background": "light"
          }
        },
        {
          "output_type": "display_data",
          "data": {
            "text/plain": [
              "<Figure size 432x288 with 1 Axes>"
            ],
            "image/png": "[encoded data removed]"
          },
          "metadata": {
            "needs_background": "light"
          }
        }
      ],
      "source": [
        "platform_games_types = ['PS4', 'XOne', '3DS']\n",
        "\n",
        "for platform_type in platform_games_types:\n",
        "    df1 = games.loc[games['platform'] == platform_type]\n",
        "    df1.pivot_table(index='year_of_release', values='total_sales', aggfunc='sum').plot(kind='bar')\n",
        "    plt.title(f'Платформа {platform_type}')\n",
        "    plt.xlabel('Год')"
      ]
    },
    {
      "cell_type": "code",
      "execution_count": 42,
      "metadata": {
        "trusted": false,
        "id": "bB1X1N7FITl7",
        "outputId": "0c8f20f2-d94f-4dbb-8cb3-69f27ec3b453",
        "colab": {
          "base_uri": "https://localhost:8080/",
          "height": 313
        }
      },
      "outputs": [
        {
          "output_type": "execute_result",
          "data": {
            "text/plain": [
              "<function matplotlib.pyplot.show(close=None, block=None)>"
            ]
          },
          "metadata": {},
          "execution_count": 42
        },
        {
          "output_type": "display_data",
          "data": {
            "text/plain": [
              "<Figure size 432x288 with 1 Axes>"
            ],
            "image/png": "[encoded data removed]"
          },
          "metadata": {
            "needs_background": "light"
          }
        }
      ],
      "source": [
        "data_graf = games.pivot_table(index='year_of_release', columns='platform', values='total_sales', aggfunc='sum')\n",
        "data_graf.plot.bar(stacked=True)\n",
        "plt.legend(bbox_to_anchor=(-0.5, 1), loc='upper left', ncol=1)\n",
        "plt.show"
      ]
    },
    {
      "cell_type": "markdown",
      "metadata": {
        "id": "3HlEZ3D1ITl7"
      },
      "source": [
        "Итак, учитывая, что за 2016 год данные не полные, то можно сказать, что растут продажи для платформ PS4 и XOne."
      ]
    },
    {
      "cell_type": "markdown",
      "metadata": {
        "id": "K3a-cIY4ITl8"
      },
      "source": [
        "### График «ящик с усами» по глобальным продажам игр в разбивке по платформам"
      ]
    },
    {
      "cell_type": "code",
      "execution_count": 43,
      "metadata": {
        "trusted": false,
        "id": "kUI_MyhmITl8",
        "outputId": "1601867e-feef-48e2-cd3e-5c9c84dd20ab",
        "colab": {
          "base_uri": "https://localhost:8080/",
          "height": 409
        }
      },
      "outputs": [
        {
          "output_type": "execute_result",
          "data": {
            "text/plain": [
              "(0.0, 2.0)"
            ]
          },
          "metadata": {},
          "execution_count": 43
        },
        {
          "output_type": "display_data",
          "data": {
            "text/plain": [
              "<Figure size 432x432 with 1 Axes>"
            ],
            "image/png": "[encoded data removed]"
          },
          "metadata": {
            "needs_background": "light"
          }
        }
      ],
      "source": [
        "games_top = games.loc[(games['platform'] == 'PS4') | (games['platform'] == 'XOne')]\n",
        "f, ax = plt.subplots(figsize=(6, 6))\n",
        "fig = sns.boxplot(x='platform', y='total_sales', data=games_top)\n",
        "plt.ylim(0, 2)"
      ]
    },
    {
      "cell_type": "markdown",
      "metadata": {
        "id": "OjqBzHrTITl9"
      },
      "source": [
        "Итак, глобальные продажи игр по платформам PS4 и XOne не сильно отличаются, но PS4 немного больше."
      ]
    },
    {
      "cell_type": "markdown",
      "metadata": {
        "id": "LmVPB2sGITl-"
      },
      "source": [
        "### Влияние отзывов пользователей и критиков на продажи внутри популярной платформы(PS4)"
      ]
    },
    {
      "cell_type": "code",
      "execution_count": 44,
      "metadata": {
        "trusted": false,
        "id": "Q_Sl4_U-ITl_",
        "outputId": "243b7d59-8cc9-44f0-a5e7-ad70dd2bea27",
        "colab": {
          "base_uri": "https://localhost:8080/",
          "height": 574
        }
      },
      "outputs": [
        {
          "output_type": "display_data",
          "data": {
            "text/plain": [
              "<Figure size 432x288 with 1 Axes>"
            ],
            "image/png": "[encoded data removed]"
          },
          "metadata": {
            "needs_background": "light"
          }
        },
        {
          "output_type": "display_data",
          "data": {
            "text/plain": [
              "<Figure size 432x288 with 1 Axes>"
            ],
            "image/png": "[encoded data removed]"
          },
          "metadata": {
            "needs_background": "light"
          }
        }
      ],
      "source": [
        "ps4 = games.loc[games['platform'] == 'PS4']\n",
        "ps4.plot(x='user_score', y='total_sales', kind='scatter')\n",
        "plt.title('Влияние пользовательских оценок')\n",
        "plt.show()\n",
        "ps4.plot(x='critic_score', y='total_sales', kind='scatter')\n",
        "plt.title('Влияние оценок критиков')\n",
        "plt.show()"
      ]
    },
    {
      "cell_type": "code",
      "execution_count": 45,
      "metadata": {
        "trusted": false,
        "id": "R4CmUE9LITl_",
        "outputId": "f9addc7e-bee3-455a-ea20-ec0880a4dceb",
        "colab": {
          "base_uri": "https://localhost:8080/",
          "height": 287
        }
      },
      "outputs": [
        {
          "output_type": "execute_result",
          "data": {
            "text/plain": [
              "<AxesSubplot:>"
            ]
          },
          "metadata": {},
          "execution_count": 45
        },
        {
          "output_type": "display_data",
          "data": {
            "text/plain": [
              "<Figure size 432x288 with 2 Axes>"
            ],
            "image/png": "[encoded data removed]"
          },
          "metadata": {
            "needs_background": "light"
          }
        }
      ],
      "source": [
        "columns = ['user_score', 'critic_score', 'total_sales']\n",
        "sns.heatmap(ps4[columns].corr(),annot=True)"
      ]
    },
    {
      "cell_type": "markdown",
      "metadata": {
        "id": "PTZTmc5ZITmA"
      },
      "source": [
        "Коэффициент корреляции между оценками пользователей и продажами близок к нулю и отрицателен, значит линейной взаимосвязи практически нет, это видно и по диаграмме рассеяния. А между оценкой критиков и продажами коэффициент положителен и равен 0.4, то есть связь очень слабая."
      ]
    },
    {
      "cell_type": "markdown",
      "metadata": {
        "id": "0bUK5LG4ITmA"
      },
      "source": [
        "### Сравним с продажами игр на других платформах."
      ]
    },
    {
      "cell_type": "code",
      "execution_count": 46,
      "metadata": {
        "trusted": false,
        "id": "I39L1-4hITmA",
        "outputId": "68a481d9-b2a7-4e26-985a-6a31c8410faa",
        "colab": {
          "base_uri": "https://localhost:8080/",
          "height": 1000
        }
      },
      "outputs": [
        {
          "output_type": "display_data",
          "data": {
            "text/plain": [
              "<Figure size 432x288 with 2 Axes>"
            ],
            "image/png": "[encoded data removed]"
          },
          "metadata": {
            "needs_background": "light"
          }
        },
        {
          "output_type": "display_data",
          "data": {
            "text/plain": [
              "<Figure size 432x288 with 2 Axes>"
            ],
            "image/png": "[encoded data removed]"
          },
          "metadata": {
            "needs_background": "light"
          }
        },
        {
          "output_type": "display_data",
          "data": {
            "text/plain": [
              "<Figure size 432x288 with 2 Axes>"
            ],
            "image/png": "[encoded data removed]"
          },
          "metadata": {
            "needs_background": "light"
          }
        },
        {
          "output_type": "display_data",
          "data": {
            "text/plain": [
              "<Figure size 432x288 with 2 Axes>"
            ],
            "image/png": "[encoded data removed]"
          },
          "metadata": {
            "needs_background": "light"
          }
        },
        {
          "output_type": "display_data",
          "data": {
            "text/plain": [
              "<Figure size 432x288 with 2 Axes>"
            ],
            "image/png": "[encoded data removed]"
          },
          "metadata": {
            "needs_background": "light"
          }
        },
        {
          "output_type": "display_data",
          "data": {
            "text/plain": [
              "<Figure size 432x288 with 2 Axes>"
            ],
            "image/png": "[encoded data removed]"
          },
          "metadata": {
            "needs_background": "light"
          }
        },
        {
          "output_type": "display_data",
          "data": {
            "text/plain": [
              "<Figure size 432x288 with 2 Axes>"
            ],
            "image/png": "[encoded data removed]"
          },
          "metadata": {
            "needs_background": "light"
          }
        },
        {
          "output_type": "display_data",
          "data": {
            "text/plain": [
              "<Figure size 432x288 with 2 Axes>"
            ],
            "image/png": "[encoded data removed]"
          },
          "metadata": {
            "needs_background": "light"
          }
        },
        {
          "output_type": "display_data",
          "data": {
            "text/plain": [
              "<Figure size 432x288 with 2 Axes>"
            ],
            "image/png": "[encoded data removed]"
          },
          "metadata": {
            "needs_background": "light"
          }
        },
        {
          "output_type": "display_data",
          "data": {
            "text/plain": [
              "<Figure size 432x288 with 2 Axes>"
            ],
            "image/png": "[encoded data removed]"
          },
          "metadata": {
            "needs_background": "light"
          }
        }
      ],
      "source": [
        "platf_types = games['platform'].unique()\n",
        "columns = ['user_score', 'critic_score', 'total_sales']\n",
        "\n",
        "for platf_type in platf_types:\n",
        "    data_corr = games.loc[games['platform'] == platf_type]\n",
        "    sns.heatmap(data_corr[columns].corr(),annot=True)\n",
        "    plt.title(platf_type)\n",
        "    plt.show()"
      ]
    },
    {
      "cell_type": "markdown",
      "source": [
        "Так как у нас очень много пропусков в оценках критиков и пользователей, то данные о корреляции у платформ PSP и Wii считаются не верное, не будем учитывать эти данные."
      ],
      "metadata": {
        "id": "1fg82JN9ivou"
      }
    },
    {
      "cell_type": "code",
      "execution_count": 47,
      "metadata": {
        "trusted": false,
        "id": "qC8h98ZgITmB",
        "outputId": "dd338122-5e7e-40c0-88f7-0d4e34866f1d",
        "colab": {
          "base_uri": "https://localhost:8080/",
          "height": 423
        }
      },
      "outputs": [
        {
          "output_type": "execute_result",
          "data": {
            "text/plain": [
              "Text(0.5, 1.0, 'Количество продаж в зависимости от платформы')"
            ]
          },
          "metadata": {},
          "execution_count": 47
        },
        {
          "output_type": "display_data",
          "data": {
            "text/plain": [
              "<Figure size 720x432 with 1 Axes>"
            ],
            "image/png": "[encoded data removed]"
          },
          "metadata": {
            "needs_background": "light"
          }
        }
      ],
      "source": [
        "f, ax = plt.subplots(figsize=(10, 6))\n",
        "fig = sns.boxplot(x='platform', y='total_sales', data=games)\n",
        "plt.ylim(0, 1.6)\n",
        "plt.title('Количество продаж в зависимости от платформы', size=16)"
      ]
    },
    {
      "cell_type": "markdown",
      "metadata": {
        "id": "uOCHD5GKITmE"
      },
      "source": [
        "**Итак,** \n",
        "* сравнивая продажи по всем платформам видим, что лидируют платформы PS4, XOne, WiiU, далее по масштабности идут Wii, X360; \n",
        "* коэффициент корреляции между оценкой пользователей и продажами у большинства платформ отрицателен и близок к нулю или положителен, но  также близок к нулю. Самые высокие коэффициенты у платформы WiiU, равный 0.41 и у 3DS равный 0.22;\n",
        "* коэффициент корреляции между оценкой критиков и продажами положителен и в основном варьируется от 0.31 до 0.45, но есть и близкие к нулю(PSV 0.043). У платформы XOne коэффициент самый высокий и равен 0.53;\n",
        "* мы получили, что в основном, продажи зависят от оценок критиков, а от оценок пользователей - нет."
      ]
    },
    {
      "cell_type": "markdown",
      "metadata": {
        "id": "jar1RfqbITmG"
      },
      "source": [
        "### Посмотрим на общее распределение игр по жанрам"
      ]
    },
    {
      "cell_type": "code",
      "execution_count": 48,
      "metadata": {
        "trusted": false,
        "id": "z3E8QydKITmH",
        "outputId": "6143bdde-32fa-4b88-de9c-4615bbd00653",
        "colab": {
          "base_uri": "https://localhost:8080/",
          "height": 348
        }
      },
      "outputs": [
        {
          "output_type": "execute_result",
          "data": {
            "text/plain": [
              "<AxesSubplot:xlabel='genre'>"
            ]
          },
          "metadata": {},
          "execution_count": 48
        },
        {
          "output_type": "display_data",
          "data": {
            "text/plain": [
              "<Figure size 432x288 with 1 Axes>"
            ],
            "image/png": "[encoded data removed]"
          },
          "metadata": {
            "needs_background": "light"
          }
        }
      ],
      "source": [
        "games.pivot_table(index='genre', values='total_sales', aggfunc='sum').sort_values('total_sales', ascending=False).plot(kind='bar')"
      ]
    },
    {
      "cell_type": "markdown",
      "metadata": {
        "id": "qQ_xeKN3ITmH"
      },
      "source": [
        "Самыми популярными являются жанры \"Action\" и \"Shooter\"(их более 175 млн копий), самые непопулярные  - пазлы."
      ]
    },
    {
      "cell_type": "code",
      "source": [
        "games.pivot_table(index='genre', values='total_sales', aggfunc='mean').sort_values('total_sales', ascending=False).plot(kind='bar')\n"
      ],
      "metadata": {
        "colab": {
          "base_uri": "https://localhost:8080/",
          "height": 351
        },
        "id": "pngbGI_EmKru",
        "outputId": "ec90c78f-0422-4de7-e24b-2223f06a293c"
      },
      "execution_count": 49,
      "outputs": [
        {
          "output_type": "execute_result",
          "data": {
            "text/plain": [
              "<AxesSubplot:xlabel='genre'>"
            ]
          },
          "metadata": {},
          "execution_count": 49
        },
        {
          "output_type": "display_data",
          "data": {
            "text/plain": [
              "<Figure size 432x288 with 1 Axes>"
            ],
            "image/png": "[encoded data removed]"
          },
          "metadata": {
            "needs_background": "light"
          }
        }
      ]
    },
    {
      "cell_type": "code",
      "source": [
        "f, ax = plt.subplots(figsize=(10, 6))\n",
        "fig = sns.boxplot(x='total_sales', y='genre', data=games)\n",
        "plt.title('Количество продаж в зависимости от жанра', size=16)"
      ],
      "metadata": {
        "colab": {
          "base_uri": "https://localhost:8080/",
          "height": 424
        },
        "id": "BpBFsdvL7hcv",
        "outputId": "562e212d-f284-43da-9c86-9b7ddd639e9c"
      },
      "execution_count": 50,
      "outputs": [
        {
          "output_type": "execute_result",
          "data": {
            "text/plain": [
              "Text(0.5, 1.0, 'Количество продаж в зависимости от жанра')"
            ]
          },
          "metadata": {},
          "execution_count": 50
        },
        {
          "output_type": "display_data",
          "data": {
            "text/plain": [
              "<Figure size 720x432 with 1 Axes>"
            ],
            "image/png": "[encoded data removed]"
          },
          "metadata": {
            "needs_background": "light"
          }
        }
      ]
    },
    {
      "cell_type": "markdown",
      "source": [
        "Во многих жанрах видим большое количество выбросов."
      ],
      "metadata": {
        "id": "yY5pjsAC7vst"
      }
    },
    {
      "cell_type": "code",
      "source": [
        "f, ax = plt.subplots(figsize=(10, 6))\n",
        "fig = sns.boxplot(x='total_sales', y='genre', data=games)\n",
        "plt.xlim(0, 3.7)\n",
        "plt.title('Количество продаж в зависимости от жанра', size=16)"
      ],
      "metadata": {
        "colab": {
          "base_uri": "https://localhost:8080/",
          "height": 424
        },
        "id": "BX1kVyaB9wMn",
        "outputId": "bf4af90b-c6d8-4106-efd7-70220c78e59f"
      },
      "execution_count": 51,
      "outputs": [
        {
          "output_type": "execute_result",
          "data": {
            "text/plain": [
              "Text(0.5, 1.0, 'Количество продаж в зависимости от жанра')"
            ]
          },
          "metadata": {},
          "execution_count": 51
        },
        {
          "output_type": "display_data",
          "data": {
            "text/plain": [
              "<Figure size 720x432 with 1 Axes>"
            ],
            "image/png": "[encoded data removed]"
          },
          "metadata": {
            "needs_background": "light"
          }
        }
      ]
    },
    {
      "cell_type": "markdown",
      "source": [
        "Видим, что средние и медианные продажи больше всего у жанра \"стрелялки\". Далее - спортивные игры."
      ],
      "metadata": {
        "id": "ENioLKJWmfj_"
      }
    },
    {
      "cell_type": "markdown",
      "metadata": {
        "id": "glu2mOzWITmI"
      },
      "source": [
        "## Составим портрет пользователя каждого региона"
      ]
    },
    {
      "cell_type": "markdown",
      "metadata": {
        "id": "rQsVL6O_ITmI"
      },
      "source": [
        "### Самые популярные платформы"
      ]
    },
    {
      "cell_type": "code",
      "execution_count": 52,
      "metadata": {
        "trusted": false,
        "id": "EZu1wEcvITmI",
        "outputId": "0a0aa036-8bc5-4d9e-fb24-067d87193a88",
        "colab": {
          "base_uri": "https://localhost:8080/",
          "height": 237
        }
      },
      "outputs": [
        {
          "output_type": "execute_result",
          "data": {
            "text/plain": [
              "          eu_sales\n",
              "platform          \n",
              "PS4         130.04\n",
              "XOne         46.25\n",
              "PS3          25.54\n",
              "PC           17.97\n",
              "3DS          16.12"
            ],
            "text/html": [
              "\n",
              "  <div id=\"df-581687f6-1f62-4873-b992-48b46ea884a8\">\n",
              "    <div class=\"colab-df-container\">\n",
              "      <div>\n",
              "<style scoped>\n",
              "    .dataframe tbody tr th:only-of-type {\n",
              "        vertical-align: middle;\n",
              "    }\n",
              "\n",
              "    .dataframe tbody tr th {\n",
              "        vertical-align: top;\n",
              "    }\n",
              "\n",
              "    .dataframe thead th {\n",
              "        text-align: right;\n",
              "    }\n",
              "</style>\n",
              "<table border=\"1\" class=\"dataframe\">\n",
              "  <thead>\n",
              "    <tr style=\"text-align: right;\">\n",
              "      <th></th>\n",
              "      <th>eu_sales</th>\n",
              "    </tr>\n",
              "    <tr>\n",
              "      <th>platform</th>\n",
              "      <th></th>\n",
              "    </tr>\n",
              "  </thead>\n",
              "  <tbody>\n",
              "    <tr>\n",
              "      <th>PS4</th>\n",
              "      <td>130.04</td>\n",
              "    </tr>\n",
              "    <tr>\n",
              "      <th>XOne</th>\n",
              "      <td>46.25</td>\n",
              "    </tr>\n",
              "    <tr>\n",
              "      <th>PS3</th>\n",
              "      <td>25.54</td>\n",
              "    </tr>\n",
              "    <tr>\n",
              "      <th>PC</th>\n",
              "      <td>17.97</td>\n",
              "    </tr>\n",
              "    <tr>\n",
              "      <th>3DS</th>\n",
              "      <td>16.12</td>\n",
              "    </tr>\n",
              "  </tbody>\n",
              "</table>\n",
              "</div>\n",
              "      <button class=\"colab-df-convert\" onclick=\"convertToInteractive('df-581687f6-1f62-4873-b992-48b46ea884a8')\"\n",
              "              title=\"Convert this dataframe to an interactive table.\"\n",
              "              style=\"display:none;\">\n",
              "        \n",
              "  <svg xmlns=\"http://www.w3.org/2000/svg\" height=\"24px\"viewBox=\"0 0 24 24\"\n",
              "       width=\"24px\">\n",
              "    <path d=\"M0 0h24v24H0V0z\" fill=\"none\"/>\n",
              "    <path d=\"M18.56 5.44l.94 2.06.94-2.06 2.06-.94-2.06-.94-.94-2.06-.94 2.06-2.06.94zm-11 1L8.5 8.5l.94-2.06 2.06-.94-2.06-.94L8.5 2.5l-.94 2.06-2.06.94zm10 10l.94 2.06.94-2.06 2.06-.94-2.06-.94-.94-2.06-.94 2.06-2.06.94z\"/><path d=\"M17.41 7.96l-1.37-1.37c-.4-.4-.92-.59-1.43-.59-.52 0-1.04.2-1.43.59L10.3 9.45l-7.72 7.72c-.78.78-.78 2.05 0 2.83L4 21.41c.39.39.9.59 1.41.59.51 0 1.02-.2 1.41-.59l7.78-7.78 2.81-2.81c.8-.78.8-2.07 0-2.86zM5.41 20L4 18.59l7.72-7.72 1.47 1.35L5.41 20z\"/>\n",
              "  </svg>\n",
              "      </button>\n",
              "      \n",
              "  <style>\n",
              "    .colab-df-container {\n",
              "      display:flex;\n",
              "      flex-wrap:wrap;\n",
              "      gap: 12px;\n",
              "    }\n",
              "\n",
              "    .colab-df-convert {\n",
              "      background-color: #E8F0FE;\n",
              "      border: none;\n",
              "      border-radius: 50%;\n",
              "      cursor: pointer;\n",
              "      display: none;\n",
              "      fill: #1967D2;\n",
              "      height: 32px;\n",
              "      padding: 0 0 0 0;\n",
              "      width: 32px;\n",
              "    }\n",
              "\n",
              "    .colab-df-convert:hover {\n",
              "      background-color: #E2EBFA;\n",
              "      box-shadow: 0px 1px 2px rgba(60, 64, 67, 0.3), 0px 1px 3px 1px rgba(60, 64, 67, 0.15);\n",
              "      fill: #174EA6;\n",
              "    }\n",
              "\n",
              "    [theme=dark] .colab-df-convert {\n",
              "      background-color: #3B4455;\n",
              "      fill: #D2E3FC;\n",
              "    }\n",
              "\n",
              "    [theme=dark] .colab-df-convert:hover {\n",
              "      background-color: #434B5C;\n",
              "      box-shadow: 0px 1px 3px 1px rgba(0, 0, 0, 0.15);\n",
              "      filter: drop-shadow(0px 1px 2px rgba(0, 0, 0, 0.3));\n",
              "      fill: #FFFFFF;\n",
              "    }\n",
              "  </style>\n",
              "\n",
              "      <script>\n",
              "        const buttonEl =\n",
              "          document.querySelector('#df-581687f6-1f62-4873-b992-48b46ea884a8 button.colab-df-convert');\n",
              "        buttonEl.style.display =\n",
              "          google.colab.kernel.accessAllowed ? 'block' : 'none';\n",
              "\n",
              "        async function convertToInteractive(key) {\n",
              "          const element = document.querySelector('#df-581687f6-1f62-4873-b992-48b46ea884a8');\n",
              "          const dataTable =\n",
              "            await google.colab.kernel.invokeFunction('convertToInteractive',\n",
              "                                                     [key], {});\n",
              "          if (!dataTable) return;\n",
              "\n",
              "          const docLinkHtml = 'Like what you see? Visit the ' +\n",
              "            '<a target=\"_blank\" href=https://colab.research.google.com/notebooks/data_table.ipynb>data table notebook</a>'\n",
              "            + ' to learn more about interactive tables.';\n",
              "          element.innerHTML = '';\n",
              "          dataTable['output_type'] = 'display_data';\n",
              "          await google.colab.output.renderOutput(dataTable, element);\n",
              "          const docLink = document.createElement('div');\n",
              "          docLink.innerHTML = docLinkHtml;\n",
              "          element.appendChild(docLink);\n",
              "        }\n",
              "      </script>\n",
              "    </div>\n",
              "  </div>\n",
              "  "
            ]
          },
          "metadata": {},
          "execution_count": 52
        }
      ],
      "source": [
        "pivot_eu = games.pivot_table(index='platform', values='eu_sales', aggfunc='sum')\n",
        "pivot_eu = pivot_eu.reindex(pivot_eu.sort_values(by='eu_sales', ascending=False).index)\n",
        "pivot_eu.head()"
      ]
    },
    {
      "cell_type": "code",
      "source": [
        "e_types = games.groupby('platform')['eu_sales'].sum()\n",
        "other= e_types[e_types.values < 16]\n",
        "e_types = e_types[e_types.values > 16]\n",
        "e_types['Другие'] = other.sum()\n",
        "plt.pie(e_types.values, labels=e_types.index, autopct='%1.1f%%')\n",
        "\n",
        "plt.title('Популярные платформы в Европе')"
      ],
      "metadata": {
        "colab": {
          "base_uri": "https://localhost:8080/",
          "height": 281
        },
        "id": "rY56UbDtGKiP",
        "outputId": "877910c5-cc7c-44fe-c37a-2b676348b671"
      },
      "execution_count": 53,
      "outputs": [
        {
          "output_type": "execute_result",
          "data": {
            "text/plain": [
              "Text(0.5, 1.0, 'Популярные платформы в Европе')"
            ]
          },
          "metadata": {},
          "execution_count": 53
        },
        {
          "output_type": "display_data",
          "data": {
            "text/plain": [
              "<Figure size 432x288 with 1 Axes>"
            ],
            "image/png": "[encoded data removed]"
          },
          "metadata": {}
        }
      ]
    },
    {
      "cell_type": "markdown",
      "source": [
        "В Европе чуть меньше половины от всех платформ используют PS4. XOne тоже популярна, большая доля \"дригих\" платформ."
      ],
      "metadata": {
        "id": "3DsTNoiyGNxA"
      }
    },
    {
      "cell_type": "code",
      "execution_count": 54,
      "metadata": {
        "trusted": false,
        "id": "UNcpGZNoITmJ",
        "outputId": "47ba0d71-6a66-4bfc-8597-bc50ac6879c1",
        "colab": {
          "base_uri": "https://localhost:8080/",
          "height": 237
        }
      },
      "outputs": [
        {
          "output_type": "execute_result",
          "data": {
            "text/plain": [
              "          na_sales\n",
              "platform          \n",
              "PS4          98.61\n",
              "XOne         81.27\n",
              "X360         28.30\n",
              "3DS          22.64\n",
              "PS3          22.05"
            ],
            "text/html": [
              "\n",
              "  <div id=\"df-27e3d4ef-adb1-4e68-8adf-e1f49024c005\">\n",
              "    <div class=\"colab-df-container\">\n",
              "      <div>\n",
              "<style scoped>\n",
              "    .dataframe tbody tr th:only-of-type {\n",
              "        vertical-align: middle;\n",
              "    }\n",
              "\n",
              "    .dataframe tbody tr th {\n",
              "        vertical-align: top;\n",
              "    }\n",
              "\n",
              "    .dataframe thead th {\n",
              "        text-align: right;\n",
              "    }\n",
              "</style>\n",
              "<table border=\"1\" class=\"dataframe\">\n",
              "  <thead>\n",
              "    <tr style=\"text-align: right;\">\n",
              "      <th></th>\n",
              "      <th>na_sales</th>\n",
              "    </tr>\n",
              "    <tr>\n",
              "      <th>platform</th>\n",
              "      <th></th>\n",
              "    </tr>\n",
              "  </thead>\n",
              "  <tbody>\n",
              "    <tr>\n",
              "      <th>PS4</th>\n",
              "      <td>98.61</td>\n",
              "    </tr>\n",
              "    <tr>\n",
              "      <th>XOne</th>\n",
              "      <td>81.27</td>\n",
              "    </tr>\n",
              "    <tr>\n",
              "      <th>X360</th>\n",
              "      <td>28.30</td>\n",
              "    </tr>\n",
              "    <tr>\n",
              "      <th>3DS</th>\n",
              "      <td>22.64</td>\n",
              "    </tr>\n",
              "    <tr>\n",
              "      <th>PS3</th>\n",
              "      <td>22.05</td>\n",
              "    </tr>\n",
              "  </tbody>\n",
              "</table>\n",
              "</div>\n",
              "      <button class=\"colab-df-convert\" onclick=\"convertToInteractive('df-27e3d4ef-adb1-4e68-8adf-e1f49024c005')\"\n",
              "              title=\"Convert this dataframe to an interactive table.\"\n",
              "              style=\"display:none;\">\n",
              "        \n",
              "  <svg xmlns=\"http://www.w3.org/2000/svg\" height=\"24px\"viewBox=\"0 0 24 24\"\n",
              "       width=\"24px\">\n",
              "    <path d=\"M0 0h24v24H0V0z\" fill=\"none\"/>\n",
              "    <path d=\"M18.56 5.44l.94 2.06.94-2.06 2.06-.94-2.06-.94-.94-2.06-.94 2.06-2.06.94zm-11 1L8.5 8.5l.94-2.06 2.06-.94-2.06-.94L8.5 2.5l-.94 2.06-2.06.94zm10 10l.94 2.06.94-2.06 2.06-.94-2.06-.94-.94-2.06-.94 2.06-2.06.94z\"/><path d=\"M17.41 7.96l-1.37-1.37c-.4-.4-.92-.59-1.43-.59-.52 0-1.04.2-1.43.59L10.3 9.45l-7.72 7.72c-.78.78-.78 2.05 0 2.83L4 21.41c.39.39.9.59 1.41.59.51 0 1.02-.2 1.41-.59l7.78-7.78 2.81-2.81c.8-.78.8-2.07 0-2.86zM5.41 20L4 18.59l7.72-7.72 1.47 1.35L5.41 20z\"/>\n",
              "  </svg>\n",
              "      </button>\n",
              "      \n",
              "  <style>\n",
              "    .colab-df-container {\n",
              "      display:flex;\n",
              "      flex-wrap:wrap;\n",
              "      gap: 12px;\n",
              "    }\n",
              "\n",
              "    .colab-df-convert {\n",
              "      background-color: #E8F0FE;\n",
              "      border: none;\n",
              "      border-radius: 50%;\n",
              "      cursor: pointer;\n",
              "      display: none;\n",
              "      fill: #1967D2;\n",
              "      height: 32px;\n",
              "      padding: 0 0 0 0;\n",
              "      width: 32px;\n",
              "    }\n",
              "\n",
              "    .colab-df-convert:hover {\n",
              "      background-color: #E2EBFA;\n",
              "      box-shadow: 0px 1px 2px rgba(60, 64, 67, 0.3), 0px 1px 3px 1px rgba(60, 64, 67, 0.15);\n",
              "      fill: #174EA6;\n",
              "    }\n",
              "\n",
              "    [theme=dark] .colab-df-convert {\n",
              "      background-color: #3B4455;\n",
              "      fill: #D2E3FC;\n",
              "    }\n",
              "\n",
              "    [theme=dark] .colab-df-convert:hover {\n",
              "      background-color: #434B5C;\n",
              "      box-shadow: 0px 1px 3px 1px rgba(0, 0, 0, 0.15);\n",
              "      filter: drop-shadow(0px 1px 2px rgba(0, 0, 0, 0.3));\n",
              "      fill: #FFFFFF;\n",
              "    }\n",
              "  </style>\n",
              "\n",
              "      <script>\n",
              "        const buttonEl =\n",
              "          document.querySelector('#df-27e3d4ef-adb1-4e68-8adf-e1f49024c005 button.colab-df-convert');\n",
              "        buttonEl.style.display =\n",
              "          google.colab.kernel.accessAllowed ? 'block' : 'none';\n",
              "\n",
              "        async function convertToInteractive(key) {\n",
              "          const element = document.querySelector('#df-27e3d4ef-adb1-4e68-8adf-e1f49024c005');\n",
              "          const dataTable =\n",
              "            await google.colab.kernel.invokeFunction('convertToInteractive',\n",
              "                                                     [key], {});\n",
              "          if (!dataTable) return;\n",
              "\n",
              "          const docLinkHtml = 'Like what you see? Visit the ' +\n",
              "            '<a target=\"_blank\" href=https://colab.research.google.com/notebooks/data_table.ipynb>data table notebook</a>'\n",
              "            + ' to learn more about interactive tables.';\n",
              "          element.innerHTML = '';\n",
              "          dataTable['output_type'] = 'display_data';\n",
              "          await google.colab.output.renderOutput(dataTable, element);\n",
              "          const docLink = document.createElement('div');\n",
              "          docLink.innerHTML = docLinkHtml;\n",
              "          element.appendChild(docLink);\n",
              "        }\n",
              "      </script>\n",
              "    </div>\n",
              "  </div>\n",
              "  "
            ]
          },
          "metadata": {},
          "execution_count": 54
        }
      ],
      "source": [
        "pivot_na = games.pivot_table(index='platform', values='na_sales', aggfunc='sum')\n",
        "pivot_na = pivot_na.reindex(pivot_na.sort_values(by='na_sales', ascending=False).index)\n",
        "pivot_na.head()"
      ]
    },
    {
      "cell_type": "code",
      "source": [
        "n_types = games.groupby('platform')['na_sales'].sum()\n",
        "other= n_types[n_types.values < 22]\n",
        "n_types = n_types[n_types.values > 22]\n",
        "n_types['Другие'] = other.sum()\n",
        "plt.pie(n_types.values, labels=n_types.index, autopct='%1.1f%%')\n",
        "plt.title('Популярные платформы в Северной Америке')"
      ],
      "metadata": {
        "colab": {
          "base_uri": "https://localhost:8080/",
          "height": 281
        },
        "id": "18uWG0R-Gpuw",
        "outputId": "49a4617c-e4b1-4429-f810-4f22e1946aa6"
      },
      "execution_count": 55,
      "outputs": [
        {
          "output_type": "execute_result",
          "data": {
            "text/plain": [
              "Text(0.5, 1.0, 'Популярные платформы в Северной Америке')"
            ]
          },
          "metadata": {},
          "execution_count": 55
        },
        {
          "output_type": "display_data",
          "data": {
            "text/plain": [
              "<Figure size 432x288 with 1 Axes>"
            ],
            "image/png": "[encoded data removed]"
          },
          "metadata": {}
        }
      ]
    },
    {
      "cell_type": "markdown",
      "source": [
        "Больше трети используют платформу PS4, чуть меньше трети - XOne."
      ],
      "metadata": {
        "id": "F3cUKtgaGxHB"
      }
    },
    {
      "cell_type": "code",
      "execution_count": 56,
      "metadata": {
        "trusted": false,
        "id": "J24aFgXQITmJ",
        "outputId": "9fb6aa4d-388f-4293-d879-4cf9efbe48bb",
        "colab": {
          "base_uri": "https://localhost:8080/",
          "height": 237
        }
      },
      "outputs": [
        {
          "output_type": "execute_result",
          "data": {
            "text/plain": [
              "          jp_sales\n",
              "platform          \n",
              "3DS          44.24\n",
              "PS4          15.02\n",
              "PSV          14.54\n",
              "PS3          11.22\n",
              "WiiU          7.31"
            ],
            "text/html": [
              "\n",
              "  <div id=\"df-0ebc4ba3-c170-4c73-81ae-e07d1eea4786\">\n",
              "    <div class=\"colab-df-container\">\n",
              "      <div>\n",
              "<style scoped>\n",
              "    .dataframe tbody tr th:only-of-type {\n",
              "        vertical-align: middle;\n",
              "    }\n",
              "\n",
              "    .dataframe tbody tr th {\n",
              "        vertical-align: top;\n",
              "    }\n",
              "\n",
              "    .dataframe thead th {\n",
              "        text-align: right;\n",
              "    }\n",
              "</style>\n",
              "<table border=\"1\" class=\"dataframe\">\n",
              "  <thead>\n",
              "    <tr style=\"text-align: right;\">\n",
              "      <th></th>\n",
              "      <th>jp_sales</th>\n",
              "    </tr>\n",
              "    <tr>\n",
              "      <th>platform</th>\n",
              "      <th></th>\n",
              "    </tr>\n",
              "  </thead>\n",
              "  <tbody>\n",
              "    <tr>\n",
              "      <th>3DS</th>\n",
              "      <td>44.24</td>\n",
              "    </tr>\n",
              "    <tr>\n",
              "      <th>PS4</th>\n",
              "      <td>15.02</td>\n",
              "    </tr>\n",
              "    <tr>\n",
              "      <th>PSV</th>\n",
              "      <td>14.54</td>\n",
              "    </tr>\n",
              "    <tr>\n",
              "      <th>PS3</th>\n",
              "      <td>11.22</td>\n",
              "    </tr>\n",
              "    <tr>\n",
              "      <th>WiiU</th>\n",
              "      <td>7.31</td>\n",
              "    </tr>\n",
              "  </tbody>\n",
              "</table>\n",
              "</div>\n",
              "      <button class=\"colab-df-convert\" onclick=\"convertToInteractive('df-0ebc4ba3-c170-4c73-81ae-e07d1eea4786')\"\n",
              "              title=\"Convert this dataframe to an interactive table.\"\n",
              "              style=\"display:none;\">\n",
              "        \n",
              "  <svg xmlns=\"http://www.w3.org/2000/svg\" height=\"24px\"viewBox=\"0 0 24 24\"\n",
              "       width=\"24px\">\n",
              "    <path d=\"M0 0h24v24H0V0z\" fill=\"none\"/>\n",
              "    <path d=\"M18.56 5.44l.94 2.06.94-2.06 2.06-.94-2.06-.94-.94-2.06-.94 2.06-2.06.94zm-11 1L8.5 8.5l.94-2.06 2.06-.94-2.06-.94L8.5 2.5l-.94 2.06-2.06.94zm10 10l.94 2.06.94-2.06 2.06-.94-2.06-.94-.94-2.06-.94 2.06-2.06.94z\"/><path d=\"M17.41 7.96l-1.37-1.37c-.4-.4-.92-.59-1.43-.59-.52 0-1.04.2-1.43.59L10.3 9.45l-7.72 7.72c-.78.78-.78 2.05 0 2.83L4 21.41c.39.39.9.59 1.41.59.51 0 1.02-.2 1.41-.59l7.78-7.78 2.81-2.81c.8-.78.8-2.07 0-2.86zM5.41 20L4 18.59l7.72-7.72 1.47 1.35L5.41 20z\"/>\n",
              "  </svg>\n",
              "      </button>\n",
              "      \n",
              "  <style>\n",
              "    .colab-df-container {\n",
              "      display:flex;\n",
              "      flex-wrap:wrap;\n",
              "      gap: 12px;\n",
              "    }\n",
              "\n",
              "    .colab-df-convert {\n",
              "      background-color: #E8F0FE;\n",
              "      border: none;\n",
              "      border-radius: 50%;\n",
              "      cursor: pointer;\n",
              "      display: none;\n",
              "      fill: #1967D2;\n",
              "      height: 32px;\n",
              "      padding: 0 0 0 0;\n",
              "      width: 32px;\n",
              "    }\n",
              "\n",
              "    .colab-df-convert:hover {\n",
              "      background-color: #E2EBFA;\n",
              "      box-shadow: 0px 1px 2px rgba(60, 64, 67, 0.3), 0px 1px 3px 1px rgba(60, 64, 67, 0.15);\n",
              "      fill: #174EA6;\n",
              "    }\n",
              "\n",
              "    [theme=dark] .colab-df-convert {\n",
              "      background-color: #3B4455;\n",
              "      fill: #D2E3FC;\n",
              "    }\n",
              "\n",
              "    [theme=dark] .colab-df-convert:hover {\n",
              "      background-color: #434B5C;\n",
              "      box-shadow: 0px 1px 3px 1px rgba(0, 0, 0, 0.15);\n",
              "      filter: drop-shadow(0px 1px 2px rgba(0, 0, 0, 0.3));\n",
              "      fill: #FFFFFF;\n",
              "    }\n",
              "  </style>\n",
              "\n",
              "      <script>\n",
              "        const buttonEl =\n",
              "          document.querySelector('#df-0ebc4ba3-c170-4c73-81ae-e07d1eea4786 button.colab-df-convert');\n",
              "        buttonEl.style.display =\n",
              "          google.colab.kernel.accessAllowed ? 'block' : 'none';\n",
              "\n",
              "        async function convertToInteractive(key) {\n",
              "          const element = document.querySelector('#df-0ebc4ba3-c170-4c73-81ae-e07d1eea4786');\n",
              "          const dataTable =\n",
              "            await google.colab.kernel.invokeFunction('convertToInteractive',\n",
              "                                                     [key], {});\n",
              "          if (!dataTable) return;\n",
              "\n",
              "          const docLinkHtml = 'Like what you see? Visit the ' +\n",
              "            '<a target=\"_blank\" href=https://colab.research.google.com/notebooks/data_table.ipynb>data table notebook</a>'\n",
              "            + ' to learn more about interactive tables.';\n",
              "          element.innerHTML = '';\n",
              "          dataTable['output_type'] = 'display_data';\n",
              "          await google.colab.output.renderOutput(dataTable, element);\n",
              "          const docLink = document.createElement('div');\n",
              "          docLink.innerHTML = docLinkHtml;\n",
              "          element.appendChild(docLink);\n",
              "        }\n",
              "      </script>\n",
              "    </div>\n",
              "  </div>\n",
              "  "
            ]
          },
          "metadata": {},
          "execution_count": 56
        }
      ],
      "source": [
        "pivot_jp = games.pivot_table(index='platform', values='jp_sales', aggfunc='sum')\n",
        "pivot_jp = pivot_jp.reindex(pivot_jp.sort_values(by='jp_sales', ascending=False).index)\n",
        "pivot_jp.head()"
      ]
    },
    {
      "cell_type": "code",
      "source": [
        "name_types = games.groupby('platform')['jp_sales'].sum()\n",
        "other= name_types[name_types.values < 7]\n",
        "name_types = name_types[name_types.values > 7]\n",
        "name_types['Другие'] = other.sum()\n",
        "plt.pie(name_types.values, labels=name_types.index, autopct='%1.1f%%')\n",
        "plt.title('Популярные платформы в Японии')"
      ],
      "metadata": {
        "colab": {
          "base_uri": "https://localhost:8080/",
          "height": 281
        },
        "id": "B7DB5WE3G8h-",
        "outputId": "4171085a-deb6-49a1-aeba-d820247f14e9"
      },
      "execution_count": 57,
      "outputs": [
        {
          "output_type": "execute_result",
          "data": {
            "text/plain": [
              "Text(0.5, 1.0, 'Популярные платформы в Японии')"
            ]
          },
          "metadata": {},
          "execution_count": 57
        },
        {
          "output_type": "display_data",
          "data": {
            "text/plain": [
              "<Figure size 432x288 with 1 Axes>"
            ],
            "image/png": "[encoded data removed]"
          },
          "metadata": {}
        }
      ]
    },
    {
      "cell_type": "markdown",
      "source": [
        "В Японии чуть меньше половины используют 3DS, остальные делятся между собой почти поровну с небольшими отклонениями в значениях."
      ],
      "metadata": {
        "id": "b3tVjEGCHP-K"
      }
    },
    {
      "cell_type": "markdown",
      "metadata": {
        "id": "MzWfAleNITmK"
      },
      "source": [
        "### Самые популярные жанры"
      ]
    },
    {
      "cell_type": "code",
      "source": [
        "sales_genre = games.groupby('genre')[['na_sales','eu_sales','jp_sales']].agg('sum')\n",
        "\n",
        "sales_rating = (\n",
        "    pd.concat([sales_genre], axis=1).reset_index()\n",
        "    .sort_values(by='na_sales', ascending=False)\n",
        ")\n",
        "sales_rating.columns = ['genre', 'Северная Америка', 'Европа', 'Япония']\n",
        "sales_rating.plot.bar(x='genre',rot=0, figsize =(12, 8))\n",
        "plt.title('Сравнение популярности жанра в разных странах', fontsize=14)\n",
        "plt.xlabel('Жанр', fontsize=10)\n",
        "plt.ylabel('Продажи, млн шт',fontsize=12);"
      ],
      "metadata": {
        "colab": {
          "base_uri": "https://localhost:8080/",
          "height": 514
        },
        "id": "p5faYAaUKGmW",
        "outputId": "1ae980cf-9e63-40e8-a641-b4a15b3e5319"
      },
      "execution_count": 58,
      "outputs": [
        {
          "output_type": "display_data",
          "data": {
            "text/plain": [
              "<Figure size 864x576 with 1 Axes>"
            ],
            "image/png": "[encoded data removed]"
          },
          "metadata": {
            "needs_background": "light"
          }
        }
      ]
    },
    {
      "cell_type": "markdown",
      "source": [
        "Видим, что в Северной Америке лидируют жанры \"стрелялка\", далее \"экшен\". В Европе популярным жанром является \"экшен\", второе место - \"стрелялка\". В Японии преобладают игры с жанром \"ролевые игры\"."
      ],
      "metadata": {
        "id": "W2OW_k7ZL19P"
      }
    },
    {
      "cell_type": "markdown",
      "metadata": {
        "id": "cB4WOP9eITmM"
      },
      "source": [
        "### Влияние рейтинга ESRB на продажи"
      ]
    },
    {
      "cell_type": "code",
      "source": [
        "sales_rating = games.groupby('rating')[['na_sales','eu_sales','jp_sales']].agg('sum')\n",
        "\n",
        "sales_rating = (\n",
        "    pd.concat([sales_rating], axis=1).reset_index()\n",
        "    .sort_values(by='na_sales', ascending=False)\n",
        ")\n",
        "sales_rating.columns = ['rating', 'Северная Америка', 'Европа', 'Япония']\n",
        "sales_rating.plot.bar(x='rating',rot=0, figsize =(12, 8))\n",
        "plt.title('Сравнение популярности рейтинга в разных странах', fontsize=14)\n",
        "plt.xlabel('Рейтинг', fontsize=10)\n",
        "plt.ylabel('Продажи, млн шт',fontsize=12);"
      ],
      "metadata": {
        "colab": {
          "base_uri": "https://localhost:8080/",
          "height": 514
        },
        "id": "NVDUiwppIvXM",
        "outputId": "39014ad1-870e-4b30-e978-6bbf2074fd98"
      },
      "execution_count": 59,
      "outputs": [
        {
          "output_type": "display_data",
          "data": {
            "text/plain": [
              "<Figure size 864x576 with 1 Axes>"
            ],
            "image/png": "[encoded data removed]"
          },
          "metadata": {
            "needs_background": "light"
          }
        }
      ]
    },
    {
      "cell_type": "markdown",
      "source": [
        "В Японии преобладает неизвестный рейтинг. Скорее всего это связано с тем, что в Японии своя рейтинговая модель \"CERO\", которая отличается по критериям от американской \"ESRB\". В Европе и Северной Америке преобладает рейтинг \"М\" - от 17 лет."
      ],
      "metadata": {
        "id": "bs4bpL4ERBwv"
      }
    },
    {
      "cell_type": "code",
      "execution_count": 60,
      "metadata": {
        "trusted": false,
        "id": "-I2LghuDITmK",
        "outputId": "23b61642-1a9c-497c-890d-03db80654141",
        "colab": {
          "base_uri": "https://localhost:8080/",
          "height": 976
        }
      },
      "outputs": [
        {
          "output_type": "execute_result",
          "data": {
            "text/plain": [
              "Text(0.5, 1.0, 'Популярный рейтинг в Европе')"
            ]
          },
          "metadata": {},
          "execution_count": 60
        },
        {
          "output_type": "display_data",
          "data": {
            "text/plain": [
              "<Figure size 432x288 with 1 Axes>"
            ],
            "image/png": "[encoded data removed]"
          },
          "metadata": {
            "needs_background": "light"
          }
        },
        {
          "output_type": "display_data",
          "data": {
            "text/plain": [
              "<Figure size 432x288 with 1 Axes>"
            ],
            "image/png": "[encoded data removed]"
          },
          "metadata": {
            "needs_background": "light"
          }
        },
        {
          "output_type": "display_data",
          "data": {
            "text/plain": [
              "<Figure size 432x288 with 1 Axes>"
            ],
            "image/png": "[encoded data removed]"
          },
          "metadata": {
            "needs_background": "light"
          }
        }
      ],
      "source": [
        "games.pivot_table(index='rating', values='jp_sales', aggfunc='sum').sort_values('jp_sales', ascending=False).plot(kind='bar')\n",
        "plt.title('Популярный рейтинг в Японии')\n",
        "games.pivot_table(index='rating', values='na_sales', aggfunc='sum').sort_values('na_sales', ascending=False).plot(kind='bar')\n",
        "plt.title('Популярный рейтинг в Северной Америке')\n",
        "games.pivot_table(index='rating', values='eu_sales', aggfunc='sum').sort_values('eu_sales', ascending=False).plot(kind='bar')\n",
        "plt.title('Популярный рейтинг в Европе')"
      ]
    },
    {
      "cell_type": "markdown",
      "metadata": {
        "id": "jHtvRQEnITmN"
      },
      "source": [
        "## Проверка гипотез"
      ]
    },
    {
      "cell_type": "markdown",
      "metadata": {
        "id": "7GXkO9JVITmN"
      },
      "source": [
        "### Средние пользовательские рейтинги платформ Xbox One и PC одинаковые"
      ]
    },
    {
      "cell_type": "markdown",
      "metadata": {
        "id": "BSvX2OUWITmO"
      },
      "source": [
        "*Гипотеза H0:* Средние пользовательские рейтинги платформ Xbox One и PC одинаковые.\n",
        "\n",
        "*Гипотеза H1:* Средние пользовательские рейтинги платформ Xbox One и PC разные."
      ]
    },
    {
      "cell_type": "code",
      "execution_count": 61,
      "metadata": {
        "trusted": false,
        "id": "SMw7v02yITmO"
      },
      "outputs": [],
      "source": [
        "xone = games.loc[games['platform'] == 'XOne', 'user_score']\n",
        "pc = games.loc[games['platform'] == 'PC', 'user_score']"
      ]
    },
    {
      "cell_type": "markdown",
      "source": [
        "Так как у нас много пропусков в оценке пользователей, мы их не заполняли, но для работы статистического метода пустых значений не должно быть. Удалим пустые значения."
      ],
      "metadata": {
        "id": "ygCCVtS6TxVw"
      }
    },
    {
      "cell_type": "code",
      "source": [
        "xone.dropna(inplace=True)\n",
        "pc.dropna(inplace=True)"
      ],
      "metadata": {
        "id": "efXZ88s0Shwc"
      },
      "execution_count": 62,
      "outputs": []
    },
    {
      "cell_type": "code",
      "execution_count": 63,
      "metadata": {
        "trusted": false,
        "id": "Z1OOB99tITmO",
        "outputId": "ba3734f0-b87b-4b67-fb2b-8a620a38699f",
        "colab": {
          "base_uri": "https://localhost:8080/"
        }
      },
      "outputs": [
        {
          "output_type": "stream",
          "name": "stdout",
          "text": [
            "Значение pvalue: 0.11601398086668832\n",
            "Не получилось отвергнуть нулевую гипотезу\n"
          ]
        }
      ],
      "source": [
        "alpha = 0.05\n",
        "results = st.ttest_ind(xone, pc, equal_var=False)\n",
        "\n",
        "print('Значение pvalue:', results.pvalue)\n",
        "if results.pvalue < alpha:\n",
        "    print(\"Отвергаем нулевую гипотезу\")\n",
        "else:\n",
        "    print(\"Не получилось отвергнуть нулевую гипотезу\")"
      ]
    },
    {
      "cell_type": "markdown",
      "source": [
        "Значение pvalue получилось больше нашего уровня значимости. То есть наши данные не противоречат нулевой гипотезе: средние пользовательские рейтинги платформ Xbox One и PC одинаковые."
      ],
      "metadata": {
        "id": "5sd61y2EJ_hx"
      }
    },
    {
      "cell_type": "markdown",
      "metadata": {
        "id": "9iMxDa_RITmP"
      },
      "source": [
        "### Средние пользовательские рейтинги жанров Action (англ. «действие», экшен-игры) и Sports (англ. «спортивные соревнования») разные."
      ]
    },
    {
      "cell_type": "markdown",
      "metadata": {
        "id": "f8emX5G4ITmQ"
      },
      "source": [
        "*Гипотеза Н0:* Средние пользовательские рейтинги жанров Action и Sports одинаковые.  \n",
        "*Гипотеза Н1:* Средние пользовательские рейтинги жанров Action и Sports разные."
      ]
    },
    {
      "cell_type": "code",
      "execution_count": 64,
      "metadata": {
        "trusted": false,
        "id": "GX0OoHP2ITmQ"
      },
      "outputs": [],
      "source": [
        "action = games.loc[games['genre'] == 'Action', 'user_score']\n",
        "sports = games.loc[games['genre'] == 'Sports', 'user_score']"
      ]
    },
    {
      "cell_type": "code",
      "source": [
        "action.dropna(inplace=True)\n",
        "sports.dropna(inplace=True)"
      ],
      "metadata": {
        "id": "SFX1SghhTOHQ"
      },
      "execution_count": 65,
      "outputs": []
    },
    {
      "cell_type": "code",
      "execution_count": 66,
      "metadata": {
        "trusted": false,
        "id": "74xz3aiJITmQ",
        "outputId": "c72c1808-939c-43d4-cb94-97089ac2d928",
        "colab": {
          "base_uri": "https://localhost:8080/"
        }
      },
      "outputs": [
        {
          "output_type": "stream",
          "name": "stdout",
          "text": [
            "Значение pvalue: 1.1825550382644557e-14\n",
            "Отвергаем нулевую гипотезу\n"
          ]
        }
      ],
      "source": [
        "alpha = 0.05\n",
        "results = st.ttest_ind(action, sports, equal_var=False)\n",
        "print('Значение pvalue:', results.pvalue)\n",
        "\n",
        "if results.pvalue < alpha:\n",
        "    print(\"Отвергаем нулевую гипотезу\")\n",
        "else:\n",
        "    print(\"Не получилось отвергнуть нулевую гипотезу\") "
      ]
    },
    {
      "cell_type": "markdown",
      "source": [
        "Итак, получили значение pvalue близкое к нулю. Это значит, что вероятность получить выраженные различия между средними случайно - близко к нулю. То есть, мы приходим к выводу, что получить такие данные в рамках этой гипотезы вряд ли возможно. Тогда мы отвергаем нулевую гипотезу и принимаем альтернативную о разных средних значений рейтингов жанров Action и Sports."
      ],
      "metadata": {
        "id": "6xEcl8UUKEcA"
      }
    },
    {
      "cell_type": "markdown",
      "source": [
        "## Вывод"
      ],
      "metadata": {
        "id": "cOoWXrI-VJA4"
      }
    },
    {
      "cell_type": "markdown",
      "source": [
        "Мы выяснили, \n",
        "* что платформ PS4 и XOne набирают популярность, и они очень популярны в Северной Америке и Европе. Но вот в Японии популярной платформой является 3DS. То есть выбор популярной платформы зависит от региона, где планируется выпуск игры;\n",
        "* \"экшен\" и \"стрелялки\" очень распространены в Европе и Северной Америке, однако в Японии следует сделать акцент на \"ролевые игры\";\n",
        "* оценки пользователей не влияют на продажи игры;\n",
        "* рейтинг критиков влияет на покупку игры как в общем, так и для отдельных платформ. Самая сильная связь между оценкой критиков и платаформой XOne;\n",
        "* высокие средние продажи у жанров \"Action\" и \"Shooter\", то есть они стабильно приносят высокий доход;\n",
        "* в Европе почти 50% от всех платформ используют PS4. В Северной Америке почти по 30% приходятся на платформы PS4 и XOne. В Японии почти половина игр покупается на платформе 3DS;  \n",
        "* в Северной Америке и Европе самый распространенный рейтинг - 17+. В Японии в основном пользуются своей моделью рейтинга, который отличается от ESRB;\n",
        "* средние рейтинги платформ Xbox One и PC одинаковые;\n",
        "* средние значения рейтингов жанров Action и Sports разные."
      ],
      "metadata": {
        "id": "zYeYTStiKFbH"
      }
    }
  ],
  "metadata": {
    "ExecuteTimeLog": [
      {
        "duration": 420,
        "start_time": "2022-11-15T04:00:26.638Z"
      },
      {
        "duration": 109,
        "start_time": "2022-11-15T04:00:55.742Z"
      },
      {
        "duration": 222,
        "start_time": "2022-11-15T04:01:52.506Z"
      },
      {
        "duration": 24,
        "start_time": "2022-11-15T04:06:03.559Z"
      },
      {
        "duration": 15,
        "start_time": "2022-11-15T04:06:12.436Z"
      },
      {
        "duration": 16,
        "start_time": "2022-11-15T04:06:53.939Z"
      },
      {
        "duration": 12,
        "start_time": "2022-11-15T04:07:29.604Z"
      },
      {
        "duration": 5,
        "start_time": "2022-11-15T04:13:28.653Z"
      },
      {
        "duration": 7,
        "start_time": "2022-11-15T04:13:43.040Z"
      },
      {
        "duration": 5,
        "start_time": "2022-11-15T04:13:49.457Z"
      },
      {
        "duration": 3,
        "start_time": "2022-11-15T04:17:01.910Z"
      },
      {
        "duration": 4,
        "start_time": "2022-11-15T04:17:05.124Z"
      },
      {
        "duration": 9,
        "start_time": "2022-11-15T04:31:41.636Z"
      },
      {
        "duration": 3,
        "start_time": "2022-11-15T04:31:48.064Z"
      },
      {
        "duration": 6,
        "start_time": "2022-11-15T04:31:52.979Z"
      },
      {
        "duration": 5,
        "start_time": "2022-11-15T04:32:14.833Z"
      },
      {
        "duration": 7,
        "start_time": "2022-11-15T04:32:24.100Z"
      },
      {
        "duration": 6,
        "start_time": "2022-11-15T04:34:42.019Z"
      },
      {
        "duration": 13,
        "start_time": "2022-11-15T04:39:50.835Z"
      },
      {
        "duration": 11,
        "start_time": "2022-11-15T04:44:18.173Z"
      },
      {
        "duration": 6,
        "start_time": "2022-11-15T04:54:46.829Z"
      },
      {
        "duration": 8,
        "start_time": "2022-11-15T04:55:05.148Z"
      },
      {
        "duration": 7,
        "start_time": "2022-11-15T04:55:07.851Z"
      },
      {
        "duration": 20,
        "start_time": "2022-11-15T04:56:47.712Z"
      },
      {
        "duration": 6,
        "start_time": "2022-11-15T05:06:34.868Z"
      },
      {
        "duration": 5,
        "start_time": "2022-11-15T05:17:33.876Z"
      },
      {
        "duration": 5,
        "start_time": "2022-11-15T05:19:19.548Z"
      },
      {
        "duration": 6,
        "start_time": "2022-11-15T05:19:24.827Z"
      },
      {
        "duration": 11,
        "start_time": "2022-11-15T05:31:51.711Z"
      },
      {
        "duration": 394,
        "start_time": "2022-11-15T08:19:41.991Z"
      },
      {
        "duration": 92,
        "start_time": "2022-11-15T08:19:42.387Z"
      },
      {
        "duration": 22,
        "start_time": "2022-11-15T08:19:42.480Z"
      },
      {
        "duration": 15,
        "start_time": "2022-11-15T08:19:42.504Z"
      },
      {
        "duration": 15,
        "start_time": "2022-11-15T08:19:42.521Z"
      },
      {
        "duration": 10,
        "start_time": "2022-11-15T08:19:42.537Z"
      },
      {
        "duration": 29,
        "start_time": "2022-11-15T08:19:42.549Z"
      },
      {
        "duration": 13,
        "start_time": "2022-11-15T08:19:42.580Z"
      },
      {
        "duration": 13,
        "start_time": "2022-11-15T08:19:42.595Z"
      },
      {
        "duration": 13,
        "start_time": "2022-11-15T08:19:42.610Z"
      },
      {
        "duration": 7,
        "start_time": "2022-11-15T08:19:42.624Z"
      },
      {
        "duration": 17,
        "start_time": "2022-11-15T08:19:42.633Z"
      },
      {
        "duration": 32,
        "start_time": "2022-11-15T08:19:42.652Z"
      },
      {
        "duration": 6,
        "start_time": "2022-11-15T08:19:42.687Z"
      },
      {
        "duration": 7,
        "start_time": "2022-11-15T08:19:42.694Z"
      },
      {
        "duration": 13,
        "start_time": "2022-11-15T08:19:42.702Z"
      },
      {
        "duration": 11,
        "start_time": "2022-11-15T08:19:42.717Z"
      },
      {
        "duration": 6,
        "start_time": "2022-11-15T08:19:42.730Z"
      },
      {
        "duration": 23,
        "start_time": "2022-11-15T08:19:42.738Z"
      },
      {
        "duration": 25,
        "start_time": "2022-11-15T08:19:42.763Z"
      },
      {
        "duration": 5,
        "start_time": "2022-11-15T08:21:05.052Z"
      },
      {
        "duration": 14,
        "start_time": "2022-11-15T08:22:13.344Z"
      },
      {
        "duration": 557,
        "start_time": "2022-11-15T08:25:45.515Z"
      },
      {
        "duration": 224,
        "start_time": "2022-11-15T08:25:57.556Z"
      },
      {
        "duration": 3,
        "start_time": "2022-11-15T08:26:19.686Z"
      },
      {
        "duration": 160,
        "start_time": "2022-11-15T08:26:29.376Z"
      },
      {
        "duration": 320,
        "start_time": "2022-11-15T08:45:37.580Z"
      },
      {
        "duration": 278,
        "start_time": "2022-11-15T08:49:11.463Z"
      },
      {
        "duration": 289,
        "start_time": "2022-11-15T08:49:38.781Z"
      },
      {
        "duration": 281,
        "start_time": "2022-11-15T08:49:50.329Z"
      },
      {
        "duration": 1252,
        "start_time": "2022-11-15T09:25:17.826Z"
      },
      {
        "duration": 47,
        "start_time": "2022-11-15T13:25:04.811Z"
      },
      {
        "duration": 791,
        "start_time": "2022-11-15T13:25:16.898Z"
      },
      {
        "duration": 90,
        "start_time": "2022-11-15T13:25:17.691Z"
      },
      {
        "duration": 17,
        "start_time": "2022-11-15T13:25:17.782Z"
      },
      {
        "duration": 14,
        "start_time": "2022-11-15T13:25:17.800Z"
      },
      {
        "duration": 14,
        "start_time": "2022-11-15T13:25:17.816Z"
      },
      {
        "duration": 8,
        "start_time": "2022-11-15T13:25:17.832Z"
      },
      {
        "duration": 4,
        "start_time": "2022-11-15T13:25:17.841Z"
      },
      {
        "duration": 8,
        "start_time": "2022-11-15T13:25:17.846Z"
      },
      {
        "duration": 8,
        "start_time": "2022-11-15T13:25:17.856Z"
      },
      {
        "duration": 8,
        "start_time": "2022-11-15T13:25:17.865Z"
      },
      {
        "duration": 32,
        "start_time": "2022-11-15T13:25:17.874Z"
      },
      {
        "duration": 16,
        "start_time": "2022-11-15T13:25:17.907Z"
      },
      {
        "duration": 10,
        "start_time": "2022-11-15T13:25:17.924Z"
      },
      {
        "duration": 6,
        "start_time": "2022-11-15T13:25:17.937Z"
      },
      {
        "duration": 8,
        "start_time": "2022-11-15T13:25:17.944Z"
      },
      {
        "duration": 6,
        "start_time": "2022-11-15T13:25:17.953Z"
      },
      {
        "duration": 8,
        "start_time": "2022-11-15T13:25:17.960Z"
      },
      {
        "duration": 6,
        "start_time": "2022-11-15T13:25:17.969Z"
      },
      {
        "duration": 6,
        "start_time": "2022-11-15T13:25:17.977Z"
      },
      {
        "duration": 38,
        "start_time": "2022-11-15T13:25:17.985Z"
      },
      {
        "duration": 4,
        "start_time": "2022-11-15T13:25:18.025Z"
      },
      {
        "duration": 14,
        "start_time": "2022-11-15T13:25:18.031Z"
      },
      {
        "duration": 192,
        "start_time": "2022-11-15T13:25:18.047Z"
      },
      {
        "duration": 164,
        "start_time": "2022-11-15T13:25:18.241Z"
      },
      {
        "duration": 327,
        "start_time": "2022-11-15T13:25:18.407Z"
      },
      {
        "duration": 1177,
        "start_time": "2022-11-15T13:25:18.736Z"
      },
      {
        "duration": 1100,
        "start_time": "2022-11-15T13:25:56.316Z"
      },
      {
        "duration": 13,
        "start_time": "2022-11-15T13:28:45.432Z"
      },
      {
        "duration": 156,
        "start_time": "2022-11-15T13:29:12.299Z"
      },
      {
        "duration": 448,
        "start_time": "2022-11-15T13:29:41.810Z"
      },
      {
        "duration": 213,
        "start_time": "2022-11-15T13:30:07.614Z"
      },
      {
        "duration": 146,
        "start_time": "2022-11-15T13:30:53.922Z"
      },
      {
        "duration": 527,
        "start_time": "2022-11-15T13:31:10.854Z"
      },
      {
        "duration": 120,
        "start_time": "2022-11-15T13:31:16.652Z"
      },
      {
        "duration": 271,
        "start_time": "2022-11-15T13:32:03.943Z"
      },
      {
        "duration": 313,
        "start_time": "2022-11-15T13:32:18.218Z"
      },
      {
        "duration": 273,
        "start_time": "2022-11-15T13:32:53.398Z"
      },
      {
        "duration": 240,
        "start_time": "2022-11-15T13:33:04.292Z"
      },
      {
        "duration": 186,
        "start_time": "2022-11-15T13:33:45.956Z"
      },
      {
        "duration": 1404,
        "start_time": "2022-11-16T08:05:44.787Z"
      },
      {
        "duration": 86,
        "start_time": "2022-11-16T08:05:46.193Z"
      },
      {
        "duration": 19,
        "start_time": "2022-11-16T08:05:46.280Z"
      },
      {
        "duration": 13,
        "start_time": "2022-11-16T08:05:46.300Z"
      },
      {
        "duration": 13,
        "start_time": "2022-11-16T08:05:46.315Z"
      },
      {
        "duration": 9,
        "start_time": "2022-11-16T08:05:46.329Z"
      },
      {
        "duration": 7,
        "start_time": "2022-11-16T08:05:46.339Z"
      },
      {
        "duration": 32,
        "start_time": "2022-11-16T08:05:46.348Z"
      },
      {
        "duration": 14,
        "start_time": "2022-11-16T08:05:46.382Z"
      },
      {
        "duration": 16,
        "start_time": "2022-11-16T08:05:46.397Z"
      },
      {
        "duration": 11,
        "start_time": "2022-11-16T08:05:46.415Z"
      },
      {
        "duration": 18,
        "start_time": "2022-11-16T08:05:46.428Z"
      },
      {
        "duration": 9,
        "start_time": "2022-11-16T08:05:46.448Z"
      },
      {
        "duration": 9,
        "start_time": "2022-11-16T08:05:46.460Z"
      },
      {
        "duration": 11,
        "start_time": "2022-11-16T08:05:46.470Z"
      },
      {
        "duration": 11,
        "start_time": "2022-11-16T08:05:46.483Z"
      },
      {
        "duration": 14,
        "start_time": "2022-11-16T08:05:46.495Z"
      },
      {
        "duration": 8,
        "start_time": "2022-11-16T08:05:46.511Z"
      },
      {
        "duration": 7,
        "start_time": "2022-11-16T08:05:46.520Z"
      },
      {
        "duration": 16,
        "start_time": "2022-11-16T08:05:46.528Z"
      },
      {
        "duration": 14,
        "start_time": "2022-11-16T08:05:53.697Z"
      },
      {
        "duration": 54,
        "start_time": "2022-11-16T08:33:59.880Z"
      },
      {
        "duration": 44,
        "start_time": "2022-11-16T08:36:54.423Z"
      },
      {
        "duration": 59,
        "start_time": "2022-11-16T08:37:13.675Z"
      },
      {
        "duration": 40,
        "start_time": "2022-11-16T08:39:28.392Z"
      },
      {
        "duration": 3,
        "start_time": "2022-11-16T08:39:37.389Z"
      },
      {
        "duration": 47,
        "start_time": "2022-11-16T08:39:37.397Z"
      },
      {
        "duration": 15,
        "start_time": "2022-11-16T08:39:37.445Z"
      },
      {
        "duration": 22,
        "start_time": "2022-11-16T08:39:37.462Z"
      },
      {
        "duration": 16,
        "start_time": "2022-11-16T08:39:37.486Z"
      },
      {
        "duration": 11,
        "start_time": "2022-11-16T08:39:37.504Z"
      },
      {
        "duration": 4,
        "start_time": "2022-11-16T08:39:37.517Z"
      },
      {
        "duration": 9,
        "start_time": "2022-11-16T08:39:37.523Z"
      },
      {
        "duration": 7,
        "start_time": "2022-11-16T08:39:37.534Z"
      },
      {
        "duration": 37,
        "start_time": "2022-11-16T08:39:37.542Z"
      },
      {
        "duration": 16,
        "start_time": "2022-11-16T08:39:37.582Z"
      },
      {
        "duration": 26,
        "start_time": "2022-11-16T08:39:37.600Z"
      },
      {
        "duration": 12,
        "start_time": "2022-11-16T08:39:37.628Z"
      },
      {
        "duration": 6,
        "start_time": "2022-11-16T08:39:37.643Z"
      },
      {
        "duration": 6,
        "start_time": "2022-11-16T08:39:37.651Z"
      },
      {
        "duration": 22,
        "start_time": "2022-11-16T08:39:37.659Z"
      },
      {
        "duration": 8,
        "start_time": "2022-11-16T08:39:37.682Z"
      },
      {
        "duration": 9,
        "start_time": "2022-11-16T08:39:37.691Z"
      },
      {
        "duration": 10,
        "start_time": "2022-11-16T08:39:37.702Z"
      },
      {
        "duration": 17,
        "start_time": "2022-11-16T08:39:37.714Z"
      },
      {
        "duration": 63,
        "start_time": "2022-11-16T08:39:37.732Z"
      },
      {
        "duration": 52,
        "start_time": "2022-11-16T08:39:37.797Z"
      },
      {
        "duration": 62,
        "start_time": "2022-11-16T08:39:37.851Z"
      },
      {
        "duration": 42,
        "start_time": "2022-11-16T08:39:37.914Z"
      },
      {
        "duration": 14,
        "start_time": "2022-11-16T08:39:42.243Z"
      },
      {
        "duration": 4,
        "start_time": "2022-11-16T08:41:54.097Z"
      },
      {
        "duration": 80,
        "start_time": "2022-11-16T08:41:54.104Z"
      },
      {
        "duration": 14,
        "start_time": "2022-11-16T08:41:54.186Z"
      },
      {
        "duration": 15,
        "start_time": "2022-11-16T08:41:54.203Z"
      },
      {
        "duration": 16,
        "start_time": "2022-11-16T08:41:54.221Z"
      },
      {
        "duration": 42,
        "start_time": "2022-11-16T08:41:54.240Z"
      },
      {
        "duration": 3,
        "start_time": "2022-11-16T08:41:54.285Z"
      },
      {
        "duration": 8,
        "start_time": "2022-11-16T08:41:54.289Z"
      },
      {
        "duration": 7,
        "start_time": "2022-11-16T08:41:54.299Z"
      },
      {
        "duration": 12,
        "start_time": "2022-11-16T08:41:54.308Z"
      },
      {
        "duration": 11,
        "start_time": "2022-11-16T08:41:54.322Z"
      },
      {
        "duration": 49,
        "start_time": "2022-11-16T08:41:54.335Z"
      },
      {
        "duration": 16,
        "start_time": "2022-11-16T08:41:54.386Z"
      },
      {
        "duration": 7,
        "start_time": "2022-11-16T08:41:54.404Z"
      },
      {
        "duration": 11,
        "start_time": "2022-11-16T08:41:54.413Z"
      },
      {
        "duration": 13,
        "start_time": "2022-11-16T08:41:54.426Z"
      },
      {
        "duration": 14,
        "start_time": "2022-11-16T08:41:54.441Z"
      },
      {
        "duration": 22,
        "start_time": "2022-11-16T08:41:54.456Z"
      },
      {
        "duration": 7,
        "start_time": "2022-11-16T08:41:54.480Z"
      },
      {
        "duration": 23,
        "start_time": "2022-11-16T08:41:54.489Z"
      },
      {
        "duration": 93,
        "start_time": "2022-11-16T08:41:54.514Z"
      },
      {
        "duration": 54,
        "start_time": "2022-11-16T08:41:54.609Z"
      },
      {
        "duration": 54,
        "start_time": "2022-11-16T08:41:54.665Z"
      },
      {
        "duration": 56,
        "start_time": "2022-11-16T08:41:54.722Z"
      },
      {
        "duration": 13,
        "start_time": "2022-11-16T08:41:54.780Z"
      },
      {
        "duration": 7,
        "start_time": "2022-11-16T08:41:54.795Z"
      },
      {
        "duration": 17,
        "start_time": "2022-11-16T08:41:54.804Z"
      },
      {
        "duration": 277,
        "start_time": "2022-11-16T08:41:54.823Z"
      },
      {
        "duration": 177,
        "start_time": "2022-11-16T08:41:55.104Z"
      },
      {
        "duration": 314,
        "start_time": "2022-11-16T08:41:55.284Z"
      },
      {
        "duration": 1306,
        "start_time": "2022-11-16T08:41:55.600Z"
      },
      {
        "duration": 14,
        "start_time": "2022-11-16T08:41:56.908Z"
      },
      {
        "duration": 206,
        "start_time": "2022-11-16T08:41:56.923Z"
      },
      {
        "duration": 407,
        "start_time": "2022-11-16T08:41:57.130Z"
      },
      {
        "duration": 272,
        "start_time": "2022-11-16T08:41:57.539Z"
      },
      {
        "duration": 147,
        "start_time": "2022-11-16T08:41:57.813Z"
      },
      {
        "duration": 291,
        "start_time": "2022-11-16T08:41:57.963Z"
      },
      {
        "duration": 342,
        "start_time": "2022-11-16T08:41:58.256Z"
      },
      {
        "duration": 111,
        "start_time": "2022-11-16T08:42:03.374Z"
      },
      {
        "duration": 3079,
        "start_time": "2022-11-16T08:42:15.402Z"
      },
      {
        "duration": 1734,
        "start_time": "2022-11-16T14:54:40.285Z"
      },
      {
        "duration": 116,
        "start_time": "2022-11-16T14:54:42.021Z"
      },
      {
        "duration": 26,
        "start_time": "2022-11-16T14:54:42.139Z"
      },
      {
        "duration": 30,
        "start_time": "2022-11-16T14:54:42.168Z"
      },
      {
        "duration": 25,
        "start_time": "2022-11-16T14:54:42.200Z"
      },
      {
        "duration": 18,
        "start_time": "2022-11-16T14:54:42.227Z"
      },
      {
        "duration": 26,
        "start_time": "2022-11-16T14:54:42.247Z"
      },
      {
        "duration": 36,
        "start_time": "2022-11-16T14:54:42.275Z"
      },
      {
        "duration": 22,
        "start_time": "2022-11-16T14:54:42.313Z"
      },
      {
        "duration": 24,
        "start_time": "2022-11-16T14:54:42.339Z"
      },
      {
        "duration": 23,
        "start_time": "2022-11-16T14:54:42.365Z"
      },
      {
        "duration": 45,
        "start_time": "2022-11-16T14:54:42.390Z"
      },
      {
        "duration": 24,
        "start_time": "2022-11-16T14:54:42.437Z"
      },
      {
        "duration": 17,
        "start_time": "2022-11-16T14:54:42.464Z"
      },
      {
        "duration": 33,
        "start_time": "2022-11-16T14:54:42.483Z"
      },
      {
        "duration": 35,
        "start_time": "2022-11-16T14:54:42.518Z"
      },
      {
        "duration": 32,
        "start_time": "2022-11-16T14:54:42.555Z"
      },
      {
        "duration": 29,
        "start_time": "2022-11-16T14:54:42.588Z"
      },
      {
        "duration": 26,
        "start_time": "2022-11-16T14:54:42.619Z"
      },
      {
        "duration": 38,
        "start_time": "2022-11-16T14:54:42.647Z"
      },
      {
        "duration": 94,
        "start_time": "2022-11-16T14:54:42.687Z"
      },
      {
        "duration": 53,
        "start_time": "2022-11-16T14:54:42.783Z"
      },
      {
        "duration": 43,
        "start_time": "2022-11-16T14:54:42.838Z"
      },
      {
        "duration": 86,
        "start_time": "2022-11-16T14:54:42.883Z"
      },
      {
        "duration": 21,
        "start_time": "2022-11-16T14:54:42.971Z"
      },
      {
        "duration": 17,
        "start_time": "2022-11-16T14:54:42.996Z"
      },
      {
        "duration": 43,
        "start_time": "2022-11-16T14:54:43.015Z"
      },
      {
        "duration": 266,
        "start_time": "2022-11-16T14:54:43.064Z"
      },
      {
        "duration": 256,
        "start_time": "2022-11-16T14:54:43.333Z"
      },
      {
        "duration": 379,
        "start_time": "2022-11-16T14:54:43.591Z"
      },
      {
        "duration": 1526,
        "start_time": "2022-11-16T14:54:43.972Z"
      },
      {
        "duration": 14,
        "start_time": "2022-11-16T14:54:45.500Z"
      },
      {
        "duration": 225,
        "start_time": "2022-11-16T14:54:45.517Z"
      },
      {
        "duration": 550,
        "start_time": "2022-11-16T14:54:45.744Z"
      },
      {
        "duration": 331,
        "start_time": "2022-11-16T14:54:46.296Z"
      },
      {
        "duration": 174,
        "start_time": "2022-11-16T14:54:46.629Z"
      },
      {
        "duration": 355,
        "start_time": "2022-11-16T14:54:46.805Z"
      },
      {
        "duration": 456,
        "start_time": "2022-11-16T14:54:47.162Z"
      },
      {
        "duration": 3664,
        "start_time": "2022-11-16T14:54:47.620Z"
      },
      {
        "duration": 360,
        "start_time": "2022-11-16T14:54:51.286Z"
      },
      {
        "duration": 229,
        "start_time": "2022-11-16T14:54:51.650Z"
      },
      {
        "duration": 19,
        "start_time": "2022-11-16T14:54:51.881Z"
      },
      {
        "duration": 20,
        "start_time": "2022-11-16T14:54:51.902Z"
      },
      {
        "duration": 40,
        "start_time": "2022-11-16T14:54:51.927Z"
      },
      {
        "duration": 653,
        "start_time": "2022-11-16T14:54:51.969Z"
      },
      {
        "duration": 542,
        "start_time": "2022-11-16T14:54:52.624Z"
      },
      {
        "duration": 634,
        "start_time": "2022-11-16T14:54:53.168Z"
      },
      {
        "duration": 7,
        "start_time": "2022-11-16T14:54:53.804Z"
      },
      {
        "duration": 157,
        "start_time": "2022-11-16T14:54:53.813Z"
      },
      {
        "duration": 3,
        "start_time": "2022-11-16T14:55:17.978Z"
      },
      {
        "duration": 5,
        "start_time": "2022-11-16T14:55:23.973Z"
      },
      {
        "duration": 7,
        "start_time": "2022-11-16T14:57:28.013Z"
      },
      {
        "duration": 8,
        "start_time": "2022-11-16T14:57:38.811Z"
      },
      {
        "duration": 1158,
        "start_time": "2022-11-16T16:49:46.255Z"
      },
      {
        "duration": 94,
        "start_time": "2022-11-16T16:49:47.414Z"
      },
      {
        "duration": 18,
        "start_time": "2022-11-16T16:49:47.509Z"
      },
      {
        "duration": 21,
        "start_time": "2022-11-16T16:49:47.529Z"
      },
      {
        "duration": 35,
        "start_time": "2022-11-16T16:49:47.552Z"
      },
      {
        "duration": 17,
        "start_time": "2022-11-16T16:49:47.589Z"
      },
      {
        "duration": 11,
        "start_time": "2022-11-16T16:49:47.608Z"
      },
      {
        "duration": 13,
        "start_time": "2022-11-16T16:49:47.621Z"
      },
      {
        "duration": 12,
        "start_time": "2022-11-16T16:49:47.636Z"
      },
      {
        "duration": 13,
        "start_time": "2022-11-16T16:49:47.653Z"
      },
      {
        "duration": 18,
        "start_time": "2022-11-16T16:49:47.668Z"
      },
      {
        "duration": 29,
        "start_time": "2022-11-16T16:49:47.689Z"
      },
      {
        "duration": 19,
        "start_time": "2022-11-16T16:49:47.720Z"
      },
      {
        "duration": 15,
        "start_time": "2022-11-16T16:49:47.741Z"
      },
      {
        "duration": 14,
        "start_time": "2022-11-16T16:49:47.759Z"
      },
      {
        "duration": 12,
        "start_time": "2022-11-16T16:49:47.775Z"
      },
      {
        "duration": 14,
        "start_time": "2022-11-16T16:49:47.788Z"
      },
      {
        "duration": 10,
        "start_time": "2022-11-16T16:49:47.803Z"
      },
      {
        "duration": 9,
        "start_time": "2022-11-16T16:49:47.814Z"
      },
      {
        "duration": 13,
        "start_time": "2022-11-16T16:49:47.825Z"
      },
      {
        "duration": 40,
        "start_time": "2022-11-16T16:49:47.839Z"
      },
      {
        "duration": 56,
        "start_time": "2022-11-16T16:49:47.881Z"
      },
      {
        "duration": 39,
        "start_time": "2022-11-16T16:49:47.939Z"
      },
      {
        "duration": 54,
        "start_time": "2022-11-16T16:49:47.981Z"
      },
      {
        "duration": 14,
        "start_time": "2022-11-16T16:49:48.037Z"
      },
      {
        "duration": 10,
        "start_time": "2022-11-16T16:49:48.053Z"
      },
      {
        "duration": 18,
        "start_time": "2022-11-16T16:49:48.065Z"
      },
      {
        "duration": 213,
        "start_time": "2022-11-16T16:49:48.104Z"
      },
      {
        "duration": 186,
        "start_time": "2022-11-16T16:49:48.318Z"
      },
      {
        "duration": 328,
        "start_time": "2022-11-16T16:49:48.506Z"
      },
      {
        "duration": 1259,
        "start_time": "2022-11-16T16:49:48.836Z"
      },
      {
        "duration": 18,
        "start_time": "2022-11-16T16:49:50.096Z"
      },
      {
        "duration": 179,
        "start_time": "2022-11-16T16:49:50.116Z"
      },
      {
        "duration": 348,
        "start_time": "2022-11-16T16:49:50.297Z"
      },
      {
        "duration": 229,
        "start_time": "2022-11-16T16:49:50.647Z"
      },
      {
        "duration": 140,
        "start_time": "2022-11-16T16:49:50.877Z"
      },
      {
        "duration": 320,
        "start_time": "2022-11-16T16:49:51.019Z"
      },
      {
        "duration": 277,
        "start_time": "2022-11-16T16:49:51.341Z"
      },
      {
        "duration": 2957,
        "start_time": "2022-11-16T16:49:51.620Z"
      },
      {
        "duration": 265,
        "start_time": "2022-11-16T16:49:54.578Z"
      },
      {
        "duration": 200,
        "start_time": "2022-11-16T16:49:54.845Z"
      },
      {
        "duration": 15,
        "start_time": "2022-11-16T16:49:55.046Z"
      },
      {
        "duration": 23,
        "start_time": "2022-11-16T16:49:55.062Z"
      },
      {
        "duration": 52,
        "start_time": "2022-11-16T16:49:55.086Z"
      },
      {
        "duration": 489,
        "start_time": "2022-11-16T16:49:55.140Z"
      },
      {
        "duration": 437,
        "start_time": "2022-11-16T16:49:55.630Z"
      },
      {
        "duration": 469,
        "start_time": "2022-11-16T16:49:56.069Z"
      },
      {
        "duration": 5,
        "start_time": "2022-11-16T16:49:56.540Z"
      },
      {
        "duration": 14,
        "start_time": "2022-11-16T16:49:56.546Z"
      },
      {
        "duration": 7,
        "start_time": "2022-11-16T16:49:56.561Z"
      },
      {
        "duration": 8,
        "start_time": "2022-11-16T16:49:56.569Z"
      }
    ],
    "kernelspec": {
      "display_name": "Python 3 (ipykernel)",
      "language": "python",
      "name": "python3"
    },
    "language_info": {
      "codemirror_mode": {
        "name": "ipython",
        "version": 3
      },
      "file_extension": ".py",
      "mimetype": "text/x-python",
      "name": "python",
      "nbconvert_exporter": "python",
      "pygments_lexer": "ipython3",
      "version": "3.9.5"
    },
    "toc": {
      "base_numbering": 1,
      "nav_menu": {},
      "number_sections": true,
      "sideBar": true,
      "skip_h1_title": true,
      "title_cell": "Table of Contents",
      "title_sidebar": "Contents",
      "toc_cell": false,
      "toc_position": {},
      "toc_section_display": true,
      "toc_window_display": false
    },
    "colab": {
      "provenance": []
    }
  },
  "nbformat": 4,
  "nbformat_minor": 0
}