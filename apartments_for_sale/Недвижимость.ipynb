{
 "cells": [
  {
   "cell_type": "markdown",
   "metadata": {
    "id": "g8IMYuOJDG-A"
   },
   "source": [
    "# Исследование объявлений о продаже квартир\n",
    "\n",
    "В нашем распоряжении данные сервиса Яндекс.Недвижимость — архив объявлений о продаже квартир в Санкт-Петербурге и соседних населённых пунктов за несколько лет. Нужно научиться определять рыночную стоимость объектов недвижимости. Наша задача — установить параметры. Это позволит построить автоматизированную систему: она отследит аномалии и мошенническую деятельность. \n",
    "\n",
    "По каждой квартире на продажу доступны два вида данных. Первые вписаны пользователем, вторые — получены автоматически на основе картографических данных. Например, расстояние до центра, аэропорта, ближайшего парка и водоёма. "
   ]
  },
  {
   "cell_type": "markdown",
   "metadata": {
    "id": "z6zlViGZDG-B"
   },
   "source": [
    "## Изучение данных "
   ]
  },
  {
   "cell_type": "code",
   "execution_count": 4,
   "metadata": {
    "id": "pVQwBuvoDG-D"
   },
   "outputs": [],
   "source": [
    "import pandas as pd\n",
    "import numpy as np\n",
    "\n",
    "import matplotlib.pyplot as plt\n",
    "import seaborn as sns"
   ]
  },
  {
   "cell_type": "code",
   "execution_count": 5,
   "metadata": {
    "colab": {
     "base_uri": "https://localhost:8080/"
    },
    "id": "LoNmsvHqDG-G",
    "outputId": "3a4c0102-1ced-4ca8-a48d-0151ae9e2bbe"
   },
   "outputs": [],
   "source": [
    "data = pd.read_csv(r'C:\\datasets\\real_estate_data.csv', sep='\\t')"
   ]
  },
  {
   "cell_type": "code",
   "execution_count": 6,
   "metadata": {
    "colab": {
     "base_uri": "https://localhost:8080/",
     "height": 386
    },
    "id": "hb371ExwDG-J",
    "outputId": "a220a57e-194c-4ac1-b9ac-15ee0ef2b3e1"
   },
   "outputs": [
    {
     "data": {
      "text/html": [
       "<div>\n",
       "<style scoped>\n",
       "    .dataframe tbody tr th:only-of-type {\n",
       "        vertical-align: middle;\n",
       "    }\n",
       "\n",
       "    .dataframe tbody tr th {\n",
       "        vertical-align: top;\n",
       "    }\n",
       "\n",
       "    .dataframe thead th {\n",
       "        text-align: right;\n",
       "    }\n",
       "</style>\n",
       "<table border=\"1\" class=\"dataframe\">\n",
       "  <thead>\n",
       "    <tr style=\"text-align: right;\">\n",
       "      <th></th>\n",
       "      <th>total_images</th>\n",
       "      <th>last_price</th>\n",
       "      <th>total_area</th>\n",
       "      <th>first_day_exposition</th>\n",
       "      <th>rooms</th>\n",
       "      <th>ceiling_height</th>\n",
       "      <th>floors_total</th>\n",
       "      <th>living_area</th>\n",
       "      <th>floor</th>\n",
       "      <th>is_apartment</th>\n",
       "      <th>...</th>\n",
       "      <th>kitchen_area</th>\n",
       "      <th>balcony</th>\n",
       "      <th>locality_name</th>\n",
       "      <th>airports_nearest</th>\n",
       "      <th>cityCenters_nearest</th>\n",
       "      <th>parks_around3000</th>\n",
       "      <th>parks_nearest</th>\n",
       "      <th>ponds_around3000</th>\n",
       "      <th>ponds_nearest</th>\n",
       "      <th>days_exposition</th>\n",
       "    </tr>\n",
       "  </thead>\n",
       "  <tbody>\n",
       "    <tr>\n",
       "      <th>0</th>\n",
       "      <td>20</td>\n",
       "      <td>13000000.0</td>\n",
       "      <td>108.0</td>\n",
       "      <td>2019-03-07T00:00:00</td>\n",
       "      <td>3</td>\n",
       "      <td>2.70</td>\n",
       "      <td>16.0</td>\n",
       "      <td>51.0</td>\n",
       "      <td>8</td>\n",
       "      <td>NaN</td>\n",
       "      <td>...</td>\n",
       "      <td>25.0</td>\n",
       "      <td>NaN</td>\n",
       "      <td>Санкт-Петербург</td>\n",
       "      <td>18863.0</td>\n",
       "      <td>16028.0</td>\n",
       "      <td>1.0</td>\n",
       "      <td>482.0</td>\n",
       "      <td>2.0</td>\n",
       "      <td>755.0</td>\n",
       "      <td>NaN</td>\n",
       "    </tr>\n",
       "    <tr>\n",
       "      <th>1</th>\n",
       "      <td>7</td>\n",
       "      <td>3350000.0</td>\n",
       "      <td>40.4</td>\n",
       "      <td>2018-12-04T00:00:00</td>\n",
       "      <td>1</td>\n",
       "      <td>NaN</td>\n",
       "      <td>11.0</td>\n",
       "      <td>18.6</td>\n",
       "      <td>1</td>\n",
       "      <td>NaN</td>\n",
       "      <td>...</td>\n",
       "      <td>11.0</td>\n",
       "      <td>2.0</td>\n",
       "      <td>посёлок Шушары</td>\n",
       "      <td>12817.0</td>\n",
       "      <td>18603.0</td>\n",
       "      <td>0.0</td>\n",
       "      <td>NaN</td>\n",
       "      <td>0.0</td>\n",
       "      <td>NaN</td>\n",
       "      <td>81.0</td>\n",
       "    </tr>\n",
       "    <tr>\n",
       "      <th>2</th>\n",
       "      <td>10</td>\n",
       "      <td>5196000.0</td>\n",
       "      <td>56.0</td>\n",
       "      <td>2015-08-20T00:00:00</td>\n",
       "      <td>2</td>\n",
       "      <td>NaN</td>\n",
       "      <td>5.0</td>\n",
       "      <td>34.3</td>\n",
       "      <td>4</td>\n",
       "      <td>NaN</td>\n",
       "      <td>...</td>\n",
       "      <td>8.3</td>\n",
       "      <td>0.0</td>\n",
       "      <td>Санкт-Петербург</td>\n",
       "      <td>21741.0</td>\n",
       "      <td>13933.0</td>\n",
       "      <td>1.0</td>\n",
       "      <td>90.0</td>\n",
       "      <td>2.0</td>\n",
       "      <td>574.0</td>\n",
       "      <td>558.0</td>\n",
       "    </tr>\n",
       "    <tr>\n",
       "      <th>3</th>\n",
       "      <td>0</td>\n",
       "      <td>64900000.0</td>\n",
       "      <td>159.0</td>\n",
       "      <td>2015-07-24T00:00:00</td>\n",
       "      <td>3</td>\n",
       "      <td>NaN</td>\n",
       "      <td>14.0</td>\n",
       "      <td>NaN</td>\n",
       "      <td>9</td>\n",
       "      <td>NaN</td>\n",
       "      <td>...</td>\n",
       "      <td>NaN</td>\n",
       "      <td>0.0</td>\n",
       "      <td>Санкт-Петербург</td>\n",
       "      <td>28098.0</td>\n",
       "      <td>6800.0</td>\n",
       "      <td>2.0</td>\n",
       "      <td>84.0</td>\n",
       "      <td>3.0</td>\n",
       "      <td>234.0</td>\n",
       "      <td>424.0</td>\n",
       "    </tr>\n",
       "    <tr>\n",
       "      <th>4</th>\n",
       "      <td>2</td>\n",
       "      <td>10000000.0</td>\n",
       "      <td>100.0</td>\n",
       "      <td>2018-06-19T00:00:00</td>\n",
       "      <td>2</td>\n",
       "      <td>3.03</td>\n",
       "      <td>14.0</td>\n",
       "      <td>32.0</td>\n",
       "      <td>13</td>\n",
       "      <td>NaN</td>\n",
       "      <td>...</td>\n",
       "      <td>41.0</td>\n",
       "      <td>NaN</td>\n",
       "      <td>Санкт-Петербург</td>\n",
       "      <td>31856.0</td>\n",
       "      <td>8098.0</td>\n",
       "      <td>2.0</td>\n",
       "      <td>112.0</td>\n",
       "      <td>1.0</td>\n",
       "      <td>48.0</td>\n",
       "      <td>121.0</td>\n",
       "    </tr>\n",
       "  </tbody>\n",
       "</table>\n",
       "<p>5 rows × 22 columns</p>\n",
       "</div>"
      ],
      "text/plain": [
       "   total_images  last_price  total_area first_day_exposition  rooms  \\\n",
       "0            20  13000000.0       108.0  2019-03-07T00:00:00      3   \n",
       "1             7   3350000.0        40.4  2018-12-04T00:00:00      1   \n",
       "2            10   5196000.0        56.0  2015-08-20T00:00:00      2   \n",
       "3             0  64900000.0       159.0  2015-07-24T00:00:00      3   \n",
       "4             2  10000000.0       100.0  2018-06-19T00:00:00      2   \n",
       "\n",
       "   ceiling_height  floors_total  living_area  floor is_apartment  \\\n",
       "0            2.70          16.0         51.0      8          NaN   \n",
       "1             NaN          11.0         18.6      1          NaN   \n",
       "2             NaN           5.0         34.3      4          NaN   \n",
       "3             NaN          14.0          NaN      9          NaN   \n",
       "4            3.03          14.0         32.0     13          NaN   \n",
       "\n",
       "        ...         kitchen_area  balcony    locality_name  airports_nearest  \\\n",
       "0       ...                 25.0      NaN  Санкт-Петербург           18863.0   \n",
       "1       ...                 11.0      2.0   посёлок Шушары           12817.0   \n",
       "2       ...                  8.3      0.0  Санкт-Петербург           21741.0   \n",
       "3       ...                  NaN      0.0  Санкт-Петербург           28098.0   \n",
       "4       ...                 41.0      NaN  Санкт-Петербург           31856.0   \n",
       "\n",
       "  cityCenters_nearest  parks_around3000  parks_nearest  ponds_around3000  \\\n",
       "0             16028.0               1.0          482.0               2.0   \n",
       "1             18603.0               0.0            NaN               0.0   \n",
       "2             13933.0               1.0           90.0               2.0   \n",
       "3              6800.0               2.0           84.0               3.0   \n",
       "4              8098.0               2.0          112.0               1.0   \n",
       "\n",
       "   ponds_nearest  days_exposition  \n",
       "0          755.0              NaN  \n",
       "1            NaN             81.0  \n",
       "2          574.0            558.0  \n",
       "3          234.0            424.0  \n",
       "4           48.0            121.0  \n",
       "\n",
       "[5 rows x 22 columns]"
      ]
     },
     "execution_count": 6,
     "metadata": {},
     "output_type": "execute_result"
    }
   ],
   "source": [
    "data.head()"
   ]
  },
  {
   "cell_type": "code",
   "execution_count": 7,
   "metadata": {
    "colab": {
     "base_uri": "https://localhost:8080/"
    },
    "id": "0AjaFjsnDG-L",
    "outputId": "44840953-ad4b-433b-94e7-941a8886b15a"
   },
   "outputs": [
    {
     "name": "stdout",
     "output_type": "stream",
     "text": [
      "<class 'pandas.core.frame.DataFrame'>\n",
      "RangeIndex: 23699 entries, 0 to 23698\n",
      "Data columns (total 22 columns):\n",
      "total_images            23699 non-null int64\n",
      "last_price              23699 non-null float64\n",
      "total_area              23699 non-null float64\n",
      "first_day_exposition    23699 non-null object\n",
      "rooms                   23699 non-null int64\n",
      "ceiling_height          14504 non-null float64\n",
      "floors_total            23613 non-null float64\n",
      "living_area             21796 non-null float64\n",
      "floor                   23699 non-null int64\n",
      "is_apartment            2775 non-null object\n",
      "studio                  23699 non-null bool\n",
      "open_plan               23699 non-null bool\n",
      "kitchen_area            21421 non-null float64\n",
      "balcony                 12180 non-null float64\n",
      "locality_name           23650 non-null object\n",
      "airports_nearest        18157 non-null float64\n",
      "cityCenters_nearest     18180 non-null float64\n",
      "parks_around3000        18181 non-null float64\n",
      "parks_nearest           8079 non-null float64\n",
      "ponds_around3000        18181 non-null float64\n",
      "ponds_nearest           9110 non-null float64\n",
      "days_exposition         20518 non-null float64\n",
      "dtypes: bool(2), float64(14), int64(3), object(3)\n",
      "memory usage: 3.4+ MB\n"
     ]
    }
   ],
   "source": [
    "data.info()"
   ]
  },
  {
   "cell_type": "code",
   "execution_count": 8,
   "metadata": {
    "colab": {
     "base_uri": "https://localhost:8080/"
    },
    "id": "7_8df7dlDG-M",
    "outputId": "9c574892-705d-4ecf-d84a-df38aaf028cc"
   },
   "outputs": [
    {
     "name": "stdout",
     "output_type": "stream",
     "text": [
      "Количсество нулевых значений:\n"
     ]
    },
    {
     "data": {
      "text/plain": [
       "total_images                0\n",
       "last_price                  0\n",
       "total_area                  0\n",
       "first_day_exposition        0\n",
       "rooms                       0\n",
       "ceiling_height           9195\n",
       "floors_total               86\n",
       "living_area              1903\n",
       "floor                       0\n",
       "is_apartment            20924\n",
       "studio                      0\n",
       "open_plan                   0\n",
       "kitchen_area             2278\n",
       "balcony                 11519\n",
       "locality_name              49\n",
       "airports_nearest         5542\n",
       "cityCenters_nearest      5519\n",
       "parks_around3000         5518\n",
       "parks_nearest           15620\n",
       "ponds_around3000         5518\n",
       "ponds_nearest           14589\n",
       "days_exposition          3181\n",
       "dtype: int64"
      ]
     },
     "execution_count": 8,
     "metadata": {},
     "output_type": "execute_result"
    }
   ],
   "source": [
    "print('Количсество нулевых значений:')\n",
    "data.isna().sum()"
   ]
  },
  {
   "cell_type": "code",
   "execution_count": 9,
   "metadata": {
    "colab": {
     "base_uri": "https://localhost:8080/"
    },
    "id": "tDnXNOh9DG-P",
    "outputId": "f68e47c1-58e4-4526-870d-d31231b3230a"
   },
   "outputs": [
    {
     "name": "stdout",
     "output_type": "stream",
     "text": [
      "Количество дубликатов: 0\n"
     ]
    }
   ],
   "source": [
    "print(f'Количество дубликатов: {data.duplicated().sum()}')"
   ]
  },
  {
   "cell_type": "code",
   "execution_count": 18,
   "metadata": {
    "colab": {
     "base_uri": "https://localhost:8080/",
     "height": 1000
    },
    "id": "sQ8_qG4mDG-P",
    "outputId": "7ad94c71-db30-48df-ca84-c9b7fcd7c1d0",
    "scrolled": true
   },
   "outputs": [
    {
     "data": {
      "image/png": "[encoded data removed]",
      "text/plain": [
       "<Figure size 1080x1440 with 12 Axes>"
      ]
     },
     "metadata": {
      "needs_background": "light"
     },
     "output_type": "display_data"
    }
   ],
   "source": [
    "data[['airports_nearest','balcony', 'last_price','total_area', 'rooms', 'ceiling_height',\\\n",
    "     'floors_total', 'living_area', 'floor', 'kitchen_area', 'cityCenters_nearest']]\\\n",
    "    .hist(figsize=(15, 20))\n",
    "plt.show()"
   ]
  },
  {
   "cell_type": "markdown",
   "metadata": {
    "id": "2Sv22irODG-Q"
   },
   "source": [
    "В данных отсутствуют явные дубликаты. А вот пропусков довольно много в некоторых колонках. В том числе и в тех, которые могут влиять на стоимость, такие как жилая площадь, расстояние до центра. Сделать выводы по некоторым графикам тяжело, так как они малоинформативны, их следует изучить подробнее."
   ]
  },
  {
   "cell_type": "markdown",
   "metadata": {
    "id": "Of6T4aJBDG-S"
   },
   "source": [
    "## Предобработка данных"
   ]
  },
  {
   "cell_type": "markdown",
   "metadata": {
    "id": "KJye9ynpDG-S"
   },
   "source": [
    "### Пропуски в данных"
   ]
  },
  {
   "cell_type": "markdown",
   "metadata": {
    "id": "0IPypPD2DG-S"
   },
   "source": [
    "Пропуски в колонке `balcony`. Если количество балконов не указано, скорее всего их нет. Заменим пустые значения на ноль."
   ]
  },
  {
   "cell_type": "code",
   "execution_count": 19,
   "metadata": {
    "colab": {
     "base_uri": "https://localhost:8080/"
    },
    "id": "seXzcBJ8DG-T",
    "outputId": "7e96ca51-2787-4b09-dfcb-cc54377acd66"
   },
   "outputs": [
    {
     "data": {
      "text/plain": [
       "11519"
      ]
     },
     "execution_count": 19,
     "metadata": {},
     "output_type": "execute_result"
    }
   ],
   "source": [
    "data['balcony'].isna().sum()"
   ]
  },
  {
   "cell_type": "code",
   "execution_count": 20,
   "metadata": {
    "id": "WLw9Gm9PDG-T"
   },
   "outputs": [],
   "source": [
    "data.loc[data['balcony'].isna(), 'balcony'] = 0"
   ]
  },
  {
   "cell_type": "code",
   "execution_count": 21,
   "metadata": {
    "colab": {
     "base_uri": "https://localhost:8080/"
    },
    "id": "LZpyziioDG-T",
    "outputId": "994a528b-3bb9-40d2-daeb-06ae3c51fab0"
   },
   "outputs": [
    {
     "data": {
      "text/plain": [
       "0"
      ]
     },
     "execution_count": 21,
     "metadata": {},
     "output_type": "execute_result"
    }
   ],
   "source": [
    "data['balcony'].isna().sum()"
   ]
  },
  {
   "cell_type": "markdown",
   "metadata": {
    "id": "EPPBhoKUDG-U"
   },
   "source": [
    "Пропуски в колонке `parks_around3000`. Заполним в колонке с количеством парков в радиусе 3 км пустые значения. Если расстояние до парка NaN, то парков в радиусе 3 км нет."
   ]
  },
  {
   "cell_type": "code",
   "execution_count": 22,
   "metadata": {
    "colab": {
     "base_uri": "https://localhost:8080/"
    },
    "id": "fdpHgSfvDG-U",
    "outputId": "d37c629f-fc76-404c-b221-147dcc9957bb"
   },
   "outputs": [
    {
     "data": {
      "text/plain": [
       "5518"
      ]
     },
     "execution_count": 22,
     "metadata": {},
     "output_type": "execute_result"
    }
   ],
   "source": [
    "data['parks_around3000'].isna().sum()\n"
   ]
  },
  {
   "cell_type": "code",
   "execution_count": 23,
   "metadata": {
    "id": "cPL19okKDG-V"
   },
   "outputs": [],
   "source": [
    "data.loc[data['parks_nearest'].isna(), 'parks_around3000'] = 0.0"
   ]
  },
  {
   "cell_type": "code",
   "execution_count": 24,
   "metadata": {
    "colab": {
     "base_uri": "https://localhost:8080/"
    },
    "id": "xW4ZpUy1DG-V",
    "outputId": "9c5a5718-c5a0-4013-874d-5948e52d24b8"
   },
   "outputs": [
    {
     "data": {
      "text/plain": [
       "0"
      ]
     },
     "execution_count": 24,
     "metadata": {},
     "output_type": "execute_result"
    }
   ],
   "source": [
    "data['parks_around3000'].isna().sum()"
   ]
  },
  {
   "cell_type": "markdown",
   "metadata": {
    "id": "WVXcciM6DG-W"
   },
   "source": [
    "Аналогично заполним пропуски в колонке `ponds_around3000`."
   ]
  },
  {
   "cell_type": "code",
   "execution_count": 25,
   "metadata": {
    "colab": {
     "base_uri": "https://localhost:8080/"
    },
    "id": "4ygQcaN6DG-W",
    "outputId": "2ffefefe-3464-4f9a-c285-0658d030225e"
   },
   "outputs": [
    {
     "data": {
      "text/plain": [
       "5518"
      ]
     },
     "execution_count": 25,
     "metadata": {},
     "output_type": "execute_result"
    }
   ],
   "source": [
    "data['ponds_around3000'].isna().sum()"
   ]
  },
  {
   "cell_type": "code",
   "execution_count": 26,
   "metadata": {
    "id": "UvaD3rmFDG-W"
   },
   "outputs": [],
   "source": [
    "data.loc[data['ponds_nearest'].isna(), 'ponds_around3000'] = 0.0"
   ]
  },
  {
   "cell_type": "code",
   "execution_count": 27,
   "metadata": {
    "colab": {
     "base_uri": "https://localhost:8080/"
    },
    "id": "RljawJS5DG-X",
    "outputId": "2c73f087-ee6c-4d1f-fa1e-217a4eafc490",
    "scrolled": true
   },
   "outputs": [
    {
     "data": {
      "text/plain": [
       "0"
      ]
     },
     "execution_count": 27,
     "metadata": {},
     "output_type": "execute_result"
    }
   ],
   "source": [
    "data['ponds_around3000'].isna().sum()"
   ]
  },
  {
   "cell_type": "markdown",
   "metadata": {
    "id": "b_inVHSXDG-X"
   },
   "source": [
    "Проверим данные в колонке `ceiling_height`."
   ]
  },
  {
   "cell_type": "code",
   "execution_count": 28,
   "metadata": {
    "colab": {
     "base_uri": "https://localhost:8080/"
    },
    "id": "HYnL8KuADG-Y",
    "outputId": "3e6fa0eb-545a-4090-ab9d-995c2641e17a"
   },
   "outputs": [
    {
     "data": {
      "text/plain": [
       "array([  1.  ,   1.2 ,   1.75,   2.  ,   2.2 ,   2.25,   2.3 ,   2.34,\n",
       "         2.4 ,   2.45,   2.46,   2.47,   2.48,   2.49,   2.5 ,   2.51,\n",
       "         2.52,   2.53,   2.54,   2.55,   2.56,   2.57,   2.58,   2.59,\n",
       "         2.6 ,   2.61,   2.62,   2.63,   2.64,   2.65,   2.66,   2.67,\n",
       "         2.68,   2.69,   2.7 ,   2.71,   2.72,   2.73,   2.74,   2.75,\n",
       "         2.76,   2.77,   2.78,   2.79,   2.8 ,   2.81,   2.82,   2.83,\n",
       "         2.84,   2.85,   2.86,   2.87,   2.88,   2.89,   2.9 ,   2.91,\n",
       "         2.92,   2.93,   2.94,   2.95,   2.96,   2.97,   2.98,   2.99,\n",
       "         3.  ,   3.01,   3.02,   3.03,   3.04,   3.05,   3.06,   3.07,\n",
       "         3.08,   3.09,   3.1 ,   3.11,   3.12,   3.13,   3.14,   3.15,\n",
       "         3.16,   3.17,   3.18,   3.2 ,   3.21,   3.22,   3.23,   3.24,\n",
       "         3.25,   3.26,   3.27,   3.28,   3.29,   3.3 ,   3.31,   3.32,\n",
       "         3.33,   3.34,   3.35,   3.36,   3.37,   3.38,   3.39,   3.4 ,\n",
       "         3.42,   3.43,   3.44,   3.45,   3.46,   3.47,   3.48,   3.49,\n",
       "         3.5 ,   3.51,   3.52,   3.53,   3.54,   3.55,   3.56,   3.57,\n",
       "         3.58,   3.59,   3.6 ,   3.62,   3.63,   3.65,   3.66,   3.67,\n",
       "         3.68,   3.69,   3.7 ,   3.75,   3.76,   3.78,   3.8 ,   3.82,\n",
       "         3.83,   3.84,   3.85,   3.86,   3.87,   3.88,   3.9 ,   3.93,\n",
       "         3.95,   3.98,   4.  ,   4.06,   4.1 ,   4.14,   4.15,   4.19,\n",
       "         4.2 ,   4.25,   4.3 ,   4.37,   4.4 ,   4.45,   4.5 ,   4.65,\n",
       "         4.7 ,   4.8 ,   4.9 ,   5.  ,   5.2 ,   5.3 ,   5.5 ,   5.6 ,\n",
       "         5.8 ,   6.  ,   8.  ,   8.3 ,  10.3 ,  14.  ,  20.  ,  22.6 ,\n",
       "        24.  ,  25.  ,  26.  ,  27.  ,  27.5 ,  32.  , 100.  ,    nan])"
      ]
     },
     "execution_count": 28,
     "metadata": {},
     "output_type": "execute_result"
    }
   ],
   "source": [
    "data.sort_values(by='ceiling_height')['ceiling_height'].unique()"
   ]
  },
  {
   "cell_type": "markdown",
   "metadata": {
    "id": "GdpDJ6vuDG-Y"
   },
   "source": [
    "Видим значения высоты потолка от 20 до 100 м, которые маловероятны. Скорее всего эти значения от 2.0 до 10.0 соответственно. Исправим."
   ]
  },
  {
   "cell_type": "code",
   "execution_count": 29,
   "metadata": {
    "id": "Z_62K2g3DG-Y"
   },
   "outputs": [],
   "source": [
    "def correct_hight(row):\n",
    "    if row > 15:\n",
    "        return (row / 10)\n",
    "    else:\n",
    "        return row\n",
    "\n",
    "data['ceiling_height'] = data['ceiling_height'].apply(correct_hight).round(2)"
   ]
  },
  {
   "cell_type": "code",
   "execution_count": 30,
   "metadata": {
    "colab": {
     "base_uri": "https://localhost:8080/"
    },
    "id": "8q4ZBiEfDG-Z",
    "outputId": "987dc145-4359-4411-8ce9-b76407fbd24e"
   },
   "outputs": [
    {
     "data": {
      "text/plain": [
       "array([ 1.  ,  1.2 ,  1.75,  2.  ,  2.2 ,  2.25,  2.26,  2.3 ,  2.34,\n",
       "        2.4 ,  2.45,  2.46,  2.47,  2.48,  2.49,  2.5 ,  2.51,  2.52,\n",
       "        2.53,  2.54,  2.55,  2.56,  2.57,  2.58,  2.59,  2.6 ,  2.61,\n",
       "        2.62,  2.63,  2.64,  2.65,  2.66,  2.67,  2.68,  2.69,  2.7 ,\n",
       "        2.71,  2.72,  2.73,  2.74,  2.75,  2.76,  2.77,  2.78,  2.79,\n",
       "        2.8 ,  2.81,  2.82,  2.83,  2.84,  2.85,  2.86,  2.87,  2.88,\n",
       "        2.89,  2.9 ,  2.91,  2.92,  2.93,  2.94,  2.95,  2.96,  2.97,\n",
       "        2.98,  2.99,  3.  ,  3.01,  3.02,  3.03,  3.04,  3.05,  3.06,\n",
       "        3.07,  3.08,  3.09,  3.1 ,  3.11,  3.12,  3.13,  3.14,  3.15,\n",
       "        3.16,  3.17,  3.18,  3.2 ,  3.21,  3.22,  3.23,  3.24,  3.25,\n",
       "        3.26,  3.27,  3.28,  3.29,  3.3 ,  3.31,  3.32,  3.33,  3.34,\n",
       "        3.35,  3.36,  3.37,  3.38,  3.39,  3.4 ,  3.42,  3.43,  3.44,\n",
       "        3.45,  3.46,  3.47,  3.48,  3.49,  3.5 ,  3.51,  3.52,  3.53,\n",
       "        3.54,  3.55,  3.56,  3.57,  3.58,  3.59,  3.6 ,  3.62,  3.63,\n",
       "        3.65,  3.66,  3.67,  3.68,  3.69,  3.7 ,  3.75,  3.76,  3.78,\n",
       "        3.8 ,  3.82,  3.83,  3.84,  3.85,  3.86,  3.87,  3.88,  3.9 ,\n",
       "        3.93,  3.95,  3.98,  4.  ,  4.06,  4.1 ,  4.14,  4.15,  4.19,\n",
       "        4.2 ,  4.25,  4.3 ,  4.37,  4.4 ,  4.45,  4.5 ,  4.65,  4.7 ,\n",
       "        4.8 ,  4.9 ,  5.  ,  5.2 ,  5.3 ,  5.5 ,  5.6 ,  5.8 ,  6.  ,\n",
       "        8.  ,  8.3 , 10.  , 10.3 , 14.  ,   nan])"
      ]
     },
     "execution_count": 30,
     "metadata": {},
     "output_type": "execute_result"
    }
   ],
   "source": [
    "data.sort_values(by='ceiling_height')['ceiling_height'].unique()"
   ]
  },
  {
   "cell_type": "markdown",
   "metadata": {
    "id": "xnpmSxsCDG-Z"
   },
   "source": [
    "Видим, что есть потолки более 6 м, а также 1, 1.2. Посмотрим сколько таких строк и удалим их как аномалии."
   ]
  },
  {
   "cell_type": "code",
   "execution_count": 31,
   "metadata": {
    "colab": {
     "base_uri": "https://localhost:8080/",
     "height": 563
    },
    "id": "2Qanod10DG-Z",
    "outputId": "81820ac4-6e10-4c59-b7a6-348829dbf06e"
   },
   "outputs": [
    {
     "data": {
      "text/html": [
       "<div>\n",
       "<style scoped>\n",
       "    .dataframe tbody tr th:only-of-type {\n",
       "        vertical-align: middle;\n",
       "    }\n",
       "\n",
       "    .dataframe tbody tr th {\n",
       "        vertical-align: top;\n",
       "    }\n",
       "\n",
       "    .dataframe thead th {\n",
       "        text-align: right;\n",
       "    }\n",
       "</style>\n",
       "<table border=\"1\" class=\"dataframe\">\n",
       "  <thead>\n",
       "    <tr style=\"text-align: right;\">\n",
       "      <th></th>\n",
       "      <th>total_images</th>\n",
       "      <th>last_price</th>\n",
       "      <th>total_area</th>\n",
       "      <th>first_day_exposition</th>\n",
       "      <th>rooms</th>\n",
       "      <th>ceiling_height</th>\n",
       "      <th>floors_total</th>\n",
       "      <th>living_area</th>\n",
       "      <th>floor</th>\n",
       "      <th>is_apartment</th>\n",
       "      <th>...</th>\n",
       "      <th>kitchen_area</th>\n",
       "      <th>balcony</th>\n",
       "      <th>locality_name</th>\n",
       "      <th>airports_nearest</th>\n",
       "      <th>cityCenters_nearest</th>\n",
       "      <th>parks_around3000</th>\n",
       "      <th>parks_nearest</th>\n",
       "      <th>ponds_around3000</th>\n",
       "      <th>ponds_nearest</th>\n",
       "      <th>days_exposition</th>\n",
       "    </tr>\n",
       "  </thead>\n",
       "  <tbody>\n",
       "    <tr>\n",
       "      <th>3474</th>\n",
       "      <td>3</td>\n",
       "      <td>1400000.0</td>\n",
       "      <td>30.0</td>\n",
       "      <td>2018-03-16T00:00:00</td>\n",
       "      <td>1</td>\n",
       "      <td>8.0</td>\n",
       "      <td>5.0</td>\n",
       "      <td>15.3</td>\n",
       "      <td>2</td>\n",
       "      <td>False</td>\n",
       "      <td>...</td>\n",
       "      <td>7.3</td>\n",
       "      <td>0.0</td>\n",
       "      <td>деревня Нурма</td>\n",
       "      <td>NaN</td>\n",
       "      <td>NaN</td>\n",
       "      <td>0.0</td>\n",
       "      <td>NaN</td>\n",
       "      <td>0.0</td>\n",
       "      <td>NaN</td>\n",
       "      <td>125.0</td>\n",
       "    </tr>\n",
       "    <tr>\n",
       "      <th>5712</th>\n",
       "      <td>5</td>\n",
       "      <td>1500000.0</td>\n",
       "      <td>42.8</td>\n",
       "      <td>2017-08-14T00:00:00</td>\n",
       "      <td>2</td>\n",
       "      <td>1.2</td>\n",
       "      <td>2.0</td>\n",
       "      <td>27.5</td>\n",
       "      <td>1</td>\n",
       "      <td>NaN</td>\n",
       "      <td>...</td>\n",
       "      <td>5.2</td>\n",
       "      <td>0.0</td>\n",
       "      <td>городской посёлок Мга</td>\n",
       "      <td>NaN</td>\n",
       "      <td>NaN</td>\n",
       "      <td>0.0</td>\n",
       "      <td>NaN</td>\n",
       "      <td>0.0</td>\n",
       "      <td>NaN</td>\n",
       "      <td>248.0</td>\n",
       "    </tr>\n",
       "    <tr>\n",
       "      <th>5863</th>\n",
       "      <td>20</td>\n",
       "      <td>5650000.0</td>\n",
       "      <td>45.0</td>\n",
       "      <td>2018-08-15T00:00:00</td>\n",
       "      <td>1</td>\n",
       "      <td>8.3</td>\n",
       "      <td>16.0</td>\n",
       "      <td>19.3</td>\n",
       "      <td>14</td>\n",
       "      <td>NaN</td>\n",
       "      <td>...</td>\n",
       "      <td>8.3</td>\n",
       "      <td>1.0</td>\n",
       "      <td>Санкт-Петербург</td>\n",
       "      <td>13069.0</td>\n",
       "      <td>10763.0</td>\n",
       "      <td>0.0</td>\n",
       "      <td>NaN</td>\n",
       "      <td>1.0</td>\n",
       "      <td>613.0</td>\n",
       "      <td>14.0</td>\n",
       "    </tr>\n",
       "    <tr>\n",
       "      <th>15061</th>\n",
       "      <td>19</td>\n",
       "      <td>5600000.0</td>\n",
       "      <td>56.4</td>\n",
       "      <td>2018-05-11T00:00:00</td>\n",
       "      <td>2</td>\n",
       "      <td>14.0</td>\n",
       "      <td>14.0</td>\n",
       "      <td>32.4</td>\n",
       "      <td>5</td>\n",
       "      <td>NaN</td>\n",
       "      <td>...</td>\n",
       "      <td>9.1</td>\n",
       "      <td>2.0</td>\n",
       "      <td>Санкт-Петербург</td>\n",
       "      <td>14814.0</td>\n",
       "      <td>13610.0</td>\n",
       "      <td>0.0</td>\n",
       "      <td>NaN</td>\n",
       "      <td>0.0</td>\n",
       "      <td>NaN</td>\n",
       "      <td>315.0</td>\n",
       "    </tr>\n",
       "    <tr>\n",
       "      <th>15743</th>\n",
       "      <td>14</td>\n",
       "      <td>5600000.0</td>\n",
       "      <td>67.0</td>\n",
       "      <td>2016-11-11T00:00:00</td>\n",
       "      <td>3</td>\n",
       "      <td>8.0</td>\n",
       "      <td>16.0</td>\n",
       "      <td>41.0</td>\n",
       "      <td>1</td>\n",
       "      <td>NaN</td>\n",
       "      <td>...</td>\n",
       "      <td>8.0</td>\n",
       "      <td>0.0</td>\n",
       "      <td>Санкт-Петербург</td>\n",
       "      <td>32691.0</td>\n",
       "      <td>11035.0</td>\n",
       "      <td>1.0</td>\n",
       "      <td>723.0</td>\n",
       "      <td>0.0</td>\n",
       "      <td>NaN</td>\n",
       "      <td>474.0</td>\n",
       "    </tr>\n",
       "    <tr>\n",
       "      <th>17442</th>\n",
       "      <td>0</td>\n",
       "      <td>5350000.0</td>\n",
       "      <td>54.0</td>\n",
       "      <td>2015-06-16T00:00:00</td>\n",
       "      <td>2</td>\n",
       "      <td>8.0</td>\n",
       "      <td>5.0</td>\n",
       "      <td>29.0</td>\n",
       "      <td>2</td>\n",
       "      <td>NaN</td>\n",
       "      <td>...</td>\n",
       "      <td>NaN</td>\n",
       "      <td>1.0</td>\n",
       "      <td>Красное Село</td>\n",
       "      <td>24638.0</td>\n",
       "      <td>28062.0</td>\n",
       "      <td>0.0</td>\n",
       "      <td>NaN</td>\n",
       "      <td>0.0</td>\n",
       "      <td>NaN</td>\n",
       "      <td>469.0</td>\n",
       "    </tr>\n",
       "    <tr>\n",
       "      <th>22309</th>\n",
       "      <td>20</td>\n",
       "      <td>5300000.0</td>\n",
       "      <td>45.0</td>\n",
       "      <td>2017-09-30T00:00:00</td>\n",
       "      <td>1</td>\n",
       "      <td>10.3</td>\n",
       "      <td>16.0</td>\n",
       "      <td>15.5</td>\n",
       "      <td>15</td>\n",
       "      <td>NaN</td>\n",
       "      <td>...</td>\n",
       "      <td>NaN</td>\n",
       "      <td>0.0</td>\n",
       "      <td>Санкт-Петербург</td>\n",
       "      <td>36353.0</td>\n",
       "      <td>11936.0</td>\n",
       "      <td>2.0</td>\n",
       "      <td>440.0</td>\n",
       "      <td>2.0</td>\n",
       "      <td>450.0</td>\n",
       "      <td>136.0</td>\n",
       "    </tr>\n",
       "    <tr>\n",
       "      <th>22590</th>\n",
       "      <td>16</td>\n",
       "      <td>6000000.0</td>\n",
       "      <td>55.0</td>\n",
       "      <td>2018-10-31T00:00:00</td>\n",
       "      <td>2</td>\n",
       "      <td>1.0</td>\n",
       "      <td>12.0</td>\n",
       "      <td>32.4</td>\n",
       "      <td>7</td>\n",
       "      <td>NaN</td>\n",
       "      <td>...</td>\n",
       "      <td>10.0</td>\n",
       "      <td>0.0</td>\n",
       "      <td>Санкт-Петербург</td>\n",
       "      <td>33053.0</td>\n",
       "      <td>14217.0</td>\n",
       "      <td>2.0</td>\n",
       "      <td>293.0</td>\n",
       "      <td>2.0</td>\n",
       "      <td>289.0</td>\n",
       "      <td>13.0</td>\n",
       "    </tr>\n",
       "    <tr>\n",
       "      <th>22869</th>\n",
       "      <td>0</td>\n",
       "      <td>15000000.0</td>\n",
       "      <td>25.0</td>\n",
       "      <td>2018-07-25T00:00:00</td>\n",
       "      <td>1</td>\n",
       "      <td>10.0</td>\n",
       "      <td>5.0</td>\n",
       "      <td>14.0</td>\n",
       "      <td>5</td>\n",
       "      <td>True</td>\n",
       "      <td>...</td>\n",
       "      <td>11.0</td>\n",
       "      <td>5.0</td>\n",
       "      <td>Санкт-Петербург</td>\n",
       "      <td>34963.0</td>\n",
       "      <td>8283.0</td>\n",
       "      <td>1.0</td>\n",
       "      <td>223.0</td>\n",
       "      <td>3.0</td>\n",
       "      <td>30.0</td>\n",
       "      <td>19.0</td>\n",
       "    </tr>\n",
       "  </tbody>\n",
       "</table>\n",
       "<p>9 rows × 22 columns</p>\n",
       "</div>"
      ],
      "text/plain": [
       "       total_images  last_price  total_area first_day_exposition  rooms  \\\n",
       "3474              3   1400000.0        30.0  2018-03-16T00:00:00      1   \n",
       "5712              5   1500000.0        42.8  2017-08-14T00:00:00      2   \n",
       "5863             20   5650000.0        45.0  2018-08-15T00:00:00      1   \n",
       "15061            19   5600000.0        56.4  2018-05-11T00:00:00      2   \n",
       "15743            14   5600000.0        67.0  2016-11-11T00:00:00      3   \n",
       "17442             0   5350000.0        54.0  2015-06-16T00:00:00      2   \n",
       "22309            20   5300000.0        45.0  2017-09-30T00:00:00      1   \n",
       "22590            16   6000000.0        55.0  2018-10-31T00:00:00      2   \n",
       "22869             0  15000000.0        25.0  2018-07-25T00:00:00      1   \n",
       "\n",
       "       ceiling_height  floors_total  living_area  floor is_apartment  \\\n",
       "3474              8.0           5.0         15.3      2        False   \n",
       "5712              1.2           2.0         27.5      1          NaN   \n",
       "5863              8.3          16.0         19.3     14          NaN   \n",
       "15061            14.0          14.0         32.4      5          NaN   \n",
       "15743             8.0          16.0         41.0      1          NaN   \n",
       "17442             8.0           5.0         29.0      2          NaN   \n",
       "22309            10.3          16.0         15.5     15          NaN   \n",
       "22590             1.0          12.0         32.4      7          NaN   \n",
       "22869            10.0           5.0         14.0      5         True   \n",
       "\n",
       "            ...         kitchen_area  balcony          locality_name  \\\n",
       "3474        ...                  7.3      0.0          деревня Нурма   \n",
       "5712        ...                  5.2      0.0  городской посёлок Мга   \n",
       "5863        ...                  8.3      1.0        Санкт-Петербург   \n",
       "15061       ...                  9.1      2.0        Санкт-Петербург   \n",
       "15743       ...                  8.0      0.0        Санкт-Петербург   \n",
       "17442       ...                  NaN      1.0           Красное Село   \n",
       "22309       ...                  NaN      0.0        Санкт-Петербург   \n",
       "22590       ...                 10.0      0.0        Санкт-Петербург   \n",
       "22869       ...                 11.0      5.0        Санкт-Петербург   \n",
       "\n",
       "       airports_nearest cityCenters_nearest  parks_around3000  parks_nearest  \\\n",
       "3474                NaN                 NaN               0.0            NaN   \n",
       "5712                NaN                 NaN               0.0            NaN   \n",
       "5863            13069.0             10763.0               0.0            NaN   \n",
       "15061           14814.0             13610.0               0.0            NaN   \n",
       "15743           32691.0             11035.0               1.0          723.0   \n",
       "17442           24638.0             28062.0               0.0            NaN   \n",
       "22309           36353.0             11936.0               2.0          440.0   \n",
       "22590           33053.0             14217.0               2.0          293.0   \n",
       "22869           34963.0              8283.0               1.0          223.0   \n",
       "\n",
       "       ponds_around3000  ponds_nearest  days_exposition  \n",
       "3474                0.0            NaN            125.0  \n",
       "5712                0.0            NaN            248.0  \n",
       "5863                1.0          613.0             14.0  \n",
       "15061               0.0            NaN            315.0  \n",
       "15743               0.0            NaN            474.0  \n",
       "17442               0.0            NaN            469.0  \n",
       "22309               2.0          450.0            136.0  \n",
       "22590               2.0          289.0             13.0  \n",
       "22869               3.0           30.0             19.0  \n",
       "\n",
       "[9 rows x 22 columns]"
      ]
     },
     "execution_count": 31,
     "metadata": {},
     "output_type": "execute_result"
    }
   ],
   "source": [
    "data.loc[(data['ceiling_height'] > 6) | (data['ceiling_height'] < 1.75)]"
   ]
  },
  {
   "cell_type": "code",
   "execution_count": 32,
   "metadata": {
    "colab": {
     "base_uri": "https://localhost:8080/",
     "height": 644
    },
    "id": "59ViDcOyDG-a",
    "outputId": "839bf7f2-ca14-499e-af33-6d4b42eff6ca"
   },
   "outputs": [
    {
     "data": {
      "text/html": [
       "<div>\n",
       "<style scoped>\n",
       "    .dataframe tbody tr th:only-of-type {\n",
       "        vertical-align: middle;\n",
       "    }\n",
       "\n",
       "    .dataframe tbody tr th {\n",
       "        vertical-align: top;\n",
       "    }\n",
       "\n",
       "    .dataframe thead th {\n",
       "        text-align: right;\n",
       "    }\n",
       "</style>\n",
       "<table border=\"1\" class=\"dataframe\">\n",
       "  <thead>\n",
       "    <tr style=\"text-align: right;\">\n",
       "      <th></th>\n",
       "      <th>total_images</th>\n",
       "      <th>last_price</th>\n",
       "      <th>total_area</th>\n",
       "      <th>first_day_exposition</th>\n",
       "      <th>rooms</th>\n",
       "      <th>ceiling_height</th>\n",
       "      <th>floors_total</th>\n",
       "      <th>living_area</th>\n",
       "      <th>floor</th>\n",
       "      <th>is_apartment</th>\n",
       "      <th>...</th>\n",
       "      <th>kitchen_area</th>\n",
       "      <th>balcony</th>\n",
       "      <th>locality_name</th>\n",
       "      <th>airports_nearest</th>\n",
       "      <th>cityCenters_nearest</th>\n",
       "      <th>parks_around3000</th>\n",
       "      <th>parks_nearest</th>\n",
       "      <th>ponds_around3000</th>\n",
       "      <th>ponds_nearest</th>\n",
       "      <th>days_exposition</th>\n",
       "    </tr>\n",
       "  </thead>\n",
       "  <tbody>\n",
       "    <tr>\n",
       "      <th>0</th>\n",
       "      <td>20</td>\n",
       "      <td>13000000.0</td>\n",
       "      <td>108.00</td>\n",
       "      <td>2019-03-07T00:00:00</td>\n",
       "      <td>3</td>\n",
       "      <td>2.70</td>\n",
       "      <td>16.0</td>\n",
       "      <td>51.00</td>\n",
       "      <td>8</td>\n",
       "      <td>NaN</td>\n",
       "      <td>...</td>\n",
       "      <td>25.00</td>\n",
       "      <td>0.0</td>\n",
       "      <td>Санкт-Петербург</td>\n",
       "      <td>18863.0</td>\n",
       "      <td>16028.0</td>\n",
       "      <td>1.0</td>\n",
       "      <td>482.0</td>\n",
       "      <td>2.0</td>\n",
       "      <td>755.0</td>\n",
       "      <td>NaN</td>\n",
       "    </tr>\n",
       "    <tr>\n",
       "      <th>1</th>\n",
       "      <td>7</td>\n",
       "      <td>3350000.0</td>\n",
       "      <td>40.40</td>\n",
       "      <td>2018-12-04T00:00:00</td>\n",
       "      <td>1</td>\n",
       "      <td>NaN</td>\n",
       "      <td>11.0</td>\n",
       "      <td>18.60</td>\n",
       "      <td>1</td>\n",
       "      <td>NaN</td>\n",
       "      <td>...</td>\n",
       "      <td>11.00</td>\n",
       "      <td>2.0</td>\n",
       "      <td>посёлок Шушары</td>\n",
       "      <td>12817.0</td>\n",
       "      <td>18603.0</td>\n",
       "      <td>0.0</td>\n",
       "      <td>NaN</td>\n",
       "      <td>0.0</td>\n",
       "      <td>NaN</td>\n",
       "      <td>81.0</td>\n",
       "    </tr>\n",
       "    <tr>\n",
       "      <th>2</th>\n",
       "      <td>10</td>\n",
       "      <td>5196000.0</td>\n",
       "      <td>56.00</td>\n",
       "      <td>2015-08-20T00:00:00</td>\n",
       "      <td>2</td>\n",
       "      <td>NaN</td>\n",
       "      <td>5.0</td>\n",
       "      <td>34.30</td>\n",
       "      <td>4</td>\n",
       "      <td>NaN</td>\n",
       "      <td>...</td>\n",
       "      <td>8.30</td>\n",
       "      <td>0.0</td>\n",
       "      <td>Санкт-Петербург</td>\n",
       "      <td>21741.0</td>\n",
       "      <td>13933.0</td>\n",
       "      <td>1.0</td>\n",
       "      <td>90.0</td>\n",
       "      <td>2.0</td>\n",
       "      <td>574.0</td>\n",
       "      <td>558.0</td>\n",
       "    </tr>\n",
       "    <tr>\n",
       "      <th>3</th>\n",
       "      <td>0</td>\n",
       "      <td>64900000.0</td>\n",
       "      <td>159.00</td>\n",
       "      <td>2015-07-24T00:00:00</td>\n",
       "      <td>3</td>\n",
       "      <td>NaN</td>\n",
       "      <td>14.0</td>\n",
       "      <td>NaN</td>\n",
       "      <td>9</td>\n",
       "      <td>NaN</td>\n",
       "      <td>...</td>\n",
       "      <td>NaN</td>\n",
       "      <td>0.0</td>\n",
       "      <td>Санкт-Петербург</td>\n",
       "      <td>28098.0</td>\n",
       "      <td>6800.0</td>\n",
       "      <td>2.0</td>\n",
       "      <td>84.0</td>\n",
       "      <td>3.0</td>\n",
       "      <td>234.0</td>\n",
       "      <td>424.0</td>\n",
       "    </tr>\n",
       "    <tr>\n",
       "      <th>4</th>\n",
       "      <td>2</td>\n",
       "      <td>10000000.0</td>\n",
       "      <td>100.00</td>\n",
       "      <td>2018-06-19T00:00:00</td>\n",
       "      <td>2</td>\n",
       "      <td>3.03</td>\n",
       "      <td>14.0</td>\n",
       "      <td>32.00</td>\n",
       "      <td>13</td>\n",
       "      <td>NaN</td>\n",
       "      <td>...</td>\n",
       "      <td>41.00</td>\n",
       "      <td>0.0</td>\n",
       "      <td>Санкт-Петербург</td>\n",
       "      <td>31856.0</td>\n",
       "      <td>8098.0</td>\n",
       "      <td>2.0</td>\n",
       "      <td>112.0</td>\n",
       "      <td>1.0</td>\n",
       "      <td>48.0</td>\n",
       "      <td>121.0</td>\n",
       "    </tr>\n",
       "    <tr>\n",
       "      <th>5</th>\n",
       "      <td>10</td>\n",
       "      <td>2890000.0</td>\n",
       "      <td>30.40</td>\n",
       "      <td>2018-09-10T00:00:00</td>\n",
       "      <td>1</td>\n",
       "      <td>NaN</td>\n",
       "      <td>12.0</td>\n",
       "      <td>14.40</td>\n",
       "      <td>5</td>\n",
       "      <td>NaN</td>\n",
       "      <td>...</td>\n",
       "      <td>9.10</td>\n",
       "      <td>0.0</td>\n",
       "      <td>городской посёлок Янино-1</td>\n",
       "      <td>NaN</td>\n",
       "      <td>NaN</td>\n",
       "      <td>0.0</td>\n",
       "      <td>NaN</td>\n",
       "      <td>0.0</td>\n",
       "      <td>NaN</td>\n",
       "      <td>55.0</td>\n",
       "    </tr>\n",
       "    <tr>\n",
       "      <th>6</th>\n",
       "      <td>6</td>\n",
       "      <td>3700000.0</td>\n",
       "      <td>37.30</td>\n",
       "      <td>2017-11-02T00:00:00</td>\n",
       "      <td>1</td>\n",
       "      <td>NaN</td>\n",
       "      <td>26.0</td>\n",
       "      <td>10.60</td>\n",
       "      <td>6</td>\n",
       "      <td>NaN</td>\n",
       "      <td>...</td>\n",
       "      <td>14.40</td>\n",
       "      <td>1.0</td>\n",
       "      <td>посёлок Парголово</td>\n",
       "      <td>52996.0</td>\n",
       "      <td>19143.0</td>\n",
       "      <td>0.0</td>\n",
       "      <td>NaN</td>\n",
       "      <td>0.0</td>\n",
       "      <td>NaN</td>\n",
       "      <td>155.0</td>\n",
       "    </tr>\n",
       "    <tr>\n",
       "      <th>7</th>\n",
       "      <td>5</td>\n",
       "      <td>7915000.0</td>\n",
       "      <td>71.60</td>\n",
       "      <td>2019-04-18T00:00:00</td>\n",
       "      <td>2</td>\n",
       "      <td>NaN</td>\n",
       "      <td>24.0</td>\n",
       "      <td>NaN</td>\n",
       "      <td>22</td>\n",
       "      <td>NaN</td>\n",
       "      <td>...</td>\n",
       "      <td>18.90</td>\n",
       "      <td>2.0</td>\n",
       "      <td>Санкт-Петербург</td>\n",
       "      <td>23982.0</td>\n",
       "      <td>11634.0</td>\n",
       "      <td>0.0</td>\n",
       "      <td>NaN</td>\n",
       "      <td>0.0</td>\n",
       "      <td>NaN</td>\n",
       "      <td>NaN</td>\n",
       "    </tr>\n",
       "    <tr>\n",
       "      <th>8</th>\n",
       "      <td>20</td>\n",
       "      <td>2900000.0</td>\n",
       "      <td>33.16</td>\n",
       "      <td>2018-05-23T00:00:00</td>\n",
       "      <td>1</td>\n",
       "      <td>NaN</td>\n",
       "      <td>27.0</td>\n",
       "      <td>15.43</td>\n",
       "      <td>26</td>\n",
       "      <td>NaN</td>\n",
       "      <td>...</td>\n",
       "      <td>8.81</td>\n",
       "      <td>0.0</td>\n",
       "      <td>посёлок Мурино</td>\n",
       "      <td>NaN</td>\n",
       "      <td>NaN</td>\n",
       "      <td>0.0</td>\n",
       "      <td>NaN</td>\n",
       "      <td>0.0</td>\n",
       "      <td>NaN</td>\n",
       "      <td>189.0</td>\n",
       "    </tr>\n",
       "    <tr>\n",
       "      <th>9</th>\n",
       "      <td>18</td>\n",
       "      <td>5400000.0</td>\n",
       "      <td>61.00</td>\n",
       "      <td>2017-02-26T00:00:00</td>\n",
       "      <td>3</td>\n",
       "      <td>2.50</td>\n",
       "      <td>9.0</td>\n",
       "      <td>43.60</td>\n",
       "      <td>7</td>\n",
       "      <td>NaN</td>\n",
       "      <td>...</td>\n",
       "      <td>6.50</td>\n",
       "      <td>2.0</td>\n",
       "      <td>Санкт-Петербург</td>\n",
       "      <td>50898.0</td>\n",
       "      <td>15008.0</td>\n",
       "      <td>0.0</td>\n",
       "      <td>NaN</td>\n",
       "      <td>0.0</td>\n",
       "      <td>NaN</td>\n",
       "      <td>289.0</td>\n",
       "    </tr>\n",
       "    <tr>\n",
       "      <th>10</th>\n",
       "      <td>5</td>\n",
       "      <td>5050000.0</td>\n",
       "      <td>39.60</td>\n",
       "      <td>2017-11-16T00:00:00</td>\n",
       "      <td>1</td>\n",
       "      <td>2.67</td>\n",
       "      <td>12.0</td>\n",
       "      <td>20.30</td>\n",
       "      <td>3</td>\n",
       "      <td>NaN</td>\n",
       "      <td>...</td>\n",
       "      <td>8.50</td>\n",
       "      <td>0.0</td>\n",
       "      <td>Санкт-Петербург</td>\n",
       "      <td>38357.0</td>\n",
       "      <td>13878.0</td>\n",
       "      <td>1.0</td>\n",
       "      <td>310.0</td>\n",
       "      <td>2.0</td>\n",
       "      <td>553.0</td>\n",
       "      <td>137.0</td>\n",
       "    </tr>\n",
       "    <tr>\n",
       "      <th>11</th>\n",
       "      <td>9</td>\n",
       "      <td>3300000.0</td>\n",
       "      <td>44.00</td>\n",
       "      <td>2018-08-27T00:00:00</td>\n",
       "      <td>2</td>\n",
       "      <td>NaN</td>\n",
       "      <td>5.0</td>\n",
       "      <td>31.00</td>\n",
       "      <td>4</td>\n",
       "      <td>False</td>\n",
       "      <td>...</td>\n",
       "      <td>6.00</td>\n",
       "      <td>1.0</td>\n",
       "      <td>Ломоносов</td>\n",
       "      <td>48252.0</td>\n",
       "      <td>51677.0</td>\n",
       "      <td>0.0</td>\n",
       "      <td>NaN</td>\n",
       "      <td>0.0</td>\n",
       "      <td>NaN</td>\n",
       "      <td>7.0</td>\n",
       "    </tr>\n",
       "    <tr>\n",
       "      <th>12</th>\n",
       "      <td>10</td>\n",
       "      <td>3890000.0</td>\n",
       "      <td>54.00</td>\n",
       "      <td>2016-06-30T00:00:00</td>\n",
       "      <td>2</td>\n",
       "      <td>NaN</td>\n",
       "      <td>5.0</td>\n",
       "      <td>30.00</td>\n",
       "      <td>5</td>\n",
       "      <td>NaN</td>\n",
       "      <td>...</td>\n",
       "      <td>9.00</td>\n",
       "      <td>0.0</td>\n",
       "      <td>Сертолово</td>\n",
       "      <td>NaN</td>\n",
       "      <td>NaN</td>\n",
       "      <td>0.0</td>\n",
       "      <td>NaN</td>\n",
       "      <td>0.0</td>\n",
       "      <td>NaN</td>\n",
       "      <td>90.0</td>\n",
       "    </tr>\n",
       "    <tr>\n",
       "      <th>13</th>\n",
       "      <td>20</td>\n",
       "      <td>3550000.0</td>\n",
       "      <td>42.80</td>\n",
       "      <td>2017-07-01T00:00:00</td>\n",
       "      <td>2</td>\n",
       "      <td>2.56</td>\n",
       "      <td>5.0</td>\n",
       "      <td>27.00</td>\n",
       "      <td>5</td>\n",
       "      <td>NaN</td>\n",
       "      <td>...</td>\n",
       "      <td>5.20</td>\n",
       "      <td>1.0</td>\n",
       "      <td>Петергоф</td>\n",
       "      <td>37868.0</td>\n",
       "      <td>33058.0</td>\n",
       "      <td>1.0</td>\n",
       "      <td>294.0</td>\n",
       "      <td>3.0</td>\n",
       "      <td>298.0</td>\n",
       "      <td>366.0</td>\n",
       "    </tr>\n",
       "    <tr>\n",
       "      <th>14</th>\n",
       "      <td>1</td>\n",
       "      <td>4400000.0</td>\n",
       "      <td>36.00</td>\n",
       "      <td>2016-06-23T00:00:00</td>\n",
       "      <td>1</td>\n",
       "      <td>NaN</td>\n",
       "      <td>6.0</td>\n",
       "      <td>17.00</td>\n",
       "      <td>1</td>\n",
       "      <td>NaN</td>\n",
       "      <td>...</td>\n",
       "      <td>8.00</td>\n",
       "      <td>0.0</td>\n",
       "      <td>Пушкин</td>\n",
       "      <td>20782.0</td>\n",
       "      <td>30759.0</td>\n",
       "      <td>0.0</td>\n",
       "      <td>NaN</td>\n",
       "      <td>1.0</td>\n",
       "      <td>96.0</td>\n",
       "      <td>203.0</td>\n",
       "    </tr>\n",
       "    <tr>\n",
       "      <th>15</th>\n",
       "      <td>16</td>\n",
       "      <td>4650000.0</td>\n",
       "      <td>39.00</td>\n",
       "      <td>2017-11-18T00:00:00</td>\n",
       "      <td>1</td>\n",
       "      <td>NaN</td>\n",
       "      <td>14.0</td>\n",
       "      <td>20.50</td>\n",
       "      <td>5</td>\n",
       "      <td>NaN</td>\n",
       "      <td>...</td>\n",
       "      <td>7.60</td>\n",
       "      <td>1.0</td>\n",
       "      <td>Санкт-Петербург</td>\n",
       "      <td>12900.0</td>\n",
       "      <td>14259.0</td>\n",
       "      <td>1.0</td>\n",
       "      <td>590.0</td>\n",
       "      <td>1.0</td>\n",
       "      <td>296.0</td>\n",
       "      <td>19.0</td>\n",
       "    </tr>\n",
       "    <tr>\n",
       "      <th>16</th>\n",
       "      <td>11</td>\n",
       "      <td>6700000.0</td>\n",
       "      <td>82.00</td>\n",
       "      <td>2017-11-23T00:00:00</td>\n",
       "      <td>3</td>\n",
       "      <td>3.05</td>\n",
       "      <td>5.0</td>\n",
       "      <td>55.60</td>\n",
       "      <td>1</td>\n",
       "      <td>NaN</td>\n",
       "      <td>...</td>\n",
       "      <td>9.00</td>\n",
       "      <td>0.0</td>\n",
       "      <td>Санкт-Петербург</td>\n",
       "      <td>22108.0</td>\n",
       "      <td>10698.0</td>\n",
       "      <td>3.0</td>\n",
       "      <td>420.0</td>\n",
       "      <td>0.0</td>\n",
       "      <td>NaN</td>\n",
       "      <td>397.0</td>\n",
       "    </tr>\n",
       "    <tr>\n",
       "      <th>17</th>\n",
       "      <td>6</td>\n",
       "      <td>4180000.0</td>\n",
       "      <td>36.00</td>\n",
       "      <td>2016-09-09T00:00:00</td>\n",
       "      <td>1</td>\n",
       "      <td>NaN</td>\n",
       "      <td>17.0</td>\n",
       "      <td>16.50</td>\n",
       "      <td>7</td>\n",
       "      <td>NaN</td>\n",
       "      <td>...</td>\n",
       "      <td>11.00</td>\n",
       "      <td>1.0</td>\n",
       "      <td>Санкт-Петербург</td>\n",
       "      <td>33564.0</td>\n",
       "      <td>14616.0</td>\n",
       "      <td>0.0</td>\n",
       "      <td>NaN</td>\n",
       "      <td>1.0</td>\n",
       "      <td>859.0</td>\n",
       "      <td>571.0</td>\n",
       "    </tr>\n",
       "    <tr>\n",
       "      <th>18</th>\n",
       "      <td>8</td>\n",
       "      <td>3250000.0</td>\n",
       "      <td>31.00</td>\n",
       "      <td>2017-01-27T00:00:00</td>\n",
       "      <td>1</td>\n",
       "      <td>2.50</td>\n",
       "      <td>5.0</td>\n",
       "      <td>19.40</td>\n",
       "      <td>2</td>\n",
       "      <td>NaN</td>\n",
       "      <td>...</td>\n",
       "      <td>5.60</td>\n",
       "      <td>1.0</td>\n",
       "      <td>Санкт-Петербург</td>\n",
       "      <td>44060.0</td>\n",
       "      <td>10842.0</td>\n",
       "      <td>1.0</td>\n",
       "      <td>759.0</td>\n",
       "      <td>0.0</td>\n",
       "      <td>NaN</td>\n",
       "      <td>168.0</td>\n",
       "    </tr>\n",
       "    <tr>\n",
       "      <th>19</th>\n",
       "      <td>16</td>\n",
       "      <td>14200000.0</td>\n",
       "      <td>121.00</td>\n",
       "      <td>2019-01-09T00:00:00</td>\n",
       "      <td>3</td>\n",
       "      <td>2.75</td>\n",
       "      <td>16.0</td>\n",
       "      <td>76.00</td>\n",
       "      <td>8</td>\n",
       "      <td>NaN</td>\n",
       "      <td>...</td>\n",
       "      <td>12.00</td>\n",
       "      <td>0.0</td>\n",
       "      <td>Санкт-Петербург</td>\n",
       "      <td>38900.0</td>\n",
       "      <td>12843.0</td>\n",
       "      <td>0.0</td>\n",
       "      <td>NaN</td>\n",
       "      <td>0.0</td>\n",
       "      <td>NaN</td>\n",
       "      <td>97.0</td>\n",
       "    </tr>\n",
       "    <tr>\n",
       "      <th>20</th>\n",
       "      <td>12</td>\n",
       "      <td>6120000.0</td>\n",
       "      <td>80.00</td>\n",
       "      <td>2017-09-28T00:00:00</td>\n",
       "      <td>3</td>\n",
       "      <td>2.70</td>\n",
       "      <td>27.0</td>\n",
       "      <td>48.00</td>\n",
       "      <td>11</td>\n",
       "      <td>NaN</td>\n",
       "      <td>...</td>\n",
       "      <td>12.00</td>\n",
       "      <td>2.0</td>\n",
       "      <td>посёлок Парголово</td>\n",
       "      <td>53134.0</td>\n",
       "      <td>19311.0</td>\n",
       "      <td>0.0</td>\n",
       "      <td>NaN</td>\n",
       "      <td>0.0</td>\n",
       "      <td>NaN</td>\n",
       "      <td>74.0</td>\n",
       "    </tr>\n",
       "    <tr>\n",
       "      <th>21</th>\n",
       "      <td>13</td>\n",
       "      <td>3200000.0</td>\n",
       "      <td>31.60</td>\n",
       "      <td>2018-03-14T00:00:00</td>\n",
       "      <td>1</td>\n",
       "      <td>NaN</td>\n",
       "      <td>5.0</td>\n",
       "      <td>16.90</td>\n",
       "      <td>2</td>\n",
       "      <td>NaN</td>\n",
       "      <td>...</td>\n",
       "      <td>5.70</td>\n",
       "      <td>1.0</td>\n",
       "      <td>Санкт-Петербург</td>\n",
       "      <td>36064.0</td>\n",
       "      <td>9722.0</td>\n",
       "      <td>1.0</td>\n",
       "      <td>248.0</td>\n",
       "      <td>0.0</td>\n",
       "      <td>NaN</td>\n",
       "      <td>310.0</td>\n",
       "    </tr>\n",
       "    <tr>\n",
       "      <th>22</th>\n",
       "      <td>20</td>\n",
       "      <td>5000000.0</td>\n",
       "      <td>58.00</td>\n",
       "      <td>2017-04-24T00:00:00</td>\n",
       "      <td>2</td>\n",
       "      <td>2.75</td>\n",
       "      <td>25.0</td>\n",
       "      <td>30.00</td>\n",
       "      <td>15</td>\n",
       "      <td>NaN</td>\n",
       "      <td>...</td>\n",
       "      <td>11.00</td>\n",
       "      <td>2.0</td>\n",
       "      <td>деревня Кудрово</td>\n",
       "      <td>NaN</td>\n",
       "      <td>NaN</td>\n",
       "      <td>0.0</td>\n",
       "      <td>NaN</td>\n",
       "      <td>0.0</td>\n",
       "      <td>NaN</td>\n",
       "      <td>60.0</td>\n",
       "    </tr>\n",
       "    <tr>\n",
       "      <th>23</th>\n",
       "      <td>11</td>\n",
       "      <td>2950000.0</td>\n",
       "      <td>32.00</td>\n",
       "      <td>2016-10-29T00:00:00</td>\n",
       "      <td>1</td>\n",
       "      <td>2.60</td>\n",
       "      <td>9.0</td>\n",
       "      <td>17.70</td>\n",
       "      <td>9</td>\n",
       "      <td>NaN</td>\n",
       "      <td>...</td>\n",
       "      <td>6.10</td>\n",
       "      <td>0.0</td>\n",
       "      <td>Санкт-Петербург</td>\n",
       "      <td>15414.0</td>\n",
       "      <td>14211.0</td>\n",
       "      <td>2.0</td>\n",
       "      <td>517.0</td>\n",
       "      <td>1.0</td>\n",
       "      <td>190.0</td>\n",
       "      <td>615.0</td>\n",
       "    </tr>\n",
       "    <tr>\n",
       "      <th>24</th>\n",
       "      <td>8</td>\n",
       "      <td>6500000.0</td>\n",
       "      <td>97.20</td>\n",
       "      <td>2015-10-31T00:00:00</td>\n",
       "      <td>2</td>\n",
       "      <td>NaN</td>\n",
       "      <td>3.0</td>\n",
       "      <td>46.50</td>\n",
       "      <td>1</td>\n",
       "      <td>NaN</td>\n",
       "      <td>...</td>\n",
       "      <td>19.60</td>\n",
       "      <td>0.0</td>\n",
       "      <td>Санкт-Петербург</td>\n",
       "      <td>20052.0</td>\n",
       "      <td>2336.0</td>\n",
       "      <td>3.0</td>\n",
       "      <td>411.0</td>\n",
       "      <td>3.0</td>\n",
       "      <td>124.0</td>\n",
       "      <td>265.0</td>\n",
       "    </tr>\n",
       "    <tr>\n",
       "      <th>25</th>\n",
       "      <td>3</td>\n",
       "      <td>6800000.0</td>\n",
       "      <td>76.00</td>\n",
       "      <td>2015-10-01T00:00:00</td>\n",
       "      <td>2</td>\n",
       "      <td>2.75</td>\n",
       "      <td>23.0</td>\n",
       "      <td>39.00</td>\n",
       "      <td>18</td>\n",
       "      <td>False</td>\n",
       "      <td>...</td>\n",
       "      <td>15.00</td>\n",
       "      <td>2.0</td>\n",
       "      <td>Санкт-Петербург</td>\n",
       "      <td>34967.0</td>\n",
       "      <td>14640.0</td>\n",
       "      <td>0.0</td>\n",
       "      <td>NaN</td>\n",
       "      <td>1.0</td>\n",
       "      <td>564.0</td>\n",
       "      <td>300.0</td>\n",
       "    </tr>\n",
       "    <tr>\n",
       "      <th>26</th>\n",
       "      <td>6</td>\n",
       "      <td>4050000.0</td>\n",
       "      <td>60.00</td>\n",
       "      <td>2017-04-28T00:00:00</td>\n",
       "      <td>4</td>\n",
       "      <td>NaN</td>\n",
       "      <td>5.0</td>\n",
       "      <td>43.00</td>\n",
       "      <td>4</td>\n",
       "      <td>NaN</td>\n",
       "      <td>...</td>\n",
       "      <td>7.00</td>\n",
       "      <td>0.0</td>\n",
       "      <td>Санкт-Петербург</td>\n",
       "      <td>11580.0</td>\n",
       "      <td>10510.0</td>\n",
       "      <td>0.0</td>\n",
       "      <td>NaN</td>\n",
       "      <td>1.0</td>\n",
       "      <td>95.0</td>\n",
       "      <td>265.0</td>\n",
       "    </tr>\n",
       "    <tr>\n",
       "      <th>27</th>\n",
       "      <td>20</td>\n",
       "      <td>7100000.0</td>\n",
       "      <td>70.00</td>\n",
       "      <td>2017-05-12T00:00:00</td>\n",
       "      <td>3</td>\n",
       "      <td>2.60</td>\n",
       "      <td>17.0</td>\n",
       "      <td>49.00</td>\n",
       "      <td>11</td>\n",
       "      <td>NaN</td>\n",
       "      <td>...</td>\n",
       "      <td>9.20</td>\n",
       "      <td>0.0</td>\n",
       "      <td>Санкт-Петербург</td>\n",
       "      <td>29197.0</td>\n",
       "      <td>11456.0</td>\n",
       "      <td>2.0</td>\n",
       "      <td>452.0</td>\n",
       "      <td>1.0</td>\n",
       "      <td>779.0</td>\n",
       "      <td>151.0</td>\n",
       "    </tr>\n",
       "    <tr>\n",
       "      <th>28</th>\n",
       "      <td>8</td>\n",
       "      <td>4170000.0</td>\n",
       "      <td>44.00</td>\n",
       "      <td>2017-12-13T00:00:00</td>\n",
       "      <td>1</td>\n",
       "      <td>2.90</td>\n",
       "      <td>6.0</td>\n",
       "      <td>20.80</td>\n",
       "      <td>1</td>\n",
       "      <td>NaN</td>\n",
       "      <td>...</td>\n",
       "      <td>11.70</td>\n",
       "      <td>1.0</td>\n",
       "      <td>Пушкин</td>\n",
       "      <td>18557.0</td>\n",
       "      <td>30710.0</td>\n",
       "      <td>0.0</td>\n",
       "      <td>NaN</td>\n",
       "      <td>1.0</td>\n",
       "      <td>118.0</td>\n",
       "      <td>74.0</td>\n",
       "    </tr>\n",
       "    <tr>\n",
       "      <th>29</th>\n",
       "      <td>9</td>\n",
       "      <td>8600000.0</td>\n",
       "      <td>100.00</td>\n",
       "      <td>2016-04-09T00:00:00</td>\n",
       "      <td>3</td>\n",
       "      <td>NaN</td>\n",
       "      <td>19.0</td>\n",
       "      <td>52.00</td>\n",
       "      <td>15</td>\n",
       "      <td>False</td>\n",
       "      <td>...</td>\n",
       "      <td>11.00</td>\n",
       "      <td>0.0</td>\n",
       "      <td>Санкт-Петербург</td>\n",
       "      <td>30394.0</td>\n",
       "      <td>11526.0</td>\n",
       "      <td>1.0</td>\n",
       "      <td>532.0</td>\n",
       "      <td>1.0</td>\n",
       "      <td>896.0</td>\n",
       "      <td>125.0</td>\n",
       "    </tr>\n",
       "    <tr>\n",
       "      <th>...</th>\n",
       "      <td>...</td>\n",
       "      <td>...</td>\n",
       "      <td>...</td>\n",
       "      <td>...</td>\n",
       "      <td>...</td>\n",
       "      <td>...</td>\n",
       "      <td>...</td>\n",
       "      <td>...</td>\n",
       "      <td>...</td>\n",
       "      <td>...</td>\n",
       "      <td>...</td>\n",
       "      <td>...</td>\n",
       "      <td>...</td>\n",
       "      <td>...</td>\n",
       "      <td>...</td>\n",
       "      <td>...</td>\n",
       "      <td>...</td>\n",
       "      <td>...</td>\n",
       "      <td>...</td>\n",
       "      <td>...</td>\n",
       "      <td>...</td>\n",
       "    </tr>\n",
       "    <tr>\n",
       "      <th>23669</th>\n",
       "      <td>8</td>\n",
       "      <td>3000000.0</td>\n",
       "      <td>34.10</td>\n",
       "      <td>2017-11-10T00:00:00</td>\n",
       "      <td>1</td>\n",
       "      <td>NaN</td>\n",
       "      <td>9.0</td>\n",
       "      <td>17.00</td>\n",
       "      <td>3</td>\n",
       "      <td>NaN</td>\n",
       "      <td>...</td>\n",
       "      <td>9.00</td>\n",
       "      <td>1.0</td>\n",
       "      <td>Колпино</td>\n",
       "      <td>24687.0</td>\n",
       "      <td>30473.0</td>\n",
       "      <td>0.0</td>\n",
       "      <td>NaN</td>\n",
       "      <td>1.0</td>\n",
       "      <td>741.0</td>\n",
       "      <td>74.0</td>\n",
       "    </tr>\n",
       "    <tr>\n",
       "      <th>23670</th>\n",
       "      <td>9</td>\n",
       "      <td>2450000.0</td>\n",
       "      <td>45.60</td>\n",
       "      <td>2018-02-08T00:00:00</td>\n",
       "      <td>1</td>\n",
       "      <td>2.80</td>\n",
       "      <td>9.0</td>\n",
       "      <td>NaN</td>\n",
       "      <td>2</td>\n",
       "      <td>NaN</td>\n",
       "      <td>...</td>\n",
       "      <td>NaN</td>\n",
       "      <td>0.0</td>\n",
       "      <td>поселок городского типа Синявино</td>\n",
       "      <td>NaN</td>\n",
       "      <td>NaN</td>\n",
       "      <td>0.0</td>\n",
       "      <td>NaN</td>\n",
       "      <td>0.0</td>\n",
       "      <td>NaN</td>\n",
       "      <td>45.0</td>\n",
       "    </tr>\n",
       "    <tr>\n",
       "      <th>23671</th>\n",
       "      <td>3</td>\n",
       "      <td>3450000.0</td>\n",
       "      <td>35.30</td>\n",
       "      <td>2017-04-14T00:00:00</td>\n",
       "      <td>1</td>\n",
       "      <td>2.50</td>\n",
       "      <td>9.0</td>\n",
       "      <td>17.50</td>\n",
       "      <td>4</td>\n",
       "      <td>False</td>\n",
       "      <td>...</td>\n",
       "      <td>7.50</td>\n",
       "      <td>2.0</td>\n",
       "      <td>Санкт-Петербург</td>\n",
       "      <td>21435.0</td>\n",
       "      <td>15261.0</td>\n",
       "      <td>1.0</td>\n",
       "      <td>334.0</td>\n",
       "      <td>1.0</td>\n",
       "      <td>232.0</td>\n",
       "      <td>21.0</td>\n",
       "    </tr>\n",
       "    <tr>\n",
       "      <th>23672</th>\n",
       "      <td>5</td>\n",
       "      <td>3000000.0</td>\n",
       "      <td>30.80</td>\n",
       "      <td>2016-06-08T00:00:00</td>\n",
       "      <td>1</td>\n",
       "      <td>NaN</td>\n",
       "      <td>5.0</td>\n",
       "      <td>16.10</td>\n",
       "      <td>3</td>\n",
       "      <td>NaN</td>\n",
       "      <td>...</td>\n",
       "      <td>6.30</td>\n",
       "      <td>0.0</td>\n",
       "      <td>Санкт-Петербург</td>\n",
       "      <td>44614.0</td>\n",
       "      <td>14193.0</td>\n",
       "      <td>2.0</td>\n",
       "      <td>258.0</td>\n",
       "      <td>0.0</td>\n",
       "      <td>NaN</td>\n",
       "      <td>808.0</td>\n",
       "    </tr>\n",
       "    <tr>\n",
       "      <th>23673</th>\n",
       "      <td>9</td>\n",
       "      <td>3100000.0</td>\n",
       "      <td>23.00</td>\n",
       "      <td>2018-03-19T00:00:00</td>\n",
       "      <td>1</td>\n",
       "      <td>2.80</td>\n",
       "      <td>9.0</td>\n",
       "      <td>12.60</td>\n",
       "      <td>1</td>\n",
       "      <td>NaN</td>\n",
       "      <td>...</td>\n",
       "      <td>5.00</td>\n",
       "      <td>2.0</td>\n",
       "      <td>Санкт-Петербург</td>\n",
       "      <td>11813.0</td>\n",
       "      <td>11881.0</td>\n",
       "      <td>1.0</td>\n",
       "      <td>262.0</td>\n",
       "      <td>1.0</td>\n",
       "      <td>442.0</td>\n",
       "      <td>41.0</td>\n",
       "    </tr>\n",
       "    <tr>\n",
       "      <th>23674</th>\n",
       "      <td>10</td>\n",
       "      <td>5950000.0</td>\n",
       "      <td>56.00</td>\n",
       "      <td>2019-03-05T00:00:00</td>\n",
       "      <td>3</td>\n",
       "      <td>NaN</td>\n",
       "      <td>8.0</td>\n",
       "      <td>32.10</td>\n",
       "      <td>3</td>\n",
       "      <td>NaN</td>\n",
       "      <td>...</td>\n",
       "      <td>8.50</td>\n",
       "      <td>0.0</td>\n",
       "      <td>Санкт-Петербург</td>\n",
       "      <td>32139.0</td>\n",
       "      <td>9217.0</td>\n",
       "      <td>0.0</td>\n",
       "      <td>NaN</td>\n",
       "      <td>2.0</td>\n",
       "      <td>303.0</td>\n",
       "      <td>NaN</td>\n",
       "    </tr>\n",
       "    <tr>\n",
       "      <th>23675</th>\n",
       "      <td>8</td>\n",
       "      <td>3550000.0</td>\n",
       "      <td>39.50</td>\n",
       "      <td>2016-10-03T00:00:00</td>\n",
       "      <td>1</td>\n",
       "      <td>NaN</td>\n",
       "      <td>16.0</td>\n",
       "      <td>19.00</td>\n",
       "      <td>13</td>\n",
       "      <td>NaN</td>\n",
       "      <td>...</td>\n",
       "      <td>8.50</td>\n",
       "      <td>0.0</td>\n",
       "      <td>Санкт-Петербург</td>\n",
       "      <td>25740.0</td>\n",
       "      <td>14951.0</td>\n",
       "      <td>0.0</td>\n",
       "      <td>NaN</td>\n",
       "      <td>0.0</td>\n",
       "      <td>NaN</td>\n",
       "      <td>721.0</td>\n",
       "    </tr>\n",
       "    <tr>\n",
       "      <th>23676</th>\n",
       "      <td>19</td>\n",
       "      <td>3550000.0</td>\n",
       "      <td>36.40</td>\n",
       "      <td>2016-06-08T00:00:00</td>\n",
       "      <td>1</td>\n",
       "      <td>NaN</td>\n",
       "      <td>16.0</td>\n",
       "      <td>14.90</td>\n",
       "      <td>13</td>\n",
       "      <td>NaN</td>\n",
       "      <td>...</td>\n",
       "      <td>9.30</td>\n",
       "      <td>0.0</td>\n",
       "      <td>Санкт-Петербург</td>\n",
       "      <td>32228.0</td>\n",
       "      <td>11884.0</td>\n",
       "      <td>1.0</td>\n",
       "      <td>701.0</td>\n",
       "      <td>0.0</td>\n",
       "      <td>NaN</td>\n",
       "      <td>70.0</td>\n",
       "    </tr>\n",
       "    <tr>\n",
       "      <th>23677</th>\n",
       "      <td>8</td>\n",
       "      <td>2450000.0</td>\n",
       "      <td>35.00</td>\n",
       "      <td>2018-10-26T00:00:00</td>\n",
       "      <td>1</td>\n",
       "      <td>2.60</td>\n",
       "      <td>5.0</td>\n",
       "      <td>18.00</td>\n",
       "      <td>4</td>\n",
       "      <td>NaN</td>\n",
       "      <td>...</td>\n",
       "      <td>9.60</td>\n",
       "      <td>0.0</td>\n",
       "      <td>Всеволожск</td>\n",
       "      <td>NaN</td>\n",
       "      <td>NaN</td>\n",
       "      <td>0.0</td>\n",
       "      <td>NaN</td>\n",
       "      <td>0.0</td>\n",
       "      <td>NaN</td>\n",
       "      <td>28.0</td>\n",
       "    </tr>\n",
       "    <tr>\n",
       "      <th>23678</th>\n",
       "      <td>10</td>\n",
       "      <td>3500000.0</td>\n",
       "      <td>43.00</td>\n",
       "      <td>2016-05-19T00:00:00</td>\n",
       "      <td>2</td>\n",
       "      <td>2.50</td>\n",
       "      <td>3.0</td>\n",
       "      <td>26.10</td>\n",
       "      <td>2</td>\n",
       "      <td>False</td>\n",
       "      <td>...</td>\n",
       "      <td>4.90</td>\n",
       "      <td>1.0</td>\n",
       "      <td>Пушкин</td>\n",
       "      <td>15823.0</td>\n",
       "      <td>27977.0</td>\n",
       "      <td>0.0</td>\n",
       "      <td>NaN</td>\n",
       "      <td>1.0</td>\n",
       "      <td>1134.0</td>\n",
       "      <td>252.0</td>\n",
       "    </tr>\n",
       "    <tr>\n",
       "      <th>23679</th>\n",
       "      <td>0</td>\n",
       "      <td>2500000.0</td>\n",
       "      <td>35.00</td>\n",
       "      <td>2017-12-08T00:00:00</td>\n",
       "      <td>1</td>\n",
       "      <td>NaN</td>\n",
       "      <td>9.0</td>\n",
       "      <td>NaN</td>\n",
       "      <td>4</td>\n",
       "      <td>NaN</td>\n",
       "      <td>...</td>\n",
       "      <td>NaN</td>\n",
       "      <td>0.0</td>\n",
       "      <td>Сосновый Бор</td>\n",
       "      <td>NaN</td>\n",
       "      <td>NaN</td>\n",
       "      <td>0.0</td>\n",
       "      <td>NaN</td>\n",
       "      <td>0.0</td>\n",
       "      <td>NaN</td>\n",
       "      <td>45.0</td>\n",
       "    </tr>\n",
       "    <tr>\n",
       "      <th>23680</th>\n",
       "      <td>14</td>\n",
       "      <td>5000000.0</td>\n",
       "      <td>59.00</td>\n",
       "      <td>2019-04-04T00:00:00</td>\n",
       "      <td>3</td>\n",
       "      <td>2.50</td>\n",
       "      <td>5.0</td>\n",
       "      <td>52.00</td>\n",
       "      <td>1</td>\n",
       "      <td>NaN</td>\n",
       "      <td>...</td>\n",
       "      <td>7.00</td>\n",
       "      <td>0.0</td>\n",
       "      <td>Санкт-Петербург</td>\n",
       "      <td>26835.0</td>\n",
       "      <td>11878.0</td>\n",
       "      <td>0.0</td>\n",
       "      <td>NaN</td>\n",
       "      <td>0.0</td>\n",
       "      <td>NaN</td>\n",
       "      <td>NaN</td>\n",
       "    </tr>\n",
       "    <tr>\n",
       "      <th>23681</th>\n",
       "      <td>13</td>\n",
       "      <td>5250000.0</td>\n",
       "      <td>43.00</td>\n",
       "      <td>2018-05-11T00:00:00</td>\n",
       "      <td>2</td>\n",
       "      <td>2.50</td>\n",
       "      <td>5.0</td>\n",
       "      <td>29.00</td>\n",
       "      <td>2</td>\n",
       "      <td>NaN</td>\n",
       "      <td>...</td>\n",
       "      <td>6.00</td>\n",
       "      <td>0.0</td>\n",
       "      <td>Санкт-Петербург</td>\n",
       "      <td>28323.0</td>\n",
       "      <td>7262.0</td>\n",
       "      <td>1.0</td>\n",
       "      <td>497.0</td>\n",
       "      <td>2.0</td>\n",
       "      <td>660.0</td>\n",
       "      <td>80.0</td>\n",
       "    </tr>\n",
       "    <tr>\n",
       "      <th>23682</th>\n",
       "      <td>11</td>\n",
       "      <td>2350000.0</td>\n",
       "      <td>35.60</td>\n",
       "      <td>2016-06-23T00:00:00</td>\n",
       "      <td>1</td>\n",
       "      <td>2.50</td>\n",
       "      <td>5.0</td>\n",
       "      <td>17.00</td>\n",
       "      <td>4</td>\n",
       "      <td>False</td>\n",
       "      <td>...</td>\n",
       "      <td>8.30</td>\n",
       "      <td>2.0</td>\n",
       "      <td>Выборг</td>\n",
       "      <td>NaN</td>\n",
       "      <td>NaN</td>\n",
       "      <td>0.0</td>\n",
       "      <td>NaN</td>\n",
       "      <td>0.0</td>\n",
       "      <td>NaN</td>\n",
       "      <td>40.0</td>\n",
       "    </tr>\n",
       "    <tr>\n",
       "      <th>23683</th>\n",
       "      <td>16</td>\n",
       "      <td>2100000.0</td>\n",
       "      <td>62.80</td>\n",
       "      <td>2018-09-18T00:00:00</td>\n",
       "      <td>4</td>\n",
       "      <td>2.50</td>\n",
       "      <td>5.0</td>\n",
       "      <td>45.50</td>\n",
       "      <td>3</td>\n",
       "      <td>NaN</td>\n",
       "      <td>...</td>\n",
       "      <td>5.50</td>\n",
       "      <td>0.0</td>\n",
       "      <td>посёлок Дзержинского</td>\n",
       "      <td>NaN</td>\n",
       "      <td>NaN</td>\n",
       "      <td>0.0</td>\n",
       "      <td>NaN</td>\n",
       "      <td>0.0</td>\n",
       "      <td>NaN</td>\n",
       "      <td>NaN</td>\n",
       "    </tr>\n",
       "    <tr>\n",
       "      <th>23684</th>\n",
       "      <td>20</td>\n",
       "      <td>21400000.0</td>\n",
       "      <td>145.00</td>\n",
       "      <td>2018-11-02T00:00:00</td>\n",
       "      <td>4</td>\n",
       "      <td>3.00</td>\n",
       "      <td>26.0</td>\n",
       "      <td>71.40</td>\n",
       "      <td>17</td>\n",
       "      <td>NaN</td>\n",
       "      <td>...</td>\n",
       "      <td>15.60</td>\n",
       "      <td>0.0</td>\n",
       "      <td>Санкт-Петербург</td>\n",
       "      <td>11827.0</td>\n",
       "      <td>11459.0</td>\n",
       "      <td>0.0</td>\n",
       "      <td>NaN</td>\n",
       "      <td>0.0</td>\n",
       "      <td>NaN</td>\n",
       "      <td>NaN</td>\n",
       "    </tr>\n",
       "    <tr>\n",
       "      <th>23685</th>\n",
       "      <td>15</td>\n",
       "      <td>2490000.0</td>\n",
       "      <td>31.00</td>\n",
       "      <td>2019-01-24T00:00:00</td>\n",
       "      <td>1</td>\n",
       "      <td>2.50</td>\n",
       "      <td>5.0</td>\n",
       "      <td>17.30</td>\n",
       "      <td>5</td>\n",
       "      <td>NaN</td>\n",
       "      <td>...</td>\n",
       "      <td>5.60</td>\n",
       "      <td>1.0</td>\n",
       "      <td>Ломоносов</td>\n",
       "      <td>48393.0</td>\n",
       "      <td>51818.0</td>\n",
       "      <td>0.0</td>\n",
       "      <td>NaN</td>\n",
       "      <td>0.0</td>\n",
       "      <td>NaN</td>\n",
       "      <td>NaN</td>\n",
       "    </tr>\n",
       "    <tr>\n",
       "      <th>23686</th>\n",
       "      <td>8</td>\n",
       "      <td>3300000.0</td>\n",
       "      <td>31.00</td>\n",
       "      <td>2017-04-29T00:00:00</td>\n",
       "      <td>1</td>\n",
       "      <td>2.55</td>\n",
       "      <td>9.0</td>\n",
       "      <td>18.00</td>\n",
       "      <td>6</td>\n",
       "      <td>NaN</td>\n",
       "      <td>...</td>\n",
       "      <td>6.50</td>\n",
       "      <td>0.0</td>\n",
       "      <td>Санкт-Петербург</td>\n",
       "      <td>11751.0</td>\n",
       "      <td>11602.0</td>\n",
       "      <td>1.0</td>\n",
       "      <td>140.0</td>\n",
       "      <td>1.0</td>\n",
       "      <td>317.0</td>\n",
       "      <td>193.0</td>\n",
       "    </tr>\n",
       "    <tr>\n",
       "      <th>23687</th>\n",
       "      <td>6</td>\n",
       "      <td>3200000.0</td>\n",
       "      <td>39.00</td>\n",
       "      <td>2017-12-16T00:00:00</td>\n",
       "      <td>1</td>\n",
       "      <td>NaN</td>\n",
       "      <td>9.0</td>\n",
       "      <td>20.00</td>\n",
       "      <td>6</td>\n",
       "      <td>NaN</td>\n",
       "      <td>...</td>\n",
       "      <td>11.00</td>\n",
       "      <td>2.0</td>\n",
       "      <td>Санкт-Петербург</td>\n",
       "      <td>40837.0</td>\n",
       "      <td>16704.0</td>\n",
       "      <td>0.0</td>\n",
       "      <td>NaN</td>\n",
       "      <td>0.0</td>\n",
       "      <td>NaN</td>\n",
       "      <td>38.0</td>\n",
       "    </tr>\n",
       "    <tr>\n",
       "      <th>23688</th>\n",
       "      <td>19</td>\n",
       "      <td>9200000.0</td>\n",
       "      <td>101.00</td>\n",
       "      <td>2019-04-01T00:00:00</td>\n",
       "      <td>3</td>\n",
       "      <td>3.05</td>\n",
       "      <td>15.0</td>\n",
       "      <td>63.00</td>\n",
       "      <td>12</td>\n",
       "      <td>NaN</td>\n",
       "      <td>...</td>\n",
       "      <td>15.00</td>\n",
       "      <td>0.0</td>\n",
       "      <td>Санкт-Петербург</td>\n",
       "      <td>15632.0</td>\n",
       "      <td>14428.0</td>\n",
       "      <td>0.0</td>\n",
       "      <td>NaN</td>\n",
       "      <td>0.0</td>\n",
       "      <td>NaN</td>\n",
       "      <td>23.0</td>\n",
       "    </tr>\n",
       "    <tr>\n",
       "      <th>23689</th>\n",
       "      <td>13</td>\n",
       "      <td>3550000.0</td>\n",
       "      <td>35.30</td>\n",
       "      <td>2018-02-28T00:00:00</td>\n",
       "      <td>1</td>\n",
       "      <td>2.86</td>\n",
       "      <td>15.0</td>\n",
       "      <td>16.30</td>\n",
       "      <td>4</td>\n",
       "      <td>NaN</td>\n",
       "      <td>...</td>\n",
       "      <td>9.10</td>\n",
       "      <td>2.0</td>\n",
       "      <td>Санкт-Петербург</td>\n",
       "      <td>17284.0</td>\n",
       "      <td>16081.0</td>\n",
       "      <td>1.0</td>\n",
       "      <td>353.0</td>\n",
       "      <td>2.0</td>\n",
       "      <td>652.0</td>\n",
       "      <td>29.0</td>\n",
       "    </tr>\n",
       "    <tr>\n",
       "      <th>23690</th>\n",
       "      <td>3</td>\n",
       "      <td>5500000.0</td>\n",
       "      <td>52.00</td>\n",
       "      <td>2018-07-19T00:00:00</td>\n",
       "      <td>2</td>\n",
       "      <td>NaN</td>\n",
       "      <td>5.0</td>\n",
       "      <td>31.00</td>\n",
       "      <td>2</td>\n",
       "      <td>NaN</td>\n",
       "      <td>...</td>\n",
       "      <td>6.00</td>\n",
       "      <td>0.0</td>\n",
       "      <td>Санкт-Петербург</td>\n",
       "      <td>20151.0</td>\n",
       "      <td>6263.0</td>\n",
       "      <td>1.0</td>\n",
       "      <td>300.0</td>\n",
       "      <td>0.0</td>\n",
       "      <td>NaN</td>\n",
       "      <td>15.0</td>\n",
       "    </tr>\n",
       "    <tr>\n",
       "      <th>23691</th>\n",
       "      <td>11</td>\n",
       "      <td>9470000.0</td>\n",
       "      <td>72.90</td>\n",
       "      <td>2016-10-13T00:00:00</td>\n",
       "      <td>2</td>\n",
       "      <td>2.75</td>\n",
       "      <td>25.0</td>\n",
       "      <td>40.30</td>\n",
       "      <td>7</td>\n",
       "      <td>NaN</td>\n",
       "      <td>...</td>\n",
       "      <td>10.60</td>\n",
       "      <td>1.0</td>\n",
       "      <td>Санкт-Петербург</td>\n",
       "      <td>19424.0</td>\n",
       "      <td>4489.0</td>\n",
       "      <td>0.0</td>\n",
       "      <td>NaN</td>\n",
       "      <td>1.0</td>\n",
       "      <td>806.0</td>\n",
       "      <td>519.0</td>\n",
       "    </tr>\n",
       "    <tr>\n",
       "      <th>23692</th>\n",
       "      <td>2</td>\n",
       "      <td>1350000.0</td>\n",
       "      <td>30.00</td>\n",
       "      <td>2017-07-07T00:00:00</td>\n",
       "      <td>1</td>\n",
       "      <td>NaN</td>\n",
       "      <td>5.0</td>\n",
       "      <td>17.50</td>\n",
       "      <td>4</td>\n",
       "      <td>NaN</td>\n",
       "      <td>...</td>\n",
       "      <td>6.00</td>\n",
       "      <td>0.0</td>\n",
       "      <td>Тихвин</td>\n",
       "      <td>NaN</td>\n",
       "      <td>NaN</td>\n",
       "      <td>0.0</td>\n",
       "      <td>NaN</td>\n",
       "      <td>0.0</td>\n",
       "      <td>NaN</td>\n",
       "      <td>413.0</td>\n",
       "    </tr>\n",
       "    <tr>\n",
       "      <th>23693</th>\n",
       "      <td>9</td>\n",
       "      <td>4600000.0</td>\n",
       "      <td>62.40</td>\n",
       "      <td>2016-08-05T00:00:00</td>\n",
       "      <td>3</td>\n",
       "      <td>2.60</td>\n",
       "      <td>9.0</td>\n",
       "      <td>40.00</td>\n",
       "      <td>8</td>\n",
       "      <td>NaN</td>\n",
       "      <td>...</td>\n",
       "      <td>8.00</td>\n",
       "      <td>0.0</td>\n",
       "      <td>Петергоф</td>\n",
       "      <td>45602.0</td>\n",
       "      <td>34104.0</td>\n",
       "      <td>1.0</td>\n",
       "      <td>352.0</td>\n",
       "      <td>1.0</td>\n",
       "      <td>675.0</td>\n",
       "      <td>239.0</td>\n",
       "    </tr>\n",
       "    <tr>\n",
       "      <th>23694</th>\n",
       "      <td>9</td>\n",
       "      <td>9700000.0</td>\n",
       "      <td>133.81</td>\n",
       "      <td>2017-03-21T00:00:00</td>\n",
       "      <td>3</td>\n",
       "      <td>3.70</td>\n",
       "      <td>5.0</td>\n",
       "      <td>73.30</td>\n",
       "      <td>3</td>\n",
       "      <td>NaN</td>\n",
       "      <td>...</td>\n",
       "      <td>13.83</td>\n",
       "      <td>0.0</td>\n",
       "      <td>Санкт-Петербург</td>\n",
       "      <td>24665.0</td>\n",
       "      <td>4232.0</td>\n",
       "      <td>1.0</td>\n",
       "      <td>796.0</td>\n",
       "      <td>3.0</td>\n",
       "      <td>381.0</td>\n",
       "      <td>NaN</td>\n",
       "    </tr>\n",
       "    <tr>\n",
       "      <th>23695</th>\n",
       "      <td>14</td>\n",
       "      <td>3100000.0</td>\n",
       "      <td>59.00</td>\n",
       "      <td>2018-01-15T00:00:00</td>\n",
       "      <td>3</td>\n",
       "      <td>NaN</td>\n",
       "      <td>5.0</td>\n",
       "      <td>38.00</td>\n",
       "      <td>4</td>\n",
       "      <td>NaN</td>\n",
       "      <td>...</td>\n",
       "      <td>8.50</td>\n",
       "      <td>0.0</td>\n",
       "      <td>Тосно</td>\n",
       "      <td>NaN</td>\n",
       "      <td>NaN</td>\n",
       "      <td>0.0</td>\n",
       "      <td>NaN</td>\n",
       "      <td>0.0</td>\n",
       "      <td>NaN</td>\n",
       "      <td>45.0</td>\n",
       "    </tr>\n",
       "    <tr>\n",
       "      <th>23696</th>\n",
       "      <td>18</td>\n",
       "      <td>2500000.0</td>\n",
       "      <td>56.70</td>\n",
       "      <td>2018-02-11T00:00:00</td>\n",
       "      <td>2</td>\n",
       "      <td>NaN</td>\n",
       "      <td>3.0</td>\n",
       "      <td>29.70</td>\n",
       "      <td>1</td>\n",
       "      <td>NaN</td>\n",
       "      <td>...</td>\n",
       "      <td>NaN</td>\n",
       "      <td>0.0</td>\n",
       "      <td>село Рождествено</td>\n",
       "      <td>NaN</td>\n",
       "      <td>NaN</td>\n",
       "      <td>0.0</td>\n",
       "      <td>NaN</td>\n",
       "      <td>0.0</td>\n",
       "      <td>NaN</td>\n",
       "      <td>NaN</td>\n",
       "    </tr>\n",
       "    <tr>\n",
       "      <th>23697</th>\n",
       "      <td>13</td>\n",
       "      <td>11475000.0</td>\n",
       "      <td>76.75</td>\n",
       "      <td>2017-03-28T00:00:00</td>\n",
       "      <td>2</td>\n",
       "      <td>3.00</td>\n",
       "      <td>17.0</td>\n",
       "      <td>NaN</td>\n",
       "      <td>12</td>\n",
       "      <td>NaN</td>\n",
       "      <td>...</td>\n",
       "      <td>23.30</td>\n",
       "      <td>2.0</td>\n",
       "      <td>Санкт-Петербург</td>\n",
       "      <td>39140.0</td>\n",
       "      <td>10364.0</td>\n",
       "      <td>2.0</td>\n",
       "      <td>173.0</td>\n",
       "      <td>3.0</td>\n",
       "      <td>196.0</td>\n",
       "      <td>602.0</td>\n",
       "    </tr>\n",
       "    <tr>\n",
       "      <th>23698</th>\n",
       "      <td>4</td>\n",
       "      <td>1350000.0</td>\n",
       "      <td>32.30</td>\n",
       "      <td>2017-07-21T00:00:00</td>\n",
       "      <td>1</td>\n",
       "      <td>2.50</td>\n",
       "      <td>5.0</td>\n",
       "      <td>12.30</td>\n",
       "      <td>1</td>\n",
       "      <td>NaN</td>\n",
       "      <td>...</td>\n",
       "      <td>9.00</td>\n",
       "      <td>0.0</td>\n",
       "      <td>поселок Новый Учхоз</td>\n",
       "      <td>NaN</td>\n",
       "      <td>NaN</td>\n",
       "      <td>0.0</td>\n",
       "      <td>NaN</td>\n",
       "      <td>0.0</td>\n",
       "      <td>NaN</td>\n",
       "      <td>NaN</td>\n",
       "    </tr>\n",
       "  </tbody>\n",
       "</table>\n",
       "<p>23690 rows × 22 columns</p>\n",
       "</div>"
      ],
      "text/plain": [
       "       total_images  last_price  total_area first_day_exposition  rooms  \\\n",
       "0                20  13000000.0      108.00  2019-03-07T00:00:00      3   \n",
       "1                 7   3350000.0       40.40  2018-12-04T00:00:00      1   \n",
       "2                10   5196000.0       56.00  2015-08-20T00:00:00      2   \n",
       "3                 0  64900000.0      159.00  2015-07-24T00:00:00      3   \n",
       "4                 2  10000000.0      100.00  2018-06-19T00:00:00      2   \n",
       "5                10   2890000.0       30.40  2018-09-10T00:00:00      1   \n",
       "6                 6   3700000.0       37.30  2017-11-02T00:00:00      1   \n",
       "7                 5   7915000.0       71.60  2019-04-18T00:00:00      2   \n",
       "8                20   2900000.0       33.16  2018-05-23T00:00:00      1   \n",
       "9                18   5400000.0       61.00  2017-02-26T00:00:00      3   \n",
       "10                5   5050000.0       39.60  2017-11-16T00:00:00      1   \n",
       "11                9   3300000.0       44.00  2018-08-27T00:00:00      2   \n",
       "12               10   3890000.0       54.00  2016-06-30T00:00:00      2   \n",
       "13               20   3550000.0       42.80  2017-07-01T00:00:00      2   \n",
       "14                1   4400000.0       36.00  2016-06-23T00:00:00      1   \n",
       "15               16   4650000.0       39.00  2017-11-18T00:00:00      1   \n",
       "16               11   6700000.0       82.00  2017-11-23T00:00:00      3   \n",
       "17                6   4180000.0       36.00  2016-09-09T00:00:00      1   \n",
       "18                8   3250000.0       31.00  2017-01-27T00:00:00      1   \n",
       "19               16  14200000.0      121.00  2019-01-09T00:00:00      3   \n",
       "20               12   6120000.0       80.00  2017-09-28T00:00:00      3   \n",
       "21               13   3200000.0       31.60  2018-03-14T00:00:00      1   \n",
       "22               20   5000000.0       58.00  2017-04-24T00:00:00      2   \n",
       "23               11   2950000.0       32.00  2016-10-29T00:00:00      1   \n",
       "24                8   6500000.0       97.20  2015-10-31T00:00:00      2   \n",
       "25                3   6800000.0       76.00  2015-10-01T00:00:00      2   \n",
       "26                6   4050000.0       60.00  2017-04-28T00:00:00      4   \n",
       "27               20   7100000.0       70.00  2017-05-12T00:00:00      3   \n",
       "28                8   4170000.0       44.00  2017-12-13T00:00:00      1   \n",
       "29                9   8600000.0      100.00  2016-04-09T00:00:00      3   \n",
       "...             ...         ...         ...                  ...    ...   \n",
       "23669             8   3000000.0       34.10  2017-11-10T00:00:00      1   \n",
       "23670             9   2450000.0       45.60  2018-02-08T00:00:00      1   \n",
       "23671             3   3450000.0       35.30  2017-04-14T00:00:00      1   \n",
       "23672             5   3000000.0       30.80  2016-06-08T00:00:00      1   \n",
       "23673             9   3100000.0       23.00  2018-03-19T00:00:00      1   \n",
       "23674            10   5950000.0       56.00  2019-03-05T00:00:00      3   \n",
       "23675             8   3550000.0       39.50  2016-10-03T00:00:00      1   \n",
       "23676            19   3550000.0       36.40  2016-06-08T00:00:00      1   \n",
       "23677             8   2450000.0       35.00  2018-10-26T00:00:00      1   \n",
       "23678            10   3500000.0       43.00  2016-05-19T00:00:00      2   \n",
       "23679             0   2500000.0       35.00  2017-12-08T00:00:00      1   \n",
       "23680            14   5000000.0       59.00  2019-04-04T00:00:00      3   \n",
       "23681            13   5250000.0       43.00  2018-05-11T00:00:00      2   \n",
       "23682            11   2350000.0       35.60  2016-06-23T00:00:00      1   \n",
       "23683            16   2100000.0       62.80  2018-09-18T00:00:00      4   \n",
       "23684            20  21400000.0      145.00  2018-11-02T00:00:00      4   \n",
       "23685            15   2490000.0       31.00  2019-01-24T00:00:00      1   \n",
       "23686             8   3300000.0       31.00  2017-04-29T00:00:00      1   \n",
       "23687             6   3200000.0       39.00  2017-12-16T00:00:00      1   \n",
       "23688            19   9200000.0      101.00  2019-04-01T00:00:00      3   \n",
       "23689            13   3550000.0       35.30  2018-02-28T00:00:00      1   \n",
       "23690             3   5500000.0       52.00  2018-07-19T00:00:00      2   \n",
       "23691            11   9470000.0       72.90  2016-10-13T00:00:00      2   \n",
       "23692             2   1350000.0       30.00  2017-07-07T00:00:00      1   \n",
       "23693             9   4600000.0       62.40  2016-08-05T00:00:00      3   \n",
       "23694             9   9700000.0      133.81  2017-03-21T00:00:00      3   \n",
       "23695            14   3100000.0       59.00  2018-01-15T00:00:00      3   \n",
       "23696            18   2500000.0       56.70  2018-02-11T00:00:00      2   \n",
       "23697            13  11475000.0       76.75  2017-03-28T00:00:00      2   \n",
       "23698             4   1350000.0       32.30  2017-07-21T00:00:00      1   \n",
       "\n",
       "       ceiling_height  floors_total  living_area  floor is_apartment  \\\n",
       "0                2.70          16.0        51.00      8          NaN   \n",
       "1                 NaN          11.0        18.60      1          NaN   \n",
       "2                 NaN           5.0        34.30      4          NaN   \n",
       "3                 NaN          14.0          NaN      9          NaN   \n",
       "4                3.03          14.0        32.00     13          NaN   \n",
       "5                 NaN          12.0        14.40      5          NaN   \n",
       "6                 NaN          26.0        10.60      6          NaN   \n",
       "7                 NaN          24.0          NaN     22          NaN   \n",
       "8                 NaN          27.0        15.43     26          NaN   \n",
       "9                2.50           9.0        43.60      7          NaN   \n",
       "10               2.67          12.0        20.30      3          NaN   \n",
       "11                NaN           5.0        31.00      4        False   \n",
       "12                NaN           5.0        30.00      5          NaN   \n",
       "13               2.56           5.0        27.00      5          NaN   \n",
       "14                NaN           6.0        17.00      1          NaN   \n",
       "15                NaN          14.0        20.50      5          NaN   \n",
       "16               3.05           5.0        55.60      1          NaN   \n",
       "17                NaN          17.0        16.50      7          NaN   \n",
       "18               2.50           5.0        19.40      2          NaN   \n",
       "19               2.75          16.0        76.00      8          NaN   \n",
       "20               2.70          27.0        48.00     11          NaN   \n",
       "21                NaN           5.0        16.90      2          NaN   \n",
       "22               2.75          25.0        30.00     15          NaN   \n",
       "23               2.60           9.0        17.70      9          NaN   \n",
       "24                NaN           3.0        46.50      1          NaN   \n",
       "25               2.75          23.0        39.00     18        False   \n",
       "26                NaN           5.0        43.00      4          NaN   \n",
       "27               2.60          17.0        49.00     11          NaN   \n",
       "28               2.90           6.0        20.80      1          NaN   \n",
       "29                NaN          19.0        52.00     15        False   \n",
       "...               ...           ...          ...    ...          ...   \n",
       "23669             NaN           9.0        17.00      3          NaN   \n",
       "23670            2.80           9.0          NaN      2          NaN   \n",
       "23671            2.50           9.0        17.50      4        False   \n",
       "23672             NaN           5.0        16.10      3          NaN   \n",
       "23673            2.80           9.0        12.60      1          NaN   \n",
       "23674             NaN           8.0        32.10      3          NaN   \n",
       "23675             NaN          16.0        19.00     13          NaN   \n",
       "23676             NaN          16.0        14.90     13          NaN   \n",
       "23677            2.60           5.0        18.00      4          NaN   \n",
       "23678            2.50           3.0        26.10      2        False   \n",
       "23679             NaN           9.0          NaN      4          NaN   \n",
       "23680            2.50           5.0        52.00      1          NaN   \n",
       "23681            2.50           5.0        29.00      2          NaN   \n",
       "23682            2.50           5.0        17.00      4        False   \n",
       "23683            2.50           5.0        45.50      3          NaN   \n",
       "23684            3.00          26.0        71.40     17          NaN   \n",
       "23685            2.50           5.0        17.30      5          NaN   \n",
       "23686            2.55           9.0        18.00      6          NaN   \n",
       "23687             NaN           9.0        20.00      6          NaN   \n",
       "23688            3.05          15.0        63.00     12          NaN   \n",
       "23689            2.86          15.0        16.30      4          NaN   \n",
       "23690             NaN           5.0        31.00      2          NaN   \n",
       "23691            2.75          25.0        40.30      7          NaN   \n",
       "23692             NaN           5.0        17.50      4          NaN   \n",
       "23693            2.60           9.0        40.00      8          NaN   \n",
       "23694            3.70           5.0        73.30      3          NaN   \n",
       "23695             NaN           5.0        38.00      4          NaN   \n",
       "23696             NaN           3.0        29.70      1          NaN   \n",
       "23697            3.00          17.0          NaN     12          NaN   \n",
       "23698            2.50           5.0        12.30      1          NaN   \n",
       "\n",
       "            ...         kitchen_area  balcony  \\\n",
       "0           ...                25.00      0.0   \n",
       "1           ...                11.00      2.0   \n",
       "2           ...                 8.30      0.0   \n",
       "3           ...                  NaN      0.0   \n",
       "4           ...                41.00      0.0   \n",
       "5           ...                 9.10      0.0   \n",
       "6           ...                14.40      1.0   \n",
       "7           ...                18.90      2.0   \n",
       "8           ...                 8.81      0.0   \n",
       "9           ...                 6.50      2.0   \n",
       "10          ...                 8.50      0.0   \n",
       "11          ...                 6.00      1.0   \n",
       "12          ...                 9.00      0.0   \n",
       "13          ...                 5.20      1.0   \n",
       "14          ...                 8.00      0.0   \n",
       "15          ...                 7.60      1.0   \n",
       "16          ...                 9.00      0.0   \n",
       "17          ...                11.00      1.0   \n",
       "18          ...                 5.60      1.0   \n",
       "19          ...                12.00      0.0   \n",
       "20          ...                12.00      2.0   \n",
       "21          ...                 5.70      1.0   \n",
       "22          ...                11.00      2.0   \n",
       "23          ...                 6.10      0.0   \n",
       "24          ...                19.60      0.0   \n",
       "25          ...                15.00      2.0   \n",
       "26          ...                 7.00      0.0   \n",
       "27          ...                 9.20      0.0   \n",
       "28          ...                11.70      1.0   \n",
       "29          ...                11.00      0.0   \n",
       "...         ...                  ...      ...   \n",
       "23669       ...                 9.00      1.0   \n",
       "23670       ...                  NaN      0.0   \n",
       "23671       ...                 7.50      2.0   \n",
       "23672       ...                 6.30      0.0   \n",
       "23673       ...                 5.00      2.0   \n",
       "23674       ...                 8.50      0.0   \n",
       "23675       ...                 8.50      0.0   \n",
       "23676       ...                 9.30      0.0   \n",
       "23677       ...                 9.60      0.0   \n",
       "23678       ...                 4.90      1.0   \n",
       "23679       ...                  NaN      0.0   \n",
       "23680       ...                 7.00      0.0   \n",
       "23681       ...                 6.00      0.0   \n",
       "23682       ...                 8.30      2.0   \n",
       "23683       ...                 5.50      0.0   \n",
       "23684       ...                15.60      0.0   \n",
       "23685       ...                 5.60      1.0   \n",
       "23686       ...                 6.50      0.0   \n",
       "23687       ...                11.00      2.0   \n",
       "23688       ...                15.00      0.0   \n",
       "23689       ...                 9.10      2.0   \n",
       "23690       ...                 6.00      0.0   \n",
       "23691       ...                10.60      1.0   \n",
       "23692       ...                 6.00      0.0   \n",
       "23693       ...                 8.00      0.0   \n",
       "23694       ...                13.83      0.0   \n",
       "23695       ...                 8.50      0.0   \n",
       "23696       ...                  NaN      0.0   \n",
       "23697       ...                23.30      2.0   \n",
       "23698       ...                 9.00      0.0   \n",
       "\n",
       "                          locality_name  airports_nearest cityCenters_nearest  \\\n",
       "0                       Санкт-Петербург           18863.0             16028.0   \n",
       "1                        посёлок Шушары           12817.0             18603.0   \n",
       "2                       Санкт-Петербург           21741.0             13933.0   \n",
       "3                       Санкт-Петербург           28098.0              6800.0   \n",
       "4                       Санкт-Петербург           31856.0              8098.0   \n",
       "5             городской посёлок Янино-1               NaN                 NaN   \n",
       "6                     посёлок Парголово           52996.0             19143.0   \n",
       "7                       Санкт-Петербург           23982.0             11634.0   \n",
       "8                        посёлок Мурино               NaN                 NaN   \n",
       "9                       Санкт-Петербург           50898.0             15008.0   \n",
       "10                      Санкт-Петербург           38357.0             13878.0   \n",
       "11                            Ломоносов           48252.0             51677.0   \n",
       "12                            Сертолово               NaN                 NaN   \n",
       "13                             Петергоф           37868.0             33058.0   \n",
       "14                               Пушкин           20782.0             30759.0   \n",
       "15                      Санкт-Петербург           12900.0             14259.0   \n",
       "16                      Санкт-Петербург           22108.0             10698.0   \n",
       "17                      Санкт-Петербург           33564.0             14616.0   \n",
       "18                      Санкт-Петербург           44060.0             10842.0   \n",
       "19                      Санкт-Петербург           38900.0             12843.0   \n",
       "20                    посёлок Парголово           53134.0             19311.0   \n",
       "21                      Санкт-Петербург           36064.0              9722.0   \n",
       "22                      деревня Кудрово               NaN                 NaN   \n",
       "23                      Санкт-Петербург           15414.0             14211.0   \n",
       "24                      Санкт-Петербург           20052.0              2336.0   \n",
       "25                      Санкт-Петербург           34967.0             14640.0   \n",
       "26                      Санкт-Петербург           11580.0             10510.0   \n",
       "27                      Санкт-Петербург           29197.0             11456.0   \n",
       "28                               Пушкин           18557.0             30710.0   \n",
       "29                      Санкт-Петербург           30394.0             11526.0   \n",
       "...                                 ...               ...                 ...   \n",
       "23669                           Колпино           24687.0             30473.0   \n",
       "23670  поселок городского типа Синявино               NaN                 NaN   \n",
       "23671                   Санкт-Петербург           21435.0             15261.0   \n",
       "23672                   Санкт-Петербург           44614.0             14193.0   \n",
       "23673                   Санкт-Петербург           11813.0             11881.0   \n",
       "23674                   Санкт-Петербург           32139.0              9217.0   \n",
       "23675                   Санкт-Петербург           25740.0             14951.0   \n",
       "23676                   Санкт-Петербург           32228.0             11884.0   \n",
       "23677                        Всеволожск               NaN                 NaN   \n",
       "23678                            Пушкин           15823.0             27977.0   \n",
       "23679                      Сосновый Бор               NaN                 NaN   \n",
       "23680                   Санкт-Петербург           26835.0             11878.0   \n",
       "23681                   Санкт-Петербург           28323.0              7262.0   \n",
       "23682                            Выборг               NaN                 NaN   \n",
       "23683              посёлок Дзержинского               NaN                 NaN   \n",
       "23684                   Санкт-Петербург           11827.0             11459.0   \n",
       "23685                         Ломоносов           48393.0             51818.0   \n",
       "23686                   Санкт-Петербург           11751.0             11602.0   \n",
       "23687                   Санкт-Петербург           40837.0             16704.0   \n",
       "23688                   Санкт-Петербург           15632.0             14428.0   \n",
       "23689                   Санкт-Петербург           17284.0             16081.0   \n",
       "23690                   Санкт-Петербург           20151.0              6263.0   \n",
       "23691                   Санкт-Петербург           19424.0              4489.0   \n",
       "23692                            Тихвин               NaN                 NaN   \n",
       "23693                          Петергоф           45602.0             34104.0   \n",
       "23694                   Санкт-Петербург           24665.0              4232.0   \n",
       "23695                             Тосно               NaN                 NaN   \n",
       "23696                  село Рождествено               NaN                 NaN   \n",
       "23697                   Санкт-Петербург           39140.0             10364.0   \n",
       "23698               поселок Новый Учхоз               NaN                 NaN   \n",
       "\n",
       "       parks_around3000  parks_nearest  ponds_around3000  ponds_nearest  \\\n",
       "0                   1.0          482.0               2.0          755.0   \n",
       "1                   0.0            NaN               0.0            NaN   \n",
       "2                   1.0           90.0               2.0          574.0   \n",
       "3                   2.0           84.0               3.0          234.0   \n",
       "4                   2.0          112.0               1.0           48.0   \n",
       "5                   0.0            NaN               0.0            NaN   \n",
       "6                   0.0            NaN               0.0            NaN   \n",
       "7                   0.0            NaN               0.0            NaN   \n",
       "8                   0.0            NaN               0.0            NaN   \n",
       "9                   0.0            NaN               0.0            NaN   \n",
       "10                  1.0          310.0               2.0          553.0   \n",
       "11                  0.0            NaN               0.0            NaN   \n",
       "12                  0.0            NaN               0.0            NaN   \n",
       "13                  1.0          294.0               3.0          298.0   \n",
       "14                  0.0            NaN               1.0           96.0   \n",
       "15                  1.0          590.0               1.0          296.0   \n",
       "16                  3.0          420.0               0.0            NaN   \n",
       "17                  0.0            NaN               1.0          859.0   \n",
       "18                  1.0          759.0               0.0            NaN   \n",
       "19                  0.0            NaN               0.0            NaN   \n",
       "20                  0.0            NaN               0.0            NaN   \n",
       "21                  1.0          248.0               0.0            NaN   \n",
       "22                  0.0            NaN               0.0            NaN   \n",
       "23                  2.0          517.0               1.0          190.0   \n",
       "24                  3.0          411.0               3.0          124.0   \n",
       "25                  0.0            NaN               1.0          564.0   \n",
       "26                  0.0            NaN               1.0           95.0   \n",
       "27                  2.0          452.0               1.0          779.0   \n",
       "28                  0.0            NaN               1.0          118.0   \n",
       "29                  1.0          532.0               1.0          896.0   \n",
       "...                 ...            ...               ...            ...   \n",
       "23669               0.0            NaN               1.0          741.0   \n",
       "23670               0.0            NaN               0.0            NaN   \n",
       "23671               1.0          334.0               1.0          232.0   \n",
       "23672               2.0          258.0               0.0            NaN   \n",
       "23673               1.0          262.0               1.0          442.0   \n",
       "23674               0.0            NaN               2.0          303.0   \n",
       "23675               0.0            NaN               0.0            NaN   \n",
       "23676               1.0          701.0               0.0            NaN   \n",
       "23677               0.0            NaN               0.0            NaN   \n",
       "23678               0.0            NaN               1.0         1134.0   \n",
       "23679               0.0            NaN               0.0            NaN   \n",
       "23680               0.0            NaN               0.0            NaN   \n",
       "23681               1.0          497.0               2.0          660.0   \n",
       "23682               0.0            NaN               0.0            NaN   \n",
       "23683               0.0            NaN               0.0            NaN   \n",
       "23684               0.0            NaN               0.0            NaN   \n",
       "23685               0.0            NaN               0.0            NaN   \n",
       "23686               1.0          140.0               1.0          317.0   \n",
       "23687               0.0            NaN               0.0            NaN   \n",
       "23688               0.0            NaN               0.0            NaN   \n",
       "23689               1.0          353.0               2.0          652.0   \n",
       "23690               1.0          300.0               0.0            NaN   \n",
       "23691               0.0            NaN               1.0          806.0   \n",
       "23692               0.0            NaN               0.0            NaN   \n",
       "23693               1.0          352.0               1.0          675.0   \n",
       "23694               1.0          796.0               3.0          381.0   \n",
       "23695               0.0            NaN               0.0            NaN   \n",
       "23696               0.0            NaN               0.0            NaN   \n",
       "23697               2.0          173.0               3.0          196.0   \n",
       "23698               0.0            NaN               0.0            NaN   \n",
       "\n",
       "       days_exposition  \n",
       "0                  NaN  \n",
       "1                 81.0  \n",
       "2                558.0  \n",
       "3                424.0  \n",
       "4                121.0  \n",
       "5                 55.0  \n",
       "6                155.0  \n",
       "7                  NaN  \n",
       "8                189.0  \n",
       "9                289.0  \n",
       "10               137.0  \n",
       "11                 7.0  \n",
       "12                90.0  \n",
       "13               366.0  \n",
       "14               203.0  \n",
       "15                19.0  \n",
       "16               397.0  \n",
       "17               571.0  \n",
       "18               168.0  \n",
       "19                97.0  \n",
       "20                74.0  \n",
       "21               310.0  \n",
       "22                60.0  \n",
       "23               615.0  \n",
       "24               265.0  \n",
       "25               300.0  \n",
       "26               265.0  \n",
       "27               151.0  \n",
       "28                74.0  \n",
       "29               125.0  \n",
       "...                ...  \n",
       "23669             74.0  \n",
       "23670             45.0  \n",
       "23671             21.0  \n",
       "23672            808.0  \n",
       "23673             41.0  \n",
       "23674              NaN  \n",
       "23675            721.0  \n",
       "23676             70.0  \n",
       "23677             28.0  \n",
       "23678            252.0  \n",
       "23679             45.0  \n",
       "23680              NaN  \n",
       "23681             80.0  \n",
       "23682             40.0  \n",
       "23683              NaN  \n",
       "23684              NaN  \n",
       "23685              NaN  \n",
       "23686            193.0  \n",
       "23687             38.0  \n",
       "23688             23.0  \n",
       "23689             29.0  \n",
       "23690             15.0  \n",
       "23691            519.0  \n",
       "23692            413.0  \n",
       "23693            239.0  \n",
       "23694              NaN  \n",
       "23695             45.0  \n",
       "23696              NaN  \n",
       "23697            602.0  \n",
       "23698              NaN  \n",
       "\n",
       "[23690 rows x 22 columns]"
      ]
     },
     "execution_count": 32,
     "metadata": {},
     "output_type": "execute_result"
    }
   ],
   "source": [
    "data = data.drop(data.loc[(data['ceiling_height'] > 6) | (data['ceiling_height'] < 1.75)].index)\n",
    "data"
   ]
  },
  {
   "cell_type": "code",
   "execution_count": 33,
   "metadata": {
    "colab": {
     "base_uri": "https://localhost:8080/"
    },
    "id": "SoZdHVWXDG-a",
    "outputId": "8f9f132d-0b87-4187-e4ce-09a5c6135e6d"
   },
   "outputs": [
    {
     "data": {
      "text/plain": [
       "9195"
      ]
     },
     "execution_count": 33,
     "metadata": {},
     "output_type": "execute_result"
    }
   ],
   "source": [
    "data['ceiling_height'].isna().sum()"
   ]
  },
  {
   "cell_type": "markdown",
   "metadata": {
    "id": "iGYhLunzDG-a"
   },
   "source": [
    "Заменим пустые значения высоты потолка медианным."
   ]
  },
  {
   "cell_type": "code",
   "execution_count": 34,
   "metadata": {
    "colab": {
     "base_uri": "https://localhost:8080/"
    },
    "id": "kpIFqkgLDG-b",
    "outputId": "f629c0a2-c83c-4ad0-9fd8-db8f7f91b10a",
    "scrolled": true
   },
   "outputs": [
    {
     "data": {
      "text/plain": [
       "0"
      ]
     },
     "execution_count": 34,
     "metadata": {},
     "output_type": "execute_result"
    }
   ],
   "source": [
    "data['ceiling_height'] = data['ceiling_height'].fillna(data['ceiling_height'].median())\n",
    "data['ceiling_height'].isna().sum()"
   ]
  },
  {
   "cell_type": "markdown",
   "metadata": {
    "id": "VoL8BAdqDG-b"
   },
   "source": [
    "Заполним пустые значения в колонке `is_apartment`. Если не указано апартаменты это или нет, то скорее всего имелось ввиду, что нет."
   ]
  },
  {
   "cell_type": "code",
   "execution_count": 35,
   "metadata": {
    "colab": {
     "base_uri": "https://localhost:8080/"
    },
    "id": "fdFw817-DG-c",
    "outputId": "1ead8359-2992-47dd-ad87-8d752e7654aa"
   },
   "outputs": [
    {
     "data": {
      "text/plain": [
       "array([nan, False, True], dtype=object)"
      ]
     },
     "execution_count": 35,
     "metadata": {},
     "output_type": "execute_result"
    }
   ],
   "source": [
    "data['is_apartment'].unique()"
   ]
  },
  {
   "cell_type": "code",
   "execution_count": 36,
   "metadata": {
    "colab": {
     "base_uri": "https://localhost:8080/"
    },
    "id": "xtM30CqXDG-c",
    "outputId": "5942b97d-bc54-4191-f5f6-461bbeacefc3"
   },
   "outputs": [
    {
     "data": {
      "text/plain": [
       "array([False,  True])"
      ]
     },
     "execution_count": 36,
     "metadata": {},
     "output_type": "execute_result"
    }
   ],
   "source": [
    "data['is_apartment'] = data['is_apartment'].fillna(value=False)\n",
    "\n",
    "data['is_apartment'].unique()"
   ]
  },
  {
   "cell_type": "markdown",
   "metadata": {
    "id": "RAqJJhCXDG-d"
   },
   "source": [
    "Заполним пропуски в колонке `living_area`."
   ]
  },
  {
   "cell_type": "code",
   "execution_count": 37,
   "metadata": {
    "colab": {
     "base_uri": "https://localhost:8080/"
    },
    "id": "Iwx5Rn3EDG-d",
    "outputId": "bb2b6fb4-8665-42b6-88fa-756c3e10cd72"
   },
   "outputs": [
    {
     "data": {
      "text/plain": [
       "1903"
      ]
     },
     "execution_count": 37,
     "metadata": {},
     "output_type": "execute_result"
    }
   ],
   "source": [
    "data['living_area'].isna().sum()"
   ]
  },
  {
   "cell_type": "markdown",
   "metadata": {
    "id": "b8AxQiChDG-d"
   },
   "source": [
    "Посчитаем какую часть жилая площадь занимает от общей. Заменим медианным значением."
   ]
  },
  {
   "cell_type": "code",
   "execution_count": 38,
   "metadata": {
    "colab": {
     "base_uri": "https://localhost:8080/"
    },
    "id": "mkqXUgCzDG-e",
    "outputId": "f9865e17-f465-48cb-f76c-d107e4415008"
   },
   "outputs": [
    {
     "data": {
      "text/plain": [
       "0"
      ]
     },
     "execution_count": 38,
     "metadata": {},
     "output_type": "execute_result"
    }
   ],
   "source": [
    "living = data['living_area'].median() / data['total_area'].median()\n",
    "data['living_area'] = data['living_area'].fillna(living * data['total_area'])\n",
    "data['living_area'].isna().sum()"
   ]
  },
  {
   "cell_type": "markdown",
   "metadata": {
    "id": "JBn5b61aDG-f"
   },
   "source": [
    "Аналогично заполним пустые значения в колонке `kitchen_area`."
   ]
  },
  {
   "cell_type": "code",
   "execution_count": 39,
   "metadata": {
    "colab": {
     "base_uri": "https://localhost:8080/"
    },
    "id": "z3WsgtSuDG-f",
    "outputId": "868fe4e3-73f8-4733-8ccf-c49f631df892"
   },
   "outputs": [
    {
     "data": {
      "text/plain": [
       "0"
      ]
     },
     "execution_count": 39,
     "metadata": {},
     "output_type": "execute_result"
    }
   ],
   "source": [
    "kitchen = data['kitchen_area'].median() / (data['total_area'] - data['living_area']).median()\n",
    "data['kitchen_area'] = data['kitchen_area'].fillna(kitchen * (data['total_area']- data['living_area']))\n",
    "data['kitchen_area'].isna().sum()"
   ]
  },
  {
   "cell_type": "markdown",
   "metadata": {
    "id": "RgxoLbUZDG-f"
   },
   "source": [
    "Проверим, что площадь кухни и жилая площадь в сумме не превышает общую площадь."
   ]
  },
  {
   "cell_type": "code",
   "execution_count": 40,
   "metadata": {
    "colab": {
     "base_uri": "https://localhost:8080/",
     "height": 423
    },
    "id": "WVyywOeyDG-g",
    "outputId": "f2647b6f-435c-4f8a-c679-e7bd0ecb23bb"
   },
   "outputs": [
    {
     "data": {
      "text/html": [
       "<div>\n",
       "<style scoped>\n",
       "    .dataframe tbody tr th:only-of-type {\n",
       "        vertical-align: middle;\n",
       "    }\n",
       "\n",
       "    .dataframe tbody tr th {\n",
       "        vertical-align: top;\n",
       "    }\n",
       "\n",
       "    .dataframe thead th {\n",
       "        text-align: right;\n",
       "    }\n",
       "</style>\n",
       "<table border=\"1\" class=\"dataframe\">\n",
       "  <thead>\n",
       "    <tr style=\"text-align: right;\">\n",
       "      <th></th>\n",
       "      <th>kitchen_area</th>\n",
       "      <th>living_area</th>\n",
       "      <th>total_area</th>\n",
       "    </tr>\n",
       "  </thead>\n",
       "  <tbody>\n",
       "    <tr>\n",
       "      <th>184</th>\n",
       "      <td>6.20</td>\n",
       "      <td>26.100000</td>\n",
       "      <td>30.20</td>\n",
       "    </tr>\n",
       "    <tr>\n",
       "      <th>545</th>\n",
       "      <td>5.00</td>\n",
       "      <td>20.000000</td>\n",
       "      <td>23.80</td>\n",
       "    </tr>\n",
       "    <tr>\n",
       "      <th>551</th>\n",
       "      <td>9.28</td>\n",
       "      <td>30.550000</td>\n",
       "      <td>31.59</td>\n",
       "    </tr>\n",
       "    <tr>\n",
       "      <th>601</th>\n",
       "      <td>7.00</td>\n",
       "      <td>48.300000</td>\n",
       "      <td>53.70</td>\n",
       "    </tr>\n",
       "    <tr>\n",
       "      <th>696</th>\n",
       "      <td>23.43</td>\n",
       "      <td>23.430000</td>\n",
       "      <td>34.69</td>\n",
       "    </tr>\n",
       "    <tr>\n",
       "      <th>1060</th>\n",
       "      <td>20.50</td>\n",
       "      <td>39.000000</td>\n",
       "      <td>50.00</td>\n",
       "    </tr>\n",
       "    <tr>\n",
       "      <th>1155</th>\n",
       "      <td>12.00</td>\n",
       "      <td>33.000000</td>\n",
       "      <td>38.00</td>\n",
       "    </tr>\n",
       "    <tr>\n",
       "      <th>1354</th>\n",
       "      <td>19.00</td>\n",
       "      <td>38.000000</td>\n",
       "      <td>54.50</td>\n",
       "    </tr>\n",
       "    <tr>\n",
       "      <th>1407</th>\n",
       "      <td>18.20</td>\n",
       "      <td>18.000000</td>\n",
       "      <td>24.60</td>\n",
       "    </tr>\n",
       "    <tr>\n",
       "      <th>1854</th>\n",
       "      <td>14.84</td>\n",
       "      <td>55.000000</td>\n",
       "      <td>60.20</td>\n",
       "    </tr>\n",
       "    <tr>\n",
       "      <th>1992</th>\n",
       "      <td>8.60</td>\n",
       "      <td>36.400000</td>\n",
       "      <td>37.40</td>\n",
       "    </tr>\n",
       "    <tr>\n",
       "      <th>2869</th>\n",
       "      <td>35.00</td>\n",
       "      <td>42.115385</td>\n",
       "      <td>73.00</td>\n",
       "    </tr>\n",
       "    <tr>\n",
       "      <th>2950</th>\n",
       "      <td>8.50</td>\n",
       "      <td>33.000000</td>\n",
       "      <td>35.00</td>\n",
       "    </tr>\n",
       "    <tr>\n",
       "      <th>3426</th>\n",
       "      <td>7.89</td>\n",
       "      <td>28.850000</td>\n",
       "      <td>32.51</td>\n",
       "    </tr>\n",
       "    <tr>\n",
       "      <th>3891</th>\n",
       "      <td>9.00</td>\n",
       "      <td>68.100000</td>\n",
       "      <td>70.40</td>\n",
       "    </tr>\n",
       "    <tr>\n",
       "      <th>4366</th>\n",
       "      <td>28.20</td>\n",
       "      <td>39.800000</td>\n",
       "      <td>47.70</td>\n",
       "    </tr>\n",
       "    <tr>\n",
       "      <th>5096</th>\n",
       "      <td>9.00</td>\n",
       "      <td>34.000000</td>\n",
       "      <td>42.00</td>\n",
       "    </tr>\n",
       "    <tr>\n",
       "      <th>5297</th>\n",
       "      <td>45.00</td>\n",
       "      <td>55.384615</td>\n",
       "      <td>96.00</td>\n",
       "    </tr>\n",
       "    <tr>\n",
       "      <th>5407</th>\n",
       "      <td>20.00</td>\n",
       "      <td>26.538462</td>\n",
       "      <td>46.00</td>\n",
       "    </tr>\n",
       "    <tr>\n",
       "      <th>6557</th>\n",
       "      <td>11.00</td>\n",
       "      <td>34.000000</td>\n",
       "      <td>39.00</td>\n",
       "    </tr>\n",
       "    <tr>\n",
       "      <th>6559</th>\n",
       "      <td>8.00</td>\n",
       "      <td>20.000000</td>\n",
       "      <td>26.00</td>\n",
       "    </tr>\n",
       "    <tr>\n",
       "      <th>6802</th>\n",
       "      <td>25.00</td>\n",
       "      <td>64.000000</td>\n",
       "      <td>69.00</td>\n",
       "    </tr>\n",
       "    <tr>\n",
       "      <th>7239</th>\n",
       "      <td>43.40</td>\n",
       "      <td>76.400000</td>\n",
       "      <td>90.00</td>\n",
       "    </tr>\n",
       "    <tr>\n",
       "      <th>7398</th>\n",
       "      <td>12.39</td>\n",
       "      <td>77.000000</td>\n",
       "      <td>83.66</td>\n",
       "    </tr>\n",
       "    <tr>\n",
       "      <th>7680</th>\n",
       "      <td>6.00</td>\n",
       "      <td>33.000000</td>\n",
       "      <td>38.80</td>\n",
       "    </tr>\n",
       "    <tr>\n",
       "      <th>7755</th>\n",
       "      <td>14.95</td>\n",
       "      <td>14.950000</td>\n",
       "      <td>20.67</td>\n",
       "    </tr>\n",
       "    <tr>\n",
       "      <th>8211</th>\n",
       "      <td>14.50</td>\n",
       "      <td>82.000000</td>\n",
       "      <td>93.00</td>\n",
       "    </tr>\n",
       "    <tr>\n",
       "      <th>8455</th>\n",
       "      <td>30.90</td>\n",
       "      <td>41.538462</td>\n",
       "      <td>72.00</td>\n",
       "    </tr>\n",
       "    <tr>\n",
       "      <th>9333</th>\n",
       "      <td>14.10</td>\n",
       "      <td>33.300000</td>\n",
       "      <td>41.90</td>\n",
       "    </tr>\n",
       "    <tr>\n",
       "      <th>9385</th>\n",
       "      <td>8.30</td>\n",
       "      <td>61.000000</td>\n",
       "      <td>69.00</td>\n",
       "    </tr>\n",
       "    <tr>\n",
       "      <th>...</th>\n",
       "      <td>...</td>\n",
       "      <td>...</td>\n",
       "      <td>...</td>\n",
       "    </tr>\n",
       "    <tr>\n",
       "      <th>12159</th>\n",
       "      <td>27.00</td>\n",
       "      <td>51.000000</td>\n",
       "      <td>70.00</td>\n",
       "    </tr>\n",
       "    <tr>\n",
       "      <th>12481</th>\n",
       "      <td>43.20</td>\n",
       "      <td>34.846154</td>\n",
       "      <td>60.40</td>\n",
       "    </tr>\n",
       "    <tr>\n",
       "      <th>12482</th>\n",
       "      <td>27.50</td>\n",
       "      <td>50.400000</td>\n",
       "      <td>77.10</td>\n",
       "    </tr>\n",
       "    <tr>\n",
       "      <th>12530</th>\n",
       "      <td>18.60</td>\n",
       "      <td>36.900000</td>\n",
       "      <td>39.03</td>\n",
       "    </tr>\n",
       "    <tr>\n",
       "      <th>12587</th>\n",
       "      <td>13.35</td>\n",
       "      <td>66.010000</td>\n",
       "      <td>77.81</td>\n",
       "    </tr>\n",
       "    <tr>\n",
       "      <th>13428</th>\n",
       "      <td>27.00</td>\n",
       "      <td>56.000000</td>\n",
       "      <td>75.00</td>\n",
       "    </tr>\n",
       "    <tr>\n",
       "      <th>15513</th>\n",
       "      <td>9.32</td>\n",
       "      <td>33.000000</td>\n",
       "      <td>33.82</td>\n",
       "    </tr>\n",
       "    <tr>\n",
       "      <th>16325</th>\n",
       "      <td>20.00</td>\n",
       "      <td>60.000000</td>\n",
       "      <td>79.70</td>\n",
       "    </tr>\n",
       "    <tr>\n",
       "      <th>16598</th>\n",
       "      <td>9.00</td>\n",
       "      <td>30.000000</td>\n",
       "      <td>37.00</td>\n",
       "    </tr>\n",
       "    <tr>\n",
       "      <th>16911</th>\n",
       "      <td>12.85</td>\n",
       "      <td>40.000000</td>\n",
       "      <td>44.84</td>\n",
       "    </tr>\n",
       "    <tr>\n",
       "      <th>17110</th>\n",
       "      <td>13.00</td>\n",
       "      <td>30.000000</td>\n",
       "      <td>42.00</td>\n",
       "    </tr>\n",
       "    <tr>\n",
       "      <th>17151</th>\n",
       "      <td>7.10</td>\n",
       "      <td>54.500000</td>\n",
       "      <td>58.50</td>\n",
       "    </tr>\n",
       "    <tr>\n",
       "      <th>17492</th>\n",
       "      <td>8.00</td>\n",
       "      <td>26.000000</td>\n",
       "      <td>29.00</td>\n",
       "    </tr>\n",
       "    <tr>\n",
       "      <th>17564</th>\n",
       "      <td>18.00</td>\n",
       "      <td>24.230769</td>\n",
       "      <td>42.00</td>\n",
       "    </tr>\n",
       "    <tr>\n",
       "      <th>18455</th>\n",
       "      <td>8.20</td>\n",
       "      <td>30.000000</td>\n",
       "      <td>32.00</td>\n",
       "    </tr>\n",
       "    <tr>\n",
       "      <th>19344</th>\n",
       "      <td>21.00</td>\n",
       "      <td>42.000000</td>\n",
       "      <td>62.00</td>\n",
       "    </tr>\n",
       "    <tr>\n",
       "      <th>19382</th>\n",
       "      <td>53.00</td>\n",
       "      <td>62.884615</td>\n",
       "      <td>109.00</td>\n",
       "    </tr>\n",
       "    <tr>\n",
       "      <th>19535</th>\n",
       "      <td>9.10</td>\n",
       "      <td>34.600000</td>\n",
       "      <td>40.08</td>\n",
       "    </tr>\n",
       "    <tr>\n",
       "      <th>19908</th>\n",
       "      <td>9.00</td>\n",
       "      <td>28.000000</td>\n",
       "      <td>36.00</td>\n",
       "    </tr>\n",
       "    <tr>\n",
       "      <th>20034</th>\n",
       "      <td>11.00</td>\n",
       "      <td>37.000000</td>\n",
       "      <td>46.00</td>\n",
       "    </tr>\n",
       "    <tr>\n",
       "      <th>20490</th>\n",
       "      <td>10.30</td>\n",
       "      <td>35.100000</td>\n",
       "      <td>41.00</td>\n",
       "    </tr>\n",
       "    <tr>\n",
       "      <th>21016</th>\n",
       "      <td>18.00</td>\n",
       "      <td>23.076923</td>\n",
       "      <td>40.00</td>\n",
       "    </tr>\n",
       "    <tr>\n",
       "      <th>21266</th>\n",
       "      <td>35.00</td>\n",
       "      <td>35.000000</td>\n",
       "      <td>60.00</td>\n",
       "    </tr>\n",
       "    <tr>\n",
       "      <th>21377</th>\n",
       "      <td>11.00</td>\n",
       "      <td>37.700000</td>\n",
       "      <td>42.00</td>\n",
       "    </tr>\n",
       "    <tr>\n",
       "      <th>21519</th>\n",
       "      <td>9.00</td>\n",
       "      <td>52.500000</td>\n",
       "      <td>55.00</td>\n",
       "    </tr>\n",
       "    <tr>\n",
       "      <th>21824</th>\n",
       "      <td>8.60</td>\n",
       "      <td>38.000000</td>\n",
       "      <td>44.00</td>\n",
       "    </tr>\n",
       "    <tr>\n",
       "      <th>21868</th>\n",
       "      <td>8.00</td>\n",
       "      <td>30.600000</td>\n",
       "      <td>34.30</td>\n",
       "    </tr>\n",
       "    <tr>\n",
       "      <th>21915</th>\n",
       "      <td>32.40</td>\n",
       "      <td>62.000000</td>\n",
       "      <td>91.40</td>\n",
       "    </tr>\n",
       "    <tr>\n",
       "      <th>21956</th>\n",
       "      <td>8.00</td>\n",
       "      <td>44.000000</td>\n",
       "      <td>46.00</td>\n",
       "    </tr>\n",
       "    <tr>\n",
       "      <th>23202</th>\n",
       "      <td>13.04</td>\n",
       "      <td>63.000000</td>\n",
       "      <td>67.92</td>\n",
       "    </tr>\n",
       "  </tbody>\n",
       "</table>\n",
       "<p>76 rows × 3 columns</p>\n",
       "</div>"
      ],
      "text/plain": [
       "       kitchen_area  living_area  total_area\n",
       "184            6.20    26.100000       30.20\n",
       "545            5.00    20.000000       23.80\n",
       "551            9.28    30.550000       31.59\n",
       "601            7.00    48.300000       53.70\n",
       "696           23.43    23.430000       34.69\n",
       "1060          20.50    39.000000       50.00\n",
       "1155          12.00    33.000000       38.00\n",
       "1354          19.00    38.000000       54.50\n",
       "1407          18.20    18.000000       24.60\n",
       "1854          14.84    55.000000       60.20\n",
       "1992           8.60    36.400000       37.40\n",
       "2869          35.00    42.115385       73.00\n",
       "2950           8.50    33.000000       35.00\n",
       "3426           7.89    28.850000       32.51\n",
       "3891           9.00    68.100000       70.40\n",
       "4366          28.20    39.800000       47.70\n",
       "5096           9.00    34.000000       42.00\n",
       "5297          45.00    55.384615       96.00\n",
       "5407          20.00    26.538462       46.00\n",
       "6557          11.00    34.000000       39.00\n",
       "6559           8.00    20.000000       26.00\n",
       "6802          25.00    64.000000       69.00\n",
       "7239          43.40    76.400000       90.00\n",
       "7398          12.39    77.000000       83.66\n",
       "7680           6.00    33.000000       38.80\n",
       "7755          14.95    14.950000       20.67\n",
       "8211          14.50    82.000000       93.00\n",
       "8455          30.90    41.538462       72.00\n",
       "9333          14.10    33.300000       41.90\n",
       "9385           8.30    61.000000       69.00\n",
       "...             ...          ...         ...\n",
       "12159         27.00    51.000000       70.00\n",
       "12481         43.20    34.846154       60.40\n",
       "12482         27.50    50.400000       77.10\n",
       "12530         18.60    36.900000       39.03\n",
       "12587         13.35    66.010000       77.81\n",
       "13428         27.00    56.000000       75.00\n",
       "15513          9.32    33.000000       33.82\n",
       "16325         20.00    60.000000       79.70\n",
       "16598          9.00    30.000000       37.00\n",
       "16911         12.85    40.000000       44.84\n",
       "17110         13.00    30.000000       42.00\n",
       "17151          7.10    54.500000       58.50\n",
       "17492          8.00    26.000000       29.00\n",
       "17564         18.00    24.230769       42.00\n",
       "18455          8.20    30.000000       32.00\n",
       "19344         21.00    42.000000       62.00\n",
       "19382         53.00    62.884615      109.00\n",
       "19535          9.10    34.600000       40.08\n",
       "19908          9.00    28.000000       36.00\n",
       "20034         11.00    37.000000       46.00\n",
       "20490         10.30    35.100000       41.00\n",
       "21016         18.00    23.076923       40.00\n",
       "21266         35.00    35.000000       60.00\n",
       "21377         11.00    37.700000       42.00\n",
       "21519          9.00    52.500000       55.00\n",
       "21824          8.60    38.000000       44.00\n",
       "21868          8.00    30.600000       34.30\n",
       "21915         32.40    62.000000       91.40\n",
       "21956          8.00    44.000000       46.00\n",
       "23202         13.04    63.000000       67.92\n",
       "\n",
       "[76 rows x 3 columns]"
      ]
     },
     "execution_count": 40,
     "metadata": {},
     "output_type": "execute_result"
    }
   ],
   "source": [
    "data.loc[(data['kitchen_area'] + data['living_area']) > data['total_area'], ['kitchen_area', 'living_area', 'total_area']]"
   ]
  },
  {
   "cell_type": "markdown",
   "metadata": {
    "id": "dL7HkH0iDG-g"
   },
   "source": [
    "Видим, что такие строки есть(76 штук), удалим их как аномалии."
   ]
  },
  {
   "cell_type": "code",
   "execution_count": 41,
   "metadata": {
    "colab": {
     "base_uri": "https://localhost:8080/"
    },
    "id": "cmu4U5z3DG-g",
    "outputId": "6397cc03-2560-488e-9e56-57b9b94333fd",
    "scrolled": true
   },
   "outputs": [
    {
     "data": {
      "text/plain": [
       "kitchen_area    0.0\n",
       "living_area     0.0\n",
       "total_area      0.0\n",
       "dtype: float64"
      ]
     },
     "execution_count": 41,
     "metadata": {},
     "output_type": "execute_result"
    }
   ],
   "source": [
    "data = data.drop(data.loc[(data['kitchen_area'] + data['living_area']) > data['total_area']].index)\n",
    "data.loc[(data['kitchen_area'] + data['living_area']) > data['total_area'], ['kitchen_area', 'living_area', 'total_area']].sum()"
   ]
  },
  {
   "cell_type": "markdown",
   "metadata": {
    "id": "7vDqlb6iDG-h"
   },
   "source": [
    "### Возможные причины пропусков."
   ]
  },
  {
   "cell_type": "markdown",
   "metadata": {
    "id": "01TBIgZXDG-h"
   },
   "source": [
    "* В колонках с количеством парков и водоемов в радиусе 3 км, а также с количеством балконов, отсутствие значений может быть связано с отсутствие наличия парков, водоемов и балконов. \n",
    "* В колонке `is_apartment` если квартира не была апартаментами могли ничего и не указывать.\n",
    "* В остальных колонках не заполнили значение. "
   ]
  },
  {
   "cell_type": "markdown",
   "metadata": {
    "id": "dtoykC2xDG-j"
   },
   "source": [
    "### Типы данных"
   ]
  },
  {
   "cell_type": "code",
   "execution_count": 42,
   "metadata": {
    "colab": {
     "base_uri": "https://localhost:8080/"
    },
    "id": "ubGrEf19DG-j",
    "outputId": "4ea4bf51-b8bb-438e-c25d-324fe7e7aec9"
   },
   "outputs": [
    {
     "name": "stdout",
     "output_type": "stream",
     "text": [
      "<class 'pandas.core.frame.DataFrame'>\n",
      "Int64Index: 23614 entries, 0 to 23698\n",
      "Data columns (total 22 columns):\n",
      "total_images            23614 non-null int64\n",
      "last_price              23614 non-null float64\n",
      "total_area              23614 non-null float64\n",
      "first_day_exposition    23614 non-null object\n",
      "rooms                   23614 non-null int64\n",
      "ceiling_height          23614 non-null float64\n",
      "floors_total            23528 non-null float64\n",
      "living_area             23614 non-null float64\n",
      "floor                   23614 non-null int64\n",
      "is_apartment            23614 non-null bool\n",
      "studio                  23614 non-null bool\n",
      "open_plan               23614 non-null bool\n",
      "kitchen_area            23614 non-null float64\n",
      "balcony                 23614 non-null float64\n",
      "locality_name           23565 non-null object\n",
      "airports_nearest        18098 non-null float64\n",
      "cityCenters_nearest     18121 non-null float64\n",
      "parks_around3000        23614 non-null float64\n",
      "parks_nearest           8052 non-null float64\n",
      "ponds_around3000        23614 non-null float64\n",
      "ponds_nearest           9082 non-null float64\n",
      "days_exposition         20445 non-null float64\n",
      "dtypes: bool(3), float64(14), int64(3), object(2)\n",
      "memory usage: 3.5+ MB\n"
     ]
    }
   ],
   "source": [
    "data.info()"
   ]
  },
  {
   "cell_type": "markdown",
   "metadata": {
    "id": "5tHOtlTIDG-k"
   },
   "source": [
    "Переведем данные столбца с датой объявления в формат даты и округлим до дня публикации."
   ]
  },
  {
   "cell_type": "code",
   "execution_count": 43,
   "metadata": {
    "colab": {
     "base_uri": "https://localhost:8080/"
    },
    "id": "qQ6ENBzoDG-k",
    "outputId": "f9f2ee80-e882-4fc1-b6bc-a1b46b827335"
   },
   "outputs": [
    {
     "data": {
      "text/plain": [
       "array(['2019-03-07T00:00:00', '2018-12-04T00:00:00',\n",
       "       '2015-08-20T00:00:00', ..., '2014-12-29T00:00:00',\n",
       "       '2016-09-12T00:00:00', '2015-07-19T00:00:00'], dtype=object)"
      ]
     },
     "execution_count": 43,
     "metadata": {},
     "output_type": "execute_result"
    }
   ],
   "source": [
    "data['first_day_exposition'].unique()"
   ]
  },
  {
   "cell_type": "code",
   "execution_count": 44,
   "metadata": {
    "colab": {
     "base_uri": "https://localhost:8080/"
    },
    "id": "HT4rgpPLDG-k",
    "outputId": "6d4d453a-c173-4df8-eeda-891c2aa47aff"
   },
   "outputs": [
    {
     "data": {
      "text/plain": [
       "0       2019-03-07\n",
       "1       2018-12-04\n",
       "2       2015-08-20\n",
       "3       2015-07-24\n",
       "4       2018-06-19\n",
       "5       2018-09-10\n",
       "6       2017-11-02\n",
       "7       2019-04-18\n",
       "8       2018-05-23\n",
       "9       2017-02-26\n",
       "10      2017-11-16\n",
       "11      2018-08-27\n",
       "12      2016-06-30\n",
       "13      2017-07-01\n",
       "14      2016-06-23\n",
       "15      2017-11-18\n",
       "16      2017-11-23\n",
       "17      2016-09-09\n",
       "18      2017-01-27\n",
       "19      2019-01-09\n",
       "20      2017-09-28\n",
       "21      2018-03-14\n",
       "22      2017-04-24\n",
       "23      2016-10-29\n",
       "24      2015-10-31\n",
       "25      2015-10-01\n",
       "26      2017-04-28\n",
       "27      2017-05-12\n",
       "28      2017-12-13\n",
       "29      2016-04-09\n",
       "           ...    \n",
       "23669   2017-11-10\n",
       "23670   2018-02-08\n",
       "23671   2017-04-14\n",
       "23672   2016-06-08\n",
       "23673   2018-03-19\n",
       "23674   2019-03-05\n",
       "23675   2016-10-03\n",
       "23676   2016-06-08\n",
       "23677   2018-10-26\n",
       "23678   2016-05-19\n",
       "23679   2017-12-08\n",
       "23680   2019-04-04\n",
       "23681   2018-05-11\n",
       "23682   2016-06-23\n",
       "23683   2018-09-18\n",
       "23684   2018-11-02\n",
       "23685   2019-01-24\n",
       "23686   2017-04-29\n",
       "23687   2017-12-16\n",
       "23688   2019-04-01\n",
       "23689   2018-02-28\n",
       "23690   2018-07-19\n",
       "23691   2016-10-13\n",
       "23692   2017-07-07\n",
       "23693   2016-08-05\n",
       "23694   2017-03-21\n",
       "23695   2018-01-15\n",
       "23696   2018-02-11\n",
       "23697   2017-03-28\n",
       "23698   2017-07-21\n",
       "Name: first_day_exposition, Length: 23614, dtype: datetime64[ns]"
      ]
     },
     "execution_count": 44,
     "metadata": {},
     "output_type": "execute_result"
    }
   ],
   "source": [
    "data['first_day_exposition'] = pd.to_datetime(data['first_day_exposition'], format = '%Y-%m-%d %H:%M:%S')\n",
    "data['first_day_exposition'] = data['first_day_exposition'].dt.round('1D')\n",
    "data['first_day_exposition']"
   ]
  },
  {
   "cell_type": "markdown",
   "metadata": {
    "id": "eWm7ASf9DG-l"
   },
   "source": [
    "Переведем в целые числа цену, количество балконов, парков и водоемов."
   ]
  },
  {
   "cell_type": "code",
   "execution_count": 45,
   "metadata": {
    "colab": {
     "base_uri": "https://localhost:8080/"
    },
    "id": "43x7FQd2DG-l",
    "outputId": "39d74dca-6fbc-4d53-8b91-56cf87e61e58"
   },
   "outputs": [
    {
     "data": {
      "text/plain": [
       "array([13000000,  3350000,  5196000, ...,  6151120, 21400000, 11475000],\n",
       "      dtype=int64)"
      ]
     },
     "execution_count": 45,
     "metadata": {},
     "output_type": "execute_result"
    }
   ],
   "source": [
    "data['last_price'] = data['last_price'].apply(lambda row: int(row))\n",
    "data['last_price'].unique()"
   ]
  },
  {
   "cell_type": "code",
   "execution_count": 46,
   "metadata": {
    "colab": {
     "base_uri": "https://localhost:8080/"
    },
    "id": "bm3kIkXLDG-l",
    "outputId": "f6144d82-ffdf-4b52-e7f3-d310ad0db2f1"
   },
   "outputs": [
    {
     "data": {
      "text/plain": [
       "array([0, 2, 1, 5, 4, 3], dtype=int64)"
      ]
     },
     "execution_count": 46,
     "metadata": {},
     "output_type": "execute_result"
    }
   ],
   "source": [
    "data['balcony'] = data['balcony'].apply(lambda row: int(row))\n",
    "data['balcony'].unique()"
   ]
  },
  {
   "cell_type": "code",
   "execution_count": 47,
   "metadata": {
    "colab": {
     "base_uri": "https://localhost:8080/"
    },
    "id": "caajbVQ3DG-m",
    "outputId": "94570dc5-dbe2-40ee-fbf5-d1072a17b9dc"
   },
   "outputs": [
    {
     "data": {
      "text/plain": [
       "array([1, 0, 2, 3], dtype=int64)"
      ]
     },
     "execution_count": 47,
     "metadata": {},
     "output_type": "execute_result"
    }
   ],
   "source": [
    "data['parks_around3000'] = data['parks_around3000'].apply(lambda row: int(row))\n",
    "data['parks_around3000'].unique()"
   ]
  },
  {
   "cell_type": "code",
   "execution_count": 48,
   "metadata": {
    "colab": {
     "base_uri": "https://localhost:8080/"
    },
    "id": "unhF4QaUDG-m",
    "outputId": "483428e9-9c17-46d4-f247-10255e3b1219",
    "scrolled": true
   },
   "outputs": [
    {
     "data": {
      "text/plain": [
       "array([2, 0, 3, 1], dtype=int64)"
      ]
     },
     "execution_count": 48,
     "metadata": {},
     "output_type": "execute_result"
    }
   ],
   "source": [
    "data['ponds_around3000'] = data['ponds_around3000'].apply(lambda row: int(row))\n",
    "data['ponds_around3000'].unique()"
   ]
  },
  {
   "cell_type": "markdown",
   "metadata": {
    "id": "5BSK4089DG-n"
   },
   "source": [
    "### Уникальные значения в названиях населенных пунктов."
   ]
  },
  {
   "cell_type": "code",
   "execution_count": 49,
   "metadata": {
    "colab": {
     "base_uri": "https://localhost:8080/"
    },
    "id": "J8_DdpXcDG-n",
    "outputId": "9fb03bd6-d6d5-45b5-a802-737f10bd1416"
   },
   "outputs": [
    {
     "data": {
      "text/plain": [
       "array(['Бокситогорск', 'Волосово', 'Волхов', 'Всеволожск', 'Выборг',\n",
       "       'Высоцк', 'Гатчина', 'Зеленогорск', 'Ивангород', 'Каменногорск',\n",
       "       'Кингисепп', 'Кириши', 'Кировск', 'Колпино', 'Коммунар',\n",
       "       'Красное Село', 'Кронштадт', 'Кудрово', 'Лодейное Поле',\n",
       "       'Ломоносов', 'Луга', 'Любань', 'Мурино', 'Никольское',\n",
       "       'Новая Ладога', 'Отрадное', 'Павловск', 'Петергоф', 'Пикалёво',\n",
       "       'Подпорожье', 'Приморск', 'Приозерск', 'Пушкин', 'Санкт-Петербург',\n",
       "       'Светогорск', 'Сертолово', 'Сестрорецк', 'Сланцы', 'Сосновый Бор',\n",
       "       'Сясьстрой', 'Тихвин', 'Тосно', 'Шлиссельбург',\n",
       "       'городской поселок Большая Ижора', 'городской поселок Янино-1',\n",
       "       'городской посёлок Будогощь', 'городской посёлок Виллози',\n",
       "       'городской посёлок Лесогорский', 'городской посёлок Мга',\n",
       "       'городской посёлок Назия', 'городской посёлок Новоселье',\n",
       "       'городской посёлок Павлово', 'городской посёлок Рощино',\n",
       "       'городской посёлок Свирьстрой', 'городской посёлок Советский',\n",
       "       'городской посёлок Фёдоровское', 'городской посёлок Янино-1',\n",
       "       'деревня Агалатово', 'деревня Аро', 'деревня Батово',\n",
       "       'деревня Бегуницы', 'деревня Белогорка', 'деревня Большая Вруда',\n",
       "       'деревня Большая Пустомержа', 'деревня Большие Колпаны',\n",
       "       'деревня Большое Рейзино', 'деревня Большой Сабск', 'деревня Бор',\n",
       "       'деревня Борисова Грива', 'деревня Ваганово', 'деревня Вартемяги',\n",
       "       'деревня Вахнова Кара', 'деревня Выскатка', 'деревня Гарболово',\n",
       "       'деревня Глинка', 'деревня Горбунки', 'деревня Гостилицы',\n",
       "       'деревня Заклинье', 'деревня Заневка', 'деревня Зимитицы',\n",
       "       'деревня Извара', 'деревня Иссад', 'деревня Калитино',\n",
       "       'деревня Кальтино', 'деревня Камышовка', 'деревня Каськово',\n",
       "       'деревня Келози', 'деревня Кипень', 'деревня Кисельня',\n",
       "       'деревня Колтуши', 'деревня Коркино', 'деревня Котлы',\n",
       "       'деревня Кривко', 'деревня Кудрово', 'деревня Кузьмолово',\n",
       "       'деревня Курковицы', 'деревня Куровицы', 'деревня Куттузи',\n",
       "       'деревня Лаврики', 'деревня Лаголово', 'деревня Лампово',\n",
       "       'деревня Лесколово', 'деревня Лопухинка', 'деревня Лупполово',\n",
       "       'деревня Малая Романовка', 'деревня Малое Верево',\n",
       "       'деревня Малое Карлино', 'деревня Малые Колпаны',\n",
       "       'деревня Мануйлово', 'деревня Меньково', 'деревня Мины',\n",
       "       'деревня Мистолово', 'деревня Ненимяки', 'деревня Нижние Осельки',\n",
       "       'деревня Нижняя', 'деревня Низино', 'деревня Новое Девяткино',\n",
       "       'деревня Новолисино', 'деревня Нурма', 'деревня Оржицы',\n",
       "       'деревня Парицы', 'деревня Пельгора', 'деревня Пеники',\n",
       "       'деревня Пижма', 'деревня Пикколово', 'деревня Пудомяги',\n",
       "       'деревня Пустынка', 'деревня Пчева', 'деревня Рабитицы',\n",
       "       'деревня Разбегаево', 'деревня Раздолье', 'деревня Разметелево',\n",
       "       'деревня Рапполово', 'деревня Реброво', 'деревня Русско',\n",
       "       'деревня Сижно', 'деревня Снегирёвка', 'деревня Старая',\n",
       "       'деревня Старая Пустошь', 'деревня Старое Хинколово',\n",
       "       'деревня Старополье', 'деревня Старосиверская',\n",
       "       'деревня Старые Бегуницы', 'деревня Суоранда',\n",
       "       'деревня Сяськелево', 'деревня Тарасово', 'деревня Терпилицы',\n",
       "       'деревня Тихковицы', 'деревня Тойворово', 'деревня Торосово',\n",
       "       'деревня Торошковичи', 'деревня Трубников Бор',\n",
       "       'деревня Фалилеево', 'деревня Фёдоровское', 'деревня Хапо-Ое',\n",
       "       'деревня Хязельки', 'деревня Чудской Бор', 'деревня Шпаньково',\n",
       "       'деревня Щеглово', 'деревня Юкки', 'деревня Ялгино',\n",
       "       'деревня Яльгелево', 'деревня Ям-Тесово',\n",
       "       'коттеджный поселок Кивеннапа Север', 'коттеджный поселок Счастье',\n",
       "       'коттеджный посёлок Лесное', 'поселок Аннино', 'поселок Барышево',\n",
       "       'поселок Бугры', 'поселок Возрождение', 'поселок Войсковицы',\n",
       "       'поселок Володарское', 'поселок Гаврилово', 'поселок Гарболово',\n",
       "       'поселок Гладкое', 'поселок Глажево', 'поселок Глебычево',\n",
       "       'поселок Гончарово', 'поселок Громово', 'поселок Дружноселье',\n",
       "       'поселок Елизаветино', 'поселок Жилгородок', 'поселок Жилпосёлок',\n",
       "       'поселок Житково', 'поселок Заводской', 'поселок Запорожское',\n",
       "       'поселок Зимитицы', 'поселок Ильичёво', 'поселок Калитино',\n",
       "       'поселок Каложицы', 'поселок Кингисеппский', 'поселок Кирпичное',\n",
       "       'поселок Кобралово', 'поселок Кобринское', 'поселок Коммунары',\n",
       "       'поселок Коробицыно', 'поселок Котельский',\n",
       "       'поселок Красная Долина', 'поселок Красносельское',\n",
       "       'поселок Лесное', 'поселок Лисий Нос', 'поселок Лукаши',\n",
       "       'поселок Любань', 'поселок Мельниково', 'поселок Мичуринское',\n",
       "       'поселок Молодцово', 'поселок Мурино', 'поселок Новый Свет',\n",
       "       'поселок Новый Учхоз', 'поселок Оредеж',\n",
       "       'поселок Пансионат Зелёный Бор', 'поселок Первомайское',\n",
       "       'поселок Перово', 'поселок Петровское', 'поселок Победа',\n",
       "       'поселок Поляны', 'поселок Почап', 'поселок Починок',\n",
       "       'поселок Пушное', 'поселок Пчевжа', 'поселок Рабитицы',\n",
       "       'поселок Романовка', 'поселок Ромашки', 'поселок Рябово',\n",
       "       'поселок Севастьяново', 'поселок Селезнёво', 'поселок Сельцо',\n",
       "       'поселок Семиозерье', 'поселок Семрино', 'поселок Серебрянский',\n",
       "       'поселок Совхозный', 'поселок Старая Малукса',\n",
       "       'поселок Стеклянный', 'поселок Сумино', 'поселок Суходолье',\n",
       "       'поселок Тельмана', 'поселок Терволово', 'поселок Торковичи',\n",
       "       'поселок Тёсово-4', 'поселок Углово', 'поселок Усть-Луга',\n",
       "       'поселок Ушаки', 'поселок Цвелодубово', 'поселок Цвылёво',\n",
       "       'поселок городского типа Большая Ижора',\n",
       "       'поселок городского типа Вырица',\n",
       "       'поселок городского типа Дружная Горка',\n",
       "       'поселок городского типа Дубровка',\n",
       "       'поселок городского типа Ефимовский',\n",
       "       'поселок городского типа Кондратьево',\n",
       "       'поселок городского типа Красный Бор',\n",
       "       'поселок городского типа Кузьмоловский',\n",
       "       'поселок городского типа Лебяжье',\n",
       "       'поселок городского типа Лесогорский',\n",
       "       'поселок городского типа Назия',\n",
       "       'поселок городского типа Никольский',\n",
       "       'поселок городского типа Приладожский',\n",
       "       'поселок городского типа Рахья', 'поселок городского типа Рощино',\n",
       "       'поселок городского типа Рябово',\n",
       "       'поселок городского типа Синявино',\n",
       "       'поселок городского типа Советский',\n",
       "       'поселок городского типа Токсово',\n",
       "       'поселок городского типа Форносово',\n",
       "       'поселок городского типа имени Свердлова',\n",
       "       'поселок станции Вещево', 'поселок станции Корнево',\n",
       "       'поселок станции Лужайка', 'поселок станции Приветнинское',\n",
       "       'посёлок Александровская', 'посёлок Алексеевка', 'посёлок Аннино',\n",
       "       'посёлок Белоостров', 'посёлок Бугры', 'посёлок Возрождение',\n",
       "       'посёлок Войскорово', 'посёлок Высокоключевой',\n",
       "       'посёлок Гаврилово', 'посёлок Дзержинского', 'посёлок Жилгородок',\n",
       "       'посёлок Ильичёво', 'посёлок Кикерино', 'посёлок Кобралово',\n",
       "       'посёлок Коробицыно', 'посёлок Левашово', 'посёлок Ленинское',\n",
       "       'посёлок Лисий Нос', 'посёлок Мельниково', 'посёлок Металлострой',\n",
       "       'посёлок Мичуринское', 'посёлок Молодёжное', 'посёлок Мурино',\n",
       "       'посёлок Мыза-Ивановка', 'посёлок Новогорелово',\n",
       "       'посёлок Новый Свет', 'посёлок Пансионат Зелёный Бор',\n",
       "       'посёлок Парголово', 'посёлок Перово', 'посёлок Песочный',\n",
       "       'посёлок Петро-Славянка', 'посёлок Петровское',\n",
       "       'посёлок Платформа 69-й километр', 'посёлок Плодовое',\n",
       "       'посёлок Плоское', 'посёлок Победа', 'посёлок Поляны',\n",
       "       'посёлок Понтонный', 'посёлок Пригородный', 'посёлок Пудость',\n",
       "       'посёлок Репино', 'посёлок Ропша', 'посёлок Сапёрное',\n",
       "       'посёлок Сапёрный', 'посёлок Сосново', 'посёлок Старая Малукса',\n",
       "       'посёлок Стеклянный', 'посёлок Стрельна', 'посёлок Суйда',\n",
       "       'посёлок Сумино', 'посёлок Тельмана', 'посёлок Терволово',\n",
       "       'посёлок Торфяное', 'посёлок Усть-Ижора', 'посёлок Усть-Луга',\n",
       "       'посёлок Форт Красная Горка', 'посёлок Шугозеро', 'посёлок Шушары',\n",
       "       'посёлок Щеглово', 'посёлок городского типа Важины',\n",
       "       'посёлок городского типа Вознесенье',\n",
       "       'посёлок городского типа Вырица',\n",
       "       'посёлок городского типа Красный Бор',\n",
       "       'посёлок городского типа Кузнечное',\n",
       "       'посёлок городского типа Кузьмоловский',\n",
       "       'посёлок городского типа Лебяжье', 'посёлок городского типа Мга',\n",
       "       'посёлок городского типа Павлово',\n",
       "       'посёлок городского типа Рощино', 'посёлок городского типа Рябово',\n",
       "       'посёлок городского типа Сиверский',\n",
       "       'посёлок городского типа Тайцы', 'посёлок городского типа Токсово',\n",
       "       'посёлок городского типа Ульяновка',\n",
       "       'посёлок городского типа Форносово',\n",
       "       'посёлок городского типа имени Морозова',\n",
       "       'посёлок городского типа имени Свердлова',\n",
       "       'посёлок при железнодорожной станции Вещево',\n",
       "       'посёлок при железнодорожной станции Приветнинское',\n",
       "       'посёлок станции Громово', 'посёлок станции Свирь',\n",
       "       'садоводческое некоммерческое товарищество Лесная Поляна',\n",
       "       'садовое товарищество Новая Ропша',\n",
       "       'садовое товарищество Приладожский', 'садовое товарищество Рахья',\n",
       "       'садовое товарищество Садко', 'село Копорье', 'село Никольское',\n",
       "       'село Павлово', 'село Паша', 'село Путилово', 'село Рождествено',\n",
       "       'село Русско-Высоцкое', 'село Старая Ладога', 'село Шум', nan],\n",
       "      dtype=object)"
      ]
     },
     "execution_count": 49,
     "metadata": {},
     "output_type": "execute_result"
    }
   ],
   "source": [
    "data.sort_values(by='locality_name')['locality_name'].unique()"
   ]
  },
  {
   "cell_type": "markdown",
   "metadata": {
    "id": "YFMof_Y3DG-o"
   },
   "source": [
    "Есть неявные дубликаты в названиях. Например, \"поселок\" и \"посёлок\", \"посёлок при железнодорожной станции\" и \"посёлок станции\", \"городской посёлок\" и \"посёлок городского типа\" это одно и тоже. Исправим."
   ]
  },
  {
   "cell_type": "code",
   "execution_count": 50,
   "metadata": {
    "colab": {
     "base_uri": "https://localhost:8080/"
    },
    "id": "ys-ABzItDG-o",
    "outputId": "0030e132-7a78-4071-e045-fa417d75c039"
   },
   "outputs": [
    {
     "data": {
      "text/plain": [
       "Санкт-Петербург                       15669\n",
       "посёлок Мурино                          552\n",
       "посёлок Шушары                          438\n",
       "Всеволожск                              395\n",
       "Пушкин                                  369\n",
       "Колпино                                 337\n",
       "посёлок Парголово                       326\n",
       "Гатчина                                 303\n",
       "деревня Кудрово                         299\n",
       "Выборг                                  236\n",
       "Петергоф                                200\n",
       "Сестрорецк                              182\n",
       "Красное Село                            177\n",
       "Кудрово                                 173\n",
       "деревня Новое Девяткино                 144\n",
       "Сертолово                               142\n",
       "Ломоносов                               133\n",
       "Кириши                                  125\n",
       "посёлок Бугры                           114\n",
       "Сланцы                                  112\n",
       "Волхов                                  111\n",
       "Тосно                                   104\n",
       "Кингисепп                               104\n",
       "Кронштадт                                96\n",
       "Никольское                               93\n",
       "Коммунар                                 88\n",
       "Сосновый Бор                             86\n",
       "Кировск                                  84\n",
       "Отрадное                                 80\n",
       "посёлок Металлострой                     66\n",
       "                                      ...  \n",
       "деревня Старое Хинколово                  1\n",
       "посёлок Володарское                       1\n",
       "деревня Большой Сабск                     1\n",
       "деревня Рапполово                         1\n",
       "деревня Сижно                             1\n",
       "посёлок Левашово                          1\n",
       "деревня Вахнова Кара                      1\n",
       "деревня Пустынка                          1\n",
       "деревня Большая Пустомержа                1\n",
       "посёлок Алексеевка                        1\n",
       "посёлок Жилпосёлок                        1\n",
       "деревня Новолисино                        1\n",
       "посёлок Каложицы                          1\n",
       "деревня Кисельня                          1\n",
       "посёлок Петро-Славянка                    1\n",
       "коттеджный посёлок Кивеннапа Север        1\n",
       "садовое товарищество Новая Ропша          1\n",
       "деревня Шпаньково                         1\n",
       "посёлок Шугозеро                          1\n",
       "село Никольское                           1\n",
       "посёлок Дзержинского                      1\n",
       "село Шум                                  1\n",
       "посёлок городского типа Свирьстрой        1\n",
       "посёлок Высокоключевой                    1\n",
       "деревня Пельгора                          1\n",
       "деревня Пижма                             1\n",
       "деревня Ялгино                            1\n",
       "посёлок Тёсово-4                          1\n",
       "деревня Кривко                            1\n",
       "посёлок Ромашки                           1\n",
       "Name: locality_name, Length: 322, dtype: int64"
      ]
     },
     "execution_count": 50,
     "metadata": {},
     "output_type": "execute_result"
    }
   ],
   "source": [
    "def replace_name(row):\n",
    "    try:\n",
    "        if 'поселок' in row:\n",
    "            return row.replace('поселок', 'посёлок')\n",
    "        elif 'посёлок при железнодорожной станции' in row:\n",
    "            return row.replace('посёлок при железнодорожной станции', 'посёлок станции')\n",
    "        elif 'городской посёлок' in row:\n",
    "            return row.replace('городской посёлок', 'посёлок городского типа')     \n",
    "        elif 'коттеджный посёлок' in row:\n",
    "            return row.replace('коттеджный посёлок', 'посёлок')\n",
    "        else:\n",
    "            return row\n",
    "    except:\n",
    "        return row\n",
    "\n",
    "data['locality_name'] = data['locality_name'].apply(replace_name)\n",
    "data['locality_name'].value_counts()"
   ]
  },
  {
   "cell_type": "markdown",
   "metadata": {
    "id": "DvIaNep1DG-p"
   },
   "source": [
    "### Аномалии"
   ]
  },
  {
   "cell_type": "markdown",
   "metadata": {
    "id": "DqyuqsEvDG-p"
   },
   "source": [
    "У нас были аномалии в колонке с высотой потолков. Некоторые значения написали с ошибкой(не там поставили разделитель), также было значение, которое написали не в тот столбец(скорее всего 14 означал этаж, а не высоту потолка).\n",
    "При заполнении пустых значений в площади, в некоторых строках получилось так, что сумма площади кухни и жилой площади больше общей. Такого быть не может, поэтому мы удалили эти строки."
   ]
  },
  {
   "cell_type": "markdown",
   "metadata": {
    "id": "dDrL-BA0DG-q"
   },
   "source": [
    "## Добавление новых столбцов"
   ]
  },
  {
   "cell_type": "markdown",
   "metadata": {
    "id": "opt7PYK3DG-q"
   },
   "source": [
    "**Цена одного квадратного метра.**"
   ]
  },
  {
   "cell_type": "code",
   "execution_count": 51,
   "metadata": {
    "colab": {
     "base_uri": "https://localhost:8080/"
    },
    "id": "71e7xOu6DG-r",
    "outputId": "eb42004f-3651-4c09-ddd0-8401832adf89"
   },
   "outputs": [
    {
     "data": {
      "text/plain": [
       "0        120370.37\n",
       "1         82920.79\n",
       "2         92785.71\n",
       "3        408176.10\n",
       "4        100000.00\n",
       "5         95065.79\n",
       "6         99195.71\n",
       "7        110544.69\n",
       "8         87454.76\n",
       "9         88524.59\n",
       "10       127525.25\n",
       "11        75000.00\n",
       "12        72037.04\n",
       "13        82943.93\n",
       "14       122222.22\n",
       "15       119230.77\n",
       "16        81707.32\n",
       "17       116111.11\n",
       "18       104838.71\n",
       "19       117355.37\n",
       "20        76500.00\n",
       "21       101265.82\n",
       "22        86206.90\n",
       "23        92187.50\n",
       "24        66872.43\n",
       "25        89473.68\n",
       "26        67500.00\n",
       "27       101428.57\n",
       "28        94772.73\n",
       "29        86000.00\n",
       "           ...    \n",
       "23669     87976.54\n",
       "23670     53728.07\n",
       "23671     97733.71\n",
       "23672     97402.60\n",
       "23673    134782.61\n",
       "23674    106250.00\n",
       "23675     89873.42\n",
       "23676     97527.47\n",
       "23677     70000.00\n",
       "23678     81395.35\n",
       "23679     71428.57\n",
       "23680     84745.76\n",
       "23681    122093.02\n",
       "23682     66011.24\n",
       "23683     33439.49\n",
       "23684    147586.21\n",
       "23685     80322.58\n",
       "23686    106451.61\n",
       "23687     82051.28\n",
       "23688     91089.11\n",
       "23689    100566.57\n",
       "23690    105769.23\n",
       "23691    129903.98\n",
       "23692     45000.00\n",
       "23693     73717.95\n",
       "23694     72490.85\n",
       "23695     52542.37\n",
       "23696     44091.71\n",
       "23697    149511.40\n",
       "23698     41795.67\n",
       "Name: price_square_m, Length: 23614, dtype: float64"
      ]
     },
     "execution_count": 51,
     "metadata": {},
     "output_type": "execute_result"
    }
   ],
   "source": [
    "data['price_square_m'] = (data['last_price'] / data['total_area']).round(2)\n",
    "data['price_square_m']"
   ]
  },
  {
   "cell_type": "markdown",
   "metadata": {
    "id": "thqBINVsDG-r"
   },
   "source": [
    "**День, месяц и год публикации.**"
   ]
  },
  {
   "cell_type": "code",
   "execution_count": 52,
   "metadata": {
    "colab": {
     "base_uri": "https://localhost:8080/"
    },
    "id": "baQ6QH71DG-r",
    "outputId": "394ddd89-f15f-49d9-deae-e5041fb8bc87"
   },
   "outputs": [
    {
     "data": {
      "text/plain": [
       "0        3\n",
       "1        1\n",
       "2        3\n",
       "3        4\n",
       "4        1\n",
       "5        0\n",
       "6        3\n",
       "7        3\n",
       "8        2\n",
       "9        6\n",
       "10       3\n",
       "11       0\n",
       "12       3\n",
       "13       5\n",
       "14       3\n",
       "15       5\n",
       "16       3\n",
       "17       4\n",
       "18       4\n",
       "19       2\n",
       "20       3\n",
       "21       2\n",
       "22       0\n",
       "23       5\n",
       "24       5\n",
       "25       3\n",
       "26       4\n",
       "27       4\n",
       "28       2\n",
       "29       5\n",
       "        ..\n",
       "23669    4\n",
       "23670    3\n",
       "23671    4\n",
       "23672    2\n",
       "23673    0\n",
       "23674    1\n",
       "23675    0\n",
       "23676    2\n",
       "23677    4\n",
       "23678    3\n",
       "23679    4\n",
       "23680    3\n",
       "23681    4\n",
       "23682    3\n",
       "23683    1\n",
       "23684    4\n",
       "23685    3\n",
       "23686    5\n",
       "23687    5\n",
       "23688    0\n",
       "23689    2\n",
       "23690    3\n",
       "23691    3\n",
       "23692    4\n",
       "23693    4\n",
       "23694    1\n",
       "23695    0\n",
       "23696    6\n",
       "23697    1\n",
       "23698    4\n",
       "Name: weekday, Length: 23614, dtype: int64"
      ]
     },
     "execution_count": 52,
     "metadata": {},
     "output_type": "execute_result"
    }
   ],
   "source": [
    "data['weekday'] = data['first_day_exposition'].dt.weekday\n",
    "data['weekday']"
   ]
  },
  {
   "cell_type": "code",
   "execution_count": 53,
   "metadata": {
    "colab": {
     "base_uri": "https://localhost:8080/"
    },
    "id": "U-B8bsgKDG-s",
    "outputId": "dba4a051-8498-4ee8-c270-2d9839719447"
   },
   "outputs": [
    {
     "data": {
      "text/plain": [
       "0         3\n",
       "1        12\n",
       "2         8\n",
       "3         7\n",
       "4         6\n",
       "5         9\n",
       "6        11\n",
       "7         4\n",
       "8         5\n",
       "9         2\n",
       "10       11\n",
       "11        8\n",
       "12        6\n",
       "13        7\n",
       "14        6\n",
       "15       11\n",
       "16       11\n",
       "17        9\n",
       "18        1\n",
       "19        1\n",
       "20        9\n",
       "21        3\n",
       "22        4\n",
       "23       10\n",
       "24       10\n",
       "25       10\n",
       "26        4\n",
       "27        5\n",
       "28       12\n",
       "29        4\n",
       "         ..\n",
       "23669    11\n",
       "23670     2\n",
       "23671     4\n",
       "23672     6\n",
       "23673     3\n",
       "23674     3\n",
       "23675    10\n",
       "23676     6\n",
       "23677    10\n",
       "23678     5\n",
       "23679    12\n",
       "23680     4\n",
       "23681     5\n",
       "23682     6\n",
       "23683     9\n",
       "23684    11\n",
       "23685     1\n",
       "23686     4\n",
       "23687    12\n",
       "23688     4\n",
       "23689     2\n",
       "23690     7\n",
       "23691    10\n",
       "23692     7\n",
       "23693     8\n",
       "23694     3\n",
       "23695     1\n",
       "23696     2\n",
       "23697     3\n",
       "23698     7\n",
       "Name: month_of_publication, Length: 23614, dtype: int64"
      ]
     },
     "execution_count": 53,
     "metadata": {},
     "output_type": "execute_result"
    }
   ],
   "source": [
    "data['month_of_publication'] = data['first_day_exposition'].dt.month\n",
    "data['month_of_publication']"
   ]
  },
  {
   "cell_type": "code",
   "execution_count": 54,
   "metadata": {
    "colab": {
     "base_uri": "https://localhost:8080/"
    },
    "id": "s1YSCU72DG-s",
    "outputId": "27c61c6e-89fd-44cb-b63a-6be22645a7b1"
   },
   "outputs": [
    {
     "data": {
      "text/plain": [
       "0        2019\n",
       "1        2018\n",
       "2        2015\n",
       "3        2015\n",
       "4        2018\n",
       "5        2018\n",
       "6        2017\n",
       "7        2019\n",
       "8        2018\n",
       "9        2017\n",
       "10       2017\n",
       "11       2018\n",
       "12       2016\n",
       "13       2017\n",
       "14       2016\n",
       "15       2017\n",
       "16       2017\n",
       "17       2016\n",
       "18       2017\n",
       "19       2019\n",
       "20       2017\n",
       "21       2018\n",
       "22       2017\n",
       "23       2016\n",
       "24       2015\n",
       "25       2015\n",
       "26       2017\n",
       "27       2017\n",
       "28       2017\n",
       "29       2016\n",
       "         ... \n",
       "23669    2017\n",
       "23670    2018\n",
       "23671    2017\n",
       "23672    2016\n",
       "23673    2018\n",
       "23674    2019\n",
       "23675    2016\n",
       "23676    2016\n",
       "23677    2018\n",
       "23678    2016\n",
       "23679    2017\n",
       "23680    2019\n",
       "23681    2018\n",
       "23682    2016\n",
       "23683    2018\n",
       "23684    2018\n",
       "23685    2019\n",
       "23686    2017\n",
       "23687    2017\n",
       "23688    2019\n",
       "23689    2018\n",
       "23690    2018\n",
       "23691    2016\n",
       "23692    2017\n",
       "23693    2016\n",
       "23694    2017\n",
       "23695    2018\n",
       "23696    2018\n",
       "23697    2017\n",
       "23698    2017\n",
       "Name: year_of_publication, Length: 23614, dtype: int64"
      ]
     },
     "execution_count": 54,
     "metadata": {},
     "output_type": "execute_result"
    }
   ],
   "source": [
    "data['year_of_publication'] = data['first_day_exposition'].dt.year\n",
    "data['year_of_publication']"
   ]
  },
  {
   "cell_type": "markdown",
   "metadata": {
    "id": "Pjg2NeEPDG-s"
   },
   "source": [
    "**Тип этажа квартиры.**"
   ]
  },
  {
   "cell_type": "code",
   "execution_count": 55,
   "metadata": {
    "colab": {
     "base_uri": "https://localhost:8080/",
     "height": 363
    },
    "id": "q4NLPWyBDG-s",
    "outputId": "b334483e-3533-4093-c69c-b08c8d179dad"
   },
   "outputs": [
    {
     "data": {
      "text/html": [
       "<div>\n",
       "<style scoped>\n",
       "    .dataframe tbody tr th:only-of-type {\n",
       "        vertical-align: middle;\n",
       "    }\n",
       "\n",
       "    .dataframe tbody tr th {\n",
       "        vertical-align: top;\n",
       "    }\n",
       "\n",
       "    .dataframe thead th {\n",
       "        text-align: right;\n",
       "    }\n",
       "</style>\n",
       "<table border=\"1\" class=\"dataframe\">\n",
       "  <thead>\n",
       "    <tr style=\"text-align: right;\">\n",
       "      <th></th>\n",
       "      <th>type_floor</th>\n",
       "      <th>floor</th>\n",
       "      <th>floors_total</th>\n",
       "    </tr>\n",
       "  </thead>\n",
       "  <tbody>\n",
       "    <tr>\n",
       "      <th>15</th>\n",
       "      <td>другие</td>\n",
       "      <td>5</td>\n",
       "      <td>14.0</td>\n",
       "    </tr>\n",
       "    <tr>\n",
       "      <th>16</th>\n",
       "      <td>первый</td>\n",
       "      <td>1</td>\n",
       "      <td>5.0</td>\n",
       "    </tr>\n",
       "    <tr>\n",
       "      <th>17</th>\n",
       "      <td>другие</td>\n",
       "      <td>7</td>\n",
       "      <td>17.0</td>\n",
       "    </tr>\n",
       "    <tr>\n",
       "      <th>18</th>\n",
       "      <td>другие</td>\n",
       "      <td>2</td>\n",
       "      <td>5.0</td>\n",
       "    </tr>\n",
       "    <tr>\n",
       "      <th>19</th>\n",
       "      <td>другие</td>\n",
       "      <td>8</td>\n",
       "      <td>16.0</td>\n",
       "    </tr>\n",
       "    <tr>\n",
       "      <th>20</th>\n",
       "      <td>другие</td>\n",
       "      <td>11</td>\n",
       "      <td>27.0</td>\n",
       "    </tr>\n",
       "    <tr>\n",
       "      <th>21</th>\n",
       "      <td>другие</td>\n",
       "      <td>2</td>\n",
       "      <td>5.0</td>\n",
       "    </tr>\n",
       "    <tr>\n",
       "      <th>22</th>\n",
       "      <td>другие</td>\n",
       "      <td>15</td>\n",
       "      <td>25.0</td>\n",
       "    </tr>\n",
       "    <tr>\n",
       "      <th>23</th>\n",
       "      <td>последний</td>\n",
       "      <td>9</td>\n",
       "      <td>9.0</td>\n",
       "    </tr>\n",
       "    <tr>\n",
       "      <th>24</th>\n",
       "      <td>первый</td>\n",
       "      <td>1</td>\n",
       "      <td>3.0</td>\n",
       "    </tr>\n",
       "  </tbody>\n",
       "</table>\n",
       "</div>"
      ],
      "text/plain": [
       "   type_floor  floor  floors_total\n",
       "15     другие      5          14.0\n",
       "16     первый      1           5.0\n",
       "17     другие      7          17.0\n",
       "18     другие      2           5.0\n",
       "19     другие      8          16.0\n",
       "20     другие     11          27.0\n",
       "21     другие      2           5.0\n",
       "22     другие     15          25.0\n",
       "23  последний      9           9.0\n",
       "24     первый      1           3.0"
      ]
     },
     "execution_count": 55,
     "metadata": {},
     "output_type": "execute_result"
    }
   ],
   "source": [
    "type_floor = []\n",
    "for i in range(len(data['floor'])):\n",
    "    try:\n",
    "        if data['floor'][i] == 1:\n",
    "            type_floor.append('первый')\n",
    "        elif data['floor'][i] == data['floors_total'][i]:\n",
    "            type_floor.append('последний')\n",
    "        else:\n",
    "            type_floor.append('другие')\n",
    "    except:\n",
    "        type_floor.append(None)\n",
    "data['type_floor'] = type_floor\n",
    "data[['type_floor', 'floor','floors_total']][15:25]"
   ]
  },
  {
   "cell_type": "markdown",
   "metadata": {
    "id": "ZQTJaT6kDG-t"
   },
   "source": [
    "**Расстояние до центра города в км.**"
   ]
  },
  {
   "cell_type": "code",
   "execution_count": 56,
   "metadata": {
    "colab": {
     "base_uri": "https://localhost:8080/"
    },
    "id": "agJQRC33DG-t",
    "outputId": "f63fee6a-b4aa-47a6-8ac0-6bba05d7e799",
    "scrolled": true
   },
   "outputs": [
    {
     "data": {
      "text/plain": [
       "0        16.0\n",
       "1        19.0\n",
       "2        14.0\n",
       "3         7.0\n",
       "4         8.0\n",
       "5         NaN\n",
       "6        19.0\n",
       "7        12.0\n",
       "8         NaN\n",
       "9        15.0\n",
       "10       14.0\n",
       "11       52.0\n",
       "12        NaN\n",
       "13       33.0\n",
       "14       31.0\n",
       "15       14.0\n",
       "16       11.0\n",
       "17       15.0\n",
       "18       11.0\n",
       "19       13.0\n",
       "20       19.0\n",
       "21       10.0\n",
       "22        NaN\n",
       "23       14.0\n",
       "24        2.0\n",
       "25       15.0\n",
       "26       11.0\n",
       "27       11.0\n",
       "28       31.0\n",
       "29       12.0\n",
       "         ... \n",
       "23669    30.0\n",
       "23670     NaN\n",
       "23671    15.0\n",
       "23672    14.0\n",
       "23673    12.0\n",
       "23674     9.0\n",
       "23675    15.0\n",
       "23676    12.0\n",
       "23677     NaN\n",
       "23678    28.0\n",
       "23679     NaN\n",
       "23680    12.0\n",
       "23681     7.0\n",
       "23682     NaN\n",
       "23683     NaN\n",
       "23684    11.0\n",
       "23685    52.0\n",
       "23686    12.0\n",
       "23687    17.0\n",
       "23688    14.0\n",
       "23689    16.0\n",
       "23690     6.0\n",
       "23691     4.0\n",
       "23692     NaN\n",
       "23693    34.0\n",
       "23694     4.0\n",
       "23695     NaN\n",
       "23696     NaN\n",
       "23697    10.0\n",
       "23698     NaN\n",
       "Name: cityCenter_km, Length: 23614, dtype: float64"
      ]
     },
     "execution_count": 56,
     "metadata": {},
     "output_type": "execute_result"
    }
   ],
   "source": [
    "import math\n",
    "def to_km(row):\n",
    "    try:\n",
    "        return round(row / 1000)\n",
    "    except:\n",
    "        return row\n",
    "\n",
    "data['cityCenter_km'] = data['cityCenters_nearest'].apply(to_km)\n",
    "data['cityCenter_km']"
   ]
  },
  {
   "cell_type": "markdown",
   "metadata": {
    "id": "kkXanXdRDG-u"
   },
   "source": [
    "## Проведем исследовательский анализ данных"
   ]
  },
  {
   "cell_type": "markdown",
   "metadata": {
    "id": "PhB5rkUZDG-u"
   },
   "source": [
    "### Построим гистограммы для некоторых колонок"
   ]
  },
  {
   "cell_type": "markdown",
   "metadata": {
    "id": "OKq-Hd-PDG-u"
   },
   "source": [
    "**Общая площадь, жилая площадь, площадь кухни.**"
   ]
  },
  {
   "cell_type": "code",
   "execution_count": 57,
   "metadata": {
    "colab": {
     "base_uri": "https://localhost:8080/",
     "height": 545
    },
    "id": "YncclnfVDG-v",
    "outputId": "fa1043bf-7a54-489e-e844-18ef2fa9f58f"
   },
   "outputs": [
    {
     "data": {
      "image/png": "[encoded data removed]",
      "text/plain": [
       "<Figure size 432x288 with 1 Axes>"
      ]
     },
     "metadata": {
      "needs_background": "light"
     },
     "output_type": "display_data"
    },
    {
     "data": {
      "image/png": "[encoded data removed]",
      "text/plain": [
       "<Figure size 432x288 with 1 Axes>"
      ]
     },
     "metadata": {
      "needs_background": "light"
     },
     "output_type": "display_data"
    }
   ],
   "source": [
    "rows = ['total_area', 'living_area']\n",
    "\n",
    "for row in data[rows]:\n",
    "    data.plot(kind='hist', y=row, title=row, range=(0, 150), bins=50)"
   ]
  },
  {
   "cell_type": "code",
   "execution_count": 58,
   "metadata": {
    "colab": {
     "base_uri": "https://localhost:8080/",
     "height": 283
    },
    "id": "caRrmAYsDG-v",
    "outputId": "a0a2e5bf-eaa7-4dc2-ebcf-5defbe79fa5c"
   },
   "outputs": [
    {
     "data": {
      "text/plain": [
       "<matplotlib.axes._subplots.AxesSubplot at 0xe4b1d50>"
      ]
     },
     "execution_count": 58,
     "metadata": {},
     "output_type": "execute_result"
    },
    {
     "data": {
      "image/png": "[encoded data removed]",
      "text/plain": [
       "<Figure size 432x288 with 1 Axes>"
      ]
     },
     "metadata": {
      "needs_background": "light"
     },
     "output_type": "display_data"
    }
   ],
   "source": [
    "data.plot(kind='hist', y='kitchen_area', range=(0, 40), bins=50)"
   ]
  },
  {
   "cell_type": "markdown",
   "metadata": {
    "id": "JM5QwCZbDG-v"
   },
   "source": [
    "Из графиков видно, что чаще всего встречаются квартиры с общей площадью 50 $м^2$, жилой площадью 18 $м^2$, площадью кухни 6 $м^2$."
   ]
  },
  {
   "cell_type": "markdown",
   "metadata": {
    "id": "PXcBQZUdDG-w"
   },
   "source": [
    "**Цена объекта.**"
   ]
  },
  {
   "cell_type": "code",
   "execution_count": 59,
   "metadata": {
    "colab": {
     "base_uri": "https://localhost:8080/",
     "height": 295
    },
    "id": "bVVkaxnrDG-w",
    "outputId": "5eab21bb-7f78-4298-f2b9-c87361fadfd4"
   },
   "outputs": [
    {
     "data": {
      "text/plain": [
       "<matplotlib.axes._subplots.AxesSubplot at 0x5118630>"
      ]
     },
     "execution_count": 59,
     "metadata": {},
     "output_type": "execute_result"
    },
    {
     "data": {
      "image/png": "[encoded data removed]",
      "text/plain": [
       "<Figure size 432x288 with 1 Axes>"
      ]
     },
     "metadata": {
      "needs_background": "light"
     },
     "output_type": "display_data"
    }
   ],
   "source": [
    "data.plot(kind='hist', y='last_price', range=(0, 20_000_000), bins=50)"
   ]
  },
  {
   "cell_type": "markdown",
   "metadata": {
    "id": "qRRijp1rDG-x"
   },
   "source": [
    "Видно, что более 2 000 объявлений со стоимостью квартир 4,5 млн."
   ]
  },
  {
   "cell_type": "markdown",
   "metadata": {
    "id": "ElK5OmRLDG-x"
   },
   "source": [
    "**Количество комнат.**"
   ]
  },
  {
   "cell_type": "code",
   "execution_count": 60,
   "metadata": {
    "colab": {
     "base_uri": "https://localhost:8080/",
     "height": 298
    },
    "id": "MMhChrm4DG-x",
    "outputId": "a5f8ef23-e6d8-45fd-959f-7b0f0de93776"
   },
   "outputs": [
    {
     "data": {
      "text/plain": [
       "<matplotlib.axes._subplots.AxesSubplot at 0x109f8c30>"
      ]
     },
     "execution_count": 60,
     "metadata": {},
     "output_type": "execute_result"
    },
    {
     "data": {
      "image/png": "[encoded data removed]",
      "text/plain": [
       "<Figure size 432x288 with 1 Axes>"
      ]
     },
     "metadata": {
      "needs_background": "light"
     },
     "output_type": "display_data"
    }
   ],
   "source": [
    "data.plot(kind='hist', y='rooms', title='Количество комнат', range=(0, 9), bins=18)"
   ]
  },
  {
   "cell_type": "markdown",
   "metadata": {
    "id": "jEEzCWaODG-y"
   },
   "source": [
    "Больше всего в датасете однокомнатных квартир, чуть меньше двухкомнатных."
   ]
  },
  {
   "cell_type": "markdown",
   "metadata": {
    "id": "_AZmXcS0DG-y"
   },
   "source": [
    "**Высота потолков.**"
   ]
  },
  {
   "cell_type": "code",
   "execution_count": 61,
   "metadata": {
    "colab": {
     "base_uri": "https://localhost:8080/",
     "height": 298
    },
    "id": "Z31DfFxoDG-y",
    "outputId": "0d4d9250-ebb4-48e4-d8b0-690afcbc052c"
   },
   "outputs": [
    {
     "data": {
      "text/plain": [
       "<matplotlib.axes._subplots.AxesSubplot at 0x109f8170>"
      ]
     },
     "execution_count": 61,
     "metadata": {},
     "output_type": "execute_result"
    },
    {
     "data": {
      "image/png": "[encoded data removed]",
      "text/plain": [
       "<Figure size 432x288 with 1 Axes>"
      ]
     },
     "metadata": {
      "needs_background": "light"
     },
     "output_type": "display_data"
    }
   ],
   "source": [
    "data.plot(kind='hist', y='ceiling_height', title='Высота потолков', range=(0, 5), bins=25)"
   ]
  },
  {
   "cell_type": "markdown",
   "metadata": {
    "id": "kGV3giQADG-z"
   },
   "source": [
    "Самая распространенная высота потолка 2.6"
   ]
  },
  {
   "cell_type": "markdown",
   "metadata": {
    "id": "HHBmcAo2DG-z"
   },
   "source": [
    "**Этаж квартиры и всего этажей в здании.**"
   ]
  },
  {
   "cell_type": "code",
   "execution_count": 62,
   "metadata": {
    "colab": {
     "base_uri": "https://localhost:8080/",
     "height": 284
    },
    "id": "q6qafiAADG-z",
    "outputId": "e1a2fa65-a436-46f7-cdc0-a656f9bddc54"
   },
   "outputs": [
    {
     "data": {
      "text/plain": [
       "<matplotlib.axes._subplots.AxesSubplot at 0x1548d8d0>"
      ]
     },
     "execution_count": 62,
     "metadata": {},
     "output_type": "execute_result"
    },
    {
     "data": {
      "image/png": "[encoded data removed]",
      "text/plain": [
       "<Figure size 432x288 with 1 Axes>"
      ]
     },
     "metadata": {
      "needs_background": "light"
     },
     "output_type": "display_data"
    }
   ],
   "source": [
    "ax = data.plot(kind='hist', y='floor', histtype='step', range=(0, 28), bins=25)\n",
    "data.plot(kind='hist', y='floors_total', histtype='step', range=(0, 28), bins=25, ax=ax, legend=True)"
   ]
  },
  {
   "cell_type": "markdown",
   "metadata": {
    "id": "Pw7UrojSDG-1"
   },
   "source": [
    "Из графика видно, что больше всего квартир находятся на первых пяти этажах. Чаще всего встречаются квартиры в пятиэтажных домах, чуть меньше объявлений о продаже квартир в девятиэтажках. "
   ]
  },
  {
   "cell_type": "markdown",
   "metadata": {
    "id": "1XBggK_UDG-1"
   },
   "source": [
    "**Тип этажа квартиры.**"
   ]
  },
  {
   "cell_type": "code",
   "execution_count": 63,
   "metadata": {
    "colab": {
     "base_uri": "https://localhost:8080/",
     "height": 282
    },
    "id": "9wacujXADG-2",
    "outputId": "9b569bcb-33c6-40a6-d5e0-701eb9ffc6ab"
   },
   "outputs": [
    {
     "data": {
      "text/plain": [
       "<BarContainer object of 3 artists>"
      ]
     },
     "execution_count": 63,
     "metadata": {},
     "output_type": "execute_result"
    },
    {
     "data": {
      "image/png": "[encoded data removed]",
      "text/plain": [
       "<Figure size 432x288 with 1 Axes>"
      ]
     },
     "metadata": {
      "needs_background": "light"
     },
     "output_type": "display_data"
    }
   ],
   "source": [
    "type_floor_count = data['type_floor'].value_counts()\n",
    "plt.bar(type_floor_count.index, type_floor_count.values)"
   ]
  },
  {
   "cell_type": "markdown",
   "metadata": {
    "id": "Ut0CC7ODDG-2"
   },
   "source": [
    "Логично, что категория этажей \"другие\" наибольшая. Квартир на последнем этаже не намного больше чем на первом. "
   ]
  },
  {
   "cell_type": "markdown",
   "metadata": {
    "id": "X6ZWS45DDG-2"
   },
   "source": [
    "**Расстояние до центра города, парка, аэропорта в метрах.**"
   ]
  },
  {
   "cell_type": "code",
   "execution_count": 64,
   "metadata": {
    "colab": {
     "base_uri": "https://localhost:8080/",
     "height": 282
    },
    "id": "Slsc1d8ODG-3",
    "outputId": "6c4ff6bb-113b-4997-bdd2-2ce733f63add"
   },
   "outputs": [
    {
     "data": {
      "text/plain": [
       "<matplotlib.axes._subplots.AxesSubplot at 0x15679d10>"
      ]
     },
     "execution_count": 64,
     "metadata": {},
     "output_type": "execute_result"
    },
    {
     "data": {
      "image/png": "[encoded data removed]",
      "text/plain": [
       "<Figure size 432x288 with 1 Axes>"
      ]
     },
     "metadata": {
      "needs_background": "light"
     },
     "output_type": "display_data"
    }
   ],
   "source": [
    "areas = ['cityCenters_nearest', 'airports_nearest', 'parks_nearest']\n",
    "data.plot(kind='hist', y=areas, alpha=0.7, histtype='step', linewidth=5, range=(0, 60_000))"
   ]
  },
  {
   "cell_type": "markdown",
   "metadata": {
    "id": "7lQiPm47DG-3"
   },
   "source": [
    "Данные о расстоянии до ближайшего парка у нас есть, в основном, только до 3 км. Видим, что большинство квартир находятся на расстоянии 15 км от центра. До аэропорта расстояние варьируется от 12 до 55 км."
   ]
  },
  {
   "cell_type": "code",
   "execution_count": 65,
   "metadata": {
    "colab": {
     "base_uri": "https://localhost:8080/",
     "height": 761
    },
    "id": "yRBmx-8TDG-3",
    "outputId": "f6193193-dc0b-4255-cca2-4ca3d8ea48f5"
   },
   "outputs": [
    {
     "data": {
      "image/png": "[encoded data removed]",
      "text/plain": [
       "<Figure size 432x288 with 1 Axes>"
      ]
     },
     "metadata": {
      "needs_background": "light"
     },
     "output_type": "display_data"
    },
    {
     "data": {
      "image/png": "[encoded data removed]",
      "text/plain": [
       "<Figure size 432x288 with 1 Axes>"
      ]
     },
     "metadata": {
      "needs_background": "light"
     },
     "output_type": "display_data"
    },
    {
     "data": {
      "image/png": "[encoded data removed]",
      "text/plain": [
       "<Figure size 432x288 with 1 Axes>"
      ]
     },
     "metadata": {
      "needs_background": "light"
     },
     "output_type": "display_data"
    }
   ],
   "source": [
    "areas = ['cityCenters_nearest', 'airports_nearest', 'parks_nearest']\n",
    "\n",
    "for area in data[areas]:\n",
    "    data.plot(kind='hist', y=area, alpha=1)"
   ]
  },
  {
   "cell_type": "markdown",
   "metadata": {
    "id": "qMJ31gLiDG-4"
   },
   "source": [
    "**День и месяц публикации объявления.**"
   ]
  },
  {
   "cell_type": "code",
   "execution_count": 66,
   "metadata": {
    "colab": {
     "base_uri": "https://localhost:8080/"
    },
    "id": "R-DGrMNtDG-4",
    "outputId": "cacd6f55-778d-4fd6-ba2c-54845b67fa8a"
   },
   "outputs": [
    {
     "data": {
      "text/plain": [
       "1     1136\n",
       "10    1100\n",
       "26     889\n",
       "12     867\n",
       "20     864\n",
       "11     834\n",
       "14     833\n",
       "13     823\n",
       "15     820\n",
       "21     820\n",
       "Name: day_of_publication, dtype: int64"
      ]
     },
     "execution_count": 66,
     "metadata": {},
     "output_type": "execute_result"
    }
   ],
   "source": [
    "data['day_of_publication'] = data['first_day_exposition'].dt.day\n",
    "data['day_of_publication'].value_counts()[:10]"
   ]
  },
  {
   "cell_type": "code",
   "execution_count": 67,
   "metadata": {
    "colab": {
     "base_uri": "https://localhost:8080/",
     "height": 545
    },
    "id": "kwEk2yfxDG-4",
    "outputId": "53d60e7b-2c32-4ecd-da12-12fd0cbeb012"
   },
   "outputs": [
    {
     "data": {
      "image/png": "[encoded data removed]",
      "text/plain": [
       "<Figure size 432x288 with 1 Axes>"
      ]
     },
     "metadata": {
      "needs_background": "light"
     },
     "output_type": "display_data"
    },
    {
     "data": {
      "image/png": "[encoded data removed]",
      "text/plain": [
       "<Figure size 432x288 with 1 Axes>"
      ]
     },
     "metadata": {
      "needs_background": "light"
     },
     "output_type": "display_data"
    }
   ],
   "source": [
    "dates = ['month_of_publication', 'day_of_publication']\n",
    "for date in data[dates]:\n",
    "    data.plot(y=date, kind='hist', title=date, bins=30)"
   ]
  },
  {
   "cell_type": "code",
   "execution_count": 69,
   "metadata": {
    "colab": {
     "base_uri": "https://localhost:8080/",
     "height": 318
    },
    "id": "sLhQbFNJDG-4",
    "outputId": "f6d9c09b-9b69-4148-fa7f-776cc9fc4ab4"
   },
   "outputs": [
    {
     "data": {
      "text/plain": [
       "Text(0.5,1,'Дата публикации')"
      ]
     },
     "execution_count": 69,
     "metadata": {},
     "output_type": "execute_result"
    },
    {
     "data": {
      "image/png": "[encoded data removed]",
      "text/plain": [
       "<Figure size 432x288 with 1 Axes>"
      ]
     },
     "metadata": {
      "needs_background": "light"
     },
     "output_type": "display_data"
    }
   ],
   "source": [
    "data['first_day_exposition'].hist(bins=50)\n",
    "plt.xticks(rotation=30, ha='right')\n",
    "plt.title('Дата публикации')"
   ]
  },
  {
   "cell_type": "markdown",
   "metadata": {
    "id": "vFAoR2bgDG-8"
   },
   "source": [
    "Чаще всего публикуют объявления 1 числа и 10. Также в феврале и марте было опубликовано больше всего объявлений. Пик пришелся на февраль 2018 года."
   ]
  },
  {
   "cell_type": "markdown",
   "metadata": {
    "id": "qfp5aiVXDG-9"
   },
   "source": [
    "### Проанализируем `days_exposition`."
   ]
  },
  {
   "cell_type": "code",
   "execution_count": 70,
   "metadata": {
    "colab": {
     "base_uri": "https://localhost:8080/",
     "height": 282
    },
    "id": "XqWbOFDIDG-9",
    "outputId": "776210a0-de56-4760-ecc2-f3feb6560875"
   },
   "outputs": [
    {
     "data": {
      "text/plain": [
       "<matplotlib.axes._subplots.AxesSubplot at 0xe0ca750>"
      ]
     },
     "execution_count": 70,
     "metadata": {},
     "output_type": "execute_result"
    },
    {
     "data": {
      "image/png": "[encoded data removed]",
      "text/plain": [
       "<Figure size 432x288 with 1 Axes>"
      ]
     },
     "metadata": {
      "needs_background": "light"
     },
     "output_type": "display_data"
    }
   ],
   "source": [
    "data['days_exposition'].hist(range=(0, 1000), bins=50)"
   ]
  },
  {
   "cell_type": "code",
   "execution_count": 72,
   "metadata": {
    "colab": {
     "base_uri": "https://localhost:8080/"
    },
    "id": "G85R5zJZDG-9",
    "outputId": "4034e4d8-0651-4fcc-a7a6-1b7629942cf1"
   },
   "outputs": [
    {
     "name": "stdout",
     "output_type": "stream",
     "text": [
      "Среднее значение 180.98\n",
      "Медиана 95.0\n"
     ]
    }
   ],
   "source": [
    "print('Среднее значение', round(data['days_exposition'].mean(),2))\n",
    "print('Медиана', data['days_exposition'].median())"
   ]
  },
  {
   "cell_type": "markdown",
   "metadata": {
    "id": "Wn7KL6qKDG-9"
   },
   "source": [
    "Половина всех объявлений находится на сайте до 95 дней. Это можно считать довольно быстрой продажей. В среднем квартира продается пол года. Но есть значения и в год, и в полтора, и даже в два. Можно сказать, что продажа квартиры в течении более чем полутора лет считается долгой."
   ]
  },
  {
   "cell_type": "markdown",
   "metadata": {
    "id": "P0vYF5NxDG_A"
   },
   "source": [
    "### Факторы, влияющие на стоимость"
   ]
  },
  {
   "cell_type": "markdown",
   "metadata": {
    "id": "pKmosQ2_DG_B"
   },
   "source": [
    "Построим heatmap для колонок `total_area`, `living_area`, `kitchen_area`, `rooms`, `type_floor`, `last_price`. Это тепловая карта покажет нам значение коэффициента Пирсона. Этот коэффициент поможет определить наличие линейной связи между величинами. Чем ближе коэффициент к 1 или -1, тем теснее связь."
   ]
  },
  {
   "cell_type": "code",
   "execution_count": 73,
   "metadata": {
    "colab": {
     "base_uri": "https://localhost:8080/",
     "height": 323
    },
    "id": "p8yOUIRBDG_B",
    "outputId": "f0d4f0ef-f73c-4eb0-ba8c-5ee7dd408306"
   },
   "outputs": [
    {
     "data": {
      "image/png": "[encoded data removed]",
      "text/plain": [
       "<Figure size 432x288 with 2 Axes>"
      ]
     },
     "metadata": {
      "needs_background": "light"
     },
     "output_type": "display_data"
    }
   ],
   "source": [
    "columns = ['total_area', 'living_area', 'kitchen_area', 'rooms', 'type_floor', 'last_price']\n",
    "hm = sns.heatmap(data[columns].corr(),annot=True)"
   ]
  },
  {
   "cell_type": "markdown",
   "metadata": {
    "id": "EPzAxD0ZDG_C"
   },
   "source": [
    "Видим, что на стоимость квартиры сильнее всего влияет общая площадь. А жилая площадь и площадь кухни связаны с общей, и они влияют меньше, но, естественно, связь есть. Комнаты практически не влияют."
   ]
  },
  {
   "cell_type": "code",
   "execution_count": 74,
   "metadata": {
    "colab": {
     "base_uri": "https://localhost:8080/",
     "height": 1000
    },
    "id": "MNYXue4uDG_E",
    "outputId": "cb70c557-f2c0-4eed-c2f6-ec403806b426"
   },
   "outputs": [
    {
     "data": {
      "image/png": "[encoded data removed]",
      "text/plain": [
       "<Figure size 360x360 with 1 Axes>"
      ]
     },
     "metadata": {
      "needs_background": "light"
     },
     "output_type": "display_data"
    },
    {
     "data": {
      "image/png": "[encoded data removed]",
      "text/plain": [
       "<Figure size 360x360 with 1 Axes>"
      ]
     },
     "metadata": {
      "needs_background": "light"
     },
     "output_type": "display_data"
    },
    {
     "data": {
      "image/png": "[encoded data removed]",
      "text/plain": [
       "<Figure size 360x360 with 1 Axes>"
      ]
     },
     "metadata": {
      "needs_background": "light"
     },
     "output_type": "display_data"
    }
   ],
   "source": [
    "columns1 = ['total_area', 'living_area', 'kitchen_area']\n",
    "for column in columns1:\n",
    "    data.pivot_table(index=column, values='last_price').plot(grid=True, title=column, style='o', alpha=0.7, figsize=(5, 5))"
   ]
  },
  {
   "cell_type": "markdown",
   "metadata": {
    "id": "cZ5RR0FYDG_E"
   },
   "source": [
    "На графике с общей площадью лучше всего просматривается линейная зависимость. На графике с площадью кухни, прямая располагалась бы ближе к оси х, то есть под углом около 30 градусов."
   ]
  },
  {
   "cell_type": "code",
   "execution_count": 75,
   "metadata": {
    "colab": {
     "base_uri": "https://localhost:8080/",
     "height": 1000
    },
    "id": "yFAsKI5sDG_E",
    "outputId": "06aa8ab6-1da6-4e65-8b28-2722f35e0194"
   },
   "outputs": [
    {
     "data": {
      "image/png": "[encoded data removed]",
      "text/plain": [
       "<Figure size 432x288 with 1 Axes>"
      ]
     },
     "metadata": {
      "needs_background": "light"
     },
     "output_type": "display_data"
    },
    {
     "data": {
      "image/png": "[encoded data removed]",
      "text/plain": [
       "<Figure size 432x288 with 1 Axes>"
      ]
     },
     "metadata": {
      "needs_background": "light"
     },
     "output_type": "display_data"
    },
    {
     "data": {
      "image/png": "[encoded data removed]",
      "text/plain": [
       "<Figure size 432x288 with 1 Axes>"
      ]
     },
     "metadata": {
      "needs_background": "light"
     },
     "output_type": "display_data"
    },
    {
     "data": {
      "image/png": "[encoded data removed]",
      "text/plain": [
       "<Figure size 432x288 with 1 Axes>"
      ]
     },
     "metadata": {
      "needs_background": "light"
     },
     "output_type": "display_data"
    },
    {
     "data": {
      "image/png": "[encoded data removed]",
      "text/plain": [
       "<Figure size 432x288 with 1 Axes>"
      ]
     },
     "metadata": {
      "needs_background": "light"
     },
     "output_type": "display_data"
    }
   ],
   "source": [
    "columns2 = ['weekday', 'month_of_publication', 'year_of_publication', 'rooms', 'type_floor']\n",
    "for column2 in columns2:\n",
    "    data.pivot_table(index=column2, values='last_price').plot(style='o-', grid=True)"
   ]
  },
  {
   "cell_type": "markdown",
   "metadata": {
    "id": "FoOm6ulvDG_F"
   },
   "source": [
    "* Из графиков видно, что чаще всего объявления о продаже выставляют в субботу. * Также большинство объявлений выставлено в декабре, но небольшой пик был и осенью. \n",
    "* В 2014 году рост количества продаж квартир, с каждым годом количество продающих падало.\n",
    "* Видно, что чем больше комнат, тем выше цена. На графике пик на объявлении с 12 комнатами. Посмотрим это объявление.\n",
    "* В продажах меньше всего квартир на последних этажах, и больше всего на \"других\"."
   ]
  },
  {
   "cell_type": "code",
   "execution_count": 76,
   "metadata": {
    "colab": {
     "base_uri": "https://localhost:8080/",
     "height": 174
    },
    "id": "q3Wtt37MDG_F",
    "outputId": "4f238020-fbdb-4894-c010-e6e389c27374"
   },
   "outputs": [
    {
     "data": {
      "text/html": [
       "<div>\n",
       "<style scoped>\n",
       "    .dataframe tbody tr th:only-of-type {\n",
       "        vertical-align: middle;\n",
       "    }\n",
       "\n",
       "    .dataframe tbody tr th {\n",
       "        vertical-align: top;\n",
       "    }\n",
       "\n",
       "    .dataframe thead th {\n",
       "        text-align: right;\n",
       "    }\n",
       "</style>\n",
       "<table border=\"1\" class=\"dataframe\">\n",
       "  <thead>\n",
       "    <tr style=\"text-align: right;\">\n",
       "      <th></th>\n",
       "      <th>total_images</th>\n",
       "      <th>last_price</th>\n",
       "      <th>total_area</th>\n",
       "      <th>first_day_exposition</th>\n",
       "      <th>rooms</th>\n",
       "      <th>ceiling_height</th>\n",
       "      <th>floors_total</th>\n",
       "      <th>living_area</th>\n",
       "      <th>floor</th>\n",
       "      <th>is_apartment</th>\n",
       "      <th>...</th>\n",
       "      <th>ponds_around3000</th>\n",
       "      <th>ponds_nearest</th>\n",
       "      <th>days_exposition</th>\n",
       "      <th>price_square_m</th>\n",
       "      <th>weekday</th>\n",
       "      <th>month_of_publication</th>\n",
       "      <th>year_of_publication</th>\n",
       "      <th>type_floor</th>\n",
       "      <th>cityCenter_km</th>\n",
       "      <th>day_of_publication</th>\n",
       "    </tr>\n",
       "  </thead>\n",
       "  <tbody>\n",
       "    <tr>\n",
       "      <th>19540</th>\n",
       "      <td>8</td>\n",
       "      <td>420000000</td>\n",
       "      <td>900.0</td>\n",
       "      <td>2017-12-06</td>\n",
       "      <td>12</td>\n",
       "      <td>2.8</td>\n",
       "      <td>25.0</td>\n",
       "      <td>409.7</td>\n",
       "      <td>25</td>\n",
       "      <td>False</td>\n",
       "      <td>...</td>\n",
       "      <td>2</td>\n",
       "      <td>318.0</td>\n",
       "      <td>106.0</td>\n",
       "      <td>466666.67</td>\n",
       "      <td>2</td>\n",
       "      <td>12</td>\n",
       "      <td>2017</td>\n",
       "      <td>другие</td>\n",
       "      <td>8.0</td>\n",
       "      <td>6</td>\n",
       "    </tr>\n",
       "  </tbody>\n",
       "</table>\n",
       "<p>1 rows × 29 columns</p>\n",
       "</div>"
      ],
      "text/plain": [
       "       total_images  last_price  total_area first_day_exposition  rooms  \\\n",
       "19540             8   420000000       900.0           2017-12-06     12   \n",
       "\n",
       "       ceiling_height  floors_total  living_area  floor  is_apartment  \\\n",
       "19540             2.8          25.0        409.7     25         False   \n",
       "\n",
       "              ...          ponds_around3000  ponds_nearest  days_exposition  \\\n",
       "19540         ...                         2          318.0            106.0   \n",
       "\n",
       "       price_square_m weekday  month_of_publication  year_of_publication  \\\n",
       "19540       466666.67       2                    12                 2017   \n",
       "\n",
       "       type_floor  cityCenter_km  day_of_publication  \n",
       "19540      другие            8.0                   6  \n",
       "\n",
       "[1 rows x 29 columns]"
      ]
     },
     "execution_count": 76,
     "metadata": {},
     "output_type": "execute_result"
    }
   ],
   "source": [
    "data.loc[data['rooms'] == 12]"
   ]
  },
  {
   "cell_type": "markdown",
   "metadata": {
    "id": "9HxfOCbdDG_G"
   },
   "source": [
    "Стоимость квартиры 420 млн, а площадь 900 $м^2$. Мы выяснили, что цена зависит от площади квартиры, также, как и количество комнат(то есть, не так важно сколько в квартире перегородок, важнее ее общая площадь)."
   ]
  },
  {
   "cell_type": "markdown",
   "metadata": {
    "id": "rDKB7k6ODG_G"
   },
   "source": [
    "## Посчитаем среднюю цену одного квадратного метра в 10 населённых пунктах с наибольшим числом объявлений. Выделим населённые пункты с самой высокой и низкой стоимостью квадратного метра."
   ]
  },
  {
   "cell_type": "code",
   "execution_count": 77,
   "metadata": {
    "id": "IPchczRwDG_G"
   },
   "outputs": [],
   "source": [
    "top_name = data['locality_name'].value_counts()[:10]"
   ]
  },
  {
   "cell_type": "code",
   "execution_count": 78,
   "metadata": {
    "id": "_u0Uehy0DG_H"
   },
   "outputs": [],
   "source": [
    "price_top_name = data[['price_square_m', 'locality_name']].where(data['locality_name'].isin(top_name.index))"
   ]
  },
  {
   "cell_type": "code",
   "execution_count": 79,
   "metadata": {
    "id": "o9knMlMADG_H"
   },
   "outputs": [],
   "source": [
    "price_top_name.dropna(inplace=True)"
   ]
  },
  {
   "cell_type": "code",
   "execution_count": 80,
   "metadata": {
    "id": "suU8VJvLDG_H"
   },
   "outputs": [],
   "source": [
    "mean_price_top_name = price_top_name.groupby('locality_name')['price_square_m'].mean().round(2)"
   ]
  },
  {
   "cell_type": "code",
   "execution_count": 81,
   "metadata": {
    "colab": {
     "base_uri": "https://localhost:8080/",
     "height": 282
    },
    "id": "Sih8zWjxDG_H",
    "outputId": "cc878279-9c54-420a-facb-04731f1735f0"
   },
   "outputs": [
    {
     "data": {
      "text/plain": [
       "<BarContainer object of 10 artists>"
      ]
     },
     "execution_count": 81,
     "metadata": {},
     "output_type": "execute_result"
    },
    {
     "data": {
      "image/png": "[encoded data removed]",
      "text/plain": [
       "<Figure size 432x288 with 1 Axes>"
      ]
     },
     "metadata": {
      "needs_background": "light"
     },
     "output_type": "display_data"
    }
   ],
   "source": [
    "plt.barh(mean_price_top_name.index, mean_price_top_name.values)"
   ]
  },
  {
   "cell_type": "code",
   "execution_count": 82,
   "metadata": {
    "colab": {
     "base_uri": "https://localhost:8080/"
    },
    "id": "WnfRKtJ0DG_I",
    "outputId": "0f1d1015-5391-470f-87b9-50c17f6f4510"
   },
   "outputs": [
    {
     "name": "stdout",
     "output_type": "stream",
     "text": [
      "В Санкт-Петербурге самая высокая стоимость одного квадратного метра: 114736.65\n",
      "В Выборге самая низкая стоимость одного квадратного метра: 58154.34\n"
     ]
    }
   ],
   "source": [
    "print(f'В Санкт-Петербурге самая высокая стоимость одного квадратного метра: {mean_price_top_name.max()}')\n",
    "print(f'В Выборге самая низкая стоимость одного квадратного метра: {mean_price_top_name.min()}')"
   ]
  },
  {
   "cell_type": "markdown",
   "metadata": {
    "id": "nnGfNMBNDG_I"
   },
   "source": [
    "## Выделим квартиры в Санкт-Петербурге и вычислим среднюю цену каждого километра. Опишем, как стоимость объектов зависит от расстояния до центра города."
   ]
  },
  {
   "cell_type": "markdown",
   "metadata": {
    "id": "-t14DCdrDG_I"
   },
   "source": [
    "Напишем функцию для нахождения цены за км."
   ]
  },
  {
   "cell_type": "code",
   "execution_count": 83,
   "metadata": {
    "id": "cc4P_vo-DG_J"
   },
   "outputs": [],
   "source": [
    "def price_km(df):\n",
    "    try:\n",
    "        return int(df['last_price']/df['cityCenter_km'])\n",
    "    except:\n",
    "        return None\n",
    "\n",
    "data['price_km'] = data.apply(price_km, axis=1)"
   ]
  },
  {
   "cell_type": "markdown",
   "metadata": {
    "id": "GKvtEdkADG_J"
   },
   "source": [
    "Выберем строки, где город Санкт-Петербург."
   ]
  },
  {
   "cell_type": "code",
   "execution_count": 84,
   "metadata": {
    "id": "qwYfDCEuDG_J"
   },
   "outputs": [],
   "source": [
    "spb = data.query('locality_name == \"Санкт-Петербург\"')"
   ]
  },
  {
   "cell_type": "code",
   "execution_count": 85,
   "metadata": {
    "colab": {
     "base_uri": "https://localhost:8080/",
     "height": 308
    },
    "id": "_GcWTqr8DG_J",
    "outputId": "74134acb-16be-49ca-dc8b-491f4b384a49"
   },
   "outputs": [
    {
     "data": {
      "text/plain": [
       "<matplotlib.axes._subplots.AxesSubplot at 0xe553330>"
      ]
     },
     "execution_count": 85,
     "metadata": {},
     "output_type": "execute_result"
    },
    {
     "data": {
      "image/png": "[encoded data removed]",
      "text/plain": [
       "<Figure size 432x288 with 1 Axes>"
      ]
     },
     "metadata": {
      "needs_background": "light"
     },
     "output_type": "display_data"
    }
   ],
   "source": [
    "(\n",
    "spb\n",
    "    .pivot_table(index='cityCenter_km', values='last_price')\n",
    "    .plot(kind='line')\n",
    ")"
   ]
  },
  {
   "cell_type": "markdown",
   "metadata": {
    "id": "R690U8vXDG_L"
   },
   "source": [
    "## Общий вывод"
   ]
  },
  {
   "cell_type": "markdown",
   "metadata": {
    "id": "DVAD5MspDG_L"
   },
   "source": [
    "Проанализировав данные, мы пришли к выводу, что:\n",
    "* Чаще всего встречается двухкомнатная квартира, с общей площадью 50 $м^2$, жилой - 18 $м^2$, кухни - 6 $м^2$, с высотой потолка 2.6 м,  не на первом и не на последнем этаже, с ценой около 4,5 млн.\n",
    "* Больше всего объявлений о продаже в домах с пятью или девятью этажами.\n",
    "* Чаще всего публикуют объявления в конце зимы, начале весны, в первых числах месяца.\n",
    "* В среднем квартиры продаются в течении полугода. Но половина всех объявлений о продаже находятся на сайте три месяца.\n",
    "* Фактором, влияющим на стоимость квартиры является общая площадь.\n",
    "* Средняя цена за квадратный метр зависит от населенного пункта. Например, в Санкт-Петербурге он максимален и равен 114736 руб, а в Выборге самая низкая стоимость - 58154 руб.\n",
    "* На последнем графике видно, что чем ближе к центру находится квартира, тем больше разброс цен на нее, чем дальше - тем меньше разброс и ниже цена за квадратный км."
   ]
  }
 ],
 "metadata": {
  "ExecuteTimeLog": [
   {
    "duration": 1435,
    "start_time": "2022-10-26T11:30:35.820Z"
   },
   {
    "duration": 11,
    "start_time": "2022-10-26T11:31:59.010Z"
   },
   {
    "duration": 85,
    "start_time": "2022-10-26T11:32:12.861Z"
   },
   {
    "duration": 6,
    "start_time": "2022-10-26T11:32:15.561Z"
   },
   {
    "duration": 92,
    "start_time": "2022-10-26T11:32:23.888Z"
   },
   {
    "duration": 23,
    "start_time": "2022-10-26T11:32:26.101Z"
   },
   {
    "duration": 15,
    "start_time": "2022-10-26T11:32:43.821Z"
   },
   {
    "duration": 1829,
    "start_time": "2022-10-26T11:33:00.056Z"
   },
   {
    "duration": 4,
    "start_time": "2022-10-26T11:42:37.042Z"
   },
   {
    "duration": 4,
    "start_time": "2022-10-26T11:42:52.141Z"
   },
   {
    "duration": 5,
    "start_time": "2022-10-26T11:43:02.874Z"
   },
   {
    "duration": 5,
    "start_time": "2022-10-26T11:46:03.756Z"
   },
   {
    "duration": 4,
    "start_time": "2022-10-26T11:46:10.388Z"
   },
   {
    "duration": 6,
    "start_time": "2022-10-26T11:46:15.553Z"
   },
   {
    "duration": 4,
    "start_time": "2022-10-26T11:46:19.588Z"
   },
   {
    "duration": 4,
    "start_time": "2022-10-26T11:46:21.561Z"
   },
   {
    "duration": 4,
    "start_time": "2022-10-26T11:47:34.585Z"
   },
   {
    "duration": 4,
    "start_time": "2022-10-26T11:47:41.363Z"
   },
   {
    "duration": 5,
    "start_time": "2022-10-26T11:47:46.606Z"
   },
   {
    "duration": 10,
    "start_time": "2022-10-26T11:48:54.025Z"
   },
   {
    "duration": 9,
    "start_time": "2022-10-26T11:49:50.707Z"
   },
   {
    "duration": 10,
    "start_time": "2022-10-26T11:50:01.766Z"
   },
   {
    "duration": 29,
    "start_time": "2022-10-26T11:50:47.388Z"
   },
   {
    "duration": 45,
    "start_time": "2022-10-26T11:51:17.832Z"
   },
   {
    "duration": 4,
    "start_time": "2022-10-26T11:52:08.209Z"
   },
   {
    "duration": 6,
    "start_time": "2022-10-26T11:52:43.645Z"
   },
   {
    "duration": 5,
    "start_time": "2022-10-26T11:57:22.856Z"
   },
   {
    "duration": 7,
    "start_time": "2022-10-26T11:57:37.025Z"
   },
   {
    "duration": 5,
    "start_time": "2022-10-26T12:07:01.847Z"
   },
   {
    "duration": 7,
    "start_time": "2022-10-26T12:07:11.960Z"
   },
   {
    "duration": 9,
    "start_time": "2022-10-26T12:08:02.375Z"
   },
   {
    "duration": 13,
    "start_time": "2022-10-26T12:08:22.091Z"
   },
   {
    "duration": 12,
    "start_time": "2022-10-26T12:08:56.849Z"
   },
   {
    "duration": 14,
    "start_time": "2022-10-26T12:10:49.391Z"
   },
   {
    "duration": 7,
    "start_time": "2022-10-26T12:11:22.623Z"
   },
   {
    "duration": 12,
    "start_time": "2022-10-26T12:11:29.525Z"
   },
   {
    "duration": 50,
    "start_time": "2022-10-26T12:17:05.167Z"
   },
   {
    "duration": 41,
    "start_time": "2022-10-26T12:17:17.749Z"
   },
   {
    "duration": 47,
    "start_time": "2022-10-26T12:17:27.039Z"
   },
   {
    "duration": 54,
    "start_time": "2022-10-26T12:17:36.741Z"
   },
   {
    "duration": 15,
    "start_time": "2022-10-26T12:23:36.099Z"
   },
   {
    "duration": 15,
    "start_time": "2022-10-26T12:24:15.871Z"
   },
   {
    "duration": 12,
    "start_time": "2022-10-26T12:24:56.523Z"
   },
   {
    "duration": 12,
    "start_time": "2022-10-26T12:25:57.205Z"
   },
   {
    "duration": 27,
    "start_time": "2022-10-26T12:28:32.705Z"
   },
   {
    "duration": 17,
    "start_time": "2022-10-26T12:30:24.109Z"
   },
   {
    "duration": 7,
    "start_time": "2022-10-26T12:33:38.008Z"
   },
   {
    "duration": 7,
    "start_time": "2022-10-26T12:34:16.531Z"
   },
   {
    "duration": 7,
    "start_time": "2022-10-26T12:34:26.628Z"
   },
   {
    "duration": 7,
    "start_time": "2022-10-26T12:34:39.083Z"
   },
   {
    "duration": 387,
    "start_time": "2022-10-26T12:36:02.885Z"
   },
   {
    "duration": 18,
    "start_time": "2022-10-26T12:37:10.162Z"
   },
   {
    "duration": 48,
    "start_time": "2022-10-26T12:42:48.472Z"
   },
   {
    "duration": 599,
    "start_time": "2022-10-26T12:43:09.859Z"
   },
   {
    "duration": 217,
    "start_time": "2022-10-26T12:44:49.175Z"
   },
   {
    "duration": 227,
    "start_time": "2022-10-26T12:46:53.558Z"
   },
   {
    "duration": 73,
    "start_time": "2022-10-26T12:47:25.992Z"
   },
   {
    "duration": 172,
    "start_time": "2022-10-26T12:47:41.732Z"
   },
   {
    "duration": 145,
    "start_time": "2022-10-26T12:48:19.735Z"
   },
   {
    "duration": 100,
    "start_time": "2022-10-26T12:48:55.614Z"
   },
   {
    "duration": 171,
    "start_time": "2022-10-26T12:49:29.883Z"
   },
   {
    "duration": 399,
    "start_time": "2022-10-26T12:49:50.064Z"
   },
   {
    "duration": 8,
    "start_time": "2022-10-26T12:50:35.895Z"
   },
   {
    "duration": 346,
    "start_time": "2022-10-26T12:50:44.008Z"
   },
   {
    "duration": 342,
    "start_time": "2022-10-26T12:50:53.336Z"
   },
   {
    "duration": 385,
    "start_time": "2022-10-26T12:51:04.167Z"
   },
   {
    "duration": 151,
    "start_time": "2022-10-26T12:51:56.842Z"
   },
   {
    "duration": 5,
    "start_time": "2022-10-26T12:52:04.110Z"
   },
   {
    "duration": 452,
    "start_time": "2022-10-26T13:00:12.635Z"
   },
   {
    "duration": 940,
    "start_time": "2022-10-26T13:04:19.757Z"
   },
   {
    "duration": 421,
    "start_time": "2022-10-26T13:13:17.106Z"
   },
   {
    "duration": 678,
    "start_time": "2022-10-26T13:20:40.524Z"
   },
   {
    "duration": 17,
    "start_time": "2022-10-26T13:25:18.452Z"
   },
   {
    "duration": 5,
    "start_time": "2022-10-26T13:25:45.900Z"
   },
   {
    "duration": 8,
    "start_time": "2022-10-26T13:25:47.118Z"
   },
   {
    "duration": 6,
    "start_time": "2022-10-26T13:25:49.654Z"
   },
   {
    "duration": 5,
    "start_time": "2022-10-26T13:25:51.723Z"
   },
   {
    "duration": 138,
    "start_time": "2022-10-26T13:26:05.601Z"
   },
   {
    "duration": 4,
    "start_time": "2022-10-26T13:26:15.240Z"
   },
   {
    "duration": 671,
    "start_time": "2022-10-26T13:28:16.253Z"
   },
   {
    "duration": 21,
    "start_time": "2022-10-26T14:10:04.920Z"
   },
   {
    "duration": 45,
    "start_time": "2022-10-26T16:22:13.564Z"
   },
   {
    "duration": 1090,
    "start_time": "2022-10-26T16:22:21.399Z"
   },
   {
    "duration": 30,
    "start_time": "2022-10-26T16:22:22.491Z"
   },
   {
    "duration": 14,
    "start_time": "2022-10-26T16:22:22.523Z"
   },
   {
    "duration": 1940,
    "start_time": "2022-10-26T16:22:22.539Z"
   },
   {
    "duration": 4,
    "start_time": "2022-10-26T16:22:24.481Z"
   },
   {
    "duration": 34,
    "start_time": "2022-10-26T16:22:24.487Z"
   },
   {
    "duration": 26,
    "start_time": "2022-10-26T16:22:24.522Z"
   },
   {
    "duration": 19,
    "start_time": "2022-10-26T16:22:24.550Z"
   },
   {
    "duration": 26,
    "start_time": "2022-10-26T16:22:24.570Z"
   },
   {
    "duration": 31,
    "start_time": "2022-10-26T16:22:24.600Z"
   },
   {
    "duration": 19,
    "start_time": "2022-10-26T16:22:24.632Z"
   },
   {
    "duration": 30,
    "start_time": "2022-10-26T16:22:24.652Z"
   },
   {
    "duration": 17,
    "start_time": "2022-10-26T16:22:24.684Z"
   },
   {
    "duration": 33,
    "start_time": "2022-10-26T16:22:24.702Z"
   },
   {
    "duration": 28,
    "start_time": "2022-10-26T16:22:24.737Z"
   },
   {
    "duration": 21,
    "start_time": "2022-10-26T16:22:24.767Z"
   },
   {
    "duration": 37,
    "start_time": "2022-10-26T16:22:24.789Z"
   },
   {
    "duration": 44,
    "start_time": "2022-10-26T16:22:24.827Z"
   },
   {
    "duration": 5,
    "start_time": "2022-10-26T16:22:24.873Z"
   },
   {
    "duration": 19,
    "start_time": "2022-10-26T16:22:24.879Z"
   },
   {
    "duration": 14,
    "start_time": "2022-10-26T16:22:24.899Z"
   },
   {
    "duration": 41,
    "start_time": "2022-10-26T16:22:24.920Z"
   },
   {
    "duration": 23,
    "start_time": "2022-10-26T16:22:24.962Z"
   },
   {
    "duration": 16,
    "start_time": "2022-10-26T16:22:24.986Z"
   },
   {
    "duration": 23,
    "start_time": "2022-10-26T16:22:25.003Z"
   },
   {
    "duration": 53,
    "start_time": "2022-10-26T16:22:25.028Z"
   },
   {
    "duration": 22,
    "start_time": "2022-10-26T16:22:25.083Z"
   },
   {
    "duration": 15,
    "start_time": "2022-10-26T16:22:25.109Z"
   },
   {
    "duration": 4,
    "start_time": "2022-10-26T16:22:25.126Z"
   },
   {
    "duration": 17,
    "start_time": "2022-10-26T16:22:25.132Z"
   },
   {
    "duration": 14,
    "start_time": "2022-10-26T16:22:25.151Z"
   },
   {
    "duration": 16,
    "start_time": "2022-10-26T16:22:25.166Z"
   },
   {
    "duration": 38,
    "start_time": "2022-10-26T16:22:25.184Z"
   },
   {
    "duration": 19,
    "start_time": "2022-10-26T16:22:25.223Z"
   },
   {
    "duration": 24,
    "start_time": "2022-10-26T16:22:25.244Z"
   },
   {
    "duration": 16,
    "start_time": "2022-10-26T16:22:25.269Z"
   },
   {
    "duration": 11,
    "start_time": "2022-10-26T16:22:25.287Z"
   },
   {
    "duration": 25,
    "start_time": "2022-10-26T16:22:25.300Z"
   },
   {
    "duration": 14,
    "start_time": "2022-10-26T16:22:25.328Z"
   },
   {
    "duration": 10,
    "start_time": "2022-10-26T16:22:25.343Z"
   },
   {
    "duration": 367,
    "start_time": "2022-10-26T16:22:25.355Z"
   },
   {
    "duration": 15,
    "start_time": "2022-10-26T16:22:25.724Z"
   },
   {
    "duration": 625,
    "start_time": "2022-10-26T16:22:25.740Z"
   },
   {
    "duration": 221,
    "start_time": "2022-10-26T16:22:26.367Z"
   },
   {
    "duration": 238,
    "start_time": "2022-10-26T16:22:26.590Z"
   },
   {
    "duration": 175,
    "start_time": "2022-10-26T16:22:26.829Z"
   },
   {
    "duration": 150,
    "start_time": "2022-10-26T16:22:27.006Z"
   },
   {
    "duration": 106,
    "start_time": "2022-10-26T16:22:27.158Z"
   },
   {
    "duration": 171,
    "start_time": "2022-10-26T16:22:27.265Z"
   },
   {
    "duration": 421,
    "start_time": "2022-10-26T16:22:27.437Z"
   },
   {
    "duration": 8,
    "start_time": "2022-10-26T16:22:27.860Z"
   },
   {
    "duration": 364,
    "start_time": "2022-10-26T16:22:27.870Z"
   },
   {
    "duration": 321,
    "start_time": "2022-10-26T16:22:28.236Z"
   },
   {
    "duration": 248,
    "start_time": "2022-10-26T16:22:28.559Z"
   },
   {
    "duration": 12,
    "start_time": "2022-10-26T16:22:28.809Z"
   },
   {
    "duration": 891,
    "start_time": "2022-10-26T16:22:28.823Z"
   },
   {
    "duration": 468,
    "start_time": "2022-10-26T16:22:29.715Z"
   },
   {
    "duration": 799,
    "start_time": "2022-10-26T16:22:30.185Z"
   },
   {
    "duration": 21,
    "start_time": "2022-10-26T16:22:30.985Z"
   },
   {
    "duration": 30,
    "start_time": "2022-10-26T16:22:31.008Z"
   },
   {
    "duration": 31,
    "start_time": "2022-10-26T16:22:31.040Z"
   },
   {
    "duration": 21,
    "start_time": "2022-10-26T16:22:31.073Z"
   },
   {
    "duration": 24,
    "start_time": "2022-10-26T16:22:31.095Z"
   },
   {
    "duration": 150,
    "start_time": "2022-10-26T16:22:31.121Z"
   },
   {
    "duration": 4,
    "start_time": "2022-10-26T16:22:31.272Z"
   },
   {
    "duration": 282,
    "start_time": "2022-10-26T16:22:40.575Z"
   },
   {
    "duration": 10,
    "start_time": "2022-10-26T16:23:38.178Z"
   },
   {
    "duration": 147,
    "start_time": "2022-10-26T16:27:21.402Z"
   },
   {
    "duration": 155,
    "start_time": "2022-10-26T16:27:37.658Z"
   },
   {
    "duration": 155,
    "start_time": "2022-10-26T16:28:29.031Z"
   },
   {
    "duration": 124,
    "start_time": "2022-10-26T17:24:21.612Z"
   },
   {
    "duration": 133,
    "start_time": "2022-10-26T17:25:18.165Z"
   },
   {
    "duration": 1400,
    "start_time": "2022-10-27T08:40:13.234Z"
   },
   {
    "duration": 324,
    "start_time": "2022-10-27T08:40:20.910Z"
   },
   {
    "duration": 16,
    "start_time": "2022-10-27T08:47:01.488Z"
   },
   {
    "duration": 3,
    "start_time": "2022-10-27T08:47:13.415Z"
   },
   {
    "duration": 92,
    "start_time": "2022-10-27T08:47:16.532Z"
   },
   {
    "duration": 29,
    "start_time": "2022-10-27T08:47:21.568Z"
   },
   {
    "duration": 14,
    "start_time": "2022-10-27T08:47:26.848Z"
   },
   {
    "duration": 10,
    "start_time": "2022-10-27T08:49:00.075Z"
   },
   {
    "duration": 31,
    "start_time": "2022-10-27T08:52:45.821Z"
   },
   {
    "duration": 5,
    "start_time": "2022-10-27T09:09:39.319Z"
   },
   {
    "duration": 4,
    "start_time": "2022-10-27T09:09:39.958Z"
   },
   {
    "duration": 5,
    "start_time": "2022-10-27T09:09:40.587Z"
   },
   {
    "duration": 4,
    "start_time": "2022-10-27T09:09:41.958Z"
   },
   {
    "duration": 4,
    "start_time": "2022-10-27T09:09:44.645Z"
   },
   {
    "duration": 4,
    "start_time": "2022-10-27T09:09:45.278Z"
   },
   {
    "duration": 5,
    "start_time": "2022-10-27T09:09:46.989Z"
   },
   {
    "duration": 4,
    "start_time": "2022-10-27T09:09:47.695Z"
   },
   {
    "duration": 5,
    "start_time": "2022-10-27T09:09:50.267Z"
   },
   {
    "duration": 11,
    "start_time": "2022-10-27T09:09:54.293Z"
   },
   {
    "duration": 10,
    "start_time": "2022-10-27T09:09:58.046Z"
   },
   {
    "duration": 10,
    "start_time": "2022-10-27T09:09:58.908Z"
   },
   {
    "duration": 30,
    "start_time": "2022-10-27T09:10:03.370Z"
   },
   {
    "duration": 62,
    "start_time": "2022-10-27T09:10:06.431Z"
   },
   {
    "duration": 3,
    "start_time": "2022-10-27T09:11:10.567Z"
   },
   {
    "duration": 101,
    "start_time": "2022-10-27T09:11:10.573Z"
   },
   {
    "duration": 24,
    "start_time": "2022-10-27T09:11:10.676Z"
   },
   {
    "duration": 16,
    "start_time": "2022-10-27T09:11:10.702Z"
   },
   {
    "duration": 19,
    "start_time": "2022-10-27T09:11:10.720Z"
   },
   {
    "duration": 22,
    "start_time": "2022-10-27T09:11:10.741Z"
   },
   {
    "duration": 1912,
    "start_time": "2022-10-27T09:11:10.765Z"
   },
   {
    "duration": 4,
    "start_time": "2022-10-27T09:11:12.679Z"
   },
   {
    "duration": 6,
    "start_time": "2022-10-27T09:11:12.685Z"
   },
   {
    "duration": 5,
    "start_time": "2022-10-27T09:11:12.693Z"
   },
   {
    "duration": 7,
    "start_time": "2022-10-27T09:11:12.700Z"
   },
   {
    "duration": 5,
    "start_time": "2022-10-27T09:11:12.709Z"
   },
   {
    "duration": 6,
    "start_time": "2022-10-27T09:11:12.715Z"
   },
   {
    "duration": 13,
    "start_time": "2022-10-27T09:11:12.722Z"
   },
   {
    "duration": 3,
    "start_time": "2022-10-27T09:11:12.736Z"
   },
   {
    "duration": 5,
    "start_time": "2022-10-27T09:11:12.741Z"
   },
   {
    "duration": 12,
    "start_time": "2022-10-27T09:11:12.747Z"
   },
   {
    "duration": 8,
    "start_time": "2022-10-27T09:11:12.761Z"
   },
   {
    "duration": 12,
    "start_time": "2022-10-27T09:11:12.770Z"
   },
   {
    "duration": 28,
    "start_time": "2022-10-27T09:11:27.647Z"
   },
   {
    "duration": 5,
    "start_time": "2022-10-27T09:11:34.895Z"
   },
   {
    "duration": 7,
    "start_time": "2022-10-27T09:11:37.269Z"
   },
   {
    "duration": 5,
    "start_time": "2022-10-27T09:11:42.083Z"
   },
   {
    "duration": 7,
    "start_time": "2022-10-27T09:11:42.866Z"
   },
   {
    "duration": 5,
    "start_time": "2022-10-27T09:11:44.372Z"
   },
   {
    "duration": 9,
    "start_time": "2022-10-27T09:11:52.686Z"
   },
   {
    "duration": 8,
    "start_time": "2022-10-27T09:11:54.631Z"
   },
   {
    "duration": 14,
    "start_time": "2022-10-27T09:11:59.390Z"
   },
   {
    "duration": 13,
    "start_time": "2022-10-27T09:12:03.194Z"
   },
   {
    "duration": 5,
    "start_time": "2022-10-27T09:12:13.146Z"
   },
   {
    "duration": 12,
    "start_time": "2022-10-27T09:12:14.548Z"
   },
   {
    "duration": 15,
    "start_time": "2022-10-27T09:12:17.112Z"
   },
   {
    "duration": 14,
    "start_time": "2022-10-27T09:12:17.932Z"
   },
   {
    "duration": 15,
    "start_time": "2022-10-27T09:12:18.928Z"
   },
   {
    "duration": 13,
    "start_time": "2022-10-27T09:12:20.324Z"
   },
   {
    "duration": 21,
    "start_time": "2022-10-27T09:12:33.035Z"
   },
   {
    "duration": 15,
    "start_time": "2022-10-27T09:12:36.761Z"
   },
   {
    "duration": 7,
    "start_time": "2022-10-27T09:12:40.992Z"
   },
   {
    "duration": 8,
    "start_time": "2022-10-27T09:12:43.529Z"
   },
   {
    "duration": 8,
    "start_time": "2022-10-27T09:12:44.774Z"
   },
   {
    "duration": 8,
    "start_time": "2022-10-27T09:12:45.935Z"
   },
   {
    "duration": 366,
    "start_time": "2022-10-27T09:12:48.564Z"
   },
   {
    "duration": 16,
    "start_time": "2022-10-27T09:12:52.798Z"
   },
   {
    "duration": 427,
    "start_time": "2022-10-27T09:13:05.488Z"
   },
   {
    "duration": 192,
    "start_time": "2022-10-27T09:15:19.859Z"
   },
   {
    "duration": 209,
    "start_time": "2022-10-27T09:15:44.084Z"
   },
   {
    "duration": 261,
    "start_time": "2022-10-27T09:17:14.249Z"
   },
   {
    "duration": 197,
    "start_time": "2022-10-27T09:17:18.641Z"
   },
   {
    "duration": 186,
    "start_time": "2022-10-27T09:17:22.692Z"
   },
   {
    "duration": 247,
    "start_time": "2022-10-27T09:17:26.465Z"
   },
   {
    "duration": 102,
    "start_time": "2022-10-27T09:17:32.957Z"
   },
   {
    "duration": 178,
    "start_time": "2022-10-27T09:17:36.124Z"
   },
   {
    "duration": 441,
    "start_time": "2022-10-27T09:17:39.461Z"
   },
   {
    "duration": 9,
    "start_time": "2022-10-27T09:17:42.684Z"
   },
   {
    "duration": 351,
    "start_time": "2022-10-27T09:17:44.882Z"
   },
   {
    "duration": 308,
    "start_time": "2022-10-27T09:17:46.903Z"
   },
   {
    "duration": 159,
    "start_time": "2022-10-27T09:17:52.701Z"
   },
   {
    "duration": 6,
    "start_time": "2022-10-27T09:17:54.484Z"
   },
   {
    "duration": 425,
    "start_time": "2022-10-27T09:18:07.013Z"
   },
   {
    "duration": 104,
    "start_time": "2022-10-27T09:19:56.928Z"
   },
   {
    "duration": 396,
    "start_time": "2022-10-27T09:20:02.565Z"
   },
   {
    "duration": 12,
    "start_time": "2022-10-27T09:20:04.632Z"
   },
   {
    "duration": 133,
    "start_time": "2022-10-27T09:20:05.423Z"
   },
   {
    "duration": 133,
    "start_time": "2022-10-27T09:20:58.083Z"
   },
   {
    "duration": 108,
    "start_time": "2022-10-27T09:21:04.931Z"
   },
   {
    "duration": 1068,
    "start_time": "2022-10-27T09:28:03.121Z"
   },
   {
    "duration": 368,
    "start_time": "2022-10-27T09:28:11.366Z"
   },
   {
    "duration": 301,
    "start_time": "2022-10-27T09:28:53.612Z"
   },
   {
    "duration": 333,
    "start_time": "2022-10-27T09:28:58.735Z"
   },
   {
    "duration": 300,
    "start_time": "2022-10-27T09:29:07.067Z"
   },
   {
    "duration": 304,
    "start_time": "2022-10-27T09:29:17.283Z"
   },
   {
    "duration": 130,
    "start_time": "2022-10-27T09:43:21.811Z"
   },
   {
    "duration": 1381,
    "start_time": "2022-10-28T06:53:52.117Z"
   },
   {
    "duration": 344,
    "start_time": "2022-10-28T06:53:53.500Z"
   },
   {
    "duration": 30,
    "start_time": "2022-10-28T06:53:53.846Z"
   },
   {
    "duration": 15,
    "start_time": "2022-10-28T06:53:53.878Z"
   },
   {
    "duration": 10,
    "start_time": "2022-10-28T06:53:53.895Z"
   },
   {
    "duration": 24,
    "start_time": "2022-10-28T06:53:53.906Z"
   },
   {
    "duration": 2196,
    "start_time": "2022-10-28T06:53:53.932Z"
   },
   {
    "duration": 6,
    "start_time": "2022-10-28T06:53:56.131Z"
   },
   {
    "duration": 8,
    "start_time": "2022-10-28T06:53:56.138Z"
   },
   {
    "duration": 6,
    "start_time": "2022-10-28T06:53:56.148Z"
   },
   {
    "duration": 7,
    "start_time": "2022-10-28T06:53:56.156Z"
   },
   {
    "duration": 10,
    "start_time": "2022-10-28T06:53:56.164Z"
   },
   {
    "duration": 9,
    "start_time": "2022-10-28T06:53:56.176Z"
   },
   {
    "duration": 6,
    "start_time": "2022-10-28T06:53:56.186Z"
   },
   {
    "duration": 8,
    "start_time": "2022-10-28T06:53:56.193Z"
   },
   {
    "duration": 8,
    "start_time": "2022-10-28T06:53:56.202Z"
   },
   {
    "duration": 15,
    "start_time": "2022-10-28T06:53:56.211Z"
   },
   {
    "duration": 10,
    "start_time": "2022-10-28T06:53:56.227Z"
   },
   {
    "duration": 14,
    "start_time": "2022-10-28T06:53:56.239Z"
   },
   {
    "duration": 61,
    "start_time": "2022-10-28T06:53:56.255Z"
   },
   {
    "duration": 63,
    "start_time": "2022-10-28T06:53:56.318Z"
   },
   {
    "duration": 5,
    "start_time": "2022-10-28T06:53:56.382Z"
   },
   {
    "duration": 8,
    "start_time": "2022-10-28T06:53:56.389Z"
   },
   {
    "duration": 8,
    "start_time": "2022-10-28T06:53:56.399Z"
   },
   {
    "duration": 11,
    "start_time": "2022-10-28T06:53:56.409Z"
   },
   {
    "duration": 10,
    "start_time": "2022-10-28T06:53:56.421Z"
   },
   {
    "duration": 8,
    "start_time": "2022-10-28T06:53:56.433Z"
   },
   {
    "duration": 37,
    "start_time": "2022-10-28T06:53:56.446Z"
   },
   {
    "duration": 13,
    "start_time": "2022-10-28T06:53:56.485Z"
   },
   {
    "duration": 12,
    "start_time": "2022-10-28T06:53:56.500Z"
   },
   {
    "duration": 14,
    "start_time": "2022-10-28T06:53:56.513Z"
   },
   {
    "duration": 6,
    "start_time": "2022-10-28T06:53:56.529Z"
   },
   {
    "duration": 48,
    "start_time": "2022-10-28T06:53:56.537Z"
   },
   {
    "duration": 27,
    "start_time": "2022-10-28T06:53:56.588Z"
   },
   {
    "duration": 18,
    "start_time": "2022-10-28T06:53:56.617Z"
   },
   {
    "duration": 38,
    "start_time": "2022-10-28T06:53:56.638Z"
   },
   {
    "duration": 21,
    "start_time": "2022-10-28T06:53:56.678Z"
   },
   {
    "duration": 21,
    "start_time": "2022-10-28T06:53:56.701Z"
   },
   {
    "duration": 15,
    "start_time": "2022-10-28T06:53:56.724Z"
   },
   {
    "duration": 36,
    "start_time": "2022-10-28T06:53:56.741Z"
   },
   {
    "duration": 9,
    "start_time": "2022-10-28T06:53:56.779Z"
   },
   {
    "duration": 11,
    "start_time": "2022-10-28T06:53:56.789Z"
   },
   {
    "duration": 11,
    "start_time": "2022-10-28T06:53:56.801Z"
   },
   {
    "duration": 480,
    "start_time": "2022-10-28T06:53:56.814Z"
   },
   {
    "duration": 18,
    "start_time": "2022-10-28T06:53:57.298Z"
   },
   {
    "duration": 540,
    "start_time": "2022-10-28T06:53:57.318Z"
   },
   {
    "duration": 222,
    "start_time": "2022-10-28T06:53:57.860Z"
   },
   {
    "duration": 244,
    "start_time": "2022-10-28T06:53:58.084Z"
   },
   {
    "duration": 193,
    "start_time": "2022-10-28T06:53:58.330Z"
   },
   {
    "duration": 269,
    "start_time": "2022-10-28T06:53:58.525Z"
   },
   {
    "duration": 168,
    "start_time": "2022-10-28T06:53:58.796Z"
   },
   {
    "duration": 213,
    "start_time": "2022-10-28T06:53:58.965Z"
   },
   {
    "duration": 200,
    "start_time": "2022-10-28T06:53:59.180Z"
   },
   {
    "duration": 469,
    "start_time": "2022-10-28T06:53:59.382Z"
   },
   {
    "duration": 8,
    "start_time": "2022-10-28T06:53:59.853Z"
   },
   {
    "duration": 376,
    "start_time": "2022-10-28T06:53:59.876Z"
   },
   {
    "duration": 363,
    "start_time": "2022-10-28T06:54:00.254Z"
   },
   {
    "duration": 183,
    "start_time": "2022-10-28T06:54:00.618Z"
   },
   {
    "duration": 5,
    "start_time": "2022-10-28T06:54:00.803Z"
   },
   {
    "duration": 474,
    "start_time": "2022-10-28T06:54:00.811Z"
   },
   {
    "duration": 597,
    "start_time": "2022-10-28T06:54:01.287Z"
   },
   {
    "duration": 753,
    "start_time": "2022-10-28T06:54:01.886Z"
   },
   {
    "duration": 24,
    "start_time": "2022-10-28T06:54:02.641Z"
   },
   {
    "duration": 5,
    "start_time": "2022-10-28T06:54:02.677Z"
   },
   {
    "duration": 13,
    "start_time": "2022-10-28T06:54:02.684Z"
   },
   {
    "duration": 22,
    "start_time": "2022-10-28T06:54:02.698Z"
   },
   {
    "duration": 16,
    "start_time": "2022-10-28T06:54:02.722Z"
   },
   {
    "duration": 146,
    "start_time": "2022-10-28T06:54:02.740Z"
   },
   {
    "duration": 4,
    "start_time": "2022-10-28T06:54:02.888Z"
   },
   {
    "duration": 318,
    "start_time": "2022-10-28T06:54:02.893Z"
   },
   {
    "duration": 10,
    "start_time": "2022-10-28T06:54:03.213Z"
   },
   {
    "duration": 153,
    "start_time": "2022-10-28T06:54:03.225Z"
   }
  ],
  "colab": {
   "provenance": []
  },
  "kernelspec": {
   "display_name": "Python 3",
   "language": "python",
   "name": "python3"
  },
  "language_info": {
   "codemirror_mode": {
    "name": "ipython",
    "version": 3
   },
   "file_extension": ".py",
   "mimetype": "text/x-python",
   "name": "python",
   "nbconvert_exporter": "python",
   "pygments_lexer": "ipython3",
   "version": "3.7.0"
  },
  "toc": {
   "base_numbering": 1,
   "nav_menu": {},
   "number_sections": true,
   "sideBar": true,
   "skip_h1_title": true,
   "title_cell": "Table of Contents",
   "title_sidebar": "Contents",
   "toc_cell": false,
   "toc_position": {},
   "toc_section_display": true,
   "toc_window_display": false
  }
 },
 "nbformat": 4,
 "nbformat_minor": 1
}
